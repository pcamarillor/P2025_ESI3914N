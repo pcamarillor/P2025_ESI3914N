{
 "cells": [
  {
   "cell_type": "markdown",
   "id": "2718b337",
   "metadata": {},
   "source": [
    "# <center> <img src=\"../../labs/img/ITESOLogo.png\" alt=\"ITESO\" width=\"480\" height=\"130\"> </center>\n",
    "# <center> **Departamento de Electrónica, Sistemas e Informática** </center>\n",
    "---\n",
    "## <center> **Big Data** </center>\n",
    "---\n",
    "### <center> **Spring 2025** </center>\n",
    "---\n",
    "### <center> **Kafka Producer: Financial Transaction Generator** </center>\n",
    "\n",
    "---\n",
    "**Profesor**: Dr. Pablo Camarillo Ramirez\n",
    "\n",
    "**Team members**: \n",
    "- Miguel Alberto Torres Dueñas\n",
    "- Juan Pablo Cortez Navarro\n",
    "- Luther Williams Sandria \n",
    "- Ferdinand Bierbaum"
   ]
  },
  {
   "cell_type": "code",
   "execution_count": null,
   "id": "2c8e960f",
   "metadata": {},
   "outputs": [],
   "source": [
    "import findspark\n",
    "findspark.init()\n",
    "#dbe4c53ffd27d3d2bdef46d2f12d349caadcfcb1438e112f"
   ]
  },
  {
   "cell_type": "code",
   "execution_count": 10,
   "id": "9e808d90",
   "metadata": {},
   "outputs": [],
   "source": [
    "from pyspark.sql import SparkSession\n",
    "\n",
    "spark = SparkSession.builder \\\n",
    "    .appName(\"SparkSQLStructuredStreaming-Kafka\") \\\n",
    "    .master(\"spark://1c173c8c3406:7077\") \\\n",
    "    .config(\"spark.ui.port\",\"4040\") \\\n",
    "    .config(\"spark.jars.packages\", \"org.apache.spark:spark-sql-kafka-0-10_2.13:3.5.4\") \\\n",
    "    .getOrCreate()\n",
    "sc = spark.sparkContext"
   ]
  },
  {
   "cell_type": "code",
   "execution_count": 11,
   "id": "cc4d173b",
   "metadata": {},
   "outputs": [
    {
     "name": "stdout",
     "output_type": "stream",
     "text": [
      "root\n",
      " |-- key: binary (nullable = true)\n",
      " |-- value: binary (nullable = true)\n",
      " |-- topic: string (nullable = true)\n",
      " |-- partition: integer (nullable = true)\n",
      " |-- offset: long (nullable = true)\n",
      " |-- timestamp: timestamp (nullable = true)\n",
      " |-- timestampType: integer (nullable = true)\n",
      "\n"
     ]
    }
   ],
   "source": [
    "kafka_lines = spark \\\n",
    "                .readStream \\\n",
    "                .format(\"kafka\") \\\n",
    "                .option(\"kafka.bootstrap.servers\", \"d4f3f3b43802:9093\") \\\n",
    "                .option(\"subscribe\", \"kafka-spark-example\") \\\n",
    "                .load()\n",
    "\n",
    "kafka_lines.printSchema()"
   ]
  },
  {
   "cell_type": "code",
   "execution_count": 12,
   "id": "2e9101b9",
   "metadata": {},
   "outputs": [
    {
     "name": "stdout",
     "output_type": "stream",
     "text": [
      "root\n",
      " |-- traffic_array: array (nullable = true)\n",
      " |    |-- element: string (containsNull = false)\n",
      " |-- user_id: string (nullable = true)\n",
      " |-- video_id: string (nullable = true)\n",
      " |-- watch_time_seconds: integer (nullable = true)\n",
      " |-- resolution: string (nullable = true)\n",
      " |-- bitrate_kbps: integer (nullable = true)\n",
      " |-- buffering_events: integer (nullable = true)\n",
      " |-- paused: boolean (nullable = true)\n",
      " |-- skipped: boolean (nullable = true)\n",
      " |-- genre: string (nullable = true)\n",
      " |-- region: string (nullable = true)\n",
      " |-- recommended: boolean (nullable = true)\n",
      " |-- timestamp: timestamp (nullable = true)\n",
      "\n"
     ]
    }
   ],
   "source": [
    "from pyspark.sql.functions import split\n",
    "\n",
    "kafka_df = kafka_lines.select(split(kafka_lines.value, \" \").alias(\"traffic_array\"))\n",
    "kafka_df = kafka_df.withColumn(\"user_id\", kafka_df[\"traffic_array\"].getItem(0).cast(\"string\"))\n",
    "kafka_df = kafka_df.withColumn(\"video_id\", kafka_df[\"traffic_array\"].getItem(1).cast(\"string\"))\n",
    "kafka_df = kafka_df.withColumn(\"watch_time_seconds\", kafka_df[\"traffic_array\"].getItem(2).cast(\"integer\"))\n",
    "kafka_df = kafka_df.withColumn(\"resolution\", kafka_df[\"traffic_array\"].getItem(3).cast(\"string\"))\n",
    "kafka_df = kafka_df.withColumn(\"bitrate_kbps\", kafka_df[\"traffic_array\"].getItem(4).cast(\"integer\"))\n",
    "kafka_df = kafka_df.withColumn(\"buffering_events\", kafka_df[\"traffic_array\"].getItem(4).cast(\"integer\"))\n",
    "kafka_df = kafka_df.withColumn(\"paused\", kafka_df[\"traffic_array\"].getItem(4).cast(\"boolean\"))\n",
    "kafka_df = kafka_df.withColumn(\"skipped\", kafka_df[\"traffic_array\"].getItem(4).cast(\"boolean\"))\n",
    "kafka_df = kafka_df.withColumn(\"genre\", kafka_df[\"traffic_array\"].getItem(4).cast(\"string\"))\n",
    "kafka_df = kafka_df.withColumn(\"region\", kafka_df[\"traffic_array\"].getItem(4).cast(\"string\"))\n",
    "kafka_df = kafka_df.withColumn(\"recommended\", kafka_df[\"traffic_array\"].getItem(4).cast(\"boolean\"))\n",
    "kafka_df = kafka_df.withColumn(\"timestamp\", kafka_df[\"traffic_array\"].getItem(4).cast(\"timestamp\"))\n",
    "\n",
    "\n",
    "kafka_df.printSchema()"
   ]
  },
  {
   "cell_type": "code",
   "execution_count": 13,
   "id": "62a17866",
   "metadata": {},
   "outputs": [
    {
     "name": "stderr",
     "output_type": "stream",
     "text": [
      "25/05/10 20:15:09 WARN ResolveWriteToStream: Temporary checkpoint location created which is deleted normally when the query didn't fail: /tmp/temporary-5592849d-e78f-45e9-847d-c0c770141976. If it's required to delete it under any circumstances, please set spark.sql.streaming.forceDeleteTempCheckpointLocation to true. Important to know deleting temp checkpoint folder is best effort.\n",
      "25/05/10 20:15:09 WARN ResolveWriteToStream: spark.sql.adaptive.enabled is not supported in streaming DataFrames/Datasets and will be disabled.\n",
      "25/05/10 20:15:09 WARN AdminClientConfig: These configurations '[key.deserializer, value.deserializer, enable.auto.commit, max.poll.records, auto.offset.reset]' were supplied but are not used yet.\n"
     ]
    },
    {
     "name": "stdout",
     "output_type": "stream",
     "text": [
      "-------------------------------------------\n",
      "Batch: 0\n",
      "-------------------------------------------\n",
      "+-------------+-------+--------+------------------+----------+------------+----------------+------+-------+-----+------+-----------+---------+\n",
      "|traffic_array|user_id|video_id|watch_time_seconds|resolution|bitrate_kbps|buffering_events|paused|skipped|genre|region|recommended|timestamp|\n",
      "+-------------+-------+--------+------------------+----------+------------+----------------+------+-------+-----+------+-----------+---------+\n",
      "+-------------+-------+--------+------------------+----------+------------+----------------+------+-------+-----+------+-----------+---------+\n",
      "\n"
     ]
    }
   ],
   "source": [
    "query = kafka_df \\\n",
    "                .writeStream \\\n",
    "                .outputMode(\"append\") \\\n",
    "                .trigger(processingTime='3 seconds') \\\n",
    "                .format(\"console\") \\\n",
    "                .option(\"truncate\", \"false\") \\\n",
    "                .start()\n",
    "\n",
    "query.awaitTermination(30)\n",
    "query.stop()"
   ]
  }
 ],
 "metadata": {
  "kernelspec": {
   "display_name": "Python 3 (ipykernel)",
   "language": "python",
   "name": "python3"
  },
  "language_info": {
   "codemirror_mode": {
    "name": "ipython",
    "version": 3
   },
   "file_extension": ".py",
   "mimetype": "text/x-python",
   "name": "python",
   "nbconvert_exporter": "python",
   "pygments_lexer": "ipython3",
   "version": "3.11.6"
  }
 },
 "nbformat": 4,
 "nbformat_minor": 5
}
