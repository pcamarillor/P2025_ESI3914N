{
 "cells": [
  {
   "cell_type": "markdown",
   "id": "2718b337",
   "metadata": {},
   "source": [
    "# <center> <img src=\"../../labs/img/ITESOLogo.png\" alt=\"ITESO\" width=\"480\" height=\"130\"> </center>\n",
    "# <center> **Departamento de Electrónica, Sistemas e Informática** </center>\n",
    "---\n",
    "## <center> **Big Data** </center>\n",
    "---\n",
    "### <center> **Spring 2025** </center>\n",
    "---\n",
    "### <center> **Kafka Producer: Financial Transaction Generator** </center>\n",
    "\n",
    "---\n",
    "**Profesor**: Dr. Pablo Camarillo Ramirez\n",
    "\n",
    "**Team members**: \n",
    "- Miguel Alberto Torres Dueñas\n",
    "- Juan Pablo Cortez Navarro\n",
    "- Luther Williams Sandria \n",
    "- Ferdinand Bierbaum"
   ]
  },
  {
   "cell_type": "code",
   "execution_count": 35,
   "id": "2c8e960f",
   "metadata": {},
   "outputs": [],
   "source": [
    "import findspark\n",
    "findspark.init()\n",
    "#0be7b65b50a239d7ee8b621f3c329b25c5c4aadafbae5ac7"
   ]
  },
  {
   "cell_type": "code",
   "execution_count": 36,
   "id": "9e808d90",
   "metadata": {},
   "outputs": [],
   "source": [
    "from pyspark.sql import SparkSession\n",
    "\n",
    "spark = SparkSession.builder \\\n",
    "    .appName(\"SparkSQLStructuredStreaming-Kafka\") \\\n",
    "    .master(\"spark://f5db43ce3d38:7077\") \\\n",
    "    .config(\"spark.ui.port\",\"4040\") \\\n",
    "    .config(\"spark.jars.packages\", \"org.apache.spark:spark-sql-kafka-0-10_2.13:3.5.4\") \\\n",
    "    .getOrCreate()\n",
    "sc = spark.sparkContext"
   ]
  },
  {
   "cell_type": "code",
   "execution_count": 22,
   "id": "cc4d173b",
   "metadata": {},
   "outputs": [
    {
     "name": "stdout",
     "output_type": "stream",
     "text": [
      "root\n",
      " |-- key: binary (nullable = true)\n",
      " |-- value: binary (nullable = true)\n",
      " |-- topic: string (nullable = true)\n",
      " |-- partition: integer (nullable = true)\n",
      " |-- offset: long (nullable = true)\n",
      " |-- timestamp: timestamp (nullable = true)\n",
      " |-- timestampType: integer (nullable = true)\n",
      "\n"
     ]
    }
   ],
   "source": [
    "kafka_lines = spark \\\n",
    "                .readStream \\\n",
    "                .format(\"kafka\") \\\n",
    "                .option(\"kafka.bootstrap.servers\", \"67261d1016d7:9093\") \\\n",
    "                .option(\"subscribe\", \"kafka-spark-example-0\") \\\n",
    "                .option(\"subscribe\", \"kafka-spark-example-1\") \\\n",
    "                .option(\"subscribe\", \"kafka-spark-example-2\") \\\n",
    "                .option(\"subscribe\", \"kafka-spark-example-3\") \\\n",
    "                .load()\n",
    "\n",
    "kafka_lines.printSchema()"
   ]
  },
  {
   "cell_type": "code",
   "execution_count": 37,
   "id": "2e9101b9",
   "metadata": {},
   "outputs": [
    {
     "name": "stdout",
     "output_type": "stream",
     "text": [
      "root\n",
      " |-- pairs_array: array (nullable = true)\n",
      " |    |-- element: string (containsNull = false)\n",
      " |-- user_id: string (nullable = true)\n",
      " |-- video_id: string (nullable = true)\n",
      " |-- watch_time_seconds: string (nullable = true)\n",
      " |-- resolution: string (nullable = true)\n",
      " |-- bitrate_kbps: string (nullable = true)\n",
      " |-- buffering_events: string (nullable = true)\n",
      " |-- paused: string (nullable = true)\n",
      " |-- skipped: string (nullable = true)\n",
      " |-- genre: string (nullable = true)\n",
      " |-- region: string (nullable = true)\n",
      " |-- recommended: string (nullable = true)\n",
      " |-- timestamp: string (nullable = true)\n",
      "\n"
     ]
    }
   ],
   "source": [
    "from pyspark.sql.functions import split, col, expr\n",
    "\n",
    "kafka_df = kafka_lines.select(split(col(\"value\"), \",\").alias(\"pairs_array\"))\n",
    "\n",
    "kafka_df = kafka_df.withColumn(\"user_id\", split(col(\"pairs_array\").getItem(0), \":\").getItem(1))\n",
    "kafka_df = kafka_df.withColumn(\"video_id\", split(col(\"pairs_array\").getItem(1), \":\").getItem(1))\n",
    "kafka_df = kafka_df.withColumn(\"watch_time_seconds\", split(col(\"pairs_array\").getItem(2), \":\").getItem(1))\n",
    "kafka_df = kafka_df.withColumn(\"resolution\", split(col(\"pairs_array\").getItem(3), \":\").getItem(1))\n",
    "kafka_df = kafka_df.withColumn(\"bitrate_kbps\", split(col(\"pairs_array\").getItem(4), \":\").getItem(1))\n",
    "kafka_df = kafka_df.withColumn(\"buffering_events\", split(col(\"pairs_array\").getItem(5), \":\").getItem(1))\n",
    "kafka_df = kafka_df.withColumn(\"paused\", split(col(\"pairs_array\").getItem(6), \":\").getItem(1))\n",
    "kafka_df = kafka_df.withColumn(\"skipped\", split(col(\"pairs_array\").getItem(7), \":\").getItem(1))\n",
    "kafka_df = kafka_df.withColumn(\"genre\", split(col(\"pairs_array\").getItem(8), \":\").getItem(1))\n",
    "kafka_df = kafka_df.withColumn(\"region\", split(col(\"pairs_array\").getItem(9), \":\").getItem(1))\n",
    "kafka_df = kafka_df.withColumn(\"recommended\", split(col(\"pairs_array\").getItem(10), \":\").getItem(1))\n",
    "\n",
    "# Usamos expr para hacer la resta de longitud directamente\n",
    "kafka_df = kafka_df.withColumn(\n",
    "    \"timestamp\",\n",
    "    expr(\"substring(split(pairs_array[11], ':')[1], 1, length(split(pairs_array[11], ':')[1]) - 1)\")\n",
    ")\n",
    "\n",
    "kafka_df.printSchema()\n"
   ]
  },
  {
   "cell_type": "code",
   "execution_count": null,
   "id": "62a17866",
   "metadata": {},
   "outputs": [],
   "source": [
    "# query = kafka_df \\\n",
    "#                 .writeStream \\\n",
    "#                 .outputMode(\"append\") \\\n",
    "#                 .trigger(processingTime='3 seconds') \\\n",
    "#                 .format(\"console\") \\\n",
    "#                 .option(\"truncate\", \"false\") \\\n",
    "#                 .start()\n",
    "\n",
    "# query.awaitTermination(300)\n",
    "# query.stop()"
   ]
  },
  {
   "cell_type": "code",
   "execution_count": 28,
   "id": "f8b97666",
   "metadata": {},
   "outputs": [
    {
     "name": "stderr",
     "output_type": "stream",
     "text": [
      "25/05/12 00:13:34 WARN ResolveWriteToStream: spark.sql.adaptive.enabled is not supported in streaming DataFrames/Datasets and will be disabled.\n",
      "25/05/12 00:13:35 WARN AdminClientConfig: These configurations '[key.deserializer, value.deserializer, enable.auto.commit, max.poll.records, auto.offset.reset]' were supplied but are not used yet.\n",
      "25/05/12 00:16:24 WARN ProcessingTimeExecutor: Current batch is falling behind. The trigger interval is 3000 milliseconds, but spent 3005 milliseconds\n",
      "25/05/12 00:16:36 WARN ProcessingTimeExecutor: Current batch is falling behind. The trigger interval is 3000 milliseconds, but spent 3280 milliseconds\n",
      "25/05/12 00:16:39 WARN ProcessingTimeExecutor: Current batch is falling behind. The trigger interval is 3000 milliseconds, but spent 3092 milliseconds\n",
      "25/05/12 00:16:48 WARN ProcessingTimeExecutor: Current batch is falling behind. The trigger interval is 3000 milliseconds, but spent 3641 milliseconds\n",
      "25/05/12 00:17:00 WARN ProcessingTimeExecutor: Current batch is falling behind. The trigger interval is 3000 milliseconds, but spent 3691 milliseconds\n",
      "25/05/12 00:17:04 WARN ProcessingTimeExecutor: Current batch is falling behind. The trigger interval is 3000 milliseconds, but spent 3911 milliseconds\n",
      "25/05/12 00:17:08 WARN ProcessingTimeExecutor: Current batch is falling behind. The trigger interval is 3000 milliseconds, but spent 3482 milliseconds\n",
      "25/05/12 00:17:11 WARN ProcessingTimeExecutor: Current batch is falling behind. The trigger interval is 3000 milliseconds, but spent 3698 milliseconds\n",
      "25/05/12 00:17:15 WARN ProcessingTimeExecutor: Current batch is falling behind. The trigger interval is 3000 milliseconds, but spent 3265 milliseconds\n",
      "25/05/12 00:17:18 WARN ProcessingTimeExecutor: Current batch is falling behind. The trigger interval is 3000 milliseconds, but spent 3333 milliseconds\n",
      "25/05/12 00:17:25 WARN ProcessingTimeExecutor: Current batch is falling behind. The trigger interval is 3000 milliseconds, but spent 4145 milliseconds\n",
      "25/05/12 00:17:28 WARN ProcessingTimeExecutor: Current batch is falling behind. The trigger interval is 3000 milliseconds, but spent 3217 milliseconds\n",
      "25/05/12 00:17:32 WARN ProcessingTimeExecutor: Current batch is falling behind. The trigger interval is 3000 milliseconds, but spent 3736 milliseconds\n",
      "25/05/12 00:17:36 WARN ProcessingTimeExecutor: Current batch is falling behind. The trigger interval is 3000 milliseconds, but spent 4144 milliseconds\n",
      "25/05/12 00:17:40 WARN ProcessingTimeExecutor: Current batch is falling behind. The trigger interval is 3000 milliseconds, but spent 3739 milliseconds\n",
      "25/05/12 00:17:44 WARN ProcessingTimeExecutor: Current batch is falling behind. The trigger interval is 3000 milliseconds, but spent 4247 milliseconds\n"
     ]
    }
   ],
   "source": [
    "query_files = kafka_df \\\n",
    "                .writeStream \\\n",
    "                .outputMode(\"append\") \\\n",
    "                .trigger(processingTime='3 seconds') \\\n",
    "                .format(\"parquet\") \\\n",
    "                .option(\"path\", \"/home/jovyan/notebooks/data/project_parquet\") \\\n",
    "                .option(\"truncate\", \"false\") \\\n",
    "                .option(\"checkpointLocation\", \"/home/jovyan/checkpoint\") \\\n",
    "                .start()\n",
    "query_files.awaitTermination(300)\n",
    "query_files.stop()"
   ]
  },
  {
   "cell_type": "code",
   "execution_count": 38,
   "id": "62d10ad4",
   "metadata": {},
   "outputs": [
    {
     "name": "stderr",
     "output_type": "stream",
     "text": [
      "[Stage 1:>                                                          (0 + 1) / 1]\r"
     ]
    },
    {
     "name": "stdout",
     "output_type": "stream",
     "text": [
      "+--------------------------------------------------------------------------------------------------------------------------------------------------------------------------------------------------------------------------------------------------------------------------------------+------------+----------+------------------+----------+------------+----------------+------+-------+--------------+------+-----------+-------------+\n",
      "|pairs_array                                                                                                                                                                                                                                                                           |user_id     |video_id  |watch_time_seconds|resolution|bitrate_kbps|buffering_events|paused|skipped|genre         |region|recommended|timestamp    |\n",
      "+--------------------------------------------------------------------------------------------------------------------------------------------------------------------------------------------------------------------------------------------------------------------------------------+------------+----------+------------------+----------+------------+----------------+------+-------+--------------+------+-----------+-------------+\n",
      "|[{\"user_id\": \"user_4137\",  \"video_id\": \"vid_034\",  \"watch_time_seconds\": 3469,  \"resolution\": \"720p\",  \"bitrate_kbps\": 1371,  \"buffering_events\": 2,  \"paused\": false,  \"skipped\": true,  \"genre\": \"Horror\",  \"region\": \"US\",  \"recommended\": true,  \"timestamp\": \"05/12/2025\"}]      | \"user_4137\"| \"vid_034\"| 3469             | \"720p\"   | 1371       | 2              | false| true  | \"Horror\"     | \"US\" | true      | \"05/12/2025\"|\n",
      "|[{\"user_id\": \"user_9570\",  \"video_id\": \"vid_013\",  \"watch_time_seconds\": 772,  \"resolution\": \"4K\",  \"bitrate_kbps\": 2470,  \"buffering_events\": 1,  \"paused\": true,  \"skipped\": true,  \"genre\": \"Sci-Fi\",  \"region\": \"JP\",  \"recommended\": true,  \"timestamp\": \"05/12/2025\"}]          | \"user_9570\"| \"vid_013\"| 772              | \"4K\"     | 2470       | 1              | true | true  | \"Sci-Fi\"     | \"JP\" | true      | \"05/12/2025\"|\n",
      "|[{\"user_id\": \"user_6444\",  \"video_id\": \"vid_076\",  \"watch_time_seconds\": 1558,  \"resolution\": \"480p\",  \"bitrate_kbps\": 1296,  \"buffering_events\": 1,  \"paused\": false,  \"skipped\": true,  \"genre\": \"Documentary\",  \"region\": \"US\",  \"recommended\": false,  \"timestamp\": \"05/12/2025\"}]| \"user_6444\"| \"vid_076\"| 1558             | \"480p\"   | 1296       | 1              | false| true  | \"Documentary\"| \"US\" | false     | \"05/12/2025\"|\n",
      "|[{\"user_id\": \"user_9572\",  \"video_id\": \"vid_078\",  \"watch_time_seconds\": 883,  \"resolution\": \"4K\",  \"bitrate_kbps\": 6426,  \"buffering_events\": 3,  \"paused\": true,  \"skipped\": true,  \"genre\": \"Comedy\",  \"region\": \"MX\",  \"recommended\": false,  \"timestamp\": \"05/12/2025\"}]         | \"user_9572\"| \"vid_078\"| 883              | \"4K\"     | 6426       | 3              | true | true  | \"Comedy\"     | \"MX\" | false     | \"05/12/2025\"|\n",
      "|[{\"user_id\": \"user_5070\",  \"video_id\": \"vid_087\",  \"watch_time_seconds\": 3103,  \"resolution\": \"480p\",  \"bitrate_kbps\": 1572,  \"buffering_events\": 2,  \"paused\": true,  \"skipped\": true,  \"genre\": \"Drama\",  \"region\": \"BR\",  \"recommended\": false,  \"timestamp\": \"05/12/2025\"}]       | \"user_5070\"| \"vid_087\"| 3103             | \"480p\"   | 1572       | 2              | true | true  | \"Drama\"      | \"BR\" | false     | \"05/12/2025\"|\n",
      "+--------------------------------------------------------------------------------------------------------------------------------------------------------------------------------------------------------------------------------------------------------------------------------------+------------+----------+------------------+----------+------------+----------------+------+-------+--------------+------+-----------+-------------+\n",
      "only showing top 5 rows\n",
      "\n"
     ]
    },
    {
     "name": "stderr",
     "output_type": "stream",
     "text": [
      "                                                                                \r"
     ]
    }
   ],
   "source": [
    "df = spark.read.parquet(\"/home/jovyan/notebooks/data/project_parquet\")\n",
    "df.show(5, False)\n"
   ]
  },
  {
   "cell_type": "code",
   "execution_count": 47,
   "id": "33e7d5be",
   "metadata": {},
   "outputs": [
    {
     "name": "stdout",
     "output_type": "stream",
     "text": [
      "+-----------+------------+------------------+\n",
      "|user_id_int|video_id_int| implicit_feedback|\n",
      "+-----------+------------+------------------+\n",
      "|       4137|          34|0.9181666666666666|\n",
      "|       9570|          13|0.4986666666666667|\n",
      "|       6444|          76|0.6296666666666667|\n",
      "|       9572|          78|0.4571666666666666|\n",
      "|       5070|          87|0.8571666666666666|\n",
      "+-----------+------------+------------------+\n",
      "only showing top 5 rows\n",
      "\n"
     ]
    }
   ],
   "source": [
    "from pyspark.sql.functions import col, regexp_extract, when\n",
    "\n",
    "# Leer datos Parquet\n",
    "video_data = spark.read.parquet(\"/home/jovyan/notebooks/data/project_parquet\")\n",
    "\n",
    "# Convertir tipos de datos correctamente\n",
    "video_data = video_data.withColumn(\"watch_time_seconds\", col(\"watch_time_seconds\").cast(\"double\")) \\\n",
    "                      .withColumn(\"buffering_events\", col(\"buffering_events\").cast(\"double\")) \\\n",
    "                      .withColumn(\"skipped\", when(col(\"skipped\") == \"true\", 1).otherwise(0))\n",
    "\n",
    "# Crear IDs numéricos (como lo tienes)\n",
    "video_data = video_data.withColumn(\"user_id_int\", regexp_extract(col(\"user_id\"), \"user_(\\\\d+)\", 1).cast(\"integer\")) \\\n",
    "                      .withColumn(\"video_id_int\", regexp_extract(col(\"video_id\"), \"vid_(\\\\d+)\", 1).cast(\"integer\"))\n",
    "\n",
    "# Crear métrica de feedback implícito (versión corregida)\n",
    "video_data = video_data.withColumn(\"implicit_feedback\", \n",
    "                                 (col(\"watch_time_seconds\")/3600 * 0.6 +  # Tiempo de visualización en horas\n",
    "                                  (1 - col(\"buffering_events\")/10) * 0.3 +  # Inverso de buffering\n",
    "                                  (1 - col(\"skipped\")) * 0.1))  # No saltado\n",
    "\n",
    "# Verificar datos\n",
    "video_data.select(\"user_id_int\", \"video_id_int\", \"implicit_feedback\").show(5)"
   ]
  },
  {
   "cell_type": "code",
   "execution_count": 48,
   "id": "08e5c6f0",
   "metadata": {},
   "outputs": [],
   "source": [
    "from pyspark.ml.recommendation import ALS\n",
    "\n",
    "als = ALS(\n",
    "    userCol=\"user_id_int\",\n",
    "    itemCol=\"video_id_int\",\n",
    "    ratingCol=\"implicit_feedback\",\n",
    "    implicitPrefs=True,  # Usar feedback implícito\n",
    "    coldStartStrategy=\"drop\",  # Manejar nuevos usuarios/videos\n",
    "    nonnegative=True,  # Solo factores positivos\n",
    "    rank=10,  # Factores latentes (ajustable)\n",
    "    maxIter=15,  # Iteraciones (ajustable)\n",
    "    regParam=0.1  # Regularización (ajustable)\n",
    ")"
   ]
  },
  {
   "cell_type": "code",
   "execution_count": null,
   "id": "c94e214c",
   "metadata": {},
   "outputs": [
    {
     "name": "stderr",
     "output_type": "stream",
     "text": [
      "                                                                                \r"
     ]
    }
   ],
   "source": [
    "# Entrenar modelo\n",
    "model = als.fit(video_data)"
   ]
  },
  {
   "cell_type": "code",
   "execution_count": 59,
   "id": "dec19eec",
   "metadata": {},
   "outputs": [
    {
     "name": "stdout",
     "output_type": "stream",
     "text": [
      "Recomendaciones para usuarios de ejemplo:\n"
     ]
    },
    {
     "name": "stderr",
     "output_type": "stream",
     "text": [
      "                                                                                \r"
     ]
    },
    {
     "name": "stdout",
     "output_type": "stream",
     "text": [
      "+-----------+---------------------------------------------------------------------------------------------------+\n",
      "|user_id_int|recommendations                                                                                    |\n",
      "+-----------+---------------------------------------------------------------------------------------------------+\n",
      "|1005       |[{42, 0.12646593}, {74, 0.111349694}, {34, 0.10814677}, {58, 0.09765415}, {83, 0.040566683}]       |\n",
      "|1008       |[{38, 2.715734E-8}, {54, 2.3733621E-8}, {24, 1.9056523E-8}, {76, 5.8706338E-9}, {70, 5.5232894E-9}]|\n",
      "|1063       |[{65, 0.89899695}, {99, 0.28704473}, {23, 0.040367953}, {26, 0.008795763}, {48, 0.0054560807}]     |\n",
      "|1069       |[{42, 0.38380265}, {74, 0.33785674}, {34, 0.32813844}, {58, 0.29630178}, {83, 0.1227222}]          |\n",
      "|1070       |[{36, 0.37224424}, {97, 0.36538333}, {16, 0.33246157}, {1, 0.20937836}, {71, 0.16913295}]          |\n",
      "|1154       |[{73, 0.79032665}, {75, 0.39243704}, {97, 0.049660176}, {78, 7.2148384E-4}, {4, 2.4345295E-4}]     |\n",
      "|1226       |[{36, 0.21724394}, {97, 0.20954803}, {16, 0.19402653}, {1, 0.12219445}, {71, 0.09870698}]          |\n",
      "|1274       |[{84, 0.2944714}, {10, 0.20825325}, {26, 0.16695169}, {51, 0.12083945}, {30, 0.08159712}]          |\n",
      "|1367       |[{53, 2.5610296E-7}, {36, 1.6833302E-7}, {97, 1.6236979E-7}, {16, 1.5034286E-7}, {29, 1.165407E-7}]|\n",
      "|1396       |[{53, 0.8272474}, {29, 0.37644225}, {15, 0.1774062}, {17, 0.0389921}, {9, 0.005379423}]            |\n",
      "|1410       |[{84, 0.48915172}, {10, 0.3459332}, {26, 0.27732643}, {51, 0.18762808}, {12, 0.09649834}]          |\n",
      "|1457       |[{30, 0.6485184}, {25, 0.54463947}, {51, 0.06268075}, {37, 0.024232876}, {83, 0.008444392}]        |\n",
      "|1464       |[{89, 0.17066874}, {35, 0.11239463}, {88, 0.056314245}, {9, 0.052569896}, {30, 0.036349438}]       |\n",
      "|1507       |[{73, 2.1956605E-4}, {75, 1.0902562E-4}, {97, 1.37964325E-5}, {78, 2.0044035E-7}, {4, 6.763533E-8}]|\n",
      "|1550       |[{84, 0.5041803}, {10, 0.35656157}, {26, 0.28584695}, {51, 0.19339272}, {12, 0.09946314}]          |\n",
      "|1620       |[{38, 4.3026093E-6}, {54, 3.7601803E-6}, {24, 3.0191754E-6}, {76, 9.301E-7}, {70, 8.7506936E-7}]   |\n",
      "|1671       |[{73, 3.1828086E-4}, {75, 1.580425E-4}, {47, 6.991421E-5}, {2, 4.2429165E-5}, {77, 2.1479218E-5}]  |\n",
      "|1763       |[{47, 0.32110497}, {2, 0.19487047}, {77, 0.098650664}, {17, 0.0577368}, {50, 0.0026656997}]        |\n",
      "|1889       |[{38, 0.122641444}, {54, 0.10718007}, {89, 0.09594731}, {24, 0.08605849}, {35, 0.06318652}]        |\n",
      "|1927       |[{42, 0.39391202}, {74, 0.3467559}, {34, 0.33678162}, {58, 0.30410635}, {83, 0.1259547}]           |\n",
      "+-----------+---------------------------------------------------------------------------------------------------+\n",
      "only showing top 20 rows\n",
      "\n",
      "\n",
      "Top 5 recomendaciones para usuario 4137:\n"
     ]
    },
    {
     "name": "stderr",
     "output_type": "stream",
     "text": [
      "                                                                                \r"
     ]
    },
    {
     "name": "stdout",
     "output_type": "stream",
     "text": [
      "+-----------+--------------------------------------------------------------------------------------+\n",
      "|user_id_int|recommendations                                                                       |\n",
      "+-----------+--------------------------------------------------------------------------------------+\n",
      "|4137       |[{42, 0.40088734}, {74, 0.35297}, {34, 0.34281698}, {58, 0.30955616}, {83, 0.1282119}]|\n",
      "+-----------+--------------------------------------------------------------------------------------+\n",
      "\n"
     ]
    }
   ],
   "source": [
    "# Recomendaciones para todos los usuarios (top 10)\n",
    "user_recs = model.recommendForAllUsers(5)\n",
    "\n",
    "# Mostrar recomendaciones para algunos usuarios\n",
    "print(\"Recomendaciones para usuarios de ejemplo:\")\n",
    "user_recs.show(truncate=False)\n",
    "\n",
    "# Recomendaciones para un usuario específico\n",
    "user_id_ejemplo = 4137\n",
    "recs_usuario = model.recommendForUserSubset(\n",
    "    spark.createDataFrame([(user_id_ejemplo,)]).toDF(\"user_id_int\"), \n",
    "    5\n",
    ")\n",
    "print(f\"\\nTop 5 recomendaciones para usuario {user_id_ejemplo}:\")\n",
    "recs_usuario.show(truncate=False)"
   ]
  },
  {
   "cell_type": "code",
   "execution_count": 60,
   "id": "cf2a8688",
   "metadata": {},
   "outputs": [
    {
     "name": "stderr",
     "output_type": "stream",
     "text": [
      "                                                                                \r"
     ]
    },
    {
     "name": "stdout",
     "output_type": "stream",
     "text": [
      "+--------------------------------------------------------------------------------------------------------------------------------------------------------------------------------------------------------------------------------------------------------------------------------------+------------+----------+------------------+----------+------------+----------------+------+-------+--------------+------+-----------+-------------+-----------+------------+-------------------+-------------+\n",
      "|pairs_array                                                                                                                                                                                                                                                                           |user_id     |video_id  |watch_time_seconds|resolution|bitrate_kbps|buffering_events|paused|skipped|genre         |region|recommended|timestamp    |user_id_int|video_id_int|implicit_feedback  |prediction   |\n",
      "+--------------------------------------------------------------------------------------------------------------------------------------------------------------------------------------------------------------------------------------------------------------------------------------+------------+----------+------------------+----------+------------+----------------+------+-------+--------------+------+-----------+-------------+-----------+------------+-------------------+-------------+\n",
      "|[{\"user_id\": \"user_4186\",  \"video_id\": \"vid_019\",  \"watch_time_seconds\": 537,  \"resolution\": \"480p\",  \"bitrate_kbps\": 2437,  \"buffering_events\": 5,  \"paused\": false,  \"skipped\": false,  \"genre\": \"Action\",  \"region\": \"US\",  \"recommended\": true,  \"timestamp\": \"05/12/2025\"}]      | \"user_4186\"| \"vid_019\"|537.0             | \"480p\"   | 2437       |5.0             | false|0      | \"Action\"     | \"US\" | true      | \"05/12/2025\"|4186       |19          |0.3395             |1.9841333E-7 |\n",
      "|[{\"user_id\": \"user_3913\",  \"video_id\": \"vid_002\",  \"watch_time_seconds\": 2463,  \"resolution\": \"4K\",  \"bitrate_kbps\": 2287,  \"buffering_events\": 0,  \"paused\": false,  \"skipped\": false,  \"genre\": \"Documentary\",  \"region\": \"IN\",  \"recommended\": true,  \"timestamp\": \"05/12/2025\"}]  | \"user_3913\"| \"vid_002\"|2463.0            | \"4K\"     | 2287       |0.0             | false|0      | \"Documentary\"| \"IN\" | true      | \"05/12/2025\"|3913       |2           |0.8105             |0.34630936   |\n",
      "|[{\"user_id\": \"user_5929\",  \"video_id\": \"vid_070\",  \"watch_time_seconds\": 3250,  \"resolution\": \"4K\",  \"bitrate_kbps\": 7013,  \"buffering_events\": 0,  \"paused\": true,  \"skipped\": true,  \"genre\": \"Drama\",  \"region\": \"MX\",  \"recommended\": false,  \"timestamp\": \"05/12/2025\"}]         | \"user_5929\"| \"vid_070\"|3250.0            | \"4K\"     | 7013       |0.0             | true |0      | \"Drama\"      | \"MX\" | false     | \"05/12/2025\"|5929       |70          |0.9416666666666665 |0.043968663  |\n",
      "|[{\"user_id\": \"user_9035\",  \"video_id\": \"vid_039\",  \"watch_time_seconds\": 397,  \"resolution\": \"480p\",  \"bitrate_kbps\": 6738,  \"buffering_events\": 1,  \"paused\": false,  \"skipped\": true,  \"genre\": \"Sci-Fi\",  \"region\": \"IN\",  \"recommended\": true,  \"timestamp\": \"05/12/2025\"}]       | \"user_9035\"| \"vid_039\"|397.0             | \"480p\"   | 6738       |1.0             | false|0      | \"Sci-Fi\"     | \"IN\" | true      | \"05/12/2025\"|9035       |39          |0.4361666666666667 |9.300978E-15 |\n",
      "|[{\"user_id\": \"user_4153\",  \"video_id\": \"vid_016\",  \"watch_time_seconds\": 3099,  \"resolution\": \"1080p\",  \"bitrate_kbps\": 4920,  \"buffering_events\": 3,  \"paused\": true,  \"skipped\": false,  \"genre\": \"Horror\",  \"region\": \"US\",  \"recommended\": false,  \"timestamp\": \"05/12/2025\"}]    | \"user_4153\"| \"vid_016\"|3099.0            | \"1080p\"  | 4920       |3.0             | true |0      | \"Horror\"     | \"US\" | false     | \"05/12/2025\"|4153       |16          |0.8264999999999999 |0.34220797   |\n",
      "|[{\"user_id\": \"user_4326\",  \"video_id\": \"vid_050\",  \"watch_time_seconds\": 2114,  \"resolution\": \"720p\",  \"bitrate_kbps\": 3438,  \"buffering_events\": 4,  \"paused\": false,  \"skipped\": true,  \"genre\": \"Action\",  \"region\": \"JP\",  \"recommended\": false,  \"timestamp\": \"05/12/2025\"}]     | \"user_4326\"| \"vid_050\"|2114.0            | \"720p\"   | 3438       |4.0             | false|0      | \"Action\"     | \"JP\" | false     | \"05/12/2025\"|4326       |50          |0.6323333333333333 |8.792123E-5  |\n",
      "|[{\"user_id\": \"user_1274\",  \"video_id\": \"vid_051\",  \"watch_time_seconds\": 2740,  \"resolution\": \"4K\",  \"bitrate_kbps\": 7017,  \"buffering_events\": 3,  \"paused\": true,  \"skipped\": false,  \"genre\": \"Drama\",  \"region\": \"DE\",  \"recommended\": false,  \"timestamp\": \"05/12/2025\"}]        | \"user_1274\"| \"vid_051\"|2740.0            | \"4K\"     | 7017       |3.0             | true |0      | \"Drama\"      | \"DE\" | false     | \"05/12/2025\"|1274       |51          |0.7666666666666666 |0.12083945   |\n",
      "|[{\"user_id\": \"user_9551\",  \"video_id\": \"vid_063\",  \"watch_time_seconds\": 1875,  \"resolution\": \"480p\",  \"bitrate_kbps\": 4947,  \"buffering_events\": 5,  \"paused\": false,  \"skipped\": true,  \"genre\": \"Documentary\",  \"region\": \"BR\",  \"recommended\": false,  \"timestamp\": \"05/12/2025\"}]| \"user_9551\"| \"vid_063\"|1875.0            | \"480p\"   | 4947       |5.0             | false|0      | \"Documentary\"| \"BR\" | false     | \"05/12/2025\"|9551       |63          |0.5625             |5.2275635E-5 |\n",
      "|[{\"user_id\": \"user_6847\",  \"video_id\": \"vid_099\",  \"watch_time_seconds\": 349,  \"resolution\": \"720p\",  \"bitrate_kbps\": 7738,  \"buffering_events\": 3,  \"paused\": false,  \"skipped\": true,  \"genre\": \"Drama\",  \"region\": \"DE\",  \"recommended\": false,  \"timestamp\": \"05/12/2025\"}]       | \"user_6847\"| \"vid_099\"|349.0             | \"720p\"   | 7738       |3.0             | false|0      | \"Drama\"      | \"DE\" | false     | \"05/12/2025\"|6847       |99          |0.36816666666666664|0.11116782   |\n",
      "|[{\"user_id\": \"user_5586\",  \"video_id\": \"vid_093\",  \"watch_time_seconds\": 150,  \"resolution\": \"1080p\",  \"bitrate_kbps\": 923,  \"buffering_events\": 0,  \"paused\": false,  \"skipped\": false,  \"genre\": \"Sci-Fi\",  \"region\": \"IN\",  \"recommended\": true,  \"timestamp\": \"05/12/2025\"}]      | \"user_5586\"| \"vid_093\"|150.0             | \"1080p\"  | 923        |0.0             | false|0      | \"Sci-Fi\"     | \"IN\" | true      | \"05/12/2025\"|5586       |93          |0.42500000000000004|3.923709E-6  |\n",
      "|[{\"user_id\": \"user_1927\",  \"video_id\": \"vid_042\",  \"watch_time_seconds\": 1756,  \"resolution\": \"1080p\",  \"bitrate_kbps\": 6768,  \"buffering_events\": 4,  \"paused\": false,  \"skipped\": false,  \"genre\": \"Action\",  \"region\": \"BR\",  \"recommended\": true,  \"timestamp\": \"05/12/2025\"}]    | \"user_1927\"| \"vid_042\"|1756.0            | \"1080p\"  | 6768       |4.0             | false|0      | \"Action\"     | \"BR\" | true      | \"05/12/2025\"|1927       |42          |0.5726666666666667 |0.39391202   |\n",
      "|[{\"user_id\": \"user_9027\",  \"video_id\": \"vid_074\",  \"watch_time_seconds\": 100,  \"resolution\": \"480p\",  \"bitrate_kbps\": 7631,  \"buffering_events\": 3,  \"paused\": false,  \"skipped\": true,  \"genre\": \"Comedy\",  \"region\": \"MX\",  \"recommended\": true,  \"timestamp\": \"05/12/2025\"}]       | \"user_9027\"| \"vid_074\"|100.0             | \"480p\"   | 7631       |3.0             | false|0      | \"Comedy\"     | \"MX\" | true      | \"05/12/2025\"|9027       |74          |0.32666666666666666|0.27996978   |\n",
      "|[{\"user_id\": \"user_2727\",  \"video_id\": \"vid_065\",  \"watch_time_seconds\": 1715,  \"resolution\": \"720p\",  \"bitrate_kbps\": 3579,  \"buffering_events\": 0,  \"paused\": false,  \"skipped\": true,  \"genre\": \"Documentary\",  \"region\": \"BR\",  \"recommended\": true,  \"timestamp\": \"05/12/2025\"}] | \"user_2727\"| \"vid_065\"|1715.0            | \"720p\"   | 3579       |0.0             | false|0      | \"Documentary\"| \"BR\" | true      | \"05/12/2025\"|2727       |65          |0.6858333333333333 |0.88587844   |\n",
      "|[{\"user_id\": \"user_9712\",  \"video_id\": \"vid_051\",  \"watch_time_seconds\": 1094,  \"resolution\": \"480p\",  \"bitrate_kbps\": 7768,  \"buffering_events\": 2,  \"paused\": true,  \"skipped\": false,  \"genre\": \"Comedy\",  \"region\": \"MX\",  \"recommended\": true,  \"timestamp\": \"05/12/2025\"}]      | \"user_9712\"| \"vid_051\"|1094.0            | \"480p\"   | 7768       |2.0             | true |0      | \"Comedy\"     | \"MX\" | true      | \"05/12/2025\"|9712       |51          |0.5223333333333333 |0.1058969    |\n",
      "|[{\"user_id\": \"user_1457\",  \"video_id\": \"vid_030\",  \"watch_time_seconds\": 1180,  \"resolution\": \"1080p\",  \"bitrate_kbps\": 4880,  \"buffering_events\": 1,  \"paused\": false,  \"skipped\": false,  \"genre\": \"Sci-Fi\",  \"region\": \"BR\",  \"recommended\": false,  \"timestamp\": \"05/12/2025\"}]   | \"user_1457\"| \"vid_030\"|1180.0            | \"1080p\"  | 4880       |1.0             | false|0      | \"Sci-Fi\"     | \"BR\" | false     | \"05/12/2025\"|1457       |30          |0.5666666666666667 |0.6485184    |\n",
      "|[{\"user_id\": \"user_9393\",  \"video_id\": \"vid_095\",  \"watch_time_seconds\": 1348,  \"resolution\": \"1080p\",  \"bitrate_kbps\": 1544,  \"buffering_events\": 5,  \"paused\": true,  \"skipped\": false,  \"genre\": \"Drama\",  \"region\": \"IN\",  \"recommended\": false,  \"timestamp\": \"05/12/2025\"}]     | \"user_9393\"| \"vid_095\"|1348.0            | \"1080p\"  | 1544       |5.0             | true |0      | \"Drama\"      | \"IN\" | false     | \"05/12/2025\"|9393       |95          |0.4746666666666667 |1.7579742E-13|\n",
      "|[{\"user_id\": \"user_1550\",  \"video_id\": \"vid_010\",  \"watch_time_seconds\": 3243,  \"resolution\": \"720p\",  \"bitrate_kbps\": 6756,  \"buffering_events\": 3,  \"paused\": true,  \"skipped\": false,  \"genre\": \"Sci-Fi\",  \"region\": \"IN\",  \"recommended\": false,  \"timestamp\": \"05/12/2025\"}]     | \"user_1550\"| \"vid_010\"|3243.0            | \"720p\"   | 6756       |3.0             | true |0      | \"Sci-Fi\"     | \"IN\" | false     | \"05/12/2025\"|1550       |10          |0.8504999999999999 |0.35656157   |\n",
      "|[{\"user_id\": \"user_8264\",  \"video_id\": \"vid_010\",  \"watch_time_seconds\": 1407,  \"resolution\": \"720p\",  \"bitrate_kbps\": 5314,  \"buffering_events\": 1,  \"paused\": false,  \"skipped\": true,  \"genre\": \"Documentary\",  \"region\": \"US\",  \"recommended\": false,  \"timestamp\": \"05/12/2025\"}]| \"user_8264\"| \"vid_010\"|1407.0            | \"720p\"   | 5314       |1.0             | false|0      | \"Documentary\"| \"US\" | false     | \"05/12/2025\"|8264       |10          |0.6044999999999999 |0.32454482   |\n",
      "|[{\"user_id\": \"user_8851\",  \"video_id\": \"vid_046\",  \"watch_time_seconds\": 1794,  \"resolution\": \"1080p\",  \"bitrate_kbps\": 937,  \"buffering_events\": 2,  \"paused\": true,  \"skipped\": false,  \"genre\": \"Drama\",  \"region\": \"IN\",  \"recommended\": true,  \"timestamp\": \"05/12/2025\"}]       | \"user_8851\"| \"vid_046\"|1794.0            | \"1080p\"  | 937        |2.0             | true |0      | \"Drama\"      | \"IN\" | true      | \"05/12/2025\"|8851       |46          |0.6389999999999999 |1.4082232E-11|\n",
      "|[{\"user_id\": \"user_7210\",  \"video_id\": \"vid_097\",  \"watch_time_seconds\": 882,  \"resolution\": \"1080p\",  \"bitrate_kbps\": 6638,  \"buffering_events\": 1,  \"paused\": false,  \"skipped\": false,  \"genre\": \"Drama\",  \"region\": \"BR\",  \"recommended\": false,  \"timestamp\": \"05/12/2025\"}]     | \"user_7210\"| \"vid_097\"|882.0             | \"1080p\"  | 6638       |1.0             | false|0      | \"Drama\"      | \"BR\" | false     | \"05/12/2025\"|7210       |97          |0.517              |0.34996232   |\n",
      "+--------------------------------------------------------------------------------------------------------------------------------------------------------------------------------------------------------------------------------------------------------------------------------------+------------+----------+------------------+----------+------------+----------------+------+-------+--------------+------+-----------+-------------+-----------+------------+-------------------+-------------+\n",
      "only showing top 20 rows\n",
      "\n"
     ]
    }
   ],
   "source": [
    "from pyspark.ml.evaluation import RegressionEvaluator\n",
    "\n",
    "# Hacer predicciones\n",
    "predictions = model.transform(video_data)\n",
    "predictions.show(truncate=False)"
   ]
  },
  {
   "cell_type": "code",
   "execution_count": 61,
   "id": "b74dc8f5",
   "metadata": {},
   "outputs": [
    {
     "name": "stderr",
     "output_type": "stream",
     "text": [
      "                                                                                \r"
     ]
    },
    {
     "name": "stdout",
     "output_type": "stream",
     "text": [
      "\n",
      "RMSE del modelo: 0.4791046338139269\n"
     ]
    }
   ],
   "source": [
    "# Evaluar con RMSE\n",
    "evaluator = RegressionEvaluator(\n",
    "    metricName=\"rmse\",\n",
    "    labelCol=\"implicit_feedback\",\n",
    "    predictionCol=\"prediction\"\n",
    ")\n",
    "rmse = evaluator.evaluate(predictions)\n",
    "print(f\"\\nRMSE del modelo: {rmse}\")"
   ]
  },
  {
   "cell_type": "code",
   "execution_count": 34,
   "id": "dde535e5",
   "metadata": {},
   "outputs": [],
   "source": [
    "sc.stop()"
   ]
  }
 ],
 "metadata": {
  "kernelspec": {
   "display_name": "Python 3 (ipykernel)",
   "language": "python",
   "name": "python3"
  },
  "language_info": {
   "codemirror_mode": {
    "name": "ipython",
    "version": 3
   },
   "file_extension": ".py",
   "mimetype": "text/x-python",
   "name": "python",
   "nbconvert_exporter": "python",
   "pygments_lexer": "ipython3",
   "version": "3.11.6"
  }
 },
 "nbformat": 4,
 "nbformat_minor": 5
}
