{
 "cells": [
  {
   "cell_type": "markdown",
   "id": "2718b337",
   "metadata": {},
   "source": [
    "# <center> <img src=\"../../labs/img/ITESOLogo.png\" alt=\"ITESO\" width=\"480\" height=\"130\"> </center>\n",
    "# <center> **Departamento de Electrónica, Sistemas e Informática** </center>\n",
    "---\n",
    "## <center> **Big Data** </center>\n",
    "---\n",
    "### <center> **Spring 2025** </center>\n",
    "---\n",
    "### <center> **Application: Video Streaming Analytics** </center>\n",
    "---\n",
    "#### <center> **Live monitoring of video quality, viewer behavior, and content recommendations from services like Netflix or YouTube.** </center>\n",
    "\n",
    "# <center> <img src=\"https://upload.wikimedia.org/wikipedia/commons/e/ef/Youtube_logo.png\" width=\"640\" height=\"443\"> </center>\n",
    "---\n",
    "**Profesor**: Dr. Pablo Camarillo Ramirez\n",
    "\n",
    "**Team members**: \n",
    "- Miguel Alberto Torres Dueñas\n",
    "- Juan Pablo Cortez Navarro\n",
    "- Luther Williams Sandria \n",
    "- Ferdinand Bierbaum\n",
    "---"
   ]
  },
  {
   "cell_type": "markdown",
   "id": "6c35d804",
   "metadata": {},
   "source": [
    "# 1. Introduction and Problem Definition\n",
    "\n",
    "## Project's Objective\n",
    "Develop a real-time recommendation system for a streaming platform that:\n",
    "- Analyze user behavior (viewing time, pauses, skips, etc.)\n",
    "- Generate personalized recommendations using machine learning\n",
    "- Scale to handle large volumes of data\n",
    "\n",
    "## App's Description\n",
    "Our solution implements:\n",
    "- **Data Ingestion**: Consuming real-time visualization events from Kafka\n",
    "- **Processing**: Data transformation and enrichment with PySpark\n",
    "- **Modeling**: ALS (Alternating Least Squares) based recommendation system\n",
    "- **Visualization**: Dashboard in PowerBI with key metrics"
   ]
  },
  {
   "cell_type": "markdown",
   "id": "a06c1af4",
   "metadata": {},
   "source": [
    "# 2. Arquitectura del Sistema\n",
    "\n",
    "# <center> <img src=\"images/diagram.jpeg\"> </center>"
   ]
  },
  {
   "cell_type": "markdown",
   "id": "1cd3203d",
   "metadata": {},
   "source": [
    "# 3. Justificación de las 5V's del Big Data\n",
    "\n",
    "### Volume\n",
    "- **Estimación de Crecimiento**:\n",
    "  \n",
    "  |    Time Perriod  | Data Processed |\n",
    "  |------------------|----------------|\n",
    "  | 1 Second         | 500 KB         |\n",
    "  | 1 Minute (60s)   | 30 MB          |\n",
    "  | 1 Hour (3,600s)  | 1.8 GB         |\n",
    "  | 1 Day (86,400s)  | 43.2 GB        |\n",
    "  | 1 Year (31.5M s) | 15.7 TB        |\n",
    "\n",
    "\n",
    "- **Management Strategies**:\n",
    "  - Data Partitioning in Parquet\n",
    "  - Distributed processing with Spark\n",
    "  - Schema optimization (appropriate data types)\n",
    "\n",
    "### Velocity\n",
    "- **Performance Metrics**:\n",
    "  - `processedRowsPerSecond`: X rows/second\n",
    "  - Latencia end-to-end: < X seconds for recommendations\n",
    "- **Techniques Implemented**:\n",
    "  - Structured Streaming with triggers each 3 seconds\n",
    "  - Checkpointing to ensure exactly-one-processing\n",
    "\n",
    "### Variety\n",
    "- **Data Schema**:\n",
    "```python\n",
    "root\n",
    " |-- user_id: string (nullable = true)\n",
    " |-- video_id: string (nullable = true)\n",
    " |-- watch_time_seconds: double (nullable = true)\n",
    " |-- resolution: string (nullable = true)\n",
    " |-- buffering_events: integer (nullable = true)\n",
    " |-- paused: boolean (nullable = true)\n",
    " |-- skipped: boolean (nullable = true)\n",
    " |-- genre: string (nullable = true)\n",
    " |-- timestamp: timestamp (nullable = true)\n",
    "```\n",
    "\n",
    "### Veracity\n",
    "- Schema validation when ingesting data\n",
    "- Filtering incomplete records\n",
    "- Quality metrics in PowerBI\n",
    "\n",
    "### Value\n",
    "- watch_time_seconds: User engagement\n",
    "- buffering_events: Quality of Experience\n",
    "- genre: Personal preferences\n",
    "- skipped: Non-relevant content"
   ]
  },
  {
   "cell_type": "markdown",
   "id": "9a2a9313",
   "metadata": {},
   "source": [
    "# 4. Implementation"
   ]
  },
  {
   "cell_type": "markdown",
   "id": "55ce40fc",
   "metadata": {},
   "source": [
    "## Spark Configuration"
   ]
  },
  {
   "cell_type": "code",
   "execution_count": 1,
   "id": "2c8e960f",
   "metadata": {},
   "outputs": [],
   "source": [
    "import findspark\n",
    "findspark.init()\n",
    "#0be7b65b50a239d7ee8b621f3c329b25c5c4aadafbae5ac7"
   ]
  },
  {
   "cell_type": "code",
   "execution_count": 2,
   "id": "9e808d90",
   "metadata": {},
   "outputs": [
    {
     "name": "stdout",
     "output_type": "stream",
     "text": [
      ":: loading settings :: url = jar:file:/opt/conda/spark-3.5.4-bin-hadoop3-scala2.13/jars/ivy-2.5.1.jar!/org/apache/ivy/core/settings/ivysettings.xml\n"
     ]
    },
    {
     "name": "stderr",
     "output_type": "stream",
     "text": [
      "Ivy Default Cache set to: /root/.ivy2/cache\n",
      "The jars for the packages stored in: /root/.ivy2/jars\n",
      "org.apache.spark#spark-sql-kafka-0-10_2.13 added as a dependency\n",
      ":: resolving dependencies :: org.apache.spark#spark-submit-parent-9cc5d4b0-6bb3-40d4-8c09-33fe7c539219;1.0\n",
      "\tconfs: [default]\n",
      "\tfound org.apache.spark#spark-sql-kafka-0-10_2.13;3.5.4 in central\n",
      "\tfound org.apache.spark#spark-token-provider-kafka-0-10_2.13;3.5.4 in central\n",
      "\tfound org.apache.kafka#kafka-clients;3.4.1 in central\n",
      "\tfound org.lz4#lz4-java;1.8.0 in central\n",
      "\tfound org.xerial.snappy#snappy-java;1.1.10.5 in central\n",
      "\tfound org.slf4j#slf4j-api;2.0.7 in central\n",
      "\tfound org.apache.hadoop#hadoop-client-runtime;3.3.4 in central\n",
      "\tfound org.apache.hadoop#hadoop-client-api;3.3.4 in central\n",
      "\tfound commons-logging#commons-logging;1.1.3 in central\n",
      "\tfound com.google.code.findbugs#jsr305;3.0.0 in central\n",
      "\tfound org.scala-lang.modules#scala-parallel-collections_2.13;1.0.4 in central\n",
      "\tfound org.apache.commons#commons-pool2;2.11.1 in central\n",
      ":: resolution report :: resolve 834ms :: artifacts dl 24ms\n",
      "\t:: modules in use:\n",
      "\tcom.google.code.findbugs#jsr305;3.0.0 from central in [default]\n",
      "\tcommons-logging#commons-logging;1.1.3 from central in [default]\n",
      "\torg.apache.commons#commons-pool2;2.11.1 from central in [default]\n",
      "\torg.apache.hadoop#hadoop-client-api;3.3.4 from central in [default]\n",
      "\torg.apache.hadoop#hadoop-client-runtime;3.3.4 from central in [default]\n",
      "\torg.apache.kafka#kafka-clients;3.4.1 from central in [default]\n",
      "\torg.apache.spark#spark-sql-kafka-0-10_2.13;3.5.4 from central in [default]\n",
      "\torg.apache.spark#spark-token-provider-kafka-0-10_2.13;3.5.4 from central in [default]\n",
      "\torg.lz4#lz4-java;1.8.0 from central in [default]\n",
      "\torg.scala-lang.modules#scala-parallel-collections_2.13;1.0.4 from central in [default]\n",
      "\torg.slf4j#slf4j-api;2.0.7 from central in [default]\n",
      "\torg.xerial.snappy#snappy-java;1.1.10.5 from central in [default]\n",
      "\t---------------------------------------------------------------------\n",
      "\t|                  |            modules            ||   artifacts   |\n",
      "\t|       conf       | number| search|dwnlded|evicted|| number|dwnlded|\n",
      "\t---------------------------------------------------------------------\n",
      "\t|      default     |   12  |   0   |   0   |   0   ||   12  |   0   |\n",
      "\t---------------------------------------------------------------------\n",
      ":: retrieving :: org.apache.spark#spark-submit-parent-9cc5d4b0-6bb3-40d4-8c09-33fe7c539219\n",
      "\tconfs: [default]\n",
      "\t0 artifacts copied, 12 already retrieved (0kB/48ms)\n",
      "25/05/14 17:05:49 WARN NativeCodeLoader: Unable to load native-hadoop library for your platform... using builtin-java classes where applicable\n",
      "Setting default log level to \"WARN\".\n",
      "To adjust logging level use sc.setLogLevel(newLevel). For SparkR, use setLogLevel(newLevel).\n"
     ]
    }
   ],
   "source": [
    "from pyspark.sql import SparkSession\n",
    "\n",
    "spark = SparkSession.builder \\\n",
    "    .appName(\"SparkSQLStructuredStreaming-Kafka\") \\\n",
    "    .master(\"spark://7a8106b8550d:7077\") \\\n",
    "    .config(\"spark.ui.port\",\"4040\") \\\n",
    "    .config(\"spark.jars.packages\", \"org.apache.spark:spark-sql-kafka-0-10_2.13:3.5.4\") \\\n",
    "    .getOrCreate()\n",
    "sc = spark.sparkContext"
   ]
  },
  {
   "cell_type": "markdown",
   "id": "3549704a",
   "metadata": {},
   "source": [
    "## Kafka Link"
   ]
  },
  {
   "cell_type": "code",
   "execution_count": 3,
   "id": "cc4d173b",
   "metadata": {},
   "outputs": [
    {
     "name": "stdout",
     "output_type": "stream",
     "text": [
      "root\n",
      " |-- key: binary (nullable = true)\n",
      " |-- value: binary (nullable = true)\n",
      " |-- topic: string (nullable = true)\n",
      " |-- partition: integer (nullable = true)\n",
      " |-- offset: long (nullable = true)\n",
      " |-- timestamp: timestamp (nullable = true)\n",
      " |-- timestampType: integer (nullable = true)\n",
      "\n"
     ]
    }
   ],
   "source": [
    "kafka_lines = spark \\\n",
    "                .readStream \\\n",
    "                .format(\"kafka\") \\\n",
    "                .option(\"kafka.bootstrap.servers\", \"ed69dac0a4e4:9093\") \\\n",
    "                .option(\"subscribePattern\", \"kafka-spark-example-\\\\d+\") \\\n",
    "                .load()\n",
    "\n",
    "kafka_lines.printSchema()"
   ]
  },
  {
   "cell_type": "markdown",
   "id": "d3cd106a",
   "metadata": {},
   "source": [
    "## Schema"
   ]
  },
  {
   "cell_type": "code",
   "execution_count": 4,
   "id": "2e9101b9",
   "metadata": {},
   "outputs": [
    {
     "name": "stdout",
     "output_type": "stream",
     "text": [
      "root\n",
      " |-- pairs_array: array (nullable = true)\n",
      " |    |-- element: string (containsNull = false)\n",
      " |-- user_id: string (nullable = true)\n",
      " |-- video_id: string (nullable = true)\n",
      " |-- watch_time_seconds: string (nullable = true)\n",
      " |-- resolution: string (nullable = true)\n",
      " |-- bitrate_kbps: string (nullable = true)\n",
      " |-- buffering_events: string (nullable = true)\n",
      " |-- paused: string (nullable = true)\n",
      " |-- skipped: string (nullable = true)\n",
      " |-- genre: string (nullable = true)\n",
      " |-- region: string (nullable = true)\n",
      " |-- recommended: string (nullable = true)\n",
      " |-- timestamp: string (nullable = true)\n",
      "\n"
     ]
    }
   ],
   "source": [
    "from pyspark.sql.functions import split, col, expr\n",
    "\n",
    "kafka_df = kafka_lines.select(split(col(\"value\"), \",\").alias(\"pairs_array\"))\n",
    "\n",
    "kafka_df = kafka_df.withColumn(\"user_id\", split(col(\"pairs_array\").getItem(0), \":\").getItem(1))\n",
    "kafka_df = kafka_df.withColumn(\"video_id\", split(col(\"pairs_array\").getItem(1), \":\").getItem(1))\n",
    "kafka_df = kafka_df.withColumn(\"watch_time_seconds\", split(col(\"pairs_array\").getItem(2), \":\").getItem(1))\n",
    "kafka_df = kafka_df.withColumn(\"resolution\", split(col(\"pairs_array\").getItem(3), \":\").getItem(1))\n",
    "kafka_df = kafka_df.withColumn(\"bitrate_kbps\", split(col(\"pairs_array\").getItem(4), \":\").getItem(1))\n",
    "kafka_df = kafka_df.withColumn(\"buffering_events\", split(col(\"pairs_array\").getItem(5), \":\").getItem(1))\n",
    "kafka_df = kafka_df.withColumn(\"paused\", split(col(\"pairs_array\").getItem(6), \":\").getItem(1))\n",
    "kafka_df = kafka_df.withColumn(\"skipped\", split(col(\"pairs_array\").getItem(7), \":\").getItem(1))\n",
    "kafka_df = kafka_df.withColumn(\"genre\", split(col(\"pairs_array\").getItem(8), \":\").getItem(1))\n",
    "kafka_df = kafka_df.withColumn(\"region\", split(col(\"pairs_array\").getItem(9), \":\").getItem(1))\n",
    "kafka_df = kafka_df.withColumn(\"recommended\", split(col(\"pairs_array\").getItem(10), \":\").getItem(1))\n",
    "\n",
    "# Usamos expr para hacer la resta de longitud directamente\n",
    "kafka_df = kafka_df.withColumn(\n",
    "    \"timestamp\",\n",
    "    expr(\"substring(split(pairs_array[11], ':')[1], 1, length(split(pairs_array[11], ':')[1]) - 1)\")\n",
    ")\n",
    "\n",
    "kafka_df.printSchema()\n"
   ]
  },
  {
   "cell_type": "markdown",
   "id": "3c63df52",
   "metadata": {},
   "source": [
    "## Streaming processing"
   ]
  },
  {
   "cell_type": "code",
   "execution_count": 6,
   "id": "f8b97666",
   "metadata": {},
   "outputs": [
    {
     "name": "stderr",
     "output_type": "stream",
     "text": [
      "25/05/14 17:06:27 WARN ResolveWriteToStream: spark.sql.adaptive.enabled is not supported in streaming DataFrames/Datasets and will be disabled.\n",
      "25/05/14 17:06:27 WARN AdminClientConfig: These configurations '[key.deserializer, value.deserializer, enable.auto.commit, max.poll.records, auto.offset.reset]' were supplied but are not used yet.\n",
      "25/05/14 17:06:34 WARN ProcessingTimeExecutor: Current batch is falling behind. The trigger interval is 3000 milliseconds, but spent 7312 milliseconds\n",
      "25/05/14 17:06:41 WARN ProcessingTimeExecutor: Current batch is falling behind. The trigger interval is 3000 milliseconds, but spent 6571 milliseconds\n",
      "25/05/14 17:06:54 WARN ProcessingTimeExecutor: Current batch is falling behind. The trigger interval is 3000 milliseconds, but spent 3155 milliseconds\n",
      "25/05/14 17:07:00 WARN ProcessingTimeExecutor: Current batch is falling behind. The trigger interval is 3000 milliseconds, but spent 3832 milliseconds\n",
      "25/05/14 17:07:07 WARN ProcessingTimeExecutor: Current batch is falling behind. The trigger interval is 3000 milliseconds, but spent 3731 milliseconds\n",
      "25/05/14 17:07:10 WARN ProcessingTimeExecutor: Current batch is falling behind. The trigger interval is 3000 milliseconds, but spent 3289 milliseconds\n",
      "25/05/14 17:07:18 WARN ProcessingTimeExecutor: Current batch is falling behind. The trigger interval is 3000 milliseconds, but spent 3375 milliseconds\n",
      "25/05/14 17:07:25 WARN ProcessingTimeExecutor: Current batch is falling behind. The trigger interval is 3000 milliseconds, but spent 4025 milliseconds\n",
      "25/05/14 17:07:29 WARN ProcessingTimeExecutor: Current batch is falling behind. The trigger interval is 3000 milliseconds, but spent 3993 milliseconds\n",
      "25/05/14 17:07:33 WARN ProcessingTimeExecutor: Current batch is falling behind. The trigger interval is 3000 milliseconds, but spent 4030 milliseconds\n",
      "25/05/14 17:07:37 WARN ProcessingTimeExecutor: Current batch is falling behind. The trigger interval is 3000 milliseconds, but spent 4447 milliseconds\n",
      "25/05/14 17:07:41 WARN ProcessingTimeExecutor: Current batch is falling behind. The trigger interval is 3000 milliseconds, but spent 3643 milliseconds\n",
      "25/05/14 17:07:57 WARN ProcessingTimeExecutor: Current batch is falling behind. The trigger interval is 3000 milliseconds, but spent 3161 milliseconds\n",
      "25/05/14 17:08:00 WARN ProcessingTimeExecutor: Current batch is falling behind. The trigger interval is 3000 milliseconds, but spent 3762 milliseconds\n",
      "25/05/14 17:08:07 WARN ProcessingTimeExecutor: Current batch is falling behind. The trigger interval is 3000 milliseconds, but spent 4029 milliseconds\n",
      "25/05/14 17:08:10 WARN ProcessingTimeExecutor: Current batch is falling behind. The trigger interval is 3000 milliseconds, but spent 3709 milliseconds\n",
      "25/05/14 17:08:16 WARN ProcessingTimeExecutor: Current batch is falling behind. The trigger interval is 3000 milliseconds, but spent 3592 milliseconds\n",
      "25/05/14 17:08:22 WARN ProcessingTimeExecutor: Current batch is falling behind. The trigger interval is 3000 milliseconds, but spent 3349 milliseconds\n",
      "25/05/14 17:08:28 WARN ProcessingTimeExecutor: Current batch is falling behind. The trigger interval is 3000 milliseconds, but spent 3009 milliseconds\n",
      "25/05/14 17:08:37 WARN ProcessingTimeExecutor: Current batch is falling behind. The trigger interval is 3000 milliseconds, but spent 3698 milliseconds\n",
      "25/05/14 17:08:48 WARN ProcessingTimeExecutor: Current batch is falling behind. The trigger interval is 3000 milliseconds, but spent 3015 milliseconds\n",
      "25/05/14 17:09:03 WARN ProcessingTimeExecutor: Current batch is falling behind. The trigger interval is 3000 milliseconds, but spent 3301 milliseconds\n",
      "25/05/14 17:09:07 WARN ProcessingTimeExecutor: Current batch is falling behind. The trigger interval is 3000 milliseconds, but spent 4045 milliseconds\n",
      "25/05/14 17:09:11 WARN ProcessingTimeExecutor: Current batch is falling behind. The trigger interval is 3000 milliseconds, but spent 3932 milliseconds\n",
      "25/05/14 17:09:15 WARN ProcessingTimeExecutor: Current batch is falling behind. The trigger interval is 3000 milliseconds, but spent 3918 milliseconds\n",
      "25/05/14 17:09:19 WARN ProcessingTimeExecutor: Current batch is falling behind. The trigger interval is 3000 milliseconds, but spent 3967 milliseconds\n",
      "25/05/14 17:09:23 WARN ProcessingTimeExecutor: Current batch is falling behind. The trigger interval is 3000 milliseconds, but spent 3913 milliseconds\n",
      "25/05/14 17:09:26 WARN ProcessingTimeExecutor: Current batch is falling behind. The trigger interval is 3000 milliseconds, but spent 3056 milliseconds\n",
      "25/05/14 17:09:29 WARN ProcessingTimeExecutor: Current batch is falling behind. The trigger interval is 3000 milliseconds, but spent 3535 milliseconds\n",
      "25/05/14 17:09:33 WARN ProcessingTimeExecutor: Current batch is falling behind. The trigger interval is 3000 milliseconds, but spent 3623 milliseconds\n",
      "25/05/14 17:09:37 WARN ProcessingTimeExecutor: Current batch is falling behind. The trigger interval is 3000 milliseconds, but spent 4058 milliseconds\n",
      "25/05/14 17:09:41 WARN ProcessingTimeExecutor: Current batch is falling behind. The trigger interval is 3000 milliseconds, but spent 3710 milliseconds\n",
      "25/05/14 17:09:44 WARN ProcessingTimeExecutor: Current batch is falling behind. The trigger interval is 3000 milliseconds, but spent 3265 milliseconds\n",
      "25/05/14 17:09:47 WARN ProcessingTimeExecutor: Current batch is falling behind. The trigger interval is 3000 milliseconds, but spent 3383 milliseconds\n",
      "25/05/14 17:09:50 WARN ProcessingTimeExecutor: Current batch is falling behind. The trigger interval is 3000 milliseconds, but spent 3111 milliseconds\n",
      "25/05/14 17:09:54 WARN ProcessingTimeExecutor: Current batch is falling behind. The trigger interval is 3000 milliseconds, but spent 3229 milliseconds\n",
      "25/05/14 17:09:57 WARN ProcessingTimeExecutor: Current batch is falling behind. The trigger interval is 3000 milliseconds, but spent 3129 milliseconds\n",
      "25/05/14 17:10:00 WARN ProcessingTimeExecutor: Current batch is falling behind. The trigger interval is 3000 milliseconds, but spent 3192 milliseconds\n",
      "25/05/14 17:10:03 WARN ProcessingTimeExecutor: Current batch is falling behind. The trigger interval is 3000 milliseconds, but spent 3276 milliseconds\n",
      "25/05/14 17:10:07 WARN ProcessingTimeExecutor: Current batch is falling behind. The trigger interval is 3000 milliseconds, but spent 3570 milliseconds\n"
     ]
    }
   ],
   "source": [
    "query_files = kafka_df \\\n",
    "                .writeStream \\\n",
    "                .outputMode(\"append\") \\\n",
    "                .trigger(processingTime='3 seconds') \\\n",
    "                .format(\"parquet\") \\\n",
    "                .option(\"path\", \"/home/jovyan/notebooks/data/project_parquet\") \\\n",
    "                .option(\"truncate\", \"false\") \\\n",
    "                .option(\"checkpointLocation\", \"/home/jovyan/checkpoint\") \\\n",
    "                .start()\n",
    "query_files.awaitTermination(300)\n",
    "query_files.stop()"
   ]
  },
  {
   "cell_type": "code",
   "execution_count": 7,
   "id": "62d10ad4",
   "metadata": {},
   "outputs": [
    {
     "name": "stderr",
     "output_type": "stream",
     "text": [
      "                                                                                \r"
     ]
    },
    {
     "name": "stdout",
     "output_type": "stream",
     "text": [
      "+--------------------+------------+----------+------------------+----------+------------+----------------+------+-------+--------------+------+-----------+-------------+\n",
      "|         pairs_array|     user_id|  video_id|watch_time_seconds|resolution|bitrate_kbps|buffering_events|paused|skipped|         genre|region|recommended|    timestamp|\n",
      "+--------------------+------------+----------+------------------+----------+------------+----------------+------+-------+--------------+------+-----------+-------------+\n",
      "|[{\"user_id\": \"use...| \"user_2242\"| \"vid_013\"|               221|    \"720p\"|        5883|               5| false|  false|      \"Sci-Fi\"|  \"IN\"|      false| \"05/14/2025\"|\n",
      "|[{\"user_id\": \"use...| \"user_4451\"| \"vid_025\"|               709|    \"720p\"|        7690|               5|  true|   true|      \"Action\"|  \"IN\"|       true| \"05/14/2025\"|\n",
      "|[{\"user_id\": \"use...| \"user_2166\"| \"vid_086\"|              3011|   \"1080p\"|        5841|               0| false|   true|       \"Drama\"|  \"DE\"|       true| \"05/14/2025\"|\n",
      "|[{\"user_id\": \"use...| \"user_2752\"| \"vid_029\"|              2207|    \"480p\"|        2388|               0| false|  false| \"Documentary\"|  \"IN\"|       true| \"05/14/2025\"|\n",
      "|[{\"user_id\": \"use...| \"user_1840\"| \"vid_002\"|              2551|    \"720p\"|        4679|               0|  true|   true|       \"Drama\"|  \"BR\"|       true| \"05/14/2025\"|\n",
      "|[{\"user_id\": \"use...| \"user_3243\"| \"vid_031\"|              2107|    \"720p\"|        2963|               2| false|  false|      \"Comedy\"|  \"IN\"|       true| \"05/14/2025\"|\n",
      "|[{\"user_id\": \"use...| \"user_7409\"| \"vid_037\"|              2456|    \"720p\"|        1343|               0|  true|  false| \"Documentary\"|  \"UK\"|      false| \"05/14/2025\"|\n",
      "|[{\"user_id\": \"use...| \"user_2074\"| \"vid_085\"|               630|    \"480p\"|        3860|               2| false|  false|      \"Horror\"|  \"JP\"|       true| \"05/14/2025\"|\n",
      "|[{\"user_id\": \"use...| \"user_6853\"| \"vid_094\"|              1720|    \"720p\"|        4078|               5| false|   true|      \"Horror\"|  \"DE\"|       true| \"05/14/2025\"|\n",
      "|[{\"user_id\": \"use...| \"user_5279\"| \"vid_052\"|              1247|      \"4K\"|        7110|               1| false|   true|      \"Sci-Fi\"|  \"JP\"|       true| \"05/14/2025\"|\n",
      "|[{\"user_id\": \"use...| \"user_8005\"| \"vid_080\"|               121|    \"480p\"|        1953|               1|  true|   true|      \"Comedy\"|  \"DE\"|      false| \"05/14/2025\"|\n",
      "|[{\"user_id\": \"use...| \"user_8695\"| \"vid_009\"|              2230|    \"480p\"|        6364|               1|  true|   true|      \"Comedy\"|  \"UK\"|      false| \"05/14/2025\"|\n",
      "|[{\"user_id\": \"use...| \"user_1485\"| \"vid_020\"|              2740|    \"480p\"|        7067|               0|  true|  false|      \"Sci-Fi\"|  \"US\"|      false| \"05/14/2025\"|\n",
      "|[{\"user_id\": \"use...| \"user_5962\"| \"vid_038\"|               784|    \"480p\"|        5256|               1|  true|   true|      \"Action\"|  \"MX\"|      false| \"05/14/2025\"|\n",
      "|[{\"user_id\": \"use...| \"user_9640\"| \"vid_050\"|              1484|      \"4K\"|        3230|               4|  true|  false|      \"Horror\"|  \"US\"|      false| \"05/14/2025\"|\n",
      "|[{\"user_id\": \"use...| \"user_2177\"| \"vid_094\"|              2805|    \"480p\"|        6003|               5| false|   true|      \"Action\"|  \"UK\"|       true| \"05/14/2025\"|\n",
      "|[{\"user_id\": \"use...| \"user_9954\"| \"vid_056\"|               169|   \"1080p\"|        7493|               3|  true|   true|      \"Sci-Fi\"|  \"JP\"|      false| \"05/14/2025\"|\n",
      "|[{\"user_id\": \"use...| \"user_5954\"| \"vid_061\"|              1368|    \"720p\"|        6669|               5|  true|   true|      \"Sci-Fi\"|  \"IN\"|       true| \"05/14/2025\"|\n",
      "|[{\"user_id\": \"use...| \"user_6446\"| \"vid_002\"|              1994|      \"4K\"|        7413|               2| false|  false|      \"Sci-Fi\"|  \"DE\"|      false| \"05/14/2025\"|\n",
      "|[{\"user_id\": \"use...| \"user_3529\"| \"vid_004\"|              2564|    \"480p\"|        3403|               5| false|  false|       \"Drama\"|  \"MX\"|       true| \"05/14/2025\"|\n",
      "+--------------------+------------+----------+------------------+----------+------------+----------------+------+-------+--------------+------+-----------+-------------+\n",
      "only showing top 20 rows\n",
      "\n"
     ]
    }
   ],
   "source": [
    "df = spark.read.parquet(\"/home/jovyan/notebooks/data/project_parquet\")\n",
    "df.show()\n",
    "\n"
   ]
  },
  {
   "cell_type": "markdown",
   "id": "7bf5de13",
   "metadata": {},
   "source": [
    "## Machine Learning Model - ALS"
   ]
  },
  {
   "cell_type": "code",
   "execution_count": 8,
   "id": "33e7d5be",
   "metadata": {},
   "outputs": [
    {
     "name": "stdout",
     "output_type": "stream",
     "text": [
      "+-----------+------------+-------------------+\n",
      "|user_id_int|video_id_int|  implicit_feedback|\n",
      "+-----------+------------+-------------------+\n",
      "|       2242|          13|0.28683333333333333|\n",
      "|       4451|          25|0.36816666666666664|\n",
      "|       2166|          86| 0.9018333333333332|\n",
      "|       2752|          29| 0.7678333333333333|\n",
      "|       1840|           2| 0.8251666666666666|\n",
      "+-----------+------------+-------------------+\n",
      "only showing top 5 rows\n",
      "\n"
     ]
    }
   ],
   "source": [
    "from pyspark.sql.functions import col, regexp_extract, when\n",
    "\n",
    "# Leer datos Parquet\n",
    "video_data = spark.read.parquet(\"/home/jovyan/notebooks/data/project_parquet\")\n",
    "\n",
    "# Convertir tipos de datos correctamente\n",
    "video_data = video_data.withColumn(\"watch_time_seconds\", col(\"watch_time_seconds\").cast(\"double\")) \\\n",
    "                      .withColumn(\"buffering_events\", col(\"buffering_events\").cast(\"double\")) \\\n",
    "                      .withColumn(\"skipped\", when(col(\"skipped\") == \"true\", 1).otherwise(0))\n",
    "\n",
    "# Crear IDs numéricos (como lo tienes)\n",
    "video_data = video_data.withColumn(\"user_id_int\", regexp_extract(col(\"user_id\"), \"user_(\\\\d+)\", 1).cast(\"integer\")) \\\n",
    "                      .withColumn(\"video_id_int\", regexp_extract(col(\"video_id\"), \"vid_(\\\\d+)\", 1).cast(\"integer\"))\n",
    "\n",
    "# Crear métrica de feedback implícito (versión corregida)\n",
    "video_data = video_data.withColumn(\"implicit_feedback\", \n",
    "                                 (col(\"watch_time_seconds\")/3600 * 0.6 +  # Tiempo de visualización en horas\n",
    "                                  (1 - col(\"buffering_events\")/10) * 0.3 +  # Inverso de buffering\n",
    "                                  (1 - col(\"skipped\")) * 0.1))  # No saltado\n",
    "\n",
    "# Verificar datos\n",
    "video_data.select(\"user_id_int\", \"video_id_int\", \"implicit_feedback\").show(5)"
   ]
  },
  {
   "cell_type": "code",
   "execution_count": 9,
   "id": "08e5c6f0",
   "metadata": {},
   "outputs": [],
   "source": [
    "from pyspark.ml.recommendation import ALS\n",
    "\n",
    "als = ALS(\n",
    "    userCol=\"user_id_int\",\n",
    "    itemCol=\"video_id_int\",\n",
    "    ratingCol=\"implicit_feedback\",\n",
    "    implicitPrefs=True,  # Usar feedback implícito\n",
    "    coldStartStrategy=\"drop\",  # Manejar nuevos usuarios/videos\n",
    "    nonnegative=True,  # Solo factores positivos\n",
    "    rank=10,  # Factores latentes (ajustable)\n",
    "    maxIter=15,  # Iteraciones (ajustable)\n",
    "    regParam=0.1  # Regularización (ajustable)\n",
    ")"
   ]
  },
  {
   "cell_type": "code",
   "execution_count": 10,
   "id": "c94e214c",
   "metadata": {},
   "outputs": [
    {
     "name": "stderr",
     "output_type": "stream",
     "text": [
      "25/05/14 17:14:09 WARN InstanceBuilder: Failed to load implementation from:dev.ludovic.netlib.blas.JNIBLAS\n",
      "25/05/14 17:14:09 WARN InstanceBuilder: Failed to load implementation from:dev.ludovic.netlib.blas.VectorBLAS\n"
     ]
    }
   ],
   "source": [
    "# Entrenar modelo\n",
    "model = als.fit(video_data)"
   ]
  },
  {
   "cell_type": "code",
   "execution_count": 12,
   "id": "dec19eec",
   "metadata": {},
   "outputs": [
    {
     "name": "stdout",
     "output_type": "stream",
     "text": [
      "Recomendaciones para usuarios de ejemplo:\n"
     ]
    },
    {
     "name": "stderr",
     "output_type": "stream",
     "text": [
      "                                                                                \r"
     ]
    },
    {
     "name": "stdout",
     "output_type": "stream",
     "text": [
      "+-----------+-------------------------------------------------------------------------------------------------------+\n",
      "|user_id_int|recommendations                                                                                        |\n",
      "+-----------+-------------------------------------------------------------------------------------------------------+\n",
      "|1050       |[{13, 0.5921322}, {20, 0.48890442}, {37, 0.40035212}, {12, 0.021325216}, {4, 0.007610112}]             |\n",
      "|1069       |[{82, 0.44634697}, {43, 0.4256225}, {41, 0.3480592}, {56, 0.28067768}, {81, 0.16445398}]               |\n",
      "|1083       |[{58, 0.2866521}, {71, 0.26992053}, {61, 0.14154337}, {88, 0.09528438}, {30, 0.04506647}]              |\n",
      "|1102       |[{82, 0.11751865}, {43, 0.112062104}, {41, 0.09164048}, {56, 0.0738996}, {81, 0.04329907}]             |\n",
      "|1114       |[{14, 0.58301634}, {95, 0.48783255}, {11, 0.23070753}, {55, 0.06696657}, {51, 0.019539863}]            |\n",
      "|1119       |[{82, 0.10007157}, {43, 0.09542512}, {41, 0.07803533}, {56, 0.0629283}, {81, 0.0368708}]               |\n",
      "|1121       |[{35, 1.9202798E-4}, {70, 1.8980452E-4}, {64, 7.31288E-6}, {12, 6.4565165E-7}, {4, 4.4079295E-7}]      |\n",
      "|1138       |[{82, 0.017104497}, {43, 0.016310312}, {41, 0.013338004}, {56, 0.0107558705}, {81, 0.006302054}]       |\n",
      "|1200       |[{14, 0.02846104}, {95, 0.023814466}, {58, 0.021091051}, {71, 0.01985999}, {11, 0.011262423}]          |\n",
      "|1207       |[{52, 4.515311E-11}, {77, 2.954918E-11}, {60, 2.3847818E-11}, {91, 1.1142154E-11}, {50, 1.0988406E-11}]|\n",
      "|1215       |[{82, 0.4532842}, {43, 0.43223763}, {41, 0.35346884}, {56, 0.28504002}, {81, 0.16700996}]              |\n",
      "|1236       |[{29, 0.4111641}, {16, 0.39772034}, {38, 0.38340524}, {86, 0.20659387}, {5, 0.0039622835}]             |\n",
      "|1238       |[{58, 0.50475764}, {71, 0.4752955}, {61, 0.24918924}, {88, 0.1677836}, {30, 0.07935629}]               |\n",
      "|1289       |[{13, 0.47436026}, {20, 0.39166394}, {37, 0.32072422}, {12, 0.017083744}, {4, 0.006096501}]            |\n",
      "|1408       |[{52, 0.10581761}, {77, 0.06924935}, {60, 0.055888046}, {91, 0.024884915}, {89, 0.02227768}]           |\n",
      "|1435       |[{58, 0.2376285}, {71, 0.2237584}, {61, 0.11731267}, {88, 0.07898874}, {30, 0.03735915}]               |\n",
      "|1485       |[{13, 0.5285147}, {20, 0.43637747}, {37, 0.35733905}, {12, 0.019034075}, {4, 0.006792496}]             |\n",
      "|1495       |[{58, 0.5003737}, {71, 0.47116745}, {61, 0.24702495}, {88, 0.16632636}, {30, 0.07866706}]              |\n",
      "|1618       |[{58, 0.53033906}, {71, 0.49938375}, {61, 0.2618183}, {88, 0.17628697}, {30, 0.08337811}]              |\n",
      "|1649       |[{29, 0.4144979}, {16, 0.40094516}, {38, 0.38651398}, {86, 0.20826899}, {5, 0.003994411}]              |\n",
      "+-----------+-------------------------------------------------------------------------------------------------------+\n",
      "only showing top 20 rows\n",
      "\n",
      "\n",
      "Top 5 recomendaciones para usuario 1649:\n",
      "+-----------+-----------------------------------------------------------------------------------------+\n",
      "|user_id_int|recommendations                                                                          |\n",
      "+-----------+-----------------------------------------------------------------------------------------+\n",
      "|1649       |[{29, 0.4144979}, {16, 0.40094516}, {38, 0.38651398}, {86, 0.20826899}, {5, 0.003994411}]|\n",
      "+-----------+-----------------------------------------------------------------------------------------+\n",
      "\n"
     ]
    }
   ],
   "source": [
    "# Recomendaciones para todos los usuarios (top 10)\n",
    "user_recs = model.recommendForAllUsers(5)\n",
    "\n",
    "# Mostrar recomendaciones para algunos usuarios\n",
    "print(\"Recomendaciones para usuarios de ejemplo:\")\n",
    "user_recs.show(truncate=False)\n",
    "\n",
    "# Recomendaciones para un usuario específico\n",
    "user_id_ejemplo = 1649\n",
    "recs_usuario = model.recommendForUserSubset(\n",
    "    spark.createDataFrame([(user_id_ejemplo,)]).toDF(\"user_id_int\"), \n",
    "    5\n",
    ")\n",
    "print(f\"\\nTop 5 recomendaciones para usuario {user_id_ejemplo}:\")\n",
    "recs_usuario.show(truncate=False)"
   ]
  },
  {
   "cell_type": "code",
   "execution_count": 17,
   "id": "cf2a8688",
   "metadata": {},
   "outputs": [
    {
     "name": "stderr",
     "output_type": "stream",
     "text": [
      "[Stage 1242:===========================>                           (5 + 1) / 10]\r"
     ]
    },
    {
     "name": "stdout",
     "output_type": "stream",
     "text": [
      "+--------------------------------------------------------------------------------------------------------------------------------------------------------------------------------------------------------------------------------------------------------------------------------------+------------+----------+------------------+----------+------------+----------------+------+-------+--------------+------+-----------+-------------+-----------+------------+-------------------+-------------+\n",
      "|pairs_array                                                                                                                                                                                                                                                                           |user_id     |video_id  |watch_time_seconds|resolution|bitrate_kbps|buffering_events|paused|skipped|genre         |region|recommended|timestamp    |user_id_int|video_id_int|implicit_feedback  |prediction   |\n",
      "+--------------------------------------------------------------------------------------------------------------------------------------------------------------------------------------------------------------------------------------------------------------------------------------+------------+----------+------------------+----------+------------+----------------+------+-------+--------------+------+-----------+-------------+-----------+------------+-------------------+-------------+\n",
      "|[{\"user_id\": \"user_1238\",  \"video_id\": \"vid_058\",  \"watch_time_seconds\": 732,  \"resolution\": \"4K\",  \"bitrate_kbps\": 1584,  \"buffering_events\": 1,  \"paused\": true,  \"skipped\": false,  \"genre\": \"Sci-Fi\",  \"region\": \"UK\",  \"recommended\": false,  \"timestamp\": \"05/14/2025\"}]        | \"user_1238\"| \"vid_058\"|732.0             | \"4K\"     | 1584       |1.0             | true |0      | \"Sci-Fi\"     | \"UK\" | false     | \"05/14/2025\"|1238       |58          |0.492              |0.50475764   |\n",
      "|[{\"user_id\": \"user_3475\",  \"video_id\": \"vid_005\",  \"watch_time_seconds\": 2164,  \"resolution\": \"4K\",  \"bitrate_kbps\": 7809,  \"buffering_events\": 1,  \"paused\": false,  \"skipped\": true,  \"genre\": \"Action\",  \"region\": \"US\",  \"recommended\": true,  \"timestamp\": \"05/14/2025\"}]        | \"user_3475\"| \"vid_005\"|2164.0            | \"4K\"     | 7809       |1.0             | false|0      | \"Action\"     | \"US\" | true      | \"05/14/2025\"|3475       |5           |0.7306666666666667 |1.3903907E-4 |\n",
      "|[{\"user_id\": \"user_6301\",  \"video_id\": \"vid_080\",  \"watch_time_seconds\": 1017,  \"resolution\": \"1080p\",  \"bitrate_kbps\": 1108,  \"buffering_events\": 2,  \"paused\": true,  \"skipped\": false,  \"genre\": \"Action\",  \"region\": \"DE\",  \"recommended\": true,  \"timestamp\": \"05/14/2025\"}]     | \"user_6301\"| \"vid_080\"|1017.0            | \"1080p\"  | 1108       |2.0             | true |0      | \"Action\"     | \"DE\" | true      | \"05/14/2025\"|6301       |80          |0.5095             |6.5124346E-5 |\n",
      "|[{\"user_id\": \"user_7567\",  \"video_id\": \"vid_052\",  \"watch_time_seconds\": 1346,  \"resolution\": \"720p\",  \"bitrate_kbps\": 5367,  \"buffering_events\": 4,  \"paused\": false,  \"skipped\": true,  \"genre\": \"Action\",  \"region\": \"JP\",  \"recommended\": true,  \"timestamp\": \"05/14/2025\"}]      | \"user_7567\"| \"vid_052\"|1346.0            | \"720p\"   | 5367       |4.0             | false|0      | \"Action\"     | \"JP\" | true      | \"05/14/2025\"|7567       |52          |0.5043333333333333 |0.6067011    |\n",
      "|[{\"user_id\": \"user_5962\",  \"video_id\": \"vid_038\",  \"watch_time_seconds\": 784,  \"resolution\": \"480p\",  \"bitrate_kbps\": 5256,  \"buffering_events\": 1,  \"paused\": true,  \"skipped\": true,  \"genre\": \"Action\",  \"region\": \"MX\",  \"recommended\": false,  \"timestamp\": \"05/14/2025\"}]       | \"user_5962\"| \"vid_038\"|784.0             | \"480p\"   | 5256       |1.0             | true |0      | \"Action\"     | \"MX\" | false     | \"05/14/2025\"|5962       |38          |0.5006666666666667 |0.35102567   |\n",
      "|[{\"user_id\": \"user_9640\",  \"video_id\": \"vid_050\",  \"watch_time_seconds\": 1484,  \"resolution\": \"4K\",  \"bitrate_kbps\": 3230,  \"buffering_events\": 4,  \"paused\": true,  \"skipped\": false,  \"genre\": \"Horror\",  \"region\": \"US\",  \"recommended\": false,  \"timestamp\": \"05/14/2025\"}]       | \"user_9640\"| \"vid_050\"|1484.0            | \"4K\"     | 3230       |4.0             | true |0      | \"Horror\"     | \"US\" | false     | \"05/14/2025\"|9640       |50          |0.5273333333333333 |0.3488973    |\n",
      "|[{\"user_id\": \"user_9217\",  \"video_id\": \"vid_052\",  \"watch_time_seconds\": 1224,  \"resolution\": \"1080p\",  \"bitrate_kbps\": 7005,  \"buffering_events\": 4,  \"paused\": false,  \"skipped\": false,  \"genre\": \"Action\",  \"region\": \"US\",  \"recommended\": true,  \"timestamp\": \"05/14/2025\"}]    | \"user_9217\"| \"vid_052\"|1224.0            | \"1080p\"  | 7005       |4.0             | false|0      | \"Action\"     | \"US\" | true      | \"05/14/2025\"|9217       |52          |0.484              |0.6034491    |\n",
      "|[{\"user_id\": \"user_2752\",  \"video_id\": \"vid_029\",  \"watch_time_seconds\": 2207,  \"resolution\": \"480p\",  \"bitrate_kbps\": 2388,  \"buffering_events\": 0,  \"paused\": false,  \"skipped\": false,  \"genre\": \"Documentary\",  \"region\": \"IN\",  \"recommended\": true,  \"timestamp\": \"05/14/2025\"}]| \"user_2752\"| \"vid_029\"|2207.0            | \"480p\"   | 2388       |0.0             | false|0      | \"Documentary\"| \"IN\" | true      | \"05/14/2025\"|2752       |29          |0.7678333333333333 |0.4365219    |\n",
      "|[{\"user_id\": \"user_3296\",  \"video_id\": \"vid_098\",  \"watch_time_seconds\": 557,  \"resolution\": \"1080p\",  \"bitrate_kbps\": 3771,  \"buffering_events\": 2,  \"paused\": true,  \"skipped\": false,  \"genre\": \"Horror\",  \"region\": \"IN\",  \"recommended\": true,  \"timestamp\": \"05/14/2025\"}]      | \"user_3296\"| \"vid_098\"|557.0             | \"1080p\"  | 3771       |2.0             | true |0      | \"Horror\"     | \"IN\" | true      | \"05/14/2025\"|3296       |98          |0.4328333333333333 |1.557974E-5  |\n",
      "|[{\"user_id\": \"user_9657\",  \"video_id\": \"vid_022\",  \"watch_time_seconds\": 3383,  \"resolution\": \"480p\",  \"bitrate_kbps\": 1045,  \"buffering_events\": 5,  \"paused\": true,  \"skipped\": false,  \"genre\": \"Sci-Fi\",  \"region\": \"MX\",  \"recommended\": true,  \"timestamp\": \"05/14/2025\"}]      | \"user_9657\"| \"vid_022\"|3383.0            | \"480p\"   | 1045       |5.0             | true |0      | \"Sci-Fi\"     | \"MX\" | true      | \"05/14/2025\"|9657       |22          |0.8138333333333333 |1.062351E-6  |\n",
      "|[{\"user_id\": \"user_4837\",  \"video_id\": \"vid_035\",  \"watch_time_seconds\": 2030,  \"resolution\": \"4K\",  \"bitrate_kbps\": 5201,  \"buffering_events\": 5,  \"paused\": false,  \"skipped\": false,  \"genre\": \"Sci-Fi\",  \"region\": \"US\",  \"recommended\": true,  \"timestamp\": \"05/14/2025\"}]       | \"user_4837\"| \"vid_035\"|2030.0            | \"4K\"     | 5201       |5.0             | false|0      | \"Sci-Fi\"     | \"US\" | true      | \"05/14/2025\"|4837       |35          |0.5883333333333333 |0.5791917    |\n",
      "|[{\"user_id\": \"user_2242\",  \"video_id\": \"vid_013\",  \"watch_time_seconds\": 221,  \"resolution\": \"720p\",  \"bitrate_kbps\": 5883,  \"buffering_events\": 5,  \"paused\": false,  \"skipped\": false,  \"genre\": \"Sci-Fi\",  \"region\": \"IN\",  \"recommended\": false,  \"timestamp\": \"05/14/2025\"}]     | \"user_2242\"| \"vid_013\"|221.0             | \"720p\"   | 5883       |5.0             | false|0      | \"Sci-Fi\"     | \"IN\" | false     | \"05/14/2025\"|2242       |13          |0.28683333333333333|0.4942928    |\n",
      "|[{\"user_id\": \"user_8005\",  \"video_id\": \"vid_080\",  \"watch_time_seconds\": 121,  \"resolution\": \"480p\",  \"bitrate_kbps\": 1953,  \"buffering_events\": 1,  \"paused\": true,  \"skipped\": true,  \"genre\": \"Comedy\",  \"region\": \"DE\",  \"recommended\": false,  \"timestamp\": \"05/14/2025\"}]       | \"user_8005\"| \"vid_080\"|121.0             | \"480p\"   | 1953       |1.0             | true |0      | \"Comedy\"     | \"DE\" | false     | \"05/14/2025\"|8005       |80          |0.39016666666666666|5.9976257E-5 |\n",
      "|[{\"user_id\": \"user_1207\",  \"video_id\": \"vid_078\",  \"watch_time_seconds\": 126,  \"resolution\": \"480p\",  \"bitrate_kbps\": 3478,  \"buffering_events\": 3,  \"paused\": false,  \"skipped\": true,  \"genre\": \"Drama\",  \"region\": \"US\",  \"recommended\": true,  \"timestamp\": \"05/14/2025\"}]        | \"user_1207\"| \"vid_078\"|126.0             | \"480p\"   | 3478       |3.0             | false|0      | \"Drama\"      | \"US\" | true      | \"05/14/2025\"|1207       |78          |0.33099999999999996|3.3848839E-21|\n",
      "|[{\"user_id\": \"user_1114\",  \"video_id\": \"vid_014\",  \"watch_time_seconds\": 509,  \"resolution\": \"720p\",  \"bitrate_kbps\": 4849,  \"buffering_events\": 2,  \"paused\": false,  \"skipped\": false,  \"genre\": \"Comedy\",  \"region\": \"BR\",  \"recommended\": false,  \"timestamp\": \"05/14/2025\"}]     | \"user_1114\"| \"vid_014\"|509.0             | \"720p\"   | 4849       |2.0             | false|0      | \"Comedy\"     | \"BR\" | false     | \"05/14/2025\"|1114       |14          |0.4248333333333333 |0.58301634   |\n",
      "|[{\"user_id\": \"user_4451\",  \"video_id\": \"vid_025\",  \"watch_time_seconds\": 709,  \"resolution\": \"720p\",  \"bitrate_kbps\": 7690,  \"buffering_events\": 5,  \"paused\": true,  \"skipped\": true,  \"genre\": \"Action\",  \"region\": \"IN\",  \"recommended\": true,  \"timestamp\": \"05/14/2025\"}]        | \"user_4451\"| \"vid_025\"|709.0             | \"720p\"   | 7690       |5.0             | true |0      | \"Action\"     | \"IN\" | true      | \"05/14/2025\"|4451       |25          |0.36816666666666664|8.706422E-7  |\n",
      "|[{\"user_id\": \"user_1485\",  \"video_id\": \"vid_020\",  \"watch_time_seconds\": 2740,  \"resolution\": \"480p\",  \"bitrate_kbps\": 7067,  \"buffering_events\": 0,  \"paused\": true,  \"skipped\": false,  \"genre\": \"Sci-Fi\",  \"region\": \"US\",  \"recommended\": false,  \"timestamp\": \"05/14/2025\"}]     | \"user_1485\"| \"vid_020\"|2740.0            | \"480p\"   | 7067       |0.0             | true |0      | \"Sci-Fi\"     | \"US\" | false     | \"05/14/2025\"|1485       |20          |0.8566666666666666 |0.43637747   |\n",
      "|[{\"user_id\": \"user_6375\",  \"video_id\": \"vid_013\",  \"watch_time_seconds\": 1754,  \"resolution\": \"720p\",  \"bitrate_kbps\": 2287,  \"buffering_events\": 0,  \"paused\": true,  \"skipped\": false,  \"genre\": \"Comedy\",  \"region\": \"JP\",  \"recommended\": false,  \"timestamp\": \"05/14/2025\"}]     | \"user_6375\"| \"vid_013\"|1754.0            | \"720p\"   | 2287       |0.0             | true |0      | \"Comedy\"     | \"JP\" | false     | \"05/14/2025\"|6375       |13          |0.6923333333333334 |0.56244576   |\n",
      "|[{\"user_id\": \"user_7894\",  \"video_id\": \"vid_046\",  \"watch_time_seconds\": 952,  \"resolution\": \"1080p\",  \"bitrate_kbps\": 7521,  \"buffering_events\": 0,  \"paused\": false,  \"skipped\": false,  \"genre\": \"Documentary\",  \"region\": \"JP\",  \"recommended\": true,  \"timestamp\": \"05/14/2025\"}]| \"user_7894\"| \"vid_046\"|952.0             | \"1080p\"  | 7521       |0.0             | false|0      | \"Documentary\"| \"JP\" | true      | \"05/14/2025\"|7894       |46          |0.5586666666666666 |1.16427065E-4|\n",
      "|[{\"user_id\": \"user_3529\",  \"video_id\": \"vid_004\",  \"watch_time_seconds\": 2564,  \"resolution\": \"480p\",  \"bitrate_kbps\": 3403,  \"buffering_events\": 5,  \"paused\": false,  \"skipped\": false,  \"genre\": \"Drama\",  \"region\": \"MX\",  \"recommended\": true,  \"timestamp\": \"05/14/2025\"}]      | \"user_3529\"| \"vid_004\"|2564.0            | \"480p\"   | 3403       |5.0             | false|0      | \"Drama\"      | \"MX\" | true      | \"05/14/2025\"|3529       |4           |0.6773333333333332 |1.236916E-4  |\n",
      "+--------------------------------------------------------------------------------------------------------------------------------------------------------------------------------------------------------------------------------------------------------------------------------------+------------+----------+------------------+----------+------------+----------------+------+-------+--------------+------+-----------+-------------+-----------+------------+-------------------+-------------+\n",
      "only showing top 20 rows\n",
      "\n"
     ]
    },
    {
     "name": "stderr",
     "output_type": "stream",
     "text": [
      "                                                                                \r"
     ]
    }
   ],
   "source": [
    "from pyspark.ml.evaluation import RegressionEvaluator\n",
    "from pyspark.sql.functions import col\n",
    "\n",
    "# Hacer predicciones\n",
    "predictions = model.transform(video_data)\n",
    "predictions.show(truncate=False)\n"
   ]
  },
  {
   "cell_type": "code",
   "execution_count": 15,
   "id": "b74dc8f5",
   "metadata": {},
   "outputs": [
    {
     "name": "stderr",
     "output_type": "stream",
     "text": [
      "                                                                                \r"
     ]
    },
    {
     "name": "stdout",
     "output_type": "stream",
     "text": [
      "\n",
      "RMSE del modelo: 0.4830478949352701\n"
     ]
    }
   ],
   "source": [
    "# Evaluar con RMSE\n",
    "evaluator = RegressionEvaluator(\n",
    "    metricName=\"rmse\",\n",
    "    labelCol=\"implicit_feedback\",\n",
    "    predictionCol=\"prediction\"\n",
    ")\n",
    "rmse = evaluator.evaluate(predictions)\n",
    "print(f\"\\nRMSE del modelo: {rmse}\")"
   ]
  },
  {
   "cell_type": "markdown",
   "id": "3115aa7c",
   "metadata": {},
   "source": [
    "# 5. Results and Evaluation"
   ]
  },
  {
   "cell_type": "code",
   "execution_count": 18,
   "id": "0a85d78d",
   "metadata": {},
   "outputs": [],
   "source": [
    "from pyspark.ml.feature import VectorAssembler, StringIndexer\n",
    "\n",
    "# Prepare data\n",
    "video_data = video_data.withColumn(\"label\", \n",
    "                                 expr(\"CASE WHEN implicit_feedback >= 0.5 THEN 1 ELSE 0 END\"))\n",
    "\n",
    "# Features\n",
    "feature_cols = [\"watch_time_seconds\", \"buffering_events\", \"skipped\", \"user_id_int\", \"video_id_int\"]\n",
    "\n",
    "# Change genre and region in indexes\n",
    "genre_indexer = StringIndexer(inputCol=\"genre\", outputCol=\"genre_index\")\n",
    "region_indexer = StringIndexer(inputCol=\"region\", outputCol=\"region_index\")\n",
    "\n",
    "# Assembler\n",
    "assembler = VectorAssembler(\n",
    "    inputCols=feature_cols + [\"genre_index\", \"region_index\"],\n",
    "    outputCol=\"features\"\n",
    ")"
   ]
  },
  {
   "cell_type": "code",
   "execution_count": 19,
   "id": "c8176623",
   "metadata": {},
   "outputs": [
    {
     "name": "stderr",
     "output_type": "stream",
     "text": [
      "                                                                                \r"
     ]
    },
    {
     "name": "stdout",
     "output_type": "stream",
     "text": [
      "Original Dataset\n"
     ]
    },
    {
     "name": "stderr",
     "output_type": "stream",
     "text": [
      "                                                                                \r"
     ]
    },
    {
     "name": "stdout",
     "output_type": "stream",
     "text": [
      "+-----+--------------------+\n",
      "|label|            features|\n",
      "+-----+--------------------+\n",
      "|    0|[221.0,5.0,0.0,22...|\n",
      "|    0|[709.0,5.0,0.0,44...|\n",
      "|    1|[3011.0,0.0,0.0,2...|\n",
      "|    1|[2207.0,0.0,0.0,2...|\n",
      "|    1|[2551.0,0.0,0.0,1...|\n",
      "+-----+--------------------+\n",
      "only showing top 5 rows\n",
      "\n",
      "\n",
      "Train set\n"
     ]
    },
    {
     "name": "stderr",
     "output_type": "stream",
     "text": [
      "[Stage 1289:>                                                       (0 + 1) / 1]\r"
     ]
    },
    {
     "name": "stdout",
     "output_type": "stream",
     "text": [
      "+-----+--------------------+\n",
      "|label|            features|\n",
      "+-----+--------------------+\n",
      "|    0|[53.0,1.0,0.0,254...|\n",
      "|    0|[73.0,1.0,0.0,926...|\n",
      "|    0|[121.0,1.0,0.0,80...|\n",
      "|    0|[126.0,3.0,0.0,12...|\n",
      "|    0|[140.0,1.0,0.0,52...|\n",
      "|    0|[165.0,1.0,0.0,23...|\n",
      "|    0|[169.0,3.0,0.0,99...|\n",
      "|    0|[285.0,5.0,0.0,53...|\n",
      "|    0|[322.0,5.0,0.0,88...|\n",
      "|    0|[475.0,0.0,0.0,34...|\n",
      "|    0|[557.0,2.0,0.0,32...|\n",
      "|    0|[630.0,2.0,0.0,20...|\n",
      "|    0|[634.0,4.0,0.0,70...|\n",
      "|    0|[709.0,5.0,0.0,44...|\n",
      "|    0|[717.0,2.0,0.0,38...|\n",
      "|    0|[922.0,5.0,0.0,52...|\n",
      "|    0|[1032.0,4.0,0.0,6...|\n",
      "|    0|[1199.0,5.0,0.0,8...|\n",
      "|    0|[1224.0,4.0,0.0,9...|\n",
      "|    0|[1240.0,4.0,0.0,9...|\n",
      "+-----+--------------------+\n",
      "only showing top 20 rows\n",
      "\n"
     ]
    },
    {
     "name": "stderr",
     "output_type": "stream",
     "text": [
      "                                                                                \r"
     ]
    }
   ],
   "source": [
    "# Apply transformations\n",
    "data_label = genre_indexer.fit(video_data).transform(video_data)\n",
    "data_label = region_indexer.fit(data_label).transform(data_label)\n",
    "data_with_features = assembler.transform(data_label).select(\"label\", \"features\")\n",
    "\n",
    "# Divide data (train, test)\n",
    "train_df, test_df = data_with_features.randomSplit([0.7, 0.3], seed=57)\n",
    "\n",
    "print(\"Original Dataset\")\n",
    "data_with_features.show(5)\n",
    "\n",
    "print(\"\\nTrain set\")\n",
    "train_df.show()"
   ]
  },
  {
   "cell_type": "code",
   "execution_count": 20,
   "id": "1601f5d9",
   "metadata": {},
   "outputs": [
    {
     "name": "stderr",
     "output_type": "stream",
     "text": [
      "                                                                                \r"
     ]
    },
    {
     "name": "stdout",
     "output_type": "stream",
     "text": [
      "\n",
      "Decision Tree model summary:DecisionTreeClassificationModel: uid=DecisionTreeClassifier_ec3106a10dd8, depth=5, numNodes=19, numClasses=2, numFeatures=7\n",
      "  If (feature 0 <= 1322.5)\n",
      "   If (feature 1 <= 2.5)\n",
      "    If (feature 0 <= 615.0)\n",
      "     Predict: 0.0\n",
      "    Else (feature 0 > 615.0)\n",
      "     If (feature 0 <= 942.0)\n",
      "      If (feature 1 <= 0.5)\n",
      "       Predict: 1.0\n",
      "      Else (feature 1 > 0.5)\n",
      "       Predict: 0.0\n",
      "     Else (feature 0 > 942.0)\n",
      "      Predict: 1.0\n",
      "   Else (feature 1 > 2.5)\n",
      "    If (feature 3 <= 3199.0)\n",
      "     If (feature 0 <= 1163.5)\n",
      "      Predict: 0.0\n",
      "     Else (feature 0 > 1163.5)\n",
      "      Predict: 1.0\n",
      "    Else (feature 3 > 3199.0)\n",
      "     Predict: 0.0\n",
      "  Else (feature 0 > 1322.5)\n",
      "   If (feature 0 <= 1452.5)\n",
      "    If (feature 1 <= 4.5)\n",
      "     Predict: 1.0\n",
      "    Else (feature 1 > 4.5)\n",
      "     Predict: 0.0\n",
      "   Else (feature 0 > 1452.5)\n",
      "    Predict: 1.0\n",
      "\n"
     ]
    }
   ],
   "source": [
    "from pyspark.ml.classification import DecisionTreeClassifier\n",
    "\n",
    "# Initialize and train the Decision Tree model\n",
    "dt = DecisionTreeClassifier(labelCol=\"label\", featuresCol=\"features\")\n",
    "dt_model = dt.fit(train_df)\n",
    "\n",
    "# Display model summary\n",
    "print(\"\\nDecision Tree model summary:{0}\".format(dt_model.toDebugString))\n",
    " "
   ]
  },
  {
   "cell_type": "code",
   "execution_count": 21,
   "id": "a0bed238",
   "metadata": {},
   "outputs": [
    {
     "name": "stderr",
     "output_type": "stream",
     "text": [
      "[Stage 1308:============================>                           (1 + 1) / 2]\r"
     ]
    },
    {
     "name": "stdout",
     "output_type": "stream",
     "text": [
      "+--------------------+--------+----------+-----------+\n",
      "|            features|Feedback|prediction|probability|\n",
      "+--------------------+--------+----------+-----------+\n",
      "|[221.0,5.0,0.0,22...|       0|       0.0|  [1.0,0.0]|\n",
      "|[509.0,2.0,0.0,11...|       0|       0.0|  [1.0,0.0]|\n",
      "|[732.0,1.0,0.0,12...|       0|       0.0|  [1.0,0.0]|\n",
      "|[635.0,0.0,0.0,33...|       1|       1.0|  [0.0,1.0]|\n",
      "|[784.0,1.0,0.0,59...|       1|       0.0|  [1.0,0.0]|\n",
      "|[1346.0,4.0,0.0,7...|       1|       1.0|  [0.0,1.0]|\n",
      "|[1753.0,3.0,0.0,7...|       1|       1.0|  [0.0,1.0]|\n",
      "|[1905.0,5.0,0.0,8...|       1|       1.0|  [0.0,1.0]|\n",
      "|[1994.0,2.0,0.0,6...|       1|       1.0|  [0.0,1.0]|\n",
      "|[3258.0,3.0,0.0,5...|       1|       1.0|  [0.0,1.0]|\n",
      "|[3577.0,3.0,0.0,8...|       1|       1.0|  [0.0,1.0]|\n",
      "|[74.0,0.0,0.0,423...|       0|       0.0|  [1.0,0.0]|\n",
      "|[158.0,4.0,0.0,48...|       0|       0.0|  [1.0,0.0]|\n",
      "|[199.0,2.0,0.0,34...|       0|       0.0|  [1.0,0.0]|\n",
      "|[565.0,4.0,0.0,36...|       0|       0.0|  [1.0,0.0]|\n",
      "|[1137.0,3.0,0.0,7...|       0|       0.0|  [1.0,0.0]|\n",
      "|[1141.0,1.0,0.0,6...|       1|       1.0|  [0.0,1.0]|\n",
      "|[1286.0,0.0,0.0,5...|       1|       1.0|  [0.0,1.0]|\n",
      "|[1389.0,0.0,0.0,4...|       1|       1.0|  [0.0,1.0]|\n",
      "|[1426.0,2.0,0.0,4...|       1|       1.0|  [0.0,1.0]|\n",
      "+--------------------+--------+----------+-----------+\n",
      "only showing top 20 rows\n",
      "\n"
     ]
    },
    {
     "name": "stderr",
     "output_type": "stream",
     "text": [
      "                                                                                \r"
     ]
    }
   ],
   "source": [
    "# Make predictions\n",
    "predictions = dt_model.transform(test_df)\n",
    "\n",
    "# Show predictions\n",
    "predictions.select(\"features\", col(\"label\").alias(\"Feedback\"), \"prediction\", \"probability\").show()"
   ]
  },
  {
   "cell_type": "code",
   "execution_count": 22,
   "id": "b9a4d97b",
   "metadata": {},
   "outputs": [
    {
     "name": "stderr",
     "output_type": "stream",
     "text": [
      "                                                                                \r"
     ]
    },
    {
     "name": "stdout",
     "output_type": "stream",
     "text": [
      "Accuracy: 0.989010989010989\n"
     ]
    },
    {
     "name": "stderr",
     "output_type": "stream",
     "text": [
      "                                                                                \r"
     ]
    },
    {
     "name": "stdout",
     "output_type": "stream",
     "text": [
      "Precision: 0.9893772893772894\n"
     ]
    },
    {
     "name": "stderr",
     "output_type": "stream",
     "text": [
      "                                                                                \r"
     ]
    },
    {
     "name": "stdout",
     "output_type": "stream",
     "text": [
      "Recall: 0.9890109890109889\n"
     ]
    },
    {
     "name": "stderr",
     "output_type": "stream",
     "text": [
      "[Stage 1315:==============================================>         (5 + 1) / 6]\r"
     ]
    },
    {
     "name": "stdout",
     "output_type": "stream",
     "text": [
      "F1 Score: 0.9890594454463821\n"
     ]
    },
    {
     "name": "stderr",
     "output_type": "stream",
     "text": [
      "                                                                                \r"
     ]
    }
   ],
   "source": [
    "# Evaluate model\n",
    "from pyspark.ml.evaluation import MulticlassClassificationEvaluator\n",
    "\n",
    "evaluator = MulticlassClassificationEvaluator(labelCol=\"label\",\n",
    "                            predictionCol=\"prediction\")\n",
    "\n",
    "accuracy = evaluator.evaluate(predictions, \n",
    "                  {evaluator.metricName: \"accuracy\"})\n",
    "print(f\"Accuracy: {accuracy}\")\n",
    "precision = evaluator.evaluate(predictions,\n",
    "                  {evaluator.metricName: \"weightedPrecision\"})\n",
    "print(f\"Precision: {precision}\")\n",
    "recall = evaluator.evaluate(predictions,\n",
    "                  {evaluator.metricName: \"weightedRecall\"})\n",
    "print(f\"Recall: {recall}\")\n",
    "f1 = evaluator.evaluate(predictions,\n",
    "                {evaluator.metricName: \"f1\"})\n",
    "print(f\"F1 Score: {f1}\")"
   ]
  },
  {
   "cell_type": "code",
   "execution_count": 23,
   "id": "b31f62e2",
   "metadata": {},
   "outputs": [
    {
     "name": "stderr",
     "output_type": "stream",
     "text": [
      "                                                                                \r"
     ]
    }
   ],
   "source": [
    "predictions.select(\n",
    "    col(\"features\").cast(\"string\"),\n",
    "    col(\"label\").alias(\"viral\"),\n",
    "    col(\"prediction\"),\n",
    "    col(\"probability\").cast(\"string\")\n",
    ").coalesce(1).write.option(\"header\", \"true\").mode(\"overwrite\") \\\n",
    ".csv(\"/home/jovyan/notebooks/data/project_parquet/output/csv_predictions.csv\")"
   ]
  },
  {
   "attachments": {
    "image.png": {
     "image/png": "[encoded data removed]"
    }
   },
   "cell_type": "markdown",
   "id": "9fea2345",
   "metadata": {},
   "source": [
    "![image.png](attachment:image.png)"
   ]
  },
  {
   "cell_type": "code",
   "execution_count": 24,
   "id": "8ea086ab",
   "metadata": {},
   "outputs": [
    {
     "name": "stderr",
     "output_type": "stream",
     "text": [
      "                                                                                \r"
     ]
    },
    {
     "name": "stdout",
     "output_type": "stream",
     "text": [
      "+--------------------+-----+----------+\n",
      "|            features|label|prediction|\n",
      "+--------------------+-----+----------+\n",
      "|[221.0,5.0,0.0,22...|    0|       0.0|\n",
      "|[509.0,2.0,0.0,11...|    0|       0.0|\n",
      "|[732.0,1.0,0.0,12...|    0|       1.0|\n",
      "|[635.0,0.0,0.0,33...|    1|       1.0|\n",
      "|[784.0,1.0,0.0,59...|    1|       0.0|\n",
      "+--------------------+-----+----------+\n",
      "only showing top 5 rows\n",
      "\n"
     ]
    },
    {
     "name": "stderr",
     "output_type": "stream",
     "text": [
      "                                                                                \r"
     ]
    },
    {
     "name": "stdout",
     "output_type": "stream",
     "text": [
      "\n",
      "Accuracy Score (OneVsRest + LinearSVC): 0.9340659340659341\n"
     ]
    },
    {
     "name": "stderr",
     "output_type": "stream",
     "text": [
      "                                                                                \r"
     ]
    },
    {
     "name": "stdout",
     "output_type": "stream",
     "text": [
      "Precision Score (OneVsRest + LinearSVC): 0.9399680778991124\n"
     ]
    },
    {
     "name": "stderr",
     "output_type": "stream",
     "text": [
      "                                                                                \r"
     ]
    },
    {
     "name": "stdout",
     "output_type": "stream",
     "text": [
      "Recall Score (OneVsRest + LinearSVC): 0.9340659340659341\n"
     ]
    },
    {
     "name": "stderr",
     "output_type": "stream",
     "text": [
      "[Stage 1433:==============================================>         (5 + 1) / 6]\r"
     ]
    },
    {
     "name": "stdout",
     "output_type": "stream",
     "text": [
      "F1 Score (OneVsRest + LinearSVC): 0.9350939383197447\n"
     ]
    },
    {
     "name": "stderr",
     "output_type": "stream",
     "text": [
      "                                                                                \r"
     ]
    }
   ],
   "source": [
    "from pyspark.ml.classification import LinearSVC, OneVsRest\n",
    "\n",
    "# LinearSVC\n",
    "lsvc = LinearSVC(maxIter=10, regParam=0.1, labelCol=\"label\", featuresCol=\"features\")\n",
    "\n",
    "# OneVsRest\n",
    "ovr = OneVsRest(classifier=lsvc, labelCol=\"label\", featuresCol=\"features\")\n",
    "\n",
    "# Train model\n",
    "ovr_model = ovr.fit(train_df)\n",
    "\n",
    "# Make predictions\n",
    "ovr_predictions = ovr_model.transform(test_df)\n",
    "\n",
    "# Show predictions\n",
    "ovr_predictions.select(\"features\", \"label\", \"prediction\").show(5)\n",
    "\n",
    "# Evaluate model\n",
    "accuracy_ovr = evaluator.evaluate(ovr_predictions, {evaluator.metricName: \"accuracy\"})\n",
    "print(f\"\\nAccuracy Score (OneVsRest + LinearSVC): {accuracy_ovr}\")\n",
    "\n",
    "precision_ovr = evaluator.evaluate(ovr_predictions, {evaluator.metricName: \"weightedPrecision\"})\n",
    "print(f\"Precision Score (OneVsRest + LinearSVC): {precision_ovr}\")\n",
    "\n",
    "recall_ovr = evaluator.evaluate(ovr_predictions, {evaluator.metricName: \"weightedRecall\"})\n",
    "print(f\"Recall Score (OneVsRest + LinearSVC): {recall_ovr}\")\n",
    "\n",
    "f1_ovr = evaluator.evaluate(ovr_predictions, {evaluator.metricName: \"f1\"})\n",
    "print(f\"F1 Score (OneVsRest + LinearSVC): {f1_ovr}\")"
   ]
  },
  {
   "cell_type": "code",
   "execution_count": 62,
   "id": "dde535e5",
   "metadata": {},
   "outputs": [],
   "source": [
    "sc.stop()"
   ]
  },
  {
   "cell_type": "markdown",
   "id": "bc56a6a3",
   "metadata": {},
   "source": [
    "# 6. Conclusion\n",
    "\n",
    "## Main Achievements\n",
    "- Real-time recommendation system operational\n",
    "- Scalable data pipeline\n",
    "- Model with good accuracy metrics\n",
    "\n",
    "## Key Learnings\n",
    "1. Importance of preprocessing for streaming data\n",
    "2. Advantages of ALS for implicit feedback\n",
    "3. Challenges in the balance between coverage and diversity"
   ]
  }
 ],
 "metadata": {
  "kernelspec": {
   "display_name": "Python 3 (ipykernel)",
   "language": "python",
   "name": "python3"
  },
  "language_info": {
   "codemirror_mode": {
    "name": "ipython",
    "version": 3
   },
   "file_extension": ".py",
   "mimetype": "text/x-python",
   "name": "python",
   "nbconvert_exporter": "python",
   "pygments_lexer": "ipython3",
   "version": "3.11.6"
  }
 },
 "nbformat": 4,
 "nbformat_minor": 5
}
