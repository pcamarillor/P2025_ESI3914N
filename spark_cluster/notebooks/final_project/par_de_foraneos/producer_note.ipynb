{
 "cells": [
  {
   "cell_type": "markdown",
   "id": "42662d8a",
   "metadata": {},
   "source": [
    "# <center> **ITESO** </center>\n",
    "# <center> **Final Project Procesamiento de Datos Masivos** </center>\n",
    "---\n",
    "## <center> **Producer Applications** </center>\n",
    "## <center> **Real-Time Stock Price Analysis** </center>\n",
    "---\n",
    "## <center> **Par de Foraneos** </center>\n",
    "---\n",
    "#### <center> **Spring 2025** </center>\n",
    "---\n",
    "#### <center> **05/14/2025** </center>\n",
    "\n",
    "---\n",
    "**Profesor**: Dr. Pablo Camarillo Ramirez\n",
    "**Students**: Eddie, Konrad "
   ]
  },
  {
   "cell_type": "markdown",
   "id": "8ded7be5",
   "metadata": {},
   "source": [
    "## Download necessary Modules"
   ]
  },
  {
   "cell_type": "code",
   "execution_count": null,
   "id": "56aab9bc",
   "metadata": {},
   "outputs": [],
   "source": [
    "import findspark\n",
    "findspark.init()\n",
    "from foraneos.utils_proyectofinal_copy import Stock_Producer\n",
    "import threading"
   ]
  },
  {
   "cell_type": "markdown",
   "id": "fcf40132",
   "metadata": {},
   "source": [
    "# SETUP ENVIRONMENT"
   ]
  },
  {
   "cell_type": "code",
   "execution_count": null,
   "id": "e8911637",
   "metadata": {},
   "outputs": [],
   "source": [
    "# Define Kafka server and topic\n",
    "kafka_server = {\n",
    "                'Konrad': 'dee5c9cc3710:9093',\n",
    "                'Aaron' : '69b1b3611d90:9093',\n",
    "                '' : ''\n",
    "            }\n",
    "\n",
    "USER = 'Aaron'\n",
    "stocks = ['CAT', 'AAPL', 'NVDA', 'CVX']"
   ]
  },
  {
   "cell_type": "markdown",
   "id": "2cfd109c",
   "metadata": {},
   "source": [
    "# STARTING ALL 4 PRODUCERS IN THREADS"
   ]
  },
  {
   "cell_type": "code",
   "execution_count": null,
   "id": "5e99e8aa",
   "metadata": {},
   "outputs": [],
   "source": [
    "# Lists to store producerss and their thread processes\n",
    "producers = []\n",
    "processes = []\n",
    "\n",
    "# start new producer for each stock each in a new thread\n",
    "for i in range(4):\n",
    "    kafka_topic = f'stock_topic{i}'\n",
    "    producers.append(Stock_Producer(STOCKS[i],KAFKA_SERVER[current_user], kafka_topic , publ_interval=0.5 ))\n",
    "    processes.append( threading.Thread(target=producers[i].start) )\n",
    "    processes[i].start()\n"
   ]
  },
  {
   "cell_type": "markdown",
   "id": "bbeb9455",
   "metadata": {},
   "source": [
    "# STOP PRODUCERS"
   ]
  },
  {
   "cell_type": "code",
   "execution_count": null,
   "id": "046be57d",
   "metadata": {},
   "outputs": [],
   "source": [
    "for i in range(4):\n",
    "    producers[i].close()"
   ]
  }
 ],
 "metadata": {
  "kernelspec": {
   "display_name": "Python 3 (ipykernel)",
   "language": "python",
   "name": "python3"
  },
  "language_info": {
   "codemirror_mode": {
    "name": "ipython",
    "version": 3
   },
   "file_extension": ".py",
   "mimetype": "text/x-python",
   "name": "python",
   "nbconvert_exporter": "python",
   "pygments_lexer": "ipython3",
   "version": "3.11.6"
  }
 },
 "nbformat": 4,
 "nbformat_minor": 5
}
