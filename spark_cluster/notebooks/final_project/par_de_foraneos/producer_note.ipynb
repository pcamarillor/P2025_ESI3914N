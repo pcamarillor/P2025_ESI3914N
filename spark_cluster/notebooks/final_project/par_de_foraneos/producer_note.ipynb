{
 "cells": [
  {
   "cell_type": "code",
   "execution_count": 3,
   "id": "56aab9bc",
   "metadata": {},
   "outputs": [],
   "source": [
    "import findspark\n",
    "findspark.init()"
   ]
  },
  {
   "cell_type": "code",
   "execution_count": null,
   "id": "5e99e8aa",
   "metadata": {},
   "outputs": [
    {
     "name": "stderr",
     "output_type": "stream",
     "text": [
      "[*********************100%***********************]  1 of 1 completed"
     ]
    },
    {
     "name": "stdout",
     "output_type": "stream",
     "text": [
      "Kafka producer created successfully.\n",
      "Downloading historical data for AAPL\n"
     ]
    },
    {
     "name": "stderr",
     "output_type": "stream",
     "text": [
      "\n"
     ]
    },
    {
     "name": "stdout",
     "output_type": "stream",
     "text": [
      "2025-05-09 21:00:00+00:00,AAPL,197.49000549316406,197.53552437794687,197.47015935887475,197.53552437794687\n",
      "2025-05-09 21:05:00+00:00,AAPL,197.53176213396154,197.65297201309767,197.53176213396154,197.61853850563202\n",
      "2025-05-09 21:10:00+00:00,AAPL,197.6122821687823,197.65589166782215,197.60238593910051,197.64771739670843\n",
      "2025-05-09 21:15:00+00:00,AAPL,197.6469048425468,197.82634090123094,197.6469048425468,197.7201200783498\n",
      "2025-05-09 21:20:00+00:00,AAPL,197.7343564447837,197.88229687951923,197.7017984294525,197.83285730237313\n",
      "2025-05-09 21:25:00+00:00,AAPL,197.8098483838277,197.8321400881805,197.726008266975,197.7336739610148\n",
      "2025-05-09 21:30:00+00:00,AAPL,197.73252595537977,197.86973445039965,197.72894289987804,197.8577580066415\n",
      "2025-05-09 21:35:00+00:00,AAPL,197.86043945353705,197.93476191973141,197.75355775455063,197.75355775455063\n",
      "2025-05-09 21:40:00+00:00,AAPL,197.73732584220457,197.7743947338025,197.6668171609452,197.75674472738635\n",
      "2025-05-09 21:45:00+00:00,AAPL,197.7480401562683,197.76384958054263,197.67455856841693,197.68448681824634\n",
      "2025-05-09 21:50:00+00:00,AAPL,197.68231930612092,197.71982191962914,197.58011185319705,197.59944878410002\n",
      "2025-05-09 21:55:00+00:00,AAPL,197.6061935006515,197.66065771483528,197.57625646059213,197.66065771483528\n",
      "2025-05-09 22:00:00+00:00,AAPL,197.683695249108,197.78272274453724,197.67330205285253,197.74514657264075\n",
      "2025-05-09 22:05:00+00:00,AAPL,197.73005994984015,197.86544589126586,197.7047069177212,197.7677394606125\n",
      "2025-05-09 22:10:00+00:00,AAPL,197.77476045666592,197.80602792127732,197.6517568813647,197.665109368732\n",
      "2025-05-09 22:15:00+00:00,AAPL,197.65947582269368,197.6750716594792,197.58598816710935,197.5977105522952\n",
      "2025-05-09 22:20:00+00:00,AAPL,197.60673924720263,197.66198860680117,197.57819997850828,197.62818935233489\n",
      "2025-05-09 22:25:00+00:00,AAPL,197.6264864476352,197.69617667058787,197.55227041327817,197.5589978651052\n",
      "2025-05-09 22:30:00+00:00,AAPL,197.55591091052855,197.5732082799838,197.52133757703166,197.52133757703166\n",
      "2025-05-09 22:35:00+00:00,AAPL,197.51525522414266,197.54254974612272,197.4686805655886,197.5003314537564\n",
      "2025-05-09 22:40:00+00:00,AAPL,197.5038741488596,197.51648344853768,197.4818023671393,197.51648344853768\n"
     ]
    },
    {
     "ename": "KeyboardInterrupt",
     "evalue": "",
     "output_type": "error",
     "traceback": [
      "\u001b[0;31m---------------------------------------------------------------------------\u001b[0m",
      "\u001b[0;31mKeyboardInterrupt\u001b[0m                         Traceback (most recent call last)",
      "Cell \u001b[0;32mIn[4], line 13\u001b[0m\n\u001b[1;32m     10\u001b[0m KAFKA_TOPIC \u001b[38;5;241m=\u001b[39m \u001b[38;5;124m'\u001b[39m\u001b[38;5;124mkafka-spark-example\u001b[39m\u001b[38;5;124m'\u001b[39m\n\u001b[1;32m     12\u001b[0m producer1 \u001b[38;5;241m=\u001b[39m Producers(\u001b[38;5;124m'\u001b[39m\u001b[38;5;124mAAPL\u001b[39m\u001b[38;5;124m'\u001b[39m,KAFKA_SERVER, KAFKA_TOPIC )\n\u001b[0;32m---> 13\u001b[0m \u001b[43mproducer1\u001b[49m\u001b[38;5;241;43m.\u001b[39;49m\u001b[43mstart\u001b[49m\u001b[43m(\u001b[49m\u001b[43m)\u001b[49m\n\u001b[1;32m     14\u001b[0m producer1\u001b[38;5;241m.\u001b[39mclose()\n",
      "File \u001b[0;32m~/notebooks/lib/foraneos/utils_proyectofinal.py:337\u001b[0m, in \u001b[0;36mProducers.start\u001b[0;34m(self)\u001b[0m\n\u001b[1;32m    335\u001b[0m \u001b[38;5;28mself\u001b[39m\u001b[38;5;241m.\u001b[39mrun_producer \u001b[38;5;241m=\u001b[39m \u001b[38;5;28;01mTrue\u001b[39;00m\n\u001b[1;32m    336\u001b[0m \u001b[38;5;28mself\u001b[39m\u001b[38;5;241m.\u001b[39m__init_producer()\n\u001b[0;32m--> 337\u001b[0m \u001b[38;5;28;43mself\u001b[39;49m\u001b[38;5;241;43m.\u001b[39;49m\u001b[43m__start_producer\u001b[49m\u001b[43m(\u001b[49m\u001b[43m)\u001b[49m\n",
      "File \u001b[0;32m~/notebooks/lib/foraneos/utils_proyectofinal.py:320\u001b[0m, in \u001b[0;36mProducers.__start_producer\u001b[0;34m(self)\u001b[0m\n\u001b[1;32m    318\u001b[0m log_timediffer  \u001b[38;5;241m=\u001b[39m (datetime\u001b[38;5;241m.\u001b[39mnow() \u001b[38;5;241m-\u001b[39m log_time_logger)\u001b[38;5;241m.\u001b[39mtotal_seconds()\n\u001b[1;32m    319\u001b[0m \u001b[38;5;28;01mif\u001b[39;00m  log_timediffer \u001b[38;5;241m<\u001b[39m \u001b[38;5;28mself\u001b[39m\u001b[38;5;241m.\u001b[39mpubl_interval:\n\u001b[0;32m--> 320\u001b[0m     \u001b[43mtime\u001b[49m\u001b[38;5;241;43m.\u001b[39;49m\u001b[43msleep\u001b[49m\u001b[43m(\u001b[49m\u001b[38;5;28;43mself\u001b[39;49m\u001b[38;5;241;43m.\u001b[39;49m\u001b[43mpubl_interval\u001b[49m\u001b[43m \u001b[49m\u001b[38;5;241;43m-\u001b[39;49m\u001b[43m \u001b[49m\u001b[43mlog_timediffer\u001b[49m\u001b[43m)\u001b[49m\n\u001b[1;32m    322\u001b[0m \u001b[38;5;28mself\u001b[39m\u001b[38;5;241m.\u001b[39mk_producer\u001b[38;5;241m.\u001b[39msend(\u001b[38;5;28mself\u001b[39m\u001b[38;5;241m.\u001b[39mkafka_topic, log_data)\n\u001b[1;32m    323\u001b[0m \u001b[38;5;28mprint\u001b[39m(log_data)\n",
      "\u001b[0;31mKeyboardInterrupt\u001b[0m: "
     ]
    }
   ],
   "source": [
    "#import importlib\n",
    "from foraneos.utils_proyectofinal import Producers\n",
    "#from kafka import KafkaProducer\n",
    "#importlib.reload(Producers)\n",
    "\n",
    "#e9718f8694cf\n",
    "\n",
    "# Define Kafka server and topic\n",
    "KAFKA_SERVER = 'dee5c9cc3710:9093'\n",
    "KAFKA_TOPIC = 'kafka-spark-example'\n",
    "\n",
    "producer1 = Producers('AAPL',KAFKA_SERVER, KAFKA_TOPIC )\n",
    "producer1.start()\n",
    "producer1.close()"
   ]
  }
 ],
 "metadata": {
  "kernelspec": {
   "display_name": "Python 3 (ipykernel)",
   "language": "python",
   "name": "python3"
  },
  "language_info": {
   "codemirror_mode": {
    "name": "ipython",
    "version": 3
   },
   "file_extension": ".py",
   "mimetype": "text/x-python",
   "name": "python",
   "nbconvert_exporter": "python",
   "pygments_lexer": "ipython3",
   "version": "3.11.6"
  }
 },
 "nbformat": 4,
 "nbformat_minor": 5
}
