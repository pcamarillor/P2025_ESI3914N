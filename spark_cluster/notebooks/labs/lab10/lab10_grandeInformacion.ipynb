{
 "cells": [
  {
   "cell_type": "markdown",
   "metadata": {},
   "source": [
    "# <center> <img src=\"../labs/img/ITESOLogo.png\" alt=\"ITESO\" width=\"480\" height=\"130\"> </center>\n",
    "# <center> **Departamento de Electrónica, Sistemas e Informática** </center>\n",
    "---\n",
    "## <center> **Procesamiento de Datos Masivos** </center>\n",
    "---\n",
    "### <center> **Primavera 2025** </center>\n",
    "---\n",
    "### <center> **Ejemplos de Aprendizaje Automático (Machine Learning): Logistic Regression** </center>\n",
    "\n",
    "---\n",
    "**Profesor**: Dr. Pablo Camarillo Ramirez\n",
    "\n",
    "**Team grandeInformacion members**:\n",
    "- Miguel Alberto Torres Dueñas\n",
    "- Juan Pablo Cortez Navarro\n",
    "- Luther Williams Sandria \n",
    "- Ferdinand Bierbaum"
   ]
  },
  {
   "cell_type": "code",
   "execution_count": 1,
   "metadata": {},
   "outputs": [],
   "source": [
    "import findspark\n",
    "findspark.init()"
   ]
  },
  {
   "cell_type": "markdown",
   "metadata": {},
   "source": [
    "#### Creacion de la conexión con el cluster de spark\n"
   ]
  },
  {
   "cell_type": "code",
   "execution_count": 2,
   "metadata": {},
   "outputs": [
    {
     "name": "stderr",
     "output_type": "stream",
     "text": [
      "Setting default log level to \"WARN\".\n",
      "To adjust logging level use sc.setLogLevel(newLevel). For SparkR, use setLogLevel(newLevel).\n",
      "25/04/25 08:21:59 WARN NativeCodeLoader: Unable to load native-hadoop library for your platform... using builtin-java classes where applicable\n",
      "25/04/25 08:22:00 WARN Utils: Service 'SparkUI' could not bind on port 4040. Attempting port 4041.\n"
     ]
    }
   ],
   "source": [
    "from pyspark.sql import SparkSession\n",
    "\n",
    "spark = SparkSession.builder \\\n",
    "    .appName(\"MLSpark-Logistic-Regression\") \\\n",
    "    .master(\"spark://a92682f5ddcc:7077\") \\\n",
    "    .config(\"spark.ui.port\",\"4040\") \\\n",
    "    .getOrCreate()\n",
    "sc = spark.sparkContext\n",
    "spark.conf.set(\"spark.sql.shuffle.partitions\", \"5\")"
   ]
  },
  {
   "cell_type": "markdown",
   "metadata": {},
   "source": [
    "### Preparación de Datos"
   ]
  },
  {
   "cell_type": "code",
   "execution_count": 3,
   "metadata": {},
   "outputs": [],
   "source": [
    "\n",
    "import team_name.spark_utils\n",
    "\n",
    "# Load the data\n",
    "columns = [(\"male\",\"integer\"),\n",
    "           (\"age\",\"integer\"),\n",
    "           (\"education\",\"integer\"),\n",
    "           (\"currentSmoker\",\"integer\"),\n",
    "           (\"cigsPerDay\",\"integer\"),\n",
    "           (\"BPMeds\",\"integer\"),\n",
    "           (\"prevalentStroke\",\"integer\"),\n",
    "           (\"prevalentHyp\",\"integer\"),\n",
    "           (\"diabetes\",\"integer\"),\n",
    "           (\"totChol\",\"double\"),\n",
    "           (\"sysBP\",\"double\"),\n",
    "           (\"diaBP\",\"double\"),\n",
    "           (\"BMI\",\"double\"),\n",
    "           (\"heartRate\",\"double\"),\n",
    "           (\"glucose\",\"double\"),\n",
    "           (\"TenYearCHD\",\"integer\")]\n",
    "\n",
    "schema = team_name.spark_utils.SparkUtils.generate_schema(columns)\n",
    "\n",
    "# Create DataFrame\n",
    "data = spark \\\n",
    "                .read \\\n",
    "                .schema(schema) \\\n",
    "                .option(\"header\", \"true\") \\\n",
    "                .csv(\"/home/jovyan/notebooks/data/framingham.csv\")\n",
    "\n",
    "# If 'NA' is present in the data, replace it with None\n",
    "data = data.na.replace('NA', None)\n",
    "\n",
    "# Drop rows with any null values\n",
    "data = data.na.drop()"
   ]
  },
  {
   "cell_type": "markdown",
   "metadata": {},
   "source": [
    "### Assemble the features into a single vector column"
   ]
  },
  {
   "cell_type": "code",
   "execution_count": 4,
   "metadata": {},
   "outputs": [
    {
     "name": "stderr",
     "output_type": "stream",
     "text": [
      "25/04/25 08:22:06 WARN SparkStringUtils: Truncated the string representation of a plan since it was too large. This behavior can be adjusted by setting 'spark.sql.debug.maxToStringFields'.\n",
      "25/04/25 08:22:22 WARN TaskSchedulerImpl: Initial job has not accepted any resources; check your cluster UI to ensure that workers are registered and have sufficient resources\n",
      "25/04/25 08:22:37 WARN TaskSchedulerImpl: Initial job has not accepted any resources; check your cluster UI to ensure that workers are registered and have sufficient resources\n",
      "25/04/25 08:22:52 WARN TaskSchedulerImpl: Initial job has not accepted any resources; check your cluster UI to ensure that workers are registered and have sufficient resources\n",
      "25/04/25 08:23:07 WARN TaskSchedulerImpl: Initial job has not accepted any resources; check your cluster UI to ensure that workers are registered and have sufficient resources\n",
      "25/04/25 08:23:22 WARN TaskSchedulerImpl: Initial job has not accepted any resources; check your cluster UI to ensure that workers are registered and have sufficient resources\n",
      "[Stage 0:>                                                          (0 + 1) / 1]\r"
     ]
    },
    {
     "name": "stdout",
     "output_type": "stream",
     "text": [
      "+----------+----------------------------------------------------------------------+\n",
      "|TenYearCHD|features                                                              |\n",
      "+----------+----------------------------------------------------------------------+\n",
      "|0         |(14,[0,1,8,9,10,11,12,13],[39.0,4.0,195.0,106.0,70.0,26.97,80.0,77.0])|\n",
      "|0         |(14,[0,1,8,9,10,11,12,13],[46.0,2.0,250.0,121.0,81.0,28.73,95.0,76.0])|\n",
      "|0         |[48.0,1.0,1.0,20.0,0.0,0.0,0.0,0.0,245.0,127.5,80.0,25.34,75.0,70.0]  |\n",
      "|1         |[61.0,3.0,1.0,30.0,0.0,0.0,1.0,0.0,225.0,150.0,95.0,28.58,65.0,103.0] |\n",
      "|0         |[46.0,3.0,1.0,23.0,0.0,0.0,0.0,0.0,285.0,130.0,84.0,23.1,85.0,85.0]   |\n",
      "|0         |[43.0,2.0,0.0,0.0,0.0,0.0,1.0,0.0,228.0,180.0,110.0,30.3,77.0,99.0]   |\n",
      "|1         |(14,[0,1,8,9,10,11,12,13],[63.0,1.0,205.0,138.0,71.0,33.11,60.0,85.0])|\n",
      "|0         |[45.0,2.0,1.0,20.0,0.0,0.0,0.0,0.0,313.0,100.0,71.0,21.68,79.0,78.0]  |\n",
      "|0         |[52.0,1.0,0.0,0.0,0.0,0.0,1.0,0.0,260.0,141.5,89.0,26.36,76.0,79.0]   |\n",
      "|0         |[43.0,1.0,1.0,30.0,0.0,0.0,1.0,0.0,225.0,162.0,107.0,23.61,93.0,88.0] |\n",
      "|0         |(14,[0,1,8,9,10,11,12,13],[50.0,1.0,254.0,133.0,76.0,22.91,75.0,76.0])|\n",
      "|0         |(14,[0,1,8,9,10,11,12,13],[43.0,2.0,247.0,131.0,88.0,27.64,72.0,61.0])|\n",
      "|0         |[46.0,1.0,1.0,15.0,0.0,0.0,1.0,0.0,294.0,142.0,94.0,26.31,98.0,64.0]  |\n",
      "|0         |[41.0,3.0,0.0,0.0,1.0,0.0,1.0,0.0,332.0,124.0,88.0,31.31,65.0,84.0]   |\n",
      "|1         |[38.0,2.0,1.0,20.0,0.0,0.0,1.0,0.0,221.0,140.0,90.0,21.35,95.0,70.0]  |\n",
      "+----------+----------------------------------------------------------------------+\n",
      "only showing top 15 rows\n",
      "\n"
     ]
    },
    {
     "name": "stderr",
     "output_type": "stream",
     "text": [
      "                                                                                \r"
     ]
    }
   ],
   "source": [
    "from pyspark.ml.feature import VectorAssembler\n",
    "\n",
    "assembler = VectorAssembler(inputCols=[\"age\", \"education\", \"currentSmoker\", \"cigsPerDay\",\n",
    "                                      \"BPMeds\", \"prevalentStroke\", \"prevalentHyp\", \"diabetes\",\n",
    "                                      \"totChol\", \"sysBP\", \"diaBP\", \"BMI\", \"heartRate\", \"glucose\"],\n",
    "                            outputCol=\"features\", handleInvalid=\"skip\")\n",
    "\n",
    "data_with_features = assembler.transform(data).select(\"TenYearCHD\", \"features\")\n",
    "\n",
    "\n",
    "data_with_features.show(15, truncate=False)"
   ]
  },
  {
   "cell_type": "markdown",
   "metadata": {},
   "source": [
    "### Split the data into training and test sets 80% training data and 20% testing data"
   ]
  },
  {
   "cell_type": "code",
   "execution_count": 5,
   "metadata": {},
   "outputs": [],
   "source": [
    "train_df, test_df = data_with_features.randomSplit([0.8, 0.2], seed=13)"
   ]
  },
  {
   "cell_type": "markdown",
   "metadata": {},
   "source": [
    "### Show the whole dataset"
   ]
  },
  {
   "cell_type": "code",
   "execution_count": 6,
   "metadata": {},
   "outputs": [
    {
     "name": "stdout",
     "output_type": "stream",
     "text": [
      "Original Dataset\n"
     ]
    },
    {
     "name": "stderr",
     "output_type": "stream",
     "text": [
      "                                                                                \r"
     ]
    },
    {
     "name": "stdout",
     "output_type": "stream",
     "text": [
      "+----------+----------------------------------------------------------------------+\n",
      "|TenYearCHD|features                                                              |\n",
      "+----------+----------------------------------------------------------------------+\n",
      "|0         |(14,[0,1,8,9,10,11,12,13],[39.0,4.0,195.0,106.0,70.0,26.97,80.0,77.0])|\n",
      "|0         |(14,[0,1,8,9,10,11,12,13],[46.0,2.0,250.0,121.0,81.0,28.73,95.0,76.0])|\n",
      "|0         |[48.0,1.0,1.0,20.0,0.0,0.0,0.0,0.0,245.0,127.5,80.0,25.34,75.0,70.0]  |\n",
      "|1         |[61.0,3.0,1.0,30.0,0.0,0.0,1.0,0.0,225.0,150.0,95.0,28.58,65.0,103.0] |\n",
      "|0         |[46.0,3.0,1.0,23.0,0.0,0.0,0.0,0.0,285.0,130.0,84.0,23.1,85.0,85.0]   |\n",
      "+----------+----------------------------------------------------------------------+\n",
      "only showing top 5 rows\n",
      "\n",
      "train set\n",
      "+----------+-----------------------------------------------------------------------+\n",
      "|TenYearCHD|features                                                               |\n",
      "+----------+-----------------------------------------------------------------------+\n",
      "|0         |(14,[0,1,8,9,10,11,12,13],[33.0,1.0,158.0,108.0,67.0,19.84,86.0,69.0]) |\n",
      "|0         |(14,[0,1,8,9,10,11,12,13],[34.0,2.0,170.0,121.0,74.0,20.82,67.0,83.0]) |\n",
      "|0         |(14,[0,1,8,9,10,11,12,13],[34.0,2.0,189.0,108.0,66.0,20.81,78.0,88.0]) |\n",
      "|0         |(14,[0,1,8,9,10,11,12,13],[34.0,2.0,226.0,112.5,77.5,24.99,100.0,72.0])|\n",
      "|0         |(14,[0,1,8,9,10,11,12,13],[34.0,3.0,227.0,102.0,68.0,24.96,80.0,75.0]) |\n",
      "+----------+-----------------------------------------------------------------------+\n",
      "only showing top 5 rows\n",
      "\n"
     ]
    },
    {
     "name": "stderr",
     "output_type": "stream",
     "text": [
      "                                                                                \r"
     ]
    }
   ],
   "source": [
    "print(\"Original Dataset\")\n",
    "data_with_features.show(truncate=False, n=5)\n",
    "\n",
    "# Print train dataset\n",
    "print(\"train set\")\n",
    "train_df.show(truncate=False, n=5)"
   ]
  },
  {
   "cell_type": "markdown",
   "metadata": {},
   "source": [
    "### Create a logistic regression model"
   ]
  },
  {
   "cell_type": "code",
   "execution_count": 7,
   "metadata": {},
   "outputs": [],
   "source": [
    "from pyspark.ml.classification import LogisticRegression\n",
    "lr = LogisticRegression(maxIter=100, regParam=0.01, featuresCol=\"features\", labelCol=\"TenYearCHD\")"
   ]
  },
  {
   "cell_type": "markdown",
   "metadata": {},
   "source": [
    "# TRAINNING"
   ]
  },
  {
   "cell_type": "code",
   "execution_count": 8,
   "metadata": {},
   "outputs": [
    {
     "name": "stderr",
     "output_type": "stream",
     "text": [
      "25/04/25 08:23:47 WARN InstanceBuilder: Failed to load implementation from:dev.ludovic.netlib.blas.JNIBLAS\n",
      "25/04/25 08:23:47 WARN InstanceBuilder: Failed to load implementation from:dev.ludovic.netlib.blas.VectorBLAS\n"
     ]
    },
    {
     "name": "stdout",
     "output_type": "stream",
     "text": [
      "Coefficients: [0.05907035932929528,-0.04815961064690652,0.16561087327641522,0.019049498884948744,0.09755746473120887,0.6877427350809565,0.322764993843067,0.34317101890846613,0.0013385001294625666,0.010282313750778765,-0.0012083272582368541,0.015446583629678125,-0.004334149025324942,0.005879810098869941]\n"
     ]
    }
   ],
   "source": [
    "lr_model = lr.fit(train_df)\n",
    "\n",
    "# Print coefficients\n",
    "print(\"Coefficients: \" + str(lr_model.coefficients))\n",
    "\n",
    "# Display model summary\n",
    "training_summary = lr_model.summary"
   ]
  },
  {
   "cell_type": "markdown",
   "metadata": {},
   "source": [
    "# PREDICTIONS"
   ]
  },
  {
   "cell_type": "code",
   "execution_count": 9,
   "metadata": {},
   "outputs": [
    {
     "name": "stdout",
     "output_type": "stream",
     "text": [
      "+-----------------------------------------------------------------------+----------+-----------------------------------------+\n",
      "|features                                                               |prediction|probability                              |\n",
      "+-----------------------------------------------------------------------+----------+-----------------------------------------+\n",
      "|(14,[0,1,8,9,10,11,12,13],[33.0,4.0,165.0,136.0,75.0,24.95,88.0,90.0]) |0.0       |[0.9682176683366963,0.03178233166330369] |\n",
      "|(14,[0,1,8,9,10,11,12,13],[34.0,3.0,196.0,108.5,68.0,25.67,60.0,82.0]) |0.0       |[0.9694299969145499,0.030570003085450104]|\n",
      "|(14,[0,1,8,9,10,11,12,13],[35.0,2.0,175.0,121.5,74.5,20.86,92.0,93.0]) |0.0       |[0.9677065521510602,0.03229344784893984] |\n",
      "|(14,[0,1,8,9,10,11,12,13],[36.0,1.0,200.0,108.0,62.0,20.79,75.0,69.0]) |0.0       |[0.969278682609449,0.03072131739055095]  |\n",
      "|(14,[0,1,8,9,10,11,12,13],[36.0,1.0,200.0,112.0,76.0,26.03,75.0,62.0]) |0.0       |[0.9673147894804681,0.03268521051953188] |\n",
      "|(14,[0,1,8,9,10,11,12,13],[36.0,1.0,233.0,128.0,86.5,35.31,83.0,76.0]) |0.0       |[0.9526018008416319,0.04739819915836807] |\n",
      "|(14,[0,1,8,9,10,11,12,13],[36.0,2.0,163.0,111.0,73.0,30.18,70.0,90.0]) |0.0       |[0.9623677034797041,0.03763229652029587] |\n",
      "|(14,[0,1,8,9,10,11,12,13],[36.0,2.0,197.0,115.0,65.0,20.42,68.0,77.0]) |0.0       |[0.966552448743968,0.03344755125603205]  |\n",
      "|(14,[0,1,8,9,10,11,12,13],[36.0,3.0,180.0,111.0,73.0,27.78,71.0,80.0]) |0.0       |[0.9666617460874988,0.033338253912501226]|\n",
      "|(14,[0,1,8,9,10,11,12,13],[37.0,1.0,181.0,120.5,80.0,26.29,71.0,67.0]) |0.0       |[0.961603810500529,0.03839618949947099]  |\n",
      "|(14,[0,1,8,9,10,11,12,13],[37.0,3.0,238.0,121.0,80.0,28.95,70.0,67.0]) |0.0       |[0.960460238510938,0.03953976148906202]  |\n",
      "|(14,[0,1,8,9,10,11,12,13],[37.0,3.0,257.0,105.0,70.0,31.47,75.0,80.0]) |0.0       |[0.9617060111395489,0.0382939888604511]  |\n",
      "|(14,[0,1,8,9,10,11,12,13],[37.0,4.0,166.0,128.5,83.0,26.81,58.0,108.0])|0.0       |[0.9526246419212617,0.04737535807873827] |\n",
      "|(14,[0,1,8,9,10,11,12,13],[38.0,1.0,184.0,102.0,73.0,25.69,86.0,78.0]) |0.0       |[0.9660696235447935,0.03393037645520647] |\n",
      "|(14,[0,1,8,9,10,11,12,13],[38.0,1.0,319.0,121.0,86.0,29.77,72.0,77.0]) |0.0       |[0.9463815032022234,0.05361849679777664] |\n",
      "|(14,[0,1,8,9,10,11,12,13],[38.0,2.0,209.0,137.0,82.5,26.69,62.0,84.0]) |0.0       |[0.945857652731133,0.05414234726886702]  |\n",
      "|(14,[0,1,8,9,10,11,12,13],[38.0,2.0,215.0,106.5,75.0,23.82,60.0,67.0]) |0.0       |[0.9641745125906219,0.035825487409378076]|\n",
      "|(14,[0,1,8,9,10,11,12,13],[38.0,3.0,159.0,108.0,72.0,27.68,70.0,84.0]) |0.0       |[0.9637516858538623,0.03624831414613772] |\n",
      "|(14,[0,1,8,9,10,11,12,13],[38.0,4.0,220.0,107.0,73.5,23.09,61.0,80.0]) |0.0       |[0.9649215027739574,0.035078497226042615]|\n",
      "|(14,[0,1,8,9,10,11,12,13],[38.0,4.0,240.0,122.5,80.0,23.97,60.0,43.0]) |0.0       |[0.9656365001095213,0.03436349989047871] |\n",
      "+-----------------------------------------------------------------------+----------+-----------------------------------------+\n",
      "only showing top 20 rows\n",
      "\n"
     ]
    },
    {
     "name": "stderr",
     "output_type": "stream",
     "text": [
      "[Stage 25:>                                                         (0 + 1) / 1]\r"
     ]
    },
    {
     "name": "stdout",
     "output_type": "stream",
     "text": [
      "+-----------------------------------------------------------------------+----------+\n",
      "|features                                                               |TenYearCHD|\n",
      "+-----------------------------------------------------------------------+----------+\n",
      "|(14,[0,1,8,9,10,11,12,13],[33.0,4.0,165.0,136.0,75.0,24.95,88.0,90.0]) |0         |\n",
      "|(14,[0,1,8,9,10,11,12,13],[34.0,3.0,196.0,108.5,68.0,25.67,60.0,82.0]) |0         |\n",
      "|(14,[0,1,8,9,10,11,12,13],[35.0,2.0,175.0,121.5,74.5,20.86,92.0,93.0]) |0         |\n",
      "|(14,[0,1,8,9,10,11,12,13],[36.0,1.0,200.0,108.0,62.0,20.79,75.0,69.0]) |0         |\n",
      "|(14,[0,1,8,9,10,11,12,13],[36.0,1.0,200.0,112.0,76.0,26.03,75.0,62.0]) |0         |\n",
      "|(14,[0,1,8,9,10,11,12,13],[36.0,1.0,233.0,128.0,86.5,35.31,83.0,76.0]) |0         |\n",
      "|(14,[0,1,8,9,10,11,12,13],[36.0,2.0,163.0,111.0,73.0,30.18,70.0,90.0]) |0         |\n",
      "|(14,[0,1,8,9,10,11,12,13],[36.0,2.0,197.0,115.0,65.0,20.42,68.0,77.0]) |0         |\n",
      "|(14,[0,1,8,9,10,11,12,13],[36.0,3.0,180.0,111.0,73.0,27.78,71.0,80.0]) |0         |\n",
      "|(14,[0,1,8,9,10,11,12,13],[37.0,1.0,181.0,120.5,80.0,26.29,71.0,67.0]) |0         |\n",
      "|(14,[0,1,8,9,10,11,12,13],[37.0,3.0,238.0,121.0,80.0,28.95,70.0,67.0]) |0         |\n",
      "|(14,[0,1,8,9,10,11,12,13],[37.0,3.0,257.0,105.0,70.0,31.47,75.0,80.0]) |0         |\n",
      "|(14,[0,1,8,9,10,11,12,13],[37.0,4.0,166.0,128.5,83.0,26.81,58.0,108.0])|0         |\n",
      "|(14,[0,1,8,9,10,11,12,13],[38.0,1.0,184.0,102.0,73.0,25.69,86.0,78.0]) |0         |\n",
      "|(14,[0,1,8,9,10,11,12,13],[38.0,1.0,319.0,121.0,86.0,29.77,72.0,77.0]) |0         |\n",
      "|(14,[0,1,8,9,10,11,12,13],[38.0,2.0,209.0,137.0,82.5,26.69,62.0,84.0]) |0         |\n",
      "|(14,[0,1,8,9,10,11,12,13],[38.0,2.0,215.0,106.5,75.0,23.82,60.0,67.0]) |0         |\n",
      "|(14,[0,1,8,9,10,11,12,13],[38.0,3.0,159.0,108.0,72.0,27.68,70.0,84.0]) |0         |\n",
      "|(14,[0,1,8,9,10,11,12,13],[38.0,4.0,220.0,107.0,73.5,23.09,61.0,80.0]) |0         |\n",
      "|(14,[0,1,8,9,10,11,12,13],[38.0,4.0,240.0,122.5,80.0,23.97,60.0,43.0]) |0         |\n",
      "+-----------------------------------------------------------------------+----------+\n",
      "only showing top 20 rows\n",
      "\n"
     ]
    },
    {
     "name": "stderr",
     "output_type": "stream",
     "text": [
      "                                                                                \r"
     ]
    }
   ],
   "source": [
    "# Use the trained model to make predictions on the test data\n",
    "predictions = lr_model.transform(test_df)\n",
    "\n",
    "# Show predictions\n",
    "predictions.select(\"features\", \"prediction\", \"probability\").show(truncate=False)\n",
    "\n",
    "# Show real values\n",
    "predictions.select(\"features\", \"TenYearCHD\").show(truncate=False)\n"
   ]
  },
  {
   "cell_type": "code",
   "execution_count": 10,
   "metadata": {},
   "outputs": [
    {
     "name": "stderr",
     "output_type": "stream",
     "text": [
      "                                                                                \r"
     ]
    },
    {
     "name": "stdout",
     "output_type": "stream",
     "text": [
      "+----------------------------------------------------------------------+----------+----------+\n",
      "|features                                                              |TenYearCHD|prediction|\n",
      "+----------------------------------------------------------------------+----------+----------+\n",
      "|[50.0,1.0,0.0,0.0,0.0,0.0,1.0,1.0,260.0,190.0,130.0,43.67,85.0,260.0] |0         |1.0       |\n",
      "|[54.0,1.0,0.0,0.0,0.0,0.0,1.0,1.0,326.0,187.0,95.0,29.94,67.0,235.0]  |0         |1.0       |\n",
      "|[65.0,1.0,1.0,9.0,0.0,0.0,1.0,1.0,271.0,144.5,88.0,32.41,82.0,116.0]  |0         |1.0       |\n",
      "|[52.0,1.0,0.0,0.0,0.0,0.0,1.0,1.0,258.0,177.0,111.0,30.38,80.0,270.0] |1         |1.0       |\n",
      "|[57.0,1.0,1.0,43.0,0.0,0.0,1.0,0.0,283.0,207.5,118.0,38.61,100.0,83.0]|1         |1.0       |\n",
      "|[59.0,1.0,1.0,3.0,0.0,0.0,1.0,1.0,230.0,182.0,102.0,25.91,66.0,147.0] |1         |1.0       |\n",
      "|[62.0,2.0,0.0,0.0,1.0,0.0,1.0,0.0,298.0,248.0,130.0,37.1,96.0,77.0]   |1         |1.0       |\n",
      "|[64.0,1.0,0.0,0.0,0.0,0.0,1.0,0.0,253.0,295.0,135.0,38.82,92.0,70.0]  |1         |1.0       |\n",
      "+----------------------------------------------------------------------+----------+----------+\n",
      "\n",
      "+-----------------------------------------------------------------------+----------+----------+\n",
      "|features                                                               |TenYearCHD|prediction|\n",
      "+-----------------------------------------------------------------------+----------+----------+\n",
      "|(14,[0,1,8,9,10,11,12,13],[33.0,4.0,165.0,136.0,75.0,24.95,88.0,90.0]) |0         |0.0       |\n",
      "|(14,[0,1,8,9,10,11,12,13],[34.0,3.0,196.0,108.5,68.0,25.67,60.0,82.0]) |0         |0.0       |\n",
      "|(14,[0,1,8,9,10,11,12,13],[35.0,2.0,175.0,121.5,74.5,20.86,92.0,93.0]) |0         |0.0       |\n",
      "|(14,[0,1,8,9,10,11,12,13],[36.0,1.0,200.0,108.0,62.0,20.79,75.0,69.0]) |0         |0.0       |\n",
      "|(14,[0,1,8,9,10,11,12,13],[36.0,1.0,200.0,112.0,76.0,26.03,75.0,62.0]) |0         |0.0       |\n",
      "|(14,[0,1,8,9,10,11,12,13],[36.0,1.0,233.0,128.0,86.5,35.31,83.0,76.0]) |0         |0.0       |\n",
      "|(14,[0,1,8,9,10,11,12,13],[36.0,2.0,163.0,111.0,73.0,30.18,70.0,90.0]) |0         |0.0       |\n",
      "|(14,[0,1,8,9,10,11,12,13],[36.0,2.0,197.0,115.0,65.0,20.42,68.0,77.0]) |0         |0.0       |\n",
      "|(14,[0,1,8,9,10,11,12,13],[36.0,3.0,180.0,111.0,73.0,27.78,71.0,80.0]) |0         |0.0       |\n",
      "|(14,[0,1,8,9,10,11,12,13],[37.0,1.0,181.0,120.5,80.0,26.29,71.0,67.0]) |0         |0.0       |\n",
      "|(14,[0,1,8,9,10,11,12,13],[37.0,3.0,238.0,121.0,80.0,28.95,70.0,67.0]) |0         |0.0       |\n",
      "|(14,[0,1,8,9,10,11,12,13],[37.0,3.0,257.0,105.0,70.0,31.47,75.0,80.0]) |0         |0.0       |\n",
      "|(14,[0,1,8,9,10,11,12,13],[37.0,4.0,166.0,128.5,83.0,26.81,58.0,108.0])|0         |0.0       |\n",
      "|(14,[0,1,8,9,10,11,12,13],[38.0,1.0,184.0,102.0,73.0,25.69,86.0,78.0]) |0         |0.0       |\n",
      "|(14,[0,1,8,9,10,11,12,13],[38.0,1.0,319.0,121.0,86.0,29.77,72.0,77.0]) |0         |0.0       |\n",
      "|(14,[0,1,8,9,10,11,12,13],[38.0,2.0,209.0,137.0,82.5,26.69,62.0,84.0]) |0         |0.0       |\n",
      "|(14,[0,1,8,9,10,11,12,13],[38.0,2.0,215.0,106.5,75.0,23.82,60.0,67.0]) |0         |0.0       |\n",
      "|(14,[0,1,8,9,10,11,12,13],[38.0,3.0,159.0,108.0,72.0,27.68,70.0,84.0]) |0         |0.0       |\n",
      "|(14,[0,1,8,9,10,11,12,13],[38.0,4.0,220.0,107.0,73.5,23.09,61.0,80.0]) |0         |0.0       |\n",
      "|(14,[0,1,8,9,10,11,12,13],[38.0,4.0,240.0,122.5,80.0,23.97,60.0,43.0]) |0         |0.0       |\n",
      "+-----------------------------------------------------------------------+----------+----------+\n",
      "only showing top 20 rows\n",
      "\n"
     ]
    }
   ],
   "source": [
    "# Show predictions and real values where prediction is 1\n",
    "predictions.filter(predictions.prediction == 1).select(\"features\", \"TenYearCHD\", \"prediction\").show(truncate=False)\n",
    "\n",
    "# Show predictions and real values where prediction is 0\n",
    "predictions.filter(predictions.prediction == 0).select(\"features\", \"TenYearCHD\", \"prediction\").show(truncate=False)\n"
   ]
  },
  {
   "cell_type": "code",
   "execution_count": 11,
   "metadata": {},
   "outputs": [
    {
     "name": "stderr",
     "output_type": "stream",
     "text": [
      "                                                                                \r"
     ]
    },
    {
     "name": "stdout",
     "output_type": "stream",
     "text": [
      "Model accuracy: 86.24%\n"
     ]
    }
   ],
   "source": [
    "# Show model accuracy\n",
    "accuracy = predictions.filter(predictions.TenYearCHD == predictions.prediction).count() / predictions.count()\n",
    "print(f\"Model accuracy: {accuracy:.2%}\")"
   ]
  },
  {
   "cell_type": "code",
   "execution_count": 12,
   "metadata": {},
   "outputs": [],
   "source": [
    "sc.stop()"
   ]
  }
 ],
 "metadata": {
  "kernelspec": {
   "display_name": "Python 3 (ipykernel)",
   "language": "python",
   "name": "python3"
  },
  "language_info": {
   "codemirror_mode": {
    "name": "ipython",
    "version": 3
   },
   "file_extension": ".py",
   "mimetype": "text/x-python",
   "name": "python",
   "nbconvert_exporter": "python",
   "pygments_lexer": "ipython3",
   "version": "3.11.6"
  }
 },
 "nbformat": 4,
 "nbformat_minor": 2
}
