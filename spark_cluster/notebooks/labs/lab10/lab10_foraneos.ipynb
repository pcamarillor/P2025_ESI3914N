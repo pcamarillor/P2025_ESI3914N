{
 "cells": [
  {
   "cell_type": "markdown",
   "metadata": {},
   "source": [
    "# <center> <img src=\"../labs/img/ITESOLogo.png\" alt=\"ITESO\" width=\"480\" height=\"130\"> </center>\n",
    "# <center> **Departamento de Electrónica, Sistemas e Informática** </center>\n",
    "---\n",
    "## <center> **Procesamiento de Datos Masivos** </center>\n",
    "---\n",
    "### <center> **Primavera 2025** </center>\n",
    "---\n",
    "### <center> **Lab10 Grupo Foraneos - Ejemplo de Machine Learning with Heart Attack Dataset** </center>\n",
    "\n",
    "---\n",
    "**Profesor**: Dr. Pablo Camarillo Ramirez"
   ]
  },
  {
   "cell_type": "code",
   "execution_count": 1,
   "metadata": {},
   "outputs": [],
   "source": [
    "import findspark\n",
    "findspark.init()"
   ]
  },
  {
   "cell_type": "markdown",
   "metadata": {},
   "source": [
    "#### Creacion de la conexión con el cluster de spark\n"
   ]
  },
  {
   "cell_type": "code",
   "execution_count": 2,
   "metadata": {},
   "outputs": [
    {
     "name": "stderr",
     "output_type": "stream",
     "text": [
      "Setting default log level to \"WARN\".\n",
      "To adjust logging level use sc.setLogLevel(newLevel). For SparkR, use setLogLevel(newLevel).\n",
      "25/04/24 04:11:55 WARN NativeCodeLoader: Unable to load native-hadoop library for your platform... using builtin-java classes where applicable\n"
     ]
    }
   ],
   "source": [
    "from pyspark.sql import SparkSession\n",
    "\n",
    "spark = SparkSession.builder \\\n",
    "    .appName(\"lab10_foraneos_Heart_Attacks\") \\\n",
    "    .master(\"spark://0638c7435d1d:7077\") \\\n",
    "    .config(\"spark.ui.port\",\"4040\") \\\n",
    "    .getOrCreate()\n",
    "sc = spark.sparkContext\n",
    "spark.conf.set(\"spark.sql.shuffle.partitions\", \"5\")"
   ]
  },
  {
   "cell_type": "markdown",
   "metadata": {},
   "source": [
    "### Preparación de Datos"
   ]
  },
  {
   "cell_type": "code",
   "execution_count": 3,
   "metadata": {},
   "outputs": [],
   "source": [
    "from foraneos.spark_utils import SparkUtils\n",
    "# Create a small dataset as a list of tuples\n",
    "# Format: (label, feature_x1, feature_x2)\n",
    "\n",
    "# Define schema for the DataFrame\n",
    "schema = SparkUtils.generate_schema([(\"male\", \"float\"),(\"age\", \"float\"),(\"education\", \"float\"),(\"currentSmoker\", \"float\"),(\"cigsPerDay\", \"float\"),\\\n",
    "                                    (\"BPMeds\", \"float\"),(\"prevalentStroke\", \"float\"),(\"prevalentHyp\", \"float\"), (\"diabetes\", \"float\"),\\\n",
    "                                    (\"totChol\", \"float\"),(\"sysBP\", \"float\"),(\"diaBP\", \"float\"),(\"BMI\", \"float\"),(\"heartRate\", \"float\"),\\\n",
    "                                    (\"glucose\", \"float\"),(\"label\", \"float\")])\n"
   ]
  },
  {
   "cell_type": "code",
   "execution_count": 4,
   "metadata": {},
   "outputs": [],
   "source": [
    "# Create DataFrame\n",
    "df = spark \\\n",
    "                .read \\\n",
    "                .schema(schema) \\\n",
    "                .option(\"header\", \"true\") \\\n",
    "                .option(\"mode\", \"dropMalformed\")\\\n",
    "                .csv(\"/home/jovyan/notebooks/data/heart_disease_dataset/framingham.csv\")\n",
    "                "
   ]
  },
  {
   "cell_type": "markdown",
   "metadata": {},
   "source": [
    "### Assemble the features into a single vector column"
   ]
  },
  {
   "cell_type": "code",
   "execution_count": 5,
   "metadata": {},
   "outputs": [],
   "source": [
    "from pyspark.ml.feature import VectorAssembler\n",
    "\n",
    "assembler = VectorAssembler(inputCols=[\"male\",\"age\",\"education\",\"currentSmoker\",\"cigsPerDay\",\"BPMeds\"\\\n",
    "                                      ,\"prevalentStroke\",\"prevalentHyp\",\"diabetes\",\"totChol\"\\\n",
    "                                      ,\"sysBP\",\"diaBP\",\"BMI\",\"heartRate\",\"glucose\"], outputCol=\"features\")\n",
    "\n",
    "data_with_features = assembler.transform(df).select(\"label\", \"features\")"
   ]
  },
  {
   "cell_type": "markdown",
   "metadata": {},
   "source": [
    "### Split the data into training and test sets 80% training data and 20% testing data"
   ]
  },
  {
   "cell_type": "code",
   "execution_count": 6,
   "metadata": {},
   "outputs": [],
   "source": [
    "train_df, test_df = data_with_features.randomSplit([0.8, 0.2], seed=57)"
   ]
  },
  {
   "cell_type": "markdown",
   "metadata": {},
   "source": [
    "### Show the whole dataset"
   ]
  },
  {
   "cell_type": "code",
   "execution_count": 7,
   "metadata": {},
   "outputs": [
    {
     "name": "stdout",
     "output_type": "stream",
     "text": [
      "Original Dataset\n"
     ]
    },
    {
     "name": "stderr",
     "output_type": "stream",
     "text": [
      "25/04/24 04:12:09 WARN SparkStringUtils: Truncated the string representation of a plan since it was too large. This behavior can be adjusted by setting 'spark.sql.debug.maxToStringFields'.\n",
      "                                                                                \r"
     ]
    },
    {
     "name": "stdout",
     "output_type": "stream",
     "text": [
      "+-----+--------------------+\n",
      "|label|            features|\n",
      "+-----+--------------------+\n",
      "|  0.0|[1.0,39.0,4.0,0.0...|\n",
      "|  0.0|(15,[1,2,9,10,11,...|\n",
      "|  0.0|[1.0,48.0,1.0,1.0...|\n",
      "|  1.0|[0.0,61.0,3.0,1.0...|\n",
      "|  0.0|[0.0,46.0,3.0,1.0...|\n",
      "+-----+--------------------+\n",
      "only showing top 5 rows\n",
      "\n",
      "train set\n"
     ]
    },
    {
     "name": "stderr",
     "output_type": "stream",
     "text": [
      "[Stage 1:>                                                          (0 + 1) / 1]\r"
     ]
    },
    {
     "name": "stdout",
     "output_type": "stream",
     "text": [
      "+-----+--------------------+\n",
      "|label|            features|\n",
      "+-----+--------------------+\n",
      "|  0.0|(15,[1,2,9,10,11,...|\n",
      "|  0.0|(15,[1,2,9,10,11,...|\n",
      "|  0.0|(15,[1,2,9,10,11,...|\n",
      "|  0.0|(15,[1,2,9,10,11,...|\n",
      "|  0.0|(15,[1,2,9,10,11,...|\n",
      "+-----+--------------------+\n",
      "only showing top 5 rows\n",
      "\n"
     ]
    },
    {
     "name": "stderr",
     "output_type": "stream",
     "text": [
      "                                                                                \r"
     ]
    }
   ],
   "source": [
    "print(\"Original Dataset\")\n",
    "data_with_features.show(5)\n",
    "\n",
    "# Print train dataset\n",
    "print(\"train set\")\n",
    "train_df.show(5)"
   ]
  },
  {
   "cell_type": "markdown",
   "metadata": {},
   "source": [
    "### Create a logistic regression model"
   ]
  },
  {
   "cell_type": "code",
   "execution_count": 8,
   "metadata": {},
   "outputs": [],
   "source": [
    "from pyspark.ml.classification import LogisticRegression\n",
    "lr = LogisticRegression(maxIter=100, regParam=0.01)\n"
   ]
  },
  {
   "cell_type": "markdown",
   "metadata": {},
   "source": [
    "# TRAINNING"
   ]
  },
  {
   "cell_type": "code",
   "execution_count": 9,
   "metadata": {},
   "outputs": [
    {
     "name": "stderr",
     "output_type": "stream",
     "text": [
      "25/04/24 04:12:27 WARN InstanceBuilder: Failed to load implementation from:dev.ludovic.netlib.blas.JNIBLAS\n",
      "25/04/24 04:12:27 WARN InstanceBuilder: Failed to load implementation from:dev.ludovic.netlib.blas.VectorBLAS\n"
     ]
    },
    {
     "name": "stdout",
     "output_type": "stream",
     "text": [
      "Coefficients: [0.5608404873684583,0.05802837616043308,-0.038562598508306775,0.08503806682220667,0.013656021187291341,0.20835251289475304,0.6024765564909464,0.23142105145408695,0.15477113002466175,0.0018859659559791388,0.01343412459820667,0.00040377612585452315,0.006021704430583728,-0.0016371097819261652,0.007161938013114953]\n"
     ]
    }
   ],
   "source": [
    "lr_model = lr.fit(train_df)\n",
    "\n",
    "# Print coefficients\n",
    "print(\"Coefficients: \" + str(lr_model.coefficients))\n",
    "\n",
    "# Display model summary\n",
    "training_summary = lr_model.summary"
   ]
  },
  {
   "cell_type": "markdown",
   "metadata": {},
   "source": [
    "# PREDICTIONS"
   ]
  },
  {
   "cell_type": "code",
   "execution_count": 10,
   "metadata": {},
   "outputs": [
    {
     "name": "stdout",
     "output_type": "stream",
     "text": [
      "+--------------------+----------+-----+--------------------+\n",
      "|            features|prediction|label|         probability|\n",
      "+--------------------+----------+-----+--------------------+\n",
      "|(15,[1,2,9,10,11,...|       0.0|  0.0|[0.97710645470327...|\n",
      "|(15,[1,2,9,10,11,...|       0.0|  0.0|[0.97115258375690...|\n",
      "|(15,[1,2,9,10,11,...|       0.0|  0.0|[0.96822287680679...|\n",
      "|(15,[1,2,9,10,11,...|       0.0|  0.0|[0.98006475236131...|\n",
      "|(15,[1,2,9,10,11,...|       0.0|  0.0|[0.95370744128282...|\n",
      "|(15,[1,2,9,10,11,...|       0.0|  0.0|[0.96838754086303...|\n",
      "|(15,[1,2,9,10,11,...|       0.0|  0.0|[0.97361947558994...|\n",
      "|(15,[1,2,9,10,11,...|       0.0|  0.0|[0.96999612145446...|\n",
      "|(15,[1,2,9,10,11,...|       0.0|  0.0|[0.95454761603023...|\n",
      "|(15,[1,2,9,10,11,...|       0.0|  0.0|[0.96424059345689...|\n",
      "|(15,[1,2,9,10,11,...|       0.0|  0.0|[0.97588594262403...|\n",
      "|(15,[1,2,9,10,11,...|       0.0|  0.0|[0.95086485263690...|\n",
      "|(15,[1,2,9,10,11,...|       0.0|  0.0|[0.96010573057048...|\n",
      "|(15,[1,2,9,10,11,...|       0.0|  0.0|[0.96504946097391...|\n",
      "|(15,[1,2,9,10,11,...|       0.0|  0.0|[0.97350542054764...|\n",
      "|(15,[1,2,9,10,11,...|       0.0|  0.0|[0.95056177336927...|\n",
      "|(15,[1,2,9,10,11,...|       0.0|  0.0|[0.97106407448806...|\n",
      "|(15,[1,2,9,10,11,...|       0.0|  0.0|[0.97209007079536...|\n",
      "|(15,[1,2,9,10,11,...|       0.0|  0.0|[0.96987211723427...|\n",
      "|(15,[1,2,9,10,11,...|       0.0|  0.0|[0.96100540306010...|\n",
      "+--------------------+----------+-----+--------------------+\n",
      "only showing top 20 rows\n",
      "\n"
     ]
    }
   ],
   "source": [
    "\n",
    "# Use the trained model to make predictions on the test data\n",
    "predictions = lr_model.transform(test_df)\n",
    "\n",
    "# Show predictions\n",
    "predictions.select(\"features\", \"prediction\", \"label\",\"probability\").show()"
   ]
  },
  {
   "cell_type": "code",
   "execution_count": 11,
   "metadata": {},
   "outputs": [],
   "source": [
    "sc.stop()"
   ]
  }
 ],
 "metadata": {
  "kernelspec": {
   "display_name": "Python 3 (ipykernel)",
   "language": "python",
   "name": "python3"
  },
  "language_info": {
   "codemirror_mode": {
    "name": "ipython",
    "version": 3
   },
   "file_extension": ".py",
   "mimetype": "text/x-python",
   "name": "python",
   "nbconvert_exporter": "python",
   "pygments_lexer": "ipython3",
   "version": "3.11.6"
  }
 },
 "nbformat": 4,
 "nbformat_minor": 2
}
