{
 "cells": [
  {
   "cell_type": "markdown",
   "metadata": {},
   "source": [
    "# <center> <img src=\"../labs/img/ITESOLogo.png\" alt=\"ITESO\" width=\"480\" height=\"130\"> </center>\n",
    "# <center> **Departamento de Electrónica, Sistemas e Informática** </center>\n",
    "---\n",
    "## <center> **Procesamiento de Datos Masivos** </center>\n",
    "---\n",
    "### <center> **Primavera 2025** </center>\n",
    "---\n",
    "### <center> **Ejemplos de Aprendizaje Automático (Machine Learning): K-means** </center>\n",
    "\n",
    "---\n",
    "**Profesor**: Dr. Pablo Camarillo Ramirez"
   ]
  },
  {
   "cell_type": "code",
   "execution_count": 1,
   "metadata": {},
   "outputs": [],
   "source": [
    "import findspark\n",
    "findspark.init()"
   ]
  },
  {
   "cell_type": "markdown",
   "metadata": {},
   "source": [
    "#### Creacion de la conexión con el cluster de spark\n"
   ]
  },
  {
   "cell_type": "code",
   "execution_count": 2,
   "metadata": {},
   "outputs": [
    {
     "name": "stderr",
     "output_type": "stream",
     "text": [
      "Setting default log level to \"WARN\".\n",
      "To adjust logging level use sc.setLogLevel(newLevel). For SparkR, use setLogLevel(newLevel).\n",
      "25/05/04 04:21:20 WARN NativeCodeLoader: Unable to load native-hadoop library for your platform... using builtin-java classes where applicable\n"
     ]
    }
   ],
   "source": [
    "from pyspark.sql import SparkSession\n",
    "\n",
    "spark = SparkSession.builder \\\n",
    "    .appName(\"MLSpark-K-means\") \\\n",
    "    .master(\"spark://f5db43ce3d38:7077\") \\\n",
    "    .config(\"spark.ui.port\",\"4040\") \\\n",
    "    .getOrCreate()\n",
    "sc = spark.sparkContext\n",
    "spark.conf.set(\"spark.sql.shuffle.partitions\", \"5\")"
   ]
  },
  {
   "cell_type": "markdown",
   "metadata": {},
   "source": [
    "# Preparación de Datos"
   ]
  },
  {
   "cell_type": "code",
   "execution_count": 7,
   "metadata": {},
   "outputs": [
    {
     "name": "stderr",
     "output_type": "stream",
     "text": [
      "                                                                                \r"
     ]
    },
    {
     "name": "stdout",
     "output_type": "stream",
     "text": [
      "+-------+----------+----+------------+---------+-------------+----------+--------------------+---------------+---------------+----+-----+-------+\n",
      "|Alcohol|Malic_Acid| Ash|Ash_Alcanity|Magnesium|Total_Phenols|Flavanoids|Nonflavanoid_Phenols|Proanthocyanins|Color_Intensity| Hue|OD280|Proline|\n",
      "+-------+----------+----+------------+---------+-------------+----------+--------------------+---------------+---------------+----+-----+-------+\n",
      "|  14.23|      1.71|2.43|        15.6|      127|          2.8|      3.06|                0.28|           2.29|           5.64|1.04| 3.92|   1065|\n",
      "|   13.2|      1.78|2.14|        11.2|      100|         2.65|      2.76|                0.26|           1.28|           4.38|1.05|  3.4|   1050|\n",
      "|  13.16|      2.36|2.67|        18.6|      101|          2.8|      3.24|                 0.3|           2.81|           5.68|1.03| 3.17|   1185|\n",
      "|  14.37|      1.95| 2.5|        16.8|      113|         3.85|      3.49|                0.24|           2.18|            7.8|0.86| 3.45|   1480|\n",
      "|  13.24|      2.59|2.87|        21.0|      118|          2.8|      2.69|                0.39|           1.82|           4.32|1.04| 2.93|    735|\n",
      "+-------+----------+----+------------+---------+-------------+----------+--------------------+---------------+---------------+----+-----+-------+\n",
      "only showing top 5 rows\n",
      "\n"
     ]
    }
   ],
   "source": [
    "from grandeInformacion.spark_utils import SparkUtils\n",
    "\n",
    "# Define the schema for wine-clustering.csv\n",
    "columns = [\n",
    "    (\"Alcohol\", \"double\"),\n",
    "    (\"Malic_Acid\", \"double\"),\n",
    "    (\"Ash\", \"double\"),\n",
    "    (\"Ash_Alcanity\", \"double\"),  # Note: Original CSV has \"Ash_Alcanity\" (typo for Alkalinity?)\n",
    "    (\"Magnesium\", \"integer\"),\n",
    "    (\"Total_Phenols\", \"double\"),\n",
    "    (\"Flavanoids\", \"double\"),\n",
    "    (\"Nonflavanoid_Phenols\", \"double\"),\n",
    "    (\"Proanthocyanins\", \"double\"),\n",
    "    (\"Color_Intensity\", \"double\"),\n",
    "    (\"Hue\", \"double\"),\n",
    "    (\"OD280\", \"double\"),\n",
    "    (\"Proline\", \"integer\")\n",
    "]\n",
    "\n",
    "# Generate the schema (assuming team_name.spark_utils is available)\n",
    "schema = SparkUtils.generate_schema(columns)\n",
    "\n",
    "# Create DataFrame\n",
    "data = spark \\\n",
    "                .read \\\n",
    "                .schema(schema) \\\n",
    "                .option(\"header\", \"true\") \\\n",
    "                .csv(\"/home/jovyan/notebooks/data/wine-clustering.csv\")\n",
    "\n",
    "# Check for null values (though this dataset appears clean)\n",
    "data = data.na.drop()\n",
    "\n",
    "# Show the dataframe to verify\n",
    "data.show(5)"
   ]
  },
  {
   "cell_type": "markdown",
   "metadata": {},
   "source": [
    "### Assemble the features into a single vector column"
   ]
  },
  {
   "cell_type": "code",
   "execution_count": null,
   "metadata": {},
   "outputs": [],
   "source": [
    "from pyspark.ml.feature import VectorAssembler\n",
    "\n",
    "# Seleccionar características\n",
    "feature_cols = [\"Alcohol\", \"Malic_Acid\", \"Ash\", \"Ash_Alcanity\", \"Magnesium\", \n",
    "               \"Total_Phenols\", \"Flavanoids\", \"Nonflavanoid_Phenols\", \n",
    "               \"Proanthocyanins\", \"Color_Intensity\", \"Hue\", \"OD280\", \"Proline\"]\n",
    "\n",
    "# Crear vector de características\n",
    "assembler = VectorAssembler(inputCols=feature_cols, outputCol=\"features\")\n",
    "assembled_data = assembler.transform(data)"
   ]
  },
  {
   "cell_type": "markdown",
   "metadata": {},
   "source": [
    "# KMeans for k = 2"
   ]
  },
  {
   "cell_type": "code",
   "execution_count": 14,
   "metadata": {},
   "outputs": [
    {
     "name": "stdout",
     "output_type": "stream",
     "text": [
      "Silhouette score: 0.8213603513331723\n",
      "Cluster Centers: \n",
      "[1.27028455e+01 2.54455285e+00 2.33910569e+00 2.04081301e+01\n",
      " 9.68130081e+01 2.06211382e+00 1.64146341e+00 3.92682927e-01\n",
      " 1.45406504e+00 4.85138211e+00 9.08617886e-01 2.40821138e+00\n",
      " 5.65869919e+02]\n",
      "[1.36665455e+01 1.87072727e+00 2.42781818e+00 1.74527273e+01\n",
      " 1.06290909e+02 2.81618182e+00 2.89654545e+00 2.92909091e-01\n",
      " 1.89690909e+00 5.52036364e+00 1.06665455e+00 3.06672727e+00\n",
      " 1.15172727e+03]\n"
     ]
    }
   ],
   "source": [
    "from pyspark.ml.clustering import KMeans\n",
    "from pyspark.ml.evaluation import ClusteringEvaluator\n",
    "\n",
    "kmeans = KMeans().setK(2).setSeed(15)\n",
    "model = kmeans.fit(assembled_data)\n",
    "predictions = model.transform(assembled_data)\n",
    "\n",
    "# Evaluate clustering by computing Silhouette score\n",
    "evaluator = ClusteringEvaluator()\n",
    "silhouette = evaluator.evaluate(predictions)\n",
    "print(f\"Silhouette score: {silhouette}\")\n",
    "\n",
    "# Show the result\n",
    "print(\"Cluster Centers: \")\n",
    "for center in model.clusterCenters():\n",
    "    print(center)"
   ]
  },
  {
   "cell_type": "markdown",
   "metadata": {},
   "source": [
    "# Initialize KMeans for k = 10"
   ]
  },
  {
   "cell_type": "code",
   "execution_count": 15,
   "metadata": {},
   "outputs": [
    {
     "name": "stdout",
     "output_type": "stream",
     "text": [
      "Silhouette score: 0.7046694551736816\n",
      "Cluster Centers: \n",
      "[1.26437931e+01 2.80896552e+00 2.26724138e+00 2.07241379e+01\n",
      " 9.27586207e+01 1.80034483e+00 1.35379310e+00 4.06206897e-01\n",
      " 1.34310345e+00 4.53482759e+00 8.73793103e-01 2.26344828e+00\n",
      " 5.29827586e+02]\n",
      "[1.38278571e+01 1.74214286e+00 2.53428571e+00 1.76000000e+01\n",
      " 1.06214286e+02 2.75928571e+00 2.90500000e+00 3.05714286e-01\n",
      " 1.77642857e+00 5.93214286e+00 1.11857143e+00 3.00000000e+00\n",
      " 1.28821429e+03]\n",
      "[1.313500e+01 2.833750e+00 2.338125e+00 1.880625e+01 1.090000e+02\n",
      " 2.163750e+00 1.720625e+00 3.643750e-01 1.635625e+00 5.208125e+00\n",
      " 9.325000e-01 2.550000e+00 7.466875e+02]\n",
      "[1.37784211e+01 2.04473684e+00 2.33210526e+00 1.71105263e+01\n",
      " 1.05736842e+02 2.78368421e+00 2.87105263e+00 2.65789474e-01\n",
      " 1.79789474e+00 4.96526316e+00 1.04105263e+00 3.30473684e+00\n",
      " 1.03842105e+03]\n",
      "[1.24722727e+01 2.13772727e+00 2.35227273e+00 2.10363636e+01\n",
      " 9.30909091e+01 2.20909091e+00 1.95818182e+00 3.90454545e-01\n",
      " 1.51409091e+00 4.45727268e+00 1.01045455e+00 2.44772727e+00\n",
      " 4.43272727e+02]\n",
      "[1.41366667e+01 1.83166667e+00 2.41166667e+00 1.62666667e+01\n",
      " 1.07666667e+02 3.25500000e+00 3.49333333e+00 2.71666667e-01\n",
      " 2.21666667e+00 7.23333333e+00 1.11333333e+00 3.02833333e+00\n",
      " 1.53033333e+03]\n",
      "[1.357625e+01 1.786250e+00 2.471250e+00 1.637500e+01 1.021250e+02\n",
      " 2.963750e+00 3.186250e+00 3.062500e-01 2.182500e+00 5.903750e+00\n",
      " 1.070000e+00 2.925000e+00 1.153125e+03]\n",
      "[1.2795000e+01 2.4131250e+00 2.4259375e+00 2.0525000e+01 9.6968750e+01\n",
      " 2.0150000e+00 1.3318750e+00 4.2125000e-01 1.3381250e+00 6.0125000e+00\n",
      " 8.4812500e-01 2.1393750e+00 6.4834375e+02]\n",
      "[ 12.33823529   2.39117647   2.22352941  20.52941176  90.17647059\n",
      "   2.33823529   2.25823529   0.35411765   1.59470588   2.79470588\n",
      "   0.96941176   2.95411765 347.70588235]\n",
      "[1.29926667e+01 2.37666667e+00 2.45800000e+00 1.99666667e+01\n",
      " 1.11800000e+02 2.27400000e+00 1.91066667e+00 3.53333333e-01\n",
      " 1.66866667e+00 5.30066667e+00 9.09066667e-01 2.63666667e+00\n",
      " 8.70200000e+02]\n"
     ]
    }
   ],
   "source": [
    "kmeans = KMeans().setK(10).setSeed(15)\n",
    "model = kmeans.fit(assembled_data)\n",
    "predictions = model.transform(assembled_data)\n",
    "\n",
    "# Evaluate clustering by computing Silhouette score\n",
    "evaluator = ClusteringEvaluator()\n",
    "silhouette = evaluator.evaluate(predictions)\n",
    "print(f\"Silhouette score: {silhouette}\")\n",
    "\n",
    "# Show the result\n",
    "print(\"Cluster Centers: \")\n",
    "for center in model.clusterCenters():\n",
    "    print(center)"
   ]
  },
  {
   "cell_type": "markdown",
   "metadata": {},
   "source": [
    "# Initialize KMeans for k = 15"
   ]
  },
  {
   "cell_type": "code",
   "execution_count": 16,
   "metadata": {},
   "outputs": [
    {
     "name": "stdout",
     "output_type": "stream",
     "text": [
      "Silhouette score: 0.6673675629387169\n",
      "Cluster Centers: \n",
      "[ 12.30416667   2.17416667   2.24166667  20.58333333  92.5\n",
      "   2.26333333   2.145        0.3725       1.52833333   2.65416667\n",
      "   1.00166667   2.8775     333.        ]\n",
      "[1.4126e+01 1.8800e+00 2.3980e+00 1.6220e+01 1.0760e+02 3.2460e+00\n",
      " 3.4060e+00 2.6200e-01 2.2880e+00 6.9400e+00 1.0900e+00 3.0700e+00\n",
      " 1.5004e+03]\n",
      "[1.29926667e+01 2.37666667e+00 2.45800000e+00 1.99666667e+01\n",
      " 1.11800000e+02 2.27400000e+00 1.91066667e+00 3.53333333e-01\n",
      " 1.66866667e+00 5.30066667e+00 9.09066667e-01 2.63666667e+00\n",
      " 8.70200000e+02]\n",
      "[1.37166667e+01 1.81333333e+00 2.59666667e+00 1.67666667e+01\n",
      " 1.05333333e+02 2.81666667e+00 2.82000000e+00 3.26666667e-01\n",
      " 1.65000000e+00 6.40000000e+00 1.18666667e+00 2.90333333e+00\n",
      " 1.33500000e+03]\n",
      "[1.26138462e+01 2.52230769e+00 2.32769231e+00 2.10769231e+01\n",
      " 9.28461538e+01 1.84500000e+00 1.58115385e+00 4.11923077e-01\n",
      " 1.34576923e+00 4.88923073e+00 8.77307692e-01 2.30807692e+00\n",
      " 4.97730769e+02]\n",
      "[1.3761875e+01 1.9450000e+00 2.2893750e+00 1.7012500e+01 1.0543750e+02\n",
      " 2.7775000e+00 2.8631250e+00 2.6812500e-01 1.8543750e+00 4.9668750e+00\n",
      " 1.0581250e+00 3.3143750e+00 1.0287500e+03]\n",
      "[1.34566667e+01 1.96000000e+00 2.57000000e+00 1.62333333e+01\n",
      " 1.01666667e+02 3.17666667e+00 3.30666667e+00 3.20000000e-01\n",
      " 2.04333333e+00 5.84333333e+00 9.86666667e-01 3.21666667e+00\n",
      " 1.19000000e+03]\n",
      "[1.270500e+01 2.376875e+00 2.450000e+00 2.110000e+01 9.725000e+01\n",
      " 1.896250e+00 1.189375e+00 3.975000e-01 1.229375e+00 5.621250e+00\n",
      " 8.287500e-01 2.084375e+00 6.251250e+02]\n",
      "[1.27141667e+01 3.29666667e+00 2.32916667e+00 2.17083333e+01\n",
      " 9.53333333e+01 1.90416667e+00 1.22166667e+00 4.22500000e-01\n",
      " 1.37333333e+00 4.72750000e+00 8.49166667e-01 2.23583333e+00\n",
      " 5.65833333e+02]\n",
      "[1.33161538e+01 2.82538462e+00 2.38230769e+00 1.87384615e+01\n",
      " 1.13230769e+02 2.21615385e+00 1.72000000e+00 3.67692308e-01\n",
      " 1.70769231e+00 5.56000000e+00 9.03076923e-01 2.57153846e+00\n",
      " 7.54076923e+02]\n",
      "[1.419e+01 1.590e+00 2.480e+00 1.650e+01 1.080e+02 3.300e+00 3.930e+00\n",
      " 3.200e-01 1.860e+00 8.700e+00 1.230e+00 2.820e+00 1.680e+03]\n",
      "[1.27983333e+01 2.49111111e+00 2.34777778e+00 1.95833333e+01\n",
      " 9.54444444e+01 2.09055556e+00 1.56444444e+00 4.24444444e-01\n",
      " 1.46166667e+00 6.03277778e+00 8.98333333e-01 2.24055556e+00\n",
      " 6.83277778e+02]\n",
      "[1.38581818e+01 1.72272727e+00 2.51727273e+00 1.78272727e+01\n",
      " 1.06454545e+02 2.74363636e+00 2.92818182e+00 3.00000000e-01\n",
      " 1.81090909e+00 5.80454545e+00 1.10000000e+00 3.02636364e+00\n",
      " 1.27545455e+03]\n",
      "[1.373000e+01 2.017500e+00 2.467500e+00 1.690000e+01 1.042500e+02\n",
      " 2.828750e+00 3.038750e+00 2.812500e-01 1.977500e+00 5.571250e+00\n",
      " 1.056250e+00 2.938750e+00 1.115625e+03]\n",
      "[1.23931579e+01 2.15105263e+00 2.23894737e+00 2.00684211e+01\n",
      " 8.96842105e+01 2.36315789e+00 2.09578947e+00 3.51052632e-01\n",
      " 1.59842105e+00 3.48947368e+00 1.04842105e+00 2.65736842e+00\n",
      " 4.15315789e+02]\n"
     ]
    }
   ],
   "source": [
    "kmeans = KMeans().setK(15).setSeed(15)\n",
    "model = kmeans.fit(assembled_data)\n",
    "predictions = model.transform(assembled_data)\n",
    "\n",
    "# Evaluate clustering by computing Silhouette score\n",
    "evaluator = ClusteringEvaluator()\n",
    "silhouette = evaluator.evaluate(predictions)\n",
    "print(f\"Silhouette score: {silhouette}\")\n",
    "\n",
    "# Show the result\n",
    "print(\"Cluster Centers: \")\n",
    "for center in model.clusterCenters():\n",
    "    print(center)"
   ]
  },
  {
   "cell_type": "markdown",
   "metadata": {},
   "source": [
    "# Initialize KMeans for k = 20"
   ]
  },
  {
   "cell_type": "code",
   "execution_count": 17,
   "metadata": {},
   "outputs": [
    {
     "name": "stdout",
     "output_type": "stream",
     "text": [
      "Silhouette score: 0.631815967191204\n",
      "Cluster Centers: \n",
      "[1.26305263e+01 2.51684211e+00 2.24789474e+00 2.01315789e+01\n",
      " 9.01578947e+01 1.77789474e+00 1.38473684e+00 4.21052632e-01\n",
      " 1.35000000e+00 4.51105263e+00 8.92105263e-01 2.28684211e+00\n",
      " 5.05000000e+02]\n",
      "[1.4126e+01 1.8800e+00 2.3980e+00 1.6220e+01 1.0760e+02 3.2460e+00\n",
      " 3.4060e+00 2.6200e-01 2.2880e+00 6.9400e+00 1.0900e+00 3.0700e+00\n",
      " 1.5004e+03]\n",
      "[1.38581818e+01 1.72272727e+00 2.51727273e+00 1.78272727e+01\n",
      " 1.06454545e+02 2.74363636e+00 2.92818182e+00 3.00000000e-01\n",
      " 1.81090909e+00 5.80454545e+00 1.10000000e+00 3.02636364e+00\n",
      " 1.27545455e+03]\n",
      "[1.3452e+01 1.6800e+00 2.3160e+00 1.9700e+01 1.2480e+02 2.9040e+00\n",
      " 2.8480e+00 2.8400e-01 2.2760e+00 4.4540e+00 1.1100e+00 3.1280e+00\n",
      " 9.7340e+02]\n",
      "[ 12.26181818   2.06         2.26545455  21.          93.63636364\n",
      "   2.32090909   2.22636364   0.36727273   1.59181818   2.58636364\n",
      "   1.02909091   2.94636364 329.45454545]\n",
      "[1.34566667e+01 1.96000000e+00 2.57000000e+00 1.62333333e+01\n",
      " 1.01666667e+02 3.17666667e+00 3.30666667e+00 3.20000000e-01\n",
      " 2.04333333e+00 5.84333333e+00 9.86666667e-01 3.21666667e+00\n",
      " 1.19000000e+03]\n",
      "[1.29114286e+01 1.83571429e+00 2.47142857e+00 2.01142857e+01\n",
      " 1.03571429e+02 2.51857143e+00 2.19571429e+00 3.40000000e-01\n",
      " 1.60857143e+00 4.71428571e+00 9.75142857e-01 2.81142857e+00\n",
      " 8.90857143e+02]\n",
      "[1.26900000e+01 2.69000000e+00 2.64000000e+00 2.15000000e+01\n",
      " 1.22666667e+02 1.69666667e+00 1.06666667e+00 2.06666667e-01\n",
      " 1.20333333e+00 5.03333333e+00 7.93333333e-01 1.82333333e+00\n",
      " 6.28333333e+02]\n",
      "[1.2782e+01 2.0920e+00 2.3300e+00 2.1060e+01 8.8300e+01 2.0260e+00\n",
      " 1.2100e+00 4.4400e-01 1.3420e+00 6.1440e+00 8.1000e-01 2.1780e+00\n",
      " 6.3100e+02]\n",
      "[1.26266667e+01 3.31500000e+00 2.52666667e+00 2.13333333e+01\n",
      " 9.56666667e+01 1.83833333e+00 1.09333333e+00 4.71666667e-01\n",
      " 9.46666667e-01 4.43666667e+00 8.78333333e-01 2.10666667e+00\n",
      " 5.92833333e+02]\n",
      "[1.37166667e+01 1.81333333e+00 2.59666667e+00 1.67666667e+01\n",
      " 1.05333333e+02 2.81666667e+00 2.82000000e+00 3.26666667e-01\n",
      " 1.65000000e+00 6.40000000e+00 1.18666667e+00 2.90333333e+00\n",
      " 1.33500000e+03]\n",
      "[1.27983333e+01 2.49111111e+00 2.34777778e+00 1.95833333e+01\n",
      " 9.54444444e+01 2.09055556e+00 1.56444444e+00 4.24444444e-01\n",
      " 1.46166667e+00 6.03277778e+00 8.98333333e-01 2.24055556e+00\n",
      " 6.83277778e+02]\n",
      "[1.36614286e+01 1.72857143e+00 2.47142857e+00 1.66142857e+01\n",
      " 1.03285714e+02 2.82571429e+00 3.09428571e+00 2.78571429e-01\n",
      " 2.08142857e+00 5.61857143e+00 1.08285714e+00 2.88285714e+00\n",
      " 1.12071429e+03]\n",
      "[1.38161538e+01 2.17538462e+00 2.28384615e+00 1.62769231e+01\n",
      " 1.02769231e+02 2.71307692e+00 2.80692308e+00 2.68461538e-01\n",
      " 1.75538462e+00 5.00307692e+00 1.03153846e+00 3.33461538e+00\n",
      " 1.04692308e+03]\n",
      "[1.23792308e+01 1.96846154e+00 2.44000000e+00 2.19846154e+01\n",
      " 9.85384615e+01 2.10846154e+00 1.93461538e+00 3.96923077e-01\n",
      " 1.36000000e+00 4.98153838e+00 9.32307692e-01 2.43846154e+00\n",
      " 4.53153846e+02]\n",
      "[1.2708e+01 3.1700e+00 2.3170e+00 2.1500e+01 9.7900e+01 1.8110e+00\n",
      " 1.3050e+00 3.7800e-01 1.4270e+00 4.8910e+00 8.4400e-01 2.1710e+00\n",
      " 5.5700e+02]\n",
      "[1.419e+01 1.590e+00 2.480e+00 1.650e+01 1.080e+02 3.300e+00 3.930e+00\n",
      " 3.200e-01 1.860e+00 8.700e+00 1.230e+00 2.820e+00 1.680e+03]\n",
      "[1.32000e+01 2.87375e+00 2.46000e+00 1.94875e+01 1.13375e+02 2.14125e+00\n",
      " 1.78875e+00 3.67500e-01 1.60375e+00 6.25500e+00 8.25000e-01 2.57750e+00\n",
      " 8.34375e+02]\n",
      "[1.24930769e+01 2.57538462e+00 2.17000000e+00 1.97692308e+01\n",
      " 8.46153846e+01 2.46230769e+00 2.26923077e+00 3.39230769e-01\n",
      " 1.69461538e+00 3.15000000e+00 1.04769231e+00 2.77307692e+00\n",
      " 3.99076923e+02]\n",
      "[1.32958333e+01 2.91833333e+00 2.38833333e+00 1.89500000e+01\n",
      " 1.12916667e+02 2.13833333e+00 1.58916667e+00 3.70000000e-01\n",
      " 1.65500000e+00 5.51250000e+00 8.99166667e-01 2.50416667e+00\n",
      " 7.50666667e+02]\n"
     ]
    }
   ],
   "source": [
    "kmeans = KMeans().setK(20).setSeed(15)\n",
    "model = kmeans.fit(assembled_data)\n",
    "predictions = model.transform(assembled_data)\n",
    "\n",
    "# Evaluate clustering by computing Silhouette score\n",
    "evaluator = ClusteringEvaluator()\n",
    "silhouette = evaluator.evaluate(predictions)\n",
    "print(f\"Silhouette score: {silhouette}\")\n",
    "\n",
    "# Show the result\n",
    "print(\"Cluster Centers: \")\n",
    "for center in model.clusterCenters():\n",
    "    print(center)"
   ]
  },
  {
   "cell_type": "code",
   "execution_count": 18,
   "metadata": {},
   "outputs": [],
   "source": [
    "sc.stop()"
   ]
  }
 ],
 "metadata": {
  "kernelspec": {
   "display_name": "Python 3 (ipykernel)",
   "language": "python",
   "name": "python3"
  },
  "language_info": {
   "codemirror_mode": {
    "name": "ipython",
    "version": 3
   },
   "file_extension": ".py",
   "mimetype": "text/x-python",
   "name": "python",
   "nbconvert_exporter": "python",
   "pygments_lexer": "ipython3",
   "version": "3.11.6"
  }
 },
 "nbformat": 4,
 "nbformat_minor": 2
}
