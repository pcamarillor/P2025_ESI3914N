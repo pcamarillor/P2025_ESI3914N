{
 "cells": [
  {
   "cell_type": "markdown",
   "metadata": {},
   "source": [
    "# <center> <img src=\"../img/ITESOLogo.png\" alt=\"ITESO\" width=\"480\" height=\"130\"> </center>\n",
    "# <center> **Lab 13 - Clustering with K-Means** </center>\n",
    "---\n",
    "## <center> **Big Data** </center>\n",
    "---\n",
    "### <center> **Spring 2025** </center>\n",
    "---\n",
    "### <center> **05/11/2025** </center>\n",
    "\n",
    "---\n",
    "**Profesor**: Dr. Pablo Camarillo Ramirez\n",
    "\n",
    "**Team**: Foraneos\n",
    "\n",
    "**Students**: Eddie, Konrad "
   ]
  },
  {
   "cell_type": "code",
   "execution_count": 2,
   "metadata": {},
   "outputs": [],
   "source": [
    "import findspark\n",
    "findspark.init()"
   ]
  },
  {
   "cell_type": "markdown",
   "metadata": {},
   "source": [
    "#### Spark Session creation"
   ]
  },
  {
   "cell_type": "code",
   "execution_count": 3,
   "metadata": {},
   "outputs": [
    {
     "name": "stderr",
     "output_type": "stream",
     "text": [
      "Setting default log level to \"WARN\".\n",
      "To adjust logging level use sc.setLogLevel(newLevel). For SparkR, use setLogLevel(newLevel).\n",
      "25/05/12 00:27:34 WARN NativeCodeLoader: Unable to load native-hadoop library for your platform... using builtin-java classes where applicable\n"
     ]
    }
   ],
   "source": [
    "from pyspark.sql import SparkSession\n",
    "\n",
    "konrad_port = \"0638c7435d1d\"\n",
    "eddie_port = \"8776010e8f6a\"\n",
    "\n",
    "spark = SparkSession.builder \\\n",
    "    .appName(\"MLSpark-K-means\") \\\n",
    "    .master(\"spark://{}:7077\".format(eddie_port)) \\\n",
    "    .config(\"spark.ui.port\",\"4040\") \\\n",
    "    .getOrCreate()\n",
    "sc = spark.sparkContext\n",
    "spark.conf.set(\"spark.sql.shuffle.partitions\", \"5\")"
   ]
  },
  {
   "cell_type": "markdown",
   "metadata": {},
   "source": [
    "## Data preparation"
   ]
  },
  {
   "cell_type": "code",
   "execution_count": 4,
   "metadata": {},
   "outputs": [
    {
     "name": "stdout",
     "output_type": "stream",
     "text": [
      "root\n",
      " |-- alcohol: float (nullable = true)\n",
      " |-- malic_acid: float (nullable = true)\n",
      " |-- ash: float (nullable = true)\n",
      " |-- alcalinity_of_ash: float (nullable = true)\n",
      " |-- magnesium: integer (nullable = true)\n",
      " |-- total_phenols: float (nullable = true)\n",
      " |-- flavanoids: float (nullable = true)\n",
      " |-- nonflavanoid_phenols: float (nullable = true)\n",
      " |-- proanthocyanins: float (nullable = true)\n",
      " |-- color_intensity: float (nullable = true)\n",
      " |-- hue: float (nullable = true)\n",
      " |-- od280_od315_of_diluted_wines: float (nullable = true)\n",
      " |-- proline: integer (nullable = true)\n",
      " |-- class: integer (nullable = true)\n",
      "\n"
     ]
    },
    {
     "name": "stderr",
     "output_type": "stream",
     "text": [
      "                                                                                \r"
     ]
    },
    {
     "name": "stdout",
     "output_type": "stream",
     "text": [
      "+-------+----------+----+-----------------+---------+-------------+----------+--------------------+---------------+---------------+----+----------------------------+-------+-----+\n",
      "|alcohol|malic_acid|ash |alcalinity_of_ash|magnesium|total_phenols|flavanoids|nonflavanoid_phenols|proanthocyanins|color_intensity|hue |od280_od315_of_diluted_wines|proline|class|\n",
      "+-------+----------+----+-----------------+---------+-------------+----------+--------------------+---------------+---------------+----+----------------------------+-------+-----+\n",
      "|14.23  |1.71      |2.43|15.6             |127      |2.8          |3.06      |0.28                |2.29           |5.64           |1.04|3.92                        |1065   |NULL |\n",
      "|13.2   |1.78      |2.14|11.2             |100      |2.65         |2.76      |0.26                |1.28           |4.38           |1.05|3.4                         |1050   |NULL |\n",
      "|13.16  |2.36      |2.67|18.6             |101      |2.8          |3.24      |0.3                 |2.81           |5.68           |1.03|3.17                        |1185   |NULL |\n",
      "|14.37  |1.95      |2.5 |16.8             |113      |3.85         |3.49      |0.24                |2.18           |7.8            |0.86|3.45                        |1480   |NULL |\n",
      "|13.24  |2.59      |2.87|21.0             |118      |2.8          |2.69      |0.39                |1.82           |4.32           |1.04|2.93                        |735    |NULL |\n",
      "|14.2   |1.76      |2.45|15.2             |112      |3.27         |3.39      |0.34                |1.97           |6.75           |1.05|2.85                        |1450   |NULL |\n",
      "|14.39  |1.87      |2.45|14.6             |96       |2.5          |2.52      |0.3                 |1.98           |5.25           |1.02|3.58                        |1290   |NULL |\n",
      "|14.06  |2.15      |2.61|17.6             |121      |2.6          |2.51      |0.31                |1.25           |5.05           |1.06|3.58                        |1295   |NULL |\n",
      "|14.83  |1.64      |2.17|14.0             |97       |2.8          |2.98      |0.29                |1.98           |5.2            |1.08|2.85                        |1045   |NULL |\n",
      "|13.86  |1.35      |2.27|16.0             |98       |2.98         |3.15      |0.22                |1.85           |7.22           |1.01|3.55                        |1045   |NULL |\n",
      "+-------+----------+----+-----------------+---------+-------------+----------+--------------------+---------------+---------------+----+----------------------------+-------+-----+\n",
      "only showing top 10 rows\n",
      "\n"
     ]
    }
   ],
   "source": [
    "from foraneos.spark_utils import SparkUtils as SpU\n",
    "\n",
    "wine_schema = SpU.generate_schema([\n",
    "    (\"alcohol\", \"float\", True),                      # Alcohol content\n",
    "    (\"malic_acid\", \"float\", True),                   # Malic acid content\n",
    "    (\"ash\", \"float\", True),                          # Ash content\n",
    "    (\"alcalinity_of_ash\", \"float\", True),            # Alcalinity of ash\n",
    "    (\"magnesium\", \"int\", True),                      # Magnesium content\n",
    "    (\"total_phenols\", \"float\", True),                # Total phenols\n",
    "    (\"flavanoids\", \"float\", True),                   # Flavanoids content\n",
    "    (\"nonflavanoid_phenols\", \"float\", True),         # Nonflavanoid phenols\n",
    "    (\"proanthocyanins\", \"float\", True),              # Proanthocyanins\n",
    "    (\"color_intensity\", \"float\", True),              # Color intensity\n",
    "    (\"hue\", \"float\", True),                          # Hue\n",
    "    (\"od280_od315_of_diluted_wines\", \"float\", True), # OD280/OD315 of diluted wines\n",
    "    (\"proline\", \"int\", True),                        # Proline content\n",
    "    (\"class\", \"int\", True)                           # Class/cultivar identifier (1, 2, or 3)\n",
    "])\n",
    "\n",
    "df = spark.read \\\n",
    "                .schema(wine_schema) \\\n",
    "                .option(\"header\", \"true\") \\\n",
    "                .csv(\"/home/jovyan/notebooks/data/wine-clustering.csv\")\n",
    "\n",
    "df.printSchema()\n",
    "\n",
    "df.show(10, truncate=False)"
   ]
  },
  {
   "cell_type": "markdown",
   "metadata": {},
   "source": [
    "### Assemble the features into a single vector column"
   ]
  },
  {
   "cell_type": "code",
   "execution_count": 11,
   "metadata": {},
   "outputs": [
    {
     "name": "stderr",
     "output_type": "stream",
     "text": [
      "                                                                                \r"
     ]
    },
    {
     "data": {
      "text/plain": [
       "Row(alcohol=14.229999542236328, malic_acid=1.7100000381469727, ash=2.430000066757202, alcalinity_of_ash=15.600000381469727, magnesium=127, total_phenols=2.799999952316284, flavanoids=3.059999942779541, nonflavanoid_phenols=0.2800000011920929, proanthocyanins=2.2899999618530273, color_intensity=5.639999866485596, hue=1.0399999618530273, od280_od315_of_diluted_wines=3.9200000762939453, proline=1065, class=None, features=DenseVector([14.23, 1.71, 2.43, 15.6, 127.0, 2.8, 3.06, 0.28, 2.29, 5.64, 1.04, 3.92, 1065.0]))"
      ]
     },
     "execution_count": 11,
     "metadata": {},
     "output_type": "execute_result"
    }
   ],
   "source": [
    "from pyspark.ml.feature import VectorAssembler\n",
    "\n",
    "feature_cols = [col for col in df.columns if col != \"class\"]\n",
    "\n",
    "# Create a VectorAssembler with the feature columns\n",
    "assembler = VectorAssembler(inputCols=feature_cols, outputCol=\"features\")\n",
    "assembled_df = assembler.transform(df)\n",
    "assembled_df.head()"
   ]
  },
  {
   "cell_type": "markdown",
   "metadata": {},
   "source": [
    "# Initialize KMeans"
   ]
  },
  {
   "cell_type": "code",
   "execution_count": 13,
   "metadata": {},
   "outputs": [],
   "source": [
    "from pyspark.ml.clustering import KMeans\n",
    "\n",
    "kmeans_2 = KMeans().setK(2).setSeed(19)\n",
    "kmeans_10 = KMeans().setK(10).setSeed(19)\n",
    "kmeans_15 = KMeans().setK(15).setSeed(19)\n",
    "kmeans_20 = KMeans().setK(20).setSeed(19)"
   ]
  },
  {
   "cell_type": "markdown",
   "metadata": {},
   "source": [
    "### Training"
   ]
  },
  {
   "cell_type": "code",
   "execution_count": 14,
   "metadata": {},
   "outputs": [
    {
     "name": "stderr",
     "output_type": "stream",
     "text": [
      "25/05/12 00:34:33 WARN InstanceBuilder: Failed to load implementation from:dev.ludovic.netlib.blas.JNIBLAS\n",
      "25/05/12 00:34:33 WARN InstanceBuilder: Failed to load implementation from:dev.ludovic.netlib.blas.VectorBLAS\n"
     ]
    }
   ],
   "source": [
    "model_2 = kmeans_2.fit(assembled_df)\n",
    "model_10 = kmeans_10.fit(assembled_df)\n",
    "model_15 = kmeans_15.fit(assembled_df)\n",
    "model_20 = kmeans_20.fit(assembled_df)"
   ]
  },
  {
   "cell_type": "markdown",
   "metadata": {},
   "source": [
    "### Predictions"
   ]
  },
  {
   "cell_type": "code",
   "execution_count": 15,
   "metadata": {},
   "outputs": [],
   "source": [
    "predictions_2 = model_2.transform(assembled_df)\n",
    "predictions_10 = model_10.transform(assembled_df)\n",
    "predictions_15 = model_15.transform(assembled_df)\n",
    "predictions_20 = model_20.transform(assembled_df)"
   ]
  },
  {
   "cell_type": "markdown",
   "metadata": {},
   "source": [
    "### Silhouettes"
   ]
  },
  {
   "cell_type": "code",
   "execution_count": 16,
   "metadata": {},
   "outputs": [
    {
     "name": "stdout",
     "output_type": "stream",
     "text": [
      "Silhouette with K=2: 0.821360351333219\n",
      "Silhouette with K=10: 0.6099911274077665\n",
      "Silhouette with K=15: 0.6663309347635443\n",
      "Silhouette with K=20: 0.6341822740902026\n"
     ]
    }
   ],
   "source": [
    "from pyspark.ml.evaluation import ClusteringEvaluator\n",
    "\n",
    "# Evaluate clustering by computing Silhouette score\n",
    "evaluator = ClusteringEvaluator()\n",
    "\n",
    "silhouette_2 = evaluator.evaluate(predictions_2)\n",
    "silhouette_10 = evaluator.evaluate(predictions_10)\n",
    "silhouette_15 = evaluator.evaluate(predictions_15)\n",
    "silhouette_20 = evaluator.evaluate(predictions_20)\n",
    "\n",
    "print(\"Silhouette with K=2: \" + str(silhouette_2))\n",
    "print(\"Silhouette with K=10: \" + str(silhouette_10))\n",
    "print(\"Silhouette with K=15: \" + str(silhouette_15))\n",
    "print(\"Silhouette with K=20: \" + str(silhouette_20))"
   ]
  },
  {
   "cell_type": "markdown",
   "metadata": {},
   "source": [
    "### Cluster centers"
   ]
  },
  {
   "cell_type": "code",
   "execution_count": 17,
   "metadata": {},
   "outputs": [
    {
     "name": "stdout",
     "output_type": "stream",
     "text": [
      "Cluster Centers for K=2:\n",
      "[1.27028455e+01 2.54455285e+00 2.33910569e+00 2.04081301e+01\n",
      " 9.68130081e+01 2.06211382e+00 1.64146342e+00 3.92682924e-01\n",
      " 1.45406503e+00 4.85138211e+00 9.08617886e-01 2.40821138e+00\n",
      " 5.65869919e+02]\n",
      "[1.36665455e+01 1.87072727e+00 2.42781818e+00 1.74527272e+01\n",
      " 1.06290909e+02 2.81618182e+00 2.89654548e+00 2.92909090e-01\n",
      " 1.89690911e+00 5.52036361e+00 1.06665455e+00 3.06672727e+00\n",
      " 1.15172727e+03]\n",
      "\n",
      "\n",
      "Cluster Centers for K=10:\n",
      "[1.39289474e+01 1.78157895e+00 2.48684212e+00 1.70789474e+01\n",
      " 1.05315789e+02 2.90578946e+00 3.09947371e+00 2.84736841e-01\n",
      " 1.93789475e+00 6.37105263e+00 1.11000000e+00 3.00894736e+00\n",
      " 1.36747368e+03]\n",
      "[1.26437931e+01 2.80896552e+00 2.26724137e+00 2.07241379e+01\n",
      " 9.27586207e+01 1.80034481e+00 1.35379312e+00 4.06206897e-01\n",
      " 1.34310344e+00 4.53482758e+00 8.73793103e-01 2.26344827e+00\n",
      " 5.29827586e+02]\n",
      "[1.32000002e+01 2.87375000e+00 2.45999998e+00 1.94875001e+01\n",
      " 1.13375000e+02 2.14125003e+00 1.78874999e+00 3.67499998e-01\n",
      " 1.60374998e+00 6.25500000e+00 8.24999996e-01 2.57749999e+00\n",
      " 8.34375000e+02]\n",
      "[ 12.33823535   2.39117647   2.22352944  20.52941176  90.17647059\n",
      "   2.33823527   2.25823531   0.35411765   1.59470588   2.79470588\n",
      "   0.96941177   2.95411762 347.70588235]\n",
      "[1.27796666e+01 2.36866666e+00 2.42766665e+00 2.05100000e+01\n",
      " 9.66000000e+01 2.03866667e+00 1.36800001e+00 4.13999996e-01\n",
      " 1.34733333e+00 5.82066669e+00 8.51999998e-01 2.17733333e+00\n",
      " 6.45233333e+02]\n",
      "[1.24722727e+01 2.13772728e+00 2.35227275e+00 2.10363636e+01\n",
      " 9.30909091e+01 2.20909092e+00 1.95818181e+00 3.90454540e-01\n",
      " 1.51409090e+00 4.45727267e+00 1.01045456e+00 2.44772730e+00\n",
      " 4.43272727e+02]\n",
      "[1.28562499e+01 1.79624999e+00 2.43750000e+00 1.99749999e+01\n",
      " 1.10875000e+02 2.51625001e+00 2.20500002e+00 3.37499999e-01\n",
      " 1.81750000e+00 4.44999996e+00 9.98250000e-01 2.78875004e+00\n",
      " 8.96625000e+02]\n",
      "[1.30970589e+01 2.92882352e+00 2.34705882e+00 1.91882352e+01\n",
      " 1.07764706e+02 2.04647059e+00 1.51882354e+00 3.85294114e-01\n",
      " 1.54294116e+00 5.58705884e+00 9.14705873e-01 2.38588235e+00\n",
      " 7.37764706e+02]\n",
      "[1.37882353e+01 2.06823528e+00 2.29823528e+00 1.71235293e+01\n",
      " 1.05764706e+02 2.78176470e+00 2.85058828e+00 2.69999998e-01\n",
      " 1.81882355e+00 4.98294112e+00 1.04705882e+00 3.31529411e+00\n",
      " 1.03176471e+03]\n",
      "[1.36145456e+01 1.77363635e+00 2.51909091e+00 1.67727273e+01\n",
      " 1.05454545e+02 2.93272727e+00 3.12000002e+00 3.10000001e-01\n",
      " 2.00454547e+00 5.65999998e+00 1.07181818e+00 2.98454545e+00\n",
      " 1.15000000e+03]\n",
      "\n",
      "\n",
      "Cluster Centers for K=15:\n",
      "[1.38278572e+01 1.74214286e+00 2.53428573e+00 1.76000001e+01\n",
      " 1.06214286e+02 2.75928572e+00 2.90500002e+00 3.05714286e-01\n",
      " 1.77642857e+00 5.93214285e+00 1.11857143e+00 2.99999998e+00\n",
      " 1.28821429e+03]\n",
      "[1.25341667e+01 2.25666667e+00 2.41250000e+00 2.25249999e+01\n",
      " 9.22500000e+01 1.90083334e+00 1.86833333e+00 4.38333329e-01\n",
      " 1.50416665e+00 4.84749993e+00 9.07500011e-01 2.42666668e+00\n",
      " 4.79083333e+02]\n",
      "[1.41899996e+01 1.59000003e+00 2.48000002e+00 1.65000000e+01\n",
      " 1.08000000e+02 3.29999995e+00 3.93000007e+00 3.19999993e-01\n",
      " 1.86000001e+00 8.69999981e+00 1.23000002e+00 2.81999993e+00\n",
      " 1.68000000e+03]\n",
      "[1.31350001e+01 2.83374998e+00 2.33812499e+00 1.88062500e+01\n",
      " 1.09000000e+02 2.16375000e+00 1.72062501e+00 3.64374996e-01\n",
      " 1.63562497e+00 5.20812501e+00 9.32499986e-01 2.55000000e+00\n",
      " 7.46687500e+02]\n",
      "[1.26640001e+01 3.23999999e+00 2.39533332e+00 2.15333333e+01\n",
      " 9.66000000e+01 1.85599999e+00 1.22600000e+00 4.24666665e-01\n",
      " 1.27466666e+00 4.67533326e+00 8.64666669e-01 2.19533332e+00\n",
      " 5.73133333e+02]\n",
      "[1.30300000e+01 2.43785713e+00 2.47642856e+00 2.00357142e+01\n",
      " 1.08214286e+02 2.25785716e+00 1.88500001e+00 3.55714284e-01\n",
      " 1.55357142e+00 5.49357140e+00 8.91142858e-01 2.63714285e+00\n",
      " 8.65428571e+02]\n",
      "[1.23583333e+01 2.55250001e+00 2.26666669e+00 2.08333333e+01\n",
      " 9.07500000e+01 2.35749998e+00 2.31083335e+00 3.46666668e-01\n",
      " 1.58083334e+00 2.95499998e+00 9.44166670e-01 2.89166665e+00\n",
      " 3.65916667e+02]\n",
      "[1.28289285e+01 2.32928572e+00 2.39428570e+00 2.03678572e+01\n",
      " 9.63214286e+01 2.04178572e+00 1.36750001e+00 4.16071425e-01\n",
      " 1.40607143e+00 6.21714289e+00 8.38214287e-01 2.15035714e+00\n",
      " 6.55357143e+02]\n",
      "[1.38664286e+01 2.17999997e+00 2.34714287e+00 1.64499999e+01\n",
      " 1.03714286e+02 2.74571427e+00 2.85714289e+00 2.64285713e-01\n",
      " 1.76214288e+00 5.09214277e+00 1.01714286e+00 3.28357141e+00\n",
      " 1.06214286e+03]\n",
      "[ 12.29000015   2.00399998   2.12000003  19.8         88.8\n",
      "   2.29199998   2.13199999   0.372        1.62799997   2.41000004\n",
      "   1.03         3.10399995 304.        ]\n",
      "[1.26821428e+01 2.75000001e+00 2.25500000e+00 1.98357143e+01\n",
      " 9.33571429e+01 1.79714284e+00 1.33500002e+00 3.89285714e-01\n",
      " 1.20999998e+00 4.92500005e+00 8.51428564e-01 2.20642858e+00\n",
      " 5.13714286e+02]\n",
      "[1.33114286e+01 1.64285714e+00 2.31428565e+00 1.88285713e+01\n",
      " 1.16714286e+02 2.77142859e+00 2.75000003e+00 2.79999993e-01\n",
      " 2.03000002e+00 4.27142855e+00 1.11714285e+00 3.13714286e+00\n",
      " 9.86000000e+02]\n",
      "[1.23835714e+01 1.87928572e+00 2.26000002e+00 1.99499999e+01\n",
      " 9.15000000e+01 2.30785715e+00 1.94071427e+00 3.65714281e-01\n",
      " 1.54285713e+00 3.61714282e+00 1.10428572e+00 2.48571431e+00\n",
      " 4.26857143e+02]\n",
      "[1.41260000e+01 1.88000002e+00 2.39800000e+00 1.62199999e+01\n",
      " 1.07600000e+02 3.24599996e+00 3.40600004e+00 2.61999997e-01\n",
      " 2.28800006e+00 6.94000006e+00 1.09000001e+00 3.07000003e+00\n",
      " 1.50040000e+03]\n",
      "[1.36514286e+01 1.80571428e+00 2.46000000e+00 1.61428571e+01\n",
      " 1.02714286e+02 3.03714286e+00 3.29428574e+00 3.08571432e-01\n",
      " 2.28857144e+00 6.14000000e+00 1.06285714e+00 2.98428573e+00\n",
      " 1.16000000e+03]\n",
      "\n",
      "\n",
      "Cluster Centers for K=20:\n",
      "[1.38278572e+01 1.74214286e+00 2.53428573e+00 1.76000001e+01\n",
      " 1.06214286e+02 2.75928572e+00 2.90500002e+00 3.05714286e-01\n",
      " 1.77642857e+00 5.93214285e+00 1.11857143e+00 2.99999998e+00\n",
      " 1.28821429e+03]\n",
      "[1.26077777e+01 2.49222223e+00 2.24499999e+00 2.02500000e+01\n",
      " 9.15000000e+01 1.75999998e+00 1.40000002e+00 4.02222222e-01\n",
      " 1.29333332e+00 4.42777782e+00 8.91111106e-01 2.27555556e+00\n",
      " 5.09166667e+02]\n",
      "[1.40200001e+01 1.89666669e+00 2.34666665e+00 1.63666668e+01\n",
      " 1.04333333e+02 3.03666663e+00 3.38333337e+00 2.43333330e-01\n",
      " 2.43000007e+00 6.71666670e+00 1.18000003e+00 3.01666673e+00\n",
      " 1.52400000e+03]\n",
      "[1.32153846e+01 3.05692306e+00 2.39999999e+00 1.91076923e+01\n",
      " 1.11076923e+02 2.07999999e+00 1.50307693e+00 3.82307689e-01\n",
      " 1.58923075e+00 5.38461538e+00 8.87692296e-01 2.40923075e+00\n",
      " 7.48307692e+02]\n",
      "[1.26999999e+01 2.18624999e+00 2.37374999e+00 2.01875000e+01\n",
      " 1.04750000e+02 1.93750000e+00 1.21249998e+00 3.54999997e-01\n",
      " 1.25875000e+00 5.45249996e+00 7.86250003e-01 2.00000000e+00\n",
      " 6.35000000e+02]\n",
      "[1.29114285e+01 1.83571427e+00 2.47142856e+00 2.01142856e+01\n",
      " 1.03571429e+02 2.51857144e+00 2.19571431e+00 3.39999999e-01\n",
      " 1.60857143e+00 4.71428568e+00 9.75142862e-01 2.81142860e+00\n",
      " 8.90857143e+02]\n",
      "[ 12.23250008   1.90624999   2.17125002  20.5         92.25\n",
      "   2.33749999   2.18249999   0.34625      1.62499999   2.435\n",
      "   1.03249998   3.02749997 319.        ]\n",
      "[1.28305882e+01 2.35999999e+00 2.33647058e+00 1.95000000e+01\n",
      " 9.58235294e+01 2.13235296e+00 1.62882355e+00 4.18235291e-01\n",
      " 1.50058824e+00 6.16117654e+00 9.07058821e-01 2.29764706e+00\n",
      " 6.81117647e+02]\n",
      "[1.37833333e+01 2.01999998e+00 2.27083333e+00 1.60583332e+01\n",
      " 1.02083333e+02 2.70166667e+00 2.82000003e+00 2.65833332e-01\n",
      " 1.79750002e+00 4.98333329e+00 1.04500000e+00 3.33500002e+00\n",
      " 1.04416667e+03]\n",
      "[1.36340000e+01 1.86799998e+00 2.42800002e+00 1.45000000e+01\n",
      " 9.76000000e+01 3.06999998e+00 3.37600002e+00 3.12000003e-01\n",
      " 2.37000000e+00 6.02600002e+00 1.06600000e+00 3.05800004e+00\n",
      " 1.17400000e+03]\n",
      "[1.25754546e+01 2.23363637e+00 2.43545456e+00 2.18454545e+01\n",
      " 9.56363636e+01 1.99636365e+00 1.86454545e+00 4.36363631e-01\n",
      " 1.40181818e+00 5.39909081e+00 9.11818193e-01 2.40454549e+00\n",
      " 4.66000000e+02]\n",
      "[1.34520000e+01 1.68000000e+00 2.31599994e+00 1.97000000e+01\n",
      " 1.24800000e+02 2.90400000e+00 2.84800005e+00 2.83999991e-01\n",
      " 2.27600002e+00 4.45399995e+00 1.10999999e+00 3.12799997e+00\n",
      " 9.73400000e+02]\n",
      "[1.23690908e+01 2.04181819e+00 2.26909093e+00 2.02272727e+01\n",
      " 9.05454545e+01 2.42181818e+00 2.05181816e+00 3.44545450e-01\n",
      " 1.62636362e+00 3.51545452e+00 1.10909092e+00 2.49090910e+00\n",
      " 4.20545455e+02]\n",
      "[1.42849998e+01 1.85500002e+00 2.47500002e+00 1.59999995e+01\n",
      " 1.12500000e+02 3.55999994e+00 3.44000006e+00 2.89999999e-01\n",
      " 2.07500005e+00 7.27500010e+00 9.54999983e-01 3.14999998e+00\n",
      " 1.46500000e+03]\n",
      "[1.27244444e+01 2.61111112e+00 2.53555555e+00 2.22333334e+01\n",
      " 9.10000000e+01 1.90666666e+00 1.10333335e+00 4.49999993e-01\n",
      " 1.15666665e+00 5.69333333e+00 8.73333328e-01 2.16666667e+00\n",
      " 6.12444444e+02]\n",
      "[1.27027273e+01 3.32727272e+00 2.30363636e+00 2.15000000e+01\n",
      " 9.48181818e+01 1.86636362e+00 1.27818182e+00 4.12727273e-01\n",
      " 1.42454545e+00 4.70999991e+00 8.45454552e-01 2.24363635e+00\n",
      " 5.63636364e+02]\n",
      "[1.41899996e+01 1.59000003e+00 2.48000002e+00 1.65000000e+01\n",
      " 1.08000000e+02 3.29999995e+00 3.93000007e+00 3.19999993e-01\n",
      " 1.86000001e+00 8.69999981e+00 1.23000002e+00 2.81999993e+00\n",
      " 1.68000000e+03]\n",
      "[1.32000002e+01 2.87375000e+00 2.45999998e+00 1.94875001e+01\n",
      " 1.13375000e+02 2.14125003e+00 1.78874999e+00 3.67499998e-01\n",
      " 1.60374998e+00 6.25500000e+00 8.24999996e-01 2.57749999e+00\n",
      " 8.34375000e+02]\n",
      "[1.24322223e+01 2.82222223e+00 2.27000003e+00 2.05555556e+01\n",
      " 8.83333333e+01 2.33888886e+00 2.32555559e+00 3.61111111e-01\n",
      " 1.56777779e+00 3.11444444e+00 9.13333350e-01 2.88888886e+00\n",
      " 3.73222222e+02]\n",
      "[1.36733335e+01 2.11333332e+00 2.55166666e+00 1.85666666e+01\n",
      " 1.08500000e+02 2.80166666e+00 2.89166669e+00 2.75000001e-01\n",
      " 1.68333336e+00 5.32833322e+00 1.01333334e+00 2.97833327e+00\n",
      " 1.10416667e+03]\n"
     ]
    }
   ],
   "source": [
    "# Print cluster centers for K=2\n",
    "print(\"Cluster Centers for K=2:\")\n",
    "for center in model_2.clusterCenters():\n",
    "    print(center)\n",
    "print(\"\\n\")\n",
    "\n",
    "# Print cluster centers for K=10\n",
    "print(\"Cluster Centers for K=10:\")\n",
    "for center in model_10.clusterCenters():\n",
    "    print(center)\n",
    "print(\"\\n\")\n",
    "\n",
    "# Print cluster centers for K=15\n",
    "print(\"Cluster Centers for K=15:\")\n",
    "for center in model_15.clusterCenters():\n",
    "    print(center)\n",
    "print(\"\\n\")\n",
    "\n",
    "# Print cluster centers for K=20\n",
    "print(\"Cluster Centers for K=20:\")\n",
    "for center in model_20.clusterCenters():\n",
    "    print(center)"
   ]
  },
  {
   "cell_type": "code",
   "execution_count": 18,
   "metadata": {},
   "outputs": [],
   "source": [
    "sc.stop()"
   ]
  }
 ],
 "metadata": {
  "kernelspec": {
   "display_name": "Python 3 (ipykernel)",
   "language": "python",
   "name": "python3"
  },
  "language_info": {
   "codemirror_mode": {
    "name": "ipython",
    "version": 3
   },
   "file_extension": ".py",
   "mimetype": "text/x-python",
   "name": "python",
   "nbconvert_exporter": "python",
   "pygments_lexer": "ipython3",
   "version": "3.11.6"
  }
 },
 "nbformat": 4,
 "nbformat_minor": 2
}
