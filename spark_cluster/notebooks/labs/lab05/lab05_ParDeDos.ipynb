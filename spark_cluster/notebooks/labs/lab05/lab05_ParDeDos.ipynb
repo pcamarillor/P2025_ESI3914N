{
  "cells": [
    {
      "cell_type": "markdown",
      "metadata": {},
      "source": [
        "# <center> <img src=\"../img/ITESOLogo.png\" alt=\"ITESO\" width=\"480\" height=\"130\"> </center>\n",
        "# <center> **Departamento de Electrónica, Sistemas e Informática** </center>\n",
        "---\n",
        "## <center> Program: _Computer Systems Engineering_  </center>\n",
        "---\n",
        "### <center> **Spring 2025** </center>\n",
        "---\n",
        "\n",
        "**Lab 05**: TikTok tracks analysis.\n",
        "\n",
        "**Date**: 24/02/2025\n",
        "\n",
        "**Team Name**: Par De Dos\n",
        "\n",
        "**Professor**: Pablo Camarillo Ramirez"
      ]
    },
    {
      "cell_type": "code",
      "execution_count": 11,
      "metadata": {},
      "outputs": [],
      "source": [
        "# Initialize findspark to get acces to de PySpark installation\n",
        "import findspark\n",
        "findspark.init()"
      ]
    },
    {
      "cell_type": "code",
      "execution_count": 12,
      "metadata": {},
      "outputs": [],
      "source": [
        "from pyspark.sql import SparkSession\n",
        "\n",
        "# Create connection to the spark cluster\n",
        "spark = SparkSession.builder \\\n",
        "    .appName(\"Lab 04 - Par de Dos\") \\\n",
        "    .master(\"spark://a52177ec73db:7077\") \\\n",
        "    .config(\"spark.ui.port\",\"4040\") \\\n",
        "    .getOrCreate()\n",
        "\n",
        "# Create SparkContext\n",
        "sc = spark.sparkContext\n",
        "sc.setLogLevel(\"ERROR\")"
      ]
    },
    {
      "cell_type": "code",
      "execution_count": 14,
      "metadata": {},
      "outputs": [],
      "source": [
        "import importlib\n",
        "import team_ParDeDos.spark_utils\n",
        "\n",
        "importlib.reload(team_ParDeDos.spark_utils)\n",
        "\n",
        "columns_info = [ (\"track_id\", \"string\"),\n",
        "                (\"track_name\", \"string\"),\n",
        "                (\"artist_id\", \"string\"),\n",
        "                (\"artist_name\", \"string\"),\n",
        "                (\"album_id\", \"string\"),\n",
        "                (\"duration\", \"integer\"),\n",
        "                (\"release_date\", \"timestamp\"),\n",
        "                (\"popularity\", \"integer\"),\n",
        "                (\"danceability\", \"double\"),\n",
        "                (\"energy\", \"double\"),\n",
        "                (\"key\", \"integer\"),\n",
        "                (\"loudness\", \"double\"),\n",
        "                (\"mode\", \"integer\"),\n",
        "                (\"speechiness\", \"double\"),\n",
        "                (\"acousticness\", \"double\"),\n",
        "                (\"instrumentalness\", \"double\"),\n",
        "                (\"liveness\", \"double\"),\n",
        "                (\"valence\", \"double\"),\n",
        "                (\"tempo\", \"double\"),\n",
        "                (\"playlist_id\", \"string\"),\n",
        "                (\"playlist_name\", \"string\"),\n",
        "                (\"duration_mins\", \"double\"),\n",
        "                (\"genre\", \"string\")]\n",
        "\n",
        "schema = team_ParDeDos.spark_utils.SparkUtils.generate_schema(columns_info)\n",
        "\n",
        "# Create DataFrame\n",
        "tiktok_df = spark \\\n",
        "                .read \\\n",
        "                .schema(schema) \\\n",
        "                .option(\"header\", \"true\") \\\n",
        "                .csv(\"/home/jovyan/notebooks/data/tiktok.csv\")"
      ]
    },
    {
      "cell_type": "code",
      "execution_count": 10,
      "metadata": {},
      "outputs": [],
      "source": [
        "# Stop the SparkContext\n",
        "sc.stop()"
      ]
    }
  ],
  "metadata": {
    "kernelspec": {
      "display_name": "Python 3 (ipykernel)",
      "language": "python",
      "name": "python3"
    },
    "language_info": {
      "codemirror_mode": {
        "name": "ipython",
        "version": 3
      },
      "file_extension": ".py",
      "mimetype": "text/x-python",
      "name": "python",
      "nbconvert_exporter": "python",
      "pygments_lexer": "ipython3",
      "version": "3.11.6"
    }
  },
  "nbformat": 4,
  "nbformat_minor": 2
}
