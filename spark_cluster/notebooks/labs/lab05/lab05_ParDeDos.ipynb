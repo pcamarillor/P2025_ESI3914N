{
  "cells": [
    {
      "cell_type": "markdown",
      "metadata": {},
      "source": [
        "# <center> <img src=\"../img/ITESOLogo.png\" alt=\"ITESO\" width=\"480\" height=\"130\"> </center>\n",
        "# <center> **Departamento de Electrónica, Sistemas e Informática** </center>\n",
        "---\n",
        "## <center> Program: _Computer Systems Engineering_  </center>\n",
        "---\n",
        "### <center> **Spring 2025** </center>\n",
        "---\n",
        "\n",
        "**Lab 05**: TikTok tracks analysis.\n",
        "\n",
        "**Date**: 24/02/2025\n",
        "\n",
        "**Team Name**: Par De Dos\n",
        "\n",
        "**Professor**: Pablo Camarillo Ramirez"
      ]
    },
    {
      "cell_type": "code",
      "execution_count": 1,
      "metadata": {},
      "outputs": [],
      "source": [
        "# Initialize findspark to get acces to de PySpark installation\n",
        "import findspark\n",
        "findspark.init()"
      ]
    },
    {
      "cell_type": "code",
      "execution_count": 2,
      "metadata": {},
      "outputs": [
        {
          "name": "stderr",
          "output_type": "stream",
          "text": [
            "Setting default log level to \"WARN\".\n",
            "To adjust logging level use sc.setLogLevel(newLevel). For SparkR, use setLogLevel(newLevel).\n",
            "25/02/25 01:26:51 WARN NativeCodeLoader: Unable to load native-hadoop library for your platform... using builtin-java classes where applicable\n"
          ]
        }
      ],
      "source": [
        "from pyspark.sql import SparkSession\n",
        "\n",
        "# Create connection to the spark cluster\n",
        "spark = SparkSession.builder \\\n",
        "    .appName(\"Lab 05 - Par de Dos\") \\\n",
        "    .master(\"spark://368ad5a83fd7:7077\") \\\n",
        "    .config(\"spark.ui.port\",\"4040\") \\\n",
        "    .getOrCreate()\n",
        "\n",
        "# Create SparkContext\n",
        "sc = spark.sparkContext\n",
        "sc.setLogLevel(\"ERROR\")"
      ]
    },
    {
      "cell_type": "code",
      "execution_count": 8,
      "metadata": {},
      "outputs": [],
      "source": [
        "import importlib\n",
        "import team_ParDeDos.spark_utils\n",
        "\n",
        "importlib.reload(team_ParDeDos.spark_utils)\n",
        "\n",
        "columns_info = [ (\"track_id\", \"string\"),\n",
        "                (\"track_name\", \"string\"),\n",
        "                (\"artist_id\", \"string\"),\n",
        "                (\"artist_name\", \"string\"),\n",
        "                (\"album_id\", \"string\"),\n",
        "                (\"duration\", \"integer\"),\n",
        "                (\"release_date\", \"timestamp\"),\n",
        "                (\"popularity\", \"integer\"),\n",
        "                (\"danceability\", \"double\"),\n",
        "                (\"energy\", \"double\"),\n",
        "                (\"key\", \"integer\"),\n",
        "                (\"loudness\", \"double\"),\n",
        "                (\"mode\", \"integer\"),\n",
        "                (\"speechiness\", \"double\"),\n",
        "                (\"acousticness\", \"double\"),\n",
        "                (\"instrumentalness\", \"double\"),\n",
        "                (\"liveness\", \"double\"),\n",
        "                (\"valence\", \"double\"),\n",
        "                (\"tempo\", \"double\"),\n",
        "                (\"playlist_id\", \"string\"),\n",
        "                (\"playlist_name\", \"string\"),\n",
        "                (\"duration_mins\", \"double\"),\n",
        "                (\"genre\", \"string\")]\n",
        "\n",
        "schema = team_ParDeDos.spark_utils.SparkUtils.generate_schema(columns_info)\n",
        "\n",
        "# Create DataFrame\n",
        "tiktok_df = spark \\\n",
        "                .read \\\n",
        "                .schema(schema) \\\n",
        "                .option(\"header\", \"true\") \\\n",
        "                .csv(\"/home/jovyan/notebooks/data/tiktok.csv\")"
      ]
    },
    {
      "cell_type": "code",
      "execution_count": 9,
      "metadata": {},
      "outputs": [
        {
          "data": {
            "text/plain": [
              "1023"
            ]
          },
          "execution_count": 9,
          "metadata": {},
          "output_type": "execute_result"
        }
      ],
      "source": [
        "# Filter and count popular tracks. Filter songs with a popularity \n",
        "# score greater than 80 and count the number of tracks\n",
        "\n",
        "filtered_tiktok_df = tiktok_df.filter(tiktok_df[\"popularity\"] > 80)\n",
        "\n",
        "row_count = filtered_tiktok_df.count()\n",
        "row_count"
      ]
    },
    {
      "cell_type": "code",
      "execution_count": null,
      "metadata": {},
      "outputs": [],
      "source": []
    },
    {
      "cell_type": "code",
      "execution_count": 17,
      "metadata": {},
      "outputs": [
        {
          "ename": "TypeError",
          "evalue": "list indices must be integers or slices, not str",
          "output_type": "error",
          "traceback": [
            "\u001b[0;31m---------------------------------------------------------------------------\u001b[0m",
            "\u001b[0;31mTypeError\u001b[0m                                 Traceback (most recent call last)",
            "Cell \u001b[0;32mIn[17], line 3\u001b[0m\n\u001b[1;32m      1\u001b[0m \u001b[38;5;66;03m# Find the top 5 most energetic songs. Sort songs by energy in \u001b[39;00m\n\u001b[1;32m      2\u001b[0m \u001b[38;5;66;03m# descending order and retrieve the top 5 songs\u001b[39;00m\n\u001b[0;32m----> 3\u001b[0m sorted_tiktok_df \u001b[38;5;241m=\u001b[39m tiktok_df\u001b[38;5;241m.\u001b[39morderBy(\u001b[43mcolumns_info\u001b[49m\u001b[43m[\u001b[49m\u001b[38;5;124;43m\"\u001b[39;49m\u001b[38;5;124;43menergy\u001b[39;49m\u001b[38;5;124;43m\"\u001b[39;49m\u001b[43m]\u001b[49m\u001b[38;5;241m.\u001b[39mdesc())\n\u001b[1;32m      5\u001b[0m sorted_tiktok_df\u001b[38;5;241m.\u001b[39mshow(n\u001b[38;5;241m=\u001b[39m\u001b[38;5;241m5\u001b[39m)\n",
            "\u001b[0;31mTypeError\u001b[0m: list indices must be integers or slices, not str"
          ]
        }
      ],
      "source": [
        "# Find the top 5 most energetic songs. Sort songs by energy in \n",
        "# descending order and retrieve the top 5 songs\n",
        "sorted_tiktok_df = tiktok_df.orderBy(columns_info[\"energy\"].desc())\n",
        "\n",
        "sorted_tiktok_df.show(n=5)"
      ]
    },
    {
      "cell_type": "code",
      "execution_count": null,
      "metadata": {},
      "outputs": [],
      "source": []
    },
    {
      "cell_type": "code",
      "execution_count": 18,
      "metadata": {},
      "outputs": [],
      "source": [
        "# Stop the SparkContext\n",
        "sc.stop()"
      ]
    }
  ],
  "metadata": {
    "kernelspec": {
      "display_name": "Python 3 (ipykernel)",
      "language": "python",
      "name": "python3"
    },
    "language_info": {
      "codemirror_mode": {
        "name": "ipython",
        "version": 3
      },
      "file_extension": ".py",
      "mimetype": "text/x-python",
      "name": "python",
      "nbconvert_exporter": "python",
      "pygments_lexer": "ipython3",
      "version": "3.11.6"
    }
  },
  "nbformat": 4,
  "nbformat_minor": 2
}
