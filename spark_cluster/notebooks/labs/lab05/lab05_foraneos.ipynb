{
 "cells": [
  {
   "cell_type": "markdown",
   "metadata": {},
   "source": [
    "\n",
    "# TikTok tracks analysis\n",
    "\n",
    "|                |   |\n",
    ":----------------|---|\n",
    "| **Team**     | Foraneos  |\n",
    "| **Date**      | 02/19/2025  |\n",
    "| **Lab** | 04  |"
   ]
  },
  {
   "cell_type": "markdown",
   "metadata": {},
   "source": [
    "## Description \n",
    "\n",
    "In teams, write a Jupyter Notebook (within the directory spark_cluster/notebooks/labs/lab05) with an efficient solution to complete the following analysis tasks for the tiktok dataset using PySpark\n",
    "\n",
    "- Filter and Count Popular Tracks. Filter songs with a popularity score greater than 80 and count the number of such tracks.\n",
    "- Calculate Average Duration of Songs by Genre. Group songs by genre and calculate the average duration mins for each genre.\n",
    "- Find the Top 5 Most Energetic Songs. Sort songs by energy in descending order and retrieve the top 5 songs.\n",
    "- Calculate the Total Duration of Songs in Each Playlist. Group songs by playlist name and calculate the total duration mins for each playlist\n",
    "\n",
    "## Deliverable\n",
    "\n",
    "When you complete you Notebook, please submit a PR link with the solution."
   ]
  },
  {
   "cell_type": "code",
   "execution_count": 1,
   "metadata": {},
   "outputs": [],
   "source": [
    "import findspark\n",
    "findspark.init()"
   ]
  },
  {
   "cell_type": "code",
   "execution_count": 2,
   "metadata": {},
   "outputs": [
    {
     "name": "stderr",
     "output_type": "stream",
     "text": [
      "Setting default log level to \"WARN\".\n",
      "To adjust logging level use sc.setLogLevel(newLevel). For SparkR, use setLogLevel(newLevel).\n",
      "25/02/25 01:41:09 WARN NativeCodeLoader: Unable to load native-hadoop library for your platform... using builtin-java classes where applicable\n"
     ]
    }
   ],
   "source": [
    "from pyspark.sql import SparkSession\n",
    "\n",
    "spark = SparkSession.builder \\\n",
    "    .appName(\"SparkSQL-Transformations-Actions\") \\\n",
    "    .master(\"spark://0638c7435d1d:7077\") \\\n",
    "    .config(\"spark.ui.port\",\"4040\") \\\n",
    "    .getOrCreate()\n",
    "sc = spark.sparkContext"
   ]
  },
  {
   "cell_type": "code",
   "execution_count": 3,
   "metadata": {},
   "outputs": [],
   "source": [
    "import importlib\n",
    "import foraneos.spark_utils as SpU\n",
    "from pyspark.sql.functions import col, sum, avg\n",
    "\n",
    "importlib.reload(SpU)\n",
    "\n",
    "columns_info = [ (\"track_id\", \"string\"),\n",
    "                (\"track_name\", \"string\"),\n",
    "                (\"artist_id\", \"string\"),\n",
    "                (\"artist_name\", \"string\"),\n",
    "                (\"album_id\", \"string\"),\n",
    "                (\"duration\", \"int\"),\n",
    "                (\"release_date\", \"timestamp\"),\n",
    "                (\"popularity\", \"int\"),\n",
    "                (\"danceability\", \"double\"),\n",
    "                (\"energy\", \"double\"),\n",
    "                (\"key\", \"int\"),\n",
    "                (\"loudness\", \"double\"),\n",
    "                (\"mode\", \"int\"),\n",
    "                (\"speechiness\", \"double\"),\n",
    "                (\"acousticness\", \"double\"),\n",
    "                (\"instrumentalness\", \"double\"),\n",
    "                (\"liveness\", \"double\"),\n",
    "                (\"valence\", \"double\"),\n",
    "                (\"tempo\", \"double\"),\n",
    "                (\"playlist_id\", \"string\"),\n",
    "                (\"playlist_name\", \"string\"),\n",
    "                (\"duration_mins\", \"double\"),\n",
    "                (\"genre\", \"string\")]\n",
    "\n",
    "schema = SpU.SparkUtils.generate_schema(columns_info)\n",
    "\n"
   ]
  },
  {
   "cell_type": "code",
   "execution_count": 4,
   "metadata": {},
   "outputs": [],
   "source": [
    "# Create DataFrame\n",
    "tiktok_df = spark \\\n",
    "                .read \\\n",
    "                .schema(schema) \\\n",
    "                .option(\"header\", \"true\") \\\n",
    "                .csv(\"/home/jovyan/notebooks/data/tiktok.csv\")"
   ]
  },
  {
   "cell_type": "markdown",
   "metadata": {},
   "source": [
    "## Filter and Count Popular Tracks"
   ]
  },
  {
   "cell_type": "code",
   "execution_count": null,
   "metadata": {},
   "outputs": [
    {
     "name": "stderr",
     "output_type": "stream",
     "text": [
      "[Stage 0:===========================================================(1 + 0) / 1]\r"
     ]
    },
    {
     "name": "stdout",
     "output_type": "stream",
     "text": [
      "1023\n"
     ]
    },
    {
     "name": "stderr",
     "output_type": "stream",
     "text": [
      "                                                                                \r"
     ]
    }
   ],
   "source": [
    "filtered_tiktok = tiktok_df.select(\"popularity\")                                #reduce memory usage\n",
    "filtered_popularity_df = filtered_tiktok.filter(tiktok_df[\"popularity\"] > 80)   #filter column by value\n",
    "pop80_count = filtered_popularity_df.count()                                    #count column length\n",
    "print(pop80_count)"
   ]
  },
  {
   "cell_type": "markdown",
   "metadata": {},
   "source": [
    "## Calculate Average Duration of Songs by Genre"
   ]
  },
  {
   "cell_type": "code",
   "execution_count": null,
   "metadata": {},
   "outputs": [
    {
     "name": "stdout",
     "output_type": "stream",
     "text": [
      "+------------------+------------------+\n",
      "|             genre|avg(duration_mins)|\n",
      "+------------------+------------------+\n",
      "|TIKTOK PHILIPPINES|3.2801328435737513|\n",
      "|      TIKTOK DANCE| 3.015020713916861|\n",
      "|           _TIKTOK| 3.251196442168827|\n",
      "|        TIKTOK OPM| 4.257192861885788|\n",
      "+------------------+------------------+\n",
      "\n"
     ]
    }
   ],
   "source": [
    "filtered_tiktok_genre = tiktok_df.select(\"genre\", \"duration_mins\")          #reduce memory usage\n",
    "genre_names = filtered_tiktok_genre.groupBy(\"genre\")                        #group data\n",
    "avg_genre_duration_mins = genre_names.agg(avg(col(\"duration_mins\")))        #aggregate data\n",
    "avg_genre_duration_mins.show()  "
   ]
  },
  {
   "cell_type": "markdown",
   "metadata": {},
   "source": [
    "## Find the Top 5 Most Energetic Songs\n"
   ]
  },
  {
   "cell_type": "code",
   "execution_count": null,
   "metadata": {},
   "outputs": [
    {
     "name": "stdout",
     "output_type": "stream",
     "text": [
      "+--------------------+------------------+\n",
      "|          track_name|            energy|\n",
      "+--------------------+------------------+\n",
      "|       Kiat Jud Dong|0.9990000000000001|\n",
      "|       Bukan untukku|             0.998|\n",
      "|    Ritmo Envolvente|             0.995|\n",
      "|Tante Culik Aku Dong|             0.995|\n",
      "|Biarlah Semua Ber...|             0.995|\n",
      "+--------------------+------------------+\n",
      "only showing top 5 rows\n",
      "\n"
     ]
    }
   ],
   "source": [
    "filtered_tiktok_energy = tiktok_df.select(\"track_name\", \"energy\")           #reduce memory usage\n",
    "songs_desc_energy = filtered_tiktok_energy.orderBy(col(\"energy\").desc())    #order data\n",
    "songs_desc_energy.show(n=5)                                                 #show top 5"
   ]
  },
  {
   "cell_type": "markdown",
   "metadata": {},
   "source": [
    "## Calculate the Total Duration of Songs in Each Playlist\n"
   ]
  },
  {
   "cell_type": "code",
   "execution_count": null,
   "metadata": {},
   "outputs": [
    {
     "name": "stdout",
     "output_type": "stream",
     "text": [
      "+--------------------+------------------+\n",
      "|       playlist_name|sum(duration_mins)|\n",
      "+--------------------+------------------+\n",
      "|5IZc3KIVFhjzJ0L2k...| 7.474666666666667|\n",
      "|08ia51KbTcfs4QVT5...|            4.1485|\n",
      "|7xVLFuuYdAvcTfcP3...| 9.456433333333333|\n",
      "|2RBILNmyq8p4fqVWO...| 2.162933333333333|\n",
      "|6GdDjthxbTGBV9rl2...|3.3209166666666667|\n",
      "|7krYEnB1OI1RbnJBa...|2.0957666666666666|\n",
      "|1FgPyHX7HruKDL4Tx...|            2.4448|\n",
      "|62RtxFf9epYNWOUHJ...|2.6694333333333335|\n",
      "|5ow0sNF1zSqp71Ix5...|2.7334833333333335|\n",
      "|0LlJbV4lyzJYE14YC...|10.709133333333334|\n",
      "|6NFKf8vBApSvtzkap...|3.7074333333333334|\n",
      "|5P8lyudWE7HQxb4lu...| 4.250666666666667|\n",
      "|2BgEsaKNfHUdlh97K...| 3.116433333333333|\n",
      "|7F9vK8hNFMml4GtHs...| 3.173783333333333|\n",
      "|4vVTI94F9uJ8lHNDW...|3.3657666666666666|\n",
      "|2uULRpRtKhCdojXwo...|               2.2|\n",
      "|1tRlGMHsf21FDo6pj...|           1.79005|\n",
      "|215fAfwkWtlj30ofd...|2.3214166666666665|\n",
      "|3bidbhpOYeV4knp8A...|            4.3057|\n",
      "|0YFocHKmrMme7Isel...| 4.810383333333333|\n",
      "+--------------------+------------------+\n",
      "only showing top 20 rows\n",
      "\n"
     ]
    }
   ],
   "source": [
    "filtered_tiktok_playlist = tiktok_df.select(\"playlist_name\", \"duration_mins\")       #reduce memory usage\n",
    "playlist_names = filtered_tiktok_playlist.groupBy(\"playlist_name\")                  #group data\n",
    "total_playlist_duration_mins = playlist_names.agg(sum(col(\"duration_mins\")))        #aggregate data\n",
    "\n",
    "#total_playlist_duration_mins_sorted = total_playlist_duration_mins.orderBy(col(\"sum(duration_mins)\").desc())\n",
    "\n",
    "total_playlist_duration_mins.show()"
   ]
  },
  {
   "cell_type": "code",
   "execution_count": 27,
   "metadata": {},
   "outputs": [],
   "source": [
    "# Stop the SparkContext\n",
    "sc.stop()"
   ]
  }
 ],
 "metadata": {
  "kernelspec": {
   "display_name": "Python 3 (ipykernel)",
   "language": "python",
   "name": "python3"
  },
  "language_info": {
   "codemirror_mode": {
    "name": "ipython",
    "version": 3
   },
   "file_extension": ".py",
   "mimetype": "text/x-python",
   "name": "python",
   "nbconvert_exporter": "python",
   "pygments_lexer": "ipython3",
   "version": "3.11.6"
  }
 },
 "nbformat": 4,
 "nbformat_minor": 2
}
