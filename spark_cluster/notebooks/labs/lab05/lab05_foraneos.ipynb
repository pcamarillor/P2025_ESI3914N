{
 "cells": [
  {
   "cell_type": "markdown",
   "metadata": {},
   "source": [
    "\n",
    "# TikTok tracks analysis\n",
    "\n",
    "|                |   |\n",
    ":----------------|---|\n",
    "| **Team**     | Foraneos  |\n",
    "| **Date**      | 02/19/2025  |\n",
    "| **Lab** | 04  |"
   ]
  },
  {
   "cell_type": "markdown",
   "metadata": {},
   "source": [
    "## Description \n",
    "\n",
    "In teams, write a Jupyter Notebook (within the directory spark_cluster/notebooks/labs/lab05) with an efficient solution to complete the following analysis tasks for the tiktok dataset using PySpark\n",
    "\n",
    "- Filter and Count Popular Tracks. Filter songs with a popularity score greater than 80 and count the number of such tracks.\n",
    "- Calculate Average Duration of Songs by Genre. Group songs by genre and calculate the average duration mins for each genre.\n",
    "- Find the Top 5 Most Energetic Songs. Sort songs by energy in descending order and retrieve the top 5 songs.\n",
    "- Calculate the Total Duration of Songs in Each Playlist. Group songs by playlist name and calculate the total duration mins for each playlist\n",
    "\n",
    "## Deliverable\n",
    "\n",
    "When you complete you Notebook, please submit a PR link with the solution."
   ]
  }
 ],
 "metadata": {
  "language_info": {
   "name": "python"
  }
 },
 "nbformat": 4,
 "nbformat_minor": 2
}
