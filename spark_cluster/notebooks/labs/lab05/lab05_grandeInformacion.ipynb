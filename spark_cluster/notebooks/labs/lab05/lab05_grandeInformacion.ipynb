{
 "cells": [
  {
   "cell_type": "code",
   "execution_count": 29,
   "metadata": {},
   "outputs": [],
   "source": [
    "import findspark\n",
    "findspark.init()"
   ]
  },
  {
   "cell_type": "code",
   "execution_count": 30,
   "metadata": {},
   "outputs": [],
   "source": [
    "import importlib\n",
    "import team_name.spark_utils\n",
    "\n",
    "importlib.reload(team_name.spark_utils)\n",
    "\n",
    "columns_info = [ (\"track_id\", \"string\"),\n",
    "                (\"track_name\", \"string\"),\n",
    "                (\"artist_id\", \"string\"),\n",
    "                (\"artist_name\", \"string\"),\n",
    "                (\"album_id\", \"string\"),\n",
    "                (\"duration\", \"integer\"),\n",
    "                (\"release_date\", \"timestamp\"),\n",
    "                (\"popularity\", \"integer\"),\n",
    "                (\"danceability\", \"double\"),\n",
    "                (\"energy\", \"double\"),\n",
    "                (\"key\", \"integer\"),\n",
    "                (\"loudness\", \"double\"),\n",
    "                (\"mode\", \"integer\"),\n",
    "                (\"speechiness\", \"double\"),\n",
    "                (\"acousticness\", \"double\"),\n",
    "                (\"instrumentalness\", \"double\"),\n",
    "                (\"liveness\", \"double\"),\n",
    "                (\"valence\", \"double\"),\n",
    "                (\"tempo\", \"double\"),\n",
    "                (\"playlist_id\", \"string\"),\n",
    "                (\"playlist_name\", \"string\"),\n",
    "                (\"duration_mins\", \"double\"),\n",
    "                (\"genre\", \"string\")]\n",
    "\n",
    "schema = team_name.spark_utils.SparkUtils.generate_schema(columns_info)\n",
    "\n",
    "# Create DataFrame\n",
    "tiktok_df = spark \\\n",
    "                .read \\\n",
    "                .schema(schema) \\\n",
    "                .option(\"header\", \"true\") \\\n",
    "                .csv(\"/home/jovyan/notebooks/data/tiktok.csv\")"
   ]
  },
  {
   "cell_type": "markdown",
   "metadata": {},
   "source": [
    "Filter and Count Popular Tracks. Filter songs with a popularity score greater than 80 and count the number of such tracks."
   ]
  },
  {
   "cell_type": "code",
   "execution_count": null,
   "metadata": {},
   "outputs": [
    {
     "name": "stdout",
     "output_type": "stream",
     "text": [
      "+--------------------+--------------------+--------------------+-----------------+--------------------+--------+-------------------+----------+------------+-------------------+---+-------------------+----+-------------------+------------+--------------------+-------------------+-------------------+------------------+--------------------+--------------------+------------------+------------+\n",
      "|            track_id|          track_name|           artist_id|      artist_name|            album_id|duration|       release_date|popularity|danceability|             energy|key|           loudness|mode|        speechiness|acousticness|    instrumentalness|           liveness|            valence|             tempo|         playlist_id|       playlist_name|     duration_mins|       genre|\n",
      "+--------------------+--------------------+--------------------+-----------------+--------------------+--------+-------------------+----------+------------+-------------------+---+-------------------+----+-------------------+------------+--------------------+-------------------+-------------------+------------------+--------------------+--------------------+------------------+------------+\n",
      "|7BoobGhD4x5K96Me0...|       Build a Bitch|26cMerAxjx9GedFt0...|     Bella Poarch|5YKqfiQdPYWJ0kZ5p...|  122772|2021-05-14 00:00:00|        89|       0.855|0.46299999999999997|  3|             -7.454|   1|             0.0367|       0.217|             1.77E-5|0.34700000000000003|              0.866|           102.931|7BoobGhD4x5K96Me0...|7BoobGhD4x5K96Me0...|            2.0462|TIKTOK DANCE|\n",
      "|7BoobGhD4x5K96Me0...|       Build a Bitch|26cMerAxjx9GedFt0...|     Bella Poarch|5YKqfiQdPYWJ0kZ5p...|  122772|2021-05-14 00:00:00|        89|       0.855|0.46299999999999997|  3|             -7.454|   1|             0.0367|       0.217|             1.77E-5|0.34700000000000003|              0.866|           102.931|7BoobGhD4x5K96Me0...|7BoobGhD4x5K96Me0...|            2.0462|TIKTOK DANCE|\n",
      "|3J8EOeKLTLXORtWPp...|    Calling My Phone|6jGMq4yGs7aQzuGsM...|         Lil Tjay|3MEKpJ7wSSp6Z661T...|  205458|2021-04-02 00:00:00|        89|       0.907|0.39299999999999996|  4|             -7.636|   0|             0.0539|       0.451|             1.35E-6|              0.135|0.20199999999999999|           104.949|3J8EOeKLTLXORtWPp...|3J8EOeKLTLXORtWPp...|            3.4243|TIKTOK DANCE|\n",
      "|3VqeTFIvhxu3DIe4e...|              Butter|3Nrfpe0tUJi4K4DXY...|              BTS|2BDhPi2XCYujYxU6V...|  164441|2021-05-21 00:00:00|        98|       0.759|0.45899999999999996|  8|             -5.187|   1|             0.0948|     0.00323|                 0.0|             0.0906|              0.695|109.99700000000001|3VqeTFIvhxu3DIe4e...|3VqeTFIvhxu3DIe4e...| 2.740683333333333|TIKTOK DANCE|\n",
      "|3VqeTFIvhxu3DIe4e...|              Butter|3Nrfpe0tUJi4K4DXY...|              BTS|2BDhPi2XCYujYxU6V...|  164441|2021-05-21 00:00:00|        98|       0.759|0.45899999999999996|  8|             -5.187|   1|             0.0948|     0.00323|                 0.0|             0.0906|              0.695|109.99700000000001|3VqeTFIvhxu3DIe4e...|3VqeTFIvhxu3DIe4e...| 2.740683333333333|TIKTOK DANCE|\n",
      "|6uvMKqNlrSvcC4NaK...|Body (Remix) [fea...|7b79bQFziJFedJb75...|       Tion Wayne|3ucQ8ogD2Li2U0rwk...|  278085|2021-04-22 00:00:00|        91|       0.883|              0.674| 11|             -8.043|   0|0.35700000000000004|        0.21|                 0.0|             0.0678|               0.73|            141.02|6uvMKqNlrSvcC4NaK...|6uvMKqNlrSvcC4NaK...|           4.63475|TIKTOK DANCE|\n",
      "|6uvMKqNlrSvcC4NaK...|Body (Remix) [fea...|7b79bQFziJFedJb75...|       Tion Wayne|3ucQ8ogD2Li2U0rwk...|  278085|2021-04-22 00:00:00|        91|       0.883|              0.674| 11|             -8.043|   0|0.35700000000000004|        0.21|                 0.0|             0.0678|               0.73|            141.02|6uvMKqNlrSvcC4NaK...|6uvMKqNlrSvcC4NaK...|           4.63475|TIKTOK DANCE|\n",
      "|748mdHapucXQri7IA...|Kiss Me More (fea...|5cj0lLjcoR7YOSnhn...|         Doja Cat|1OnzqJTL9bwe4kvaL...|  208866|2021-04-09 00:00:00|        98|       0.762|              0.701|  8|-3.5410000000000004|   1|             0.0286|       0.235|1.580000000000000...|0.12300000000000001|              0.742|110.96799999999999|748mdHapucXQri7IA...|748mdHapucXQri7IA...|            3.4811|TIKTOK DANCE|\n",
      "|748mdHapucXQri7IA...|Kiss Me More (fea...|5cj0lLjcoR7YOSnhn...|         Doja Cat|1OnzqJTL9bwe4kvaL...|  208866|2021-04-09 00:00:00|        98|       0.762|              0.701|  8|-3.5410000000000004|   1|             0.0286|       0.235|1.580000000000000...|0.12300000000000001|              0.742|110.96799999999999|748mdHapucXQri7IA...|748mdHapucXQri7IA...|            3.4811|TIKTOK DANCE|\n",
      "|748mdHapucXQri7IA...|Kiss Me More (fea...|5cj0lLjcoR7YOSnhn...|         Doja Cat|1OnzqJTL9bwe4kvaL...|  208866|2021-04-09 00:00:00|        98|       0.762|              0.701|  8|-3.5410000000000004|   1|             0.0286|       0.235|1.580000000000000...|0.12300000000000001|              0.742|110.96799999999999|748mdHapucXQri7IA...|748mdHapucXQri7IA...|            3.4811|TIKTOK DANCE|\n",
      "|748mdHapucXQri7IA...|Kiss Me More (fea...|5cj0lLjcoR7YOSnhn...|         Doja Cat|1OnzqJTL9bwe4kvaL...|  208866|2021-04-09 00:00:00|        98|       0.762|              0.701|  8|-3.5410000000000004|   1|             0.0286|       0.235|1.580000000000000...|0.12300000000000001|              0.742|110.96799999999999|748mdHapucXQri7IA...|748mdHapucXQri7IA...|            3.4811|TIKTOK DANCE|\n",
      "|748mdHapucXQri7IA...|Kiss Me More (fea...|5cj0lLjcoR7YOSnhn...|         Doja Cat|1OnzqJTL9bwe4kvaL...|  208866|2021-04-09 00:00:00|        98|       0.762|              0.701|  8|-3.5410000000000004|   1|             0.0286|       0.235|1.580000000000000...|0.12300000000000001|              0.742|110.96799999999999|748mdHapucXQri7IA...|748mdHapucXQri7IA...|            3.4811|TIKTOK DANCE|\n",
      "|3FAJ6O0NOHQV8Mc5R...|Heartbreak Annive...|4fxd5Ee7UefO4CUXg...|           Giveon|1zHR48K6XtWYm6bhr...|  198370|2020-03-27 00:00:00|        92|       0.449|              0.465|  0|             -8.964|   1|             0.0791|       0.524|             1.02E-6|              0.303| 0.5429999999999999|            89.087|3FAJ6O0NOHQV8Mc5R...|3FAJ6O0NOHQV8Mc5R...|3.3061666666666665|TIKTOK DANCE|\n",
      "|3FAJ6O0NOHQV8Mc5R...|Heartbreak Annive...|4fxd5Ee7UefO4CUXg...|           Giveon|1zHR48K6XtWYm6bhr...|  198370|2020-03-27 00:00:00|        92|       0.449|              0.465|  0|             -8.964|   1|             0.0791|       0.524|             1.02E-6|              0.303| 0.5429999999999999|            89.087|3FAJ6O0NOHQV8Mc5R...|3FAJ6O0NOHQV8Mc5R...|3.3061666666666665|TIKTOK DANCE|\n",
      "|3FAJ6O0NOHQV8Mc5R...|Heartbreak Annive...|4fxd5Ee7UefO4CUXg...|           Giveon|1zHR48K6XtWYm6bhr...|  198370|2020-03-27 00:00:00|        92|       0.449|              0.465|  0|             -8.964|   1|             0.0791|       0.524|             1.02E-6|              0.303| 0.5429999999999999|            89.087|3FAJ6O0NOHQV8Mc5R...|3FAJ6O0NOHQV8Mc5R...|3.3061666666666665|TIKTOK DANCE|\n",
      "|3FAJ6O0NOHQV8Mc5R...|Heartbreak Annive...|4fxd5Ee7UefO4CUXg...|           Giveon|1zHR48K6XtWYm6bhr...|  198370|2020-03-27 00:00:00|        92|       0.449|              0.465|  0|             -8.964|   1|             0.0791|       0.524|             1.02E-6|              0.303| 0.5429999999999999|            89.087|3FAJ6O0NOHQV8Mc5R...|3FAJ6O0NOHQV8Mc5R...|3.3061666666666665|TIKTOK DANCE|\n",
      "|6HU7h9RYOaPRFeh0R...|             deja vu|1McMsnEElThX1knmY...|   Olivia Rodrigo|6s84u2TUpR3wdUv4N...|  215506|2021-05-21 00:00:00|        88|       0.442|              0.612|  2|             -7.222|   1|0.11199999999999999|       0.584|5.700000000000000...|               0.37|0.17800000000000002|           180.917|6HU7h9RYOaPRFeh0R...|6HU7h9RYOaPRFeh0R...|3.5917666666666666|TIKTOK DANCE|\n",
      "|7MC4XR9M9amdmKQr2...| Iko Iko (My Bestie)|5lTjv8Ag00qHSGhvK...|Justin Wellington|0IVeq4oFSUAAXmdQq...|  182857|2019-06-03 00:00:00|        81|       0.862|              0.753|  5|             -5.356|   1|             0.0625|       0.131|             2.01E-6|              0.077| 0.8270000000000001|           105.039|7MC4XR9M9amdmKQr2...|7MC4XR9M9amdmKQr2...| 3.047616666666667|TIKTOK DANCE|\n",
      "|5GkQIP5mWPi4KZLLX...|motive (with Doja...|66CXWjxzNUsdJxJ2J...|    Ariana Grande|3euz4vS7ezKGnNSwg...|  167989|2020-10-30 00:00:00|        82|       0.789|              0.742| 10|             -5.664|   0|             0.0652|      0.0681|                 0.0|              0.166| 0.6609999999999999|           116.965|5GkQIP5mWPi4KZLLX...|5GkQIP5mWPi4KZLLX...|2.7998166666666666|TIKTOK DANCE|\n",
      "|5GkQIP5mWPi4KZLLX...|motive (with Doja...|66CXWjxzNUsdJxJ2J...|    Ariana Grande|3euz4vS7ezKGnNSwg...|  167989|2020-10-30 00:00:00|        82|       0.789|              0.742| 10|             -5.664|   0|             0.0652|      0.0681|                 0.0|              0.166| 0.6609999999999999|           116.965|5GkQIP5mWPi4KZLLX...|5GkQIP5mWPi4KZLLX...|2.7998166666666666|TIKTOK DANCE|\n",
      "+--------------------+--------------------+--------------------+-----------------+--------------------+--------+-------------------+----------+------------+-------------------+---+-------------------+----+-------------------+------------+--------------------+-------------------+-------------------+------------------+--------------------+--------------------+------------------+------------+\n",
      "only showing top 20 rows\n",
      "\n",
      "Number of rows with popularity > 80: 1023\n"
     ]
    }
   ],
   "source": [
    "filtered_df = tiktok_df.filter(tiktok_df[\"popularity\"] > 80)\n",
    "count = filtered_df.count()\n",
    "filtered_df.show(20)\n",
    "print(f\"Number of rows with popularity > 80: {count}\")"
   ]
  },
  {
   "cell_type": "markdown",
   "metadata": {},
   "source": [
    "Calculate Average Duration of Songs by Genre. Group songs by genre and calculate the average duration mins for each genre."
   ]
  },
  {
   "cell_type": "code",
   "execution_count": null,
   "metadata": {},
   "outputs": [],
   "source": []
  },
  {
   "cell_type": "markdown",
   "metadata": {},
   "source": [
    "Find the Top 5 Most Energetic Songs. Sort songs by energy in descending order and retrieve the top 5 songs."
   ]
  },
  {
   "cell_type": "code",
   "execution_count": null,
   "metadata": {},
   "outputs": [],
   "source": []
  },
  {
   "cell_type": "markdown",
   "metadata": {},
   "source": [
    "Calculate the Total Duration of Songs in Each Playlist. Group songs by playlist name and calculate the total duration mins for each playlist"
   ]
  },
  {
   "cell_type": "code",
   "execution_count": null,
   "metadata": {},
   "outputs": [],
   "source": []
  },
  {
   "cell_type": "code",
   "execution_count": null,
   "metadata": {},
   "outputs": [],
   "source": [
    "# Stop the SparkContext\n",
    "sc.stop()"
   ]
  }
 ],
 "metadata": {
  "kernelspec": {
   "display_name": "Python 3 (ipykernel)",
   "language": "python",
   "name": "python3"
  },
  "language_info": {
   "codemirror_mode": {
    "name": "ipython",
    "version": 3
   },
   "file_extension": ".py",
   "mimetype": "text/x-python",
   "name": "python",
   "nbconvert_exporter": "python",
   "pygments_lexer": "ipython3",
   "version": "3.11.6"
  }
 },
 "nbformat": 4,
 "nbformat_minor": 2
}
