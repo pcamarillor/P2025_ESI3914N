{
 "cells": [
  {
   "cell_type": "markdown",
   "metadata": {},
   "source": [
    "# <center> <img src=\"../labs/img/ITESOLogo.png\" alt=\"ITESO\" width=\"480\" height=\"130\"> </center>\n",
    "# <center> **LAB03: Analyzing Social Media Hashtags** </center>\n",
    "---\n",
    "## <center> **Big Data** </center>\n",
    "---\n",
    "### <center> **Spring 2025** </center>\n",
    "---\n",
    "### <center> **LAB03 Konrad Schindler** </center>\n",
    "---\n",
    "**Profesor**: Pablo Camarillo Ramirez, PhD\n",
    "\n",
    "**Student**: Konrad Schindler, BSc"
   ]
  },
  {
   "cell_type": "markdown",
   "metadata": {},
   "source": [
    "#### Find the PySpark installation\n",
    "allows python to check in {SPARK_HOME} path-environmental whether pyspark is already installed there\n",
    " "
   ]
  },
  {
   "cell_type": "code",
   "execution_count": 44,
   "metadata": {},
   "outputs": [],
   "source": [
    "import findspark\n",
    "findspark.init()"
   ]
  },
  {
   "cell_type": "markdown",
   "metadata": {},
   "source": [
    "## Problem Statement\n",
    "\n",
    "You are given a dataset of social media posts, where each post is a string containing hashtags (e.g., #BigData, #AI, #PySpark). Your task is to analyze the hashtags using PySpark RDDs and perform the following operations:\n",
    "\n",
    "- Extract Hashtags: Use flatMap to extract all hashtags from the posts.\n",
    "- Map Hashtags to Pairs: Use map to transform each hashtag into a key-value pair (hashtag, 1).\n",
    "- Count Hashtag Occurrences: Use countByValue to count how many times each hashtag appears.\n",
    "- Group Hashtags by Length: Use groupByKey to group hashtags by their length (number of characters).\n",
    "\n"
   ]
  },
  {
   "cell_type": "code",
   "execution_count": 45,
   "metadata": {},
   "outputs": [],
   "source": [
    "from pyspark.sql import SparkSession\n",
    "\n",
    "spark = SparkSession.builder \\\n",
    "    .appName(\"LAB03\") \\\n",
    "    .master(\"spark://0638c7435d1d:7077\") \\\n",
    "    .config(\"spark.ui.port\",\"4040\") \\\n",
    "    .getOrCreate()\n",
    "\n",
    "spark.conf.set(\"spark.sql.shuffle.partitions\", \"1\")\n",
    "# Create SparkContext\n",
    "sc = spark.sparkContext\n",
    "sc.setLogLevel(\"ERROR\")\n",
    "\n"
   ]
  },
  {
   "cell_type": "markdown",
   "metadata": {},
   "source": [
    "### Create Input\n",
    "\n"
   ]
  },
  {
   "cell_type": "code",
   "execution_count": 46,
   "metadata": {},
   "outputs": [],
   "source": [
    "posts = [\n",
    "    \"Excited to start learning #MachineLearning and #AI! #DataScience\",\n",
    "    \"Just finished a great book on #BigData and #DataEngineering. #AI\",\n",
    "    \"Attending a workshop on #PySpark and #DataScience. #BigData\",\n",
    "    \"Exploring the world of #DeepLearning and #NeuralNetworks. #AI\",\n",
    "    \"Working on a project using #PySpark and #Hadoop. #BigData\",\n",
    "    \"Reading about #NaturalLanguageProcessing and #AI. #DataScience\",\n",
    "    \"Just completed a course on #DataVisualization. #DataScience\",\n",
    "    \"Excited about the future of #AI and #MachineLearning! #BigData\",\n",
    "    \"Learning #DataEngineering with #PySpark. #DataScience\",\n",
    "    \"Exploring #CloudComputing and #BigData. #AI\"\n",
    "]\n",
    "posts_rdd = sc.parallelize(posts)"
   ]
  },
  {
   "cell_type": "markdown",
   "metadata": {},
   "source": [
    "#### Extract Hashtags"
   ]
  },
  {
   "cell_type": "code",
   "execution_count": 47,
   "metadata": {},
   "outputs": [],
   "source": [
    "def extract_hastags(post):\n",
    "    return [word for word in post.split() if word[0]=='#']"
   ]
  },
  {
   "cell_type": "code",
   "execution_count": 59,
   "metadata": {},
   "outputs": [
    {
     "name": "stdout",
     "output_type": "stream",
     "text": [
      "['#MachineLearning', '#AI!', '#DataScience', '#BigData', '#DataEngineering.', '#AI', '#PySpark', '#DataScience.', '#BigData', '#DeepLearning', '#NeuralNetworks.', '#AI', '#PySpark', '#Hadoop.', '#BigData', '#NaturalLanguageProcessing', '#AI.', '#DataScience', '#DataVisualization.', '#DataScience', '#AI', '#MachineLearning!', '#BigData', '#DataEngineering', '#PySpark.', '#DataScience', '#CloudComputing', '#BigData.', '#AI']\n"
     ]
    }
   ],
   "source": [
    "hastags_rdd = posts_rdd.flatMap(extract_hastags)\n",
    "print(hastags_rdd.collect())"
   ]
  },
  {
   "cell_type": "markdown",
   "metadata": {},
   "source": [
    "#### Create tuples with hashtag as key and value = 1"
   ]
  },
  {
   "cell_type": "code",
   "execution_count": 50,
   "metadata": {},
   "outputs": [
    {
     "name": "stdout",
     "output_type": "stream",
     "text": [
      "[('#MachineLearning', 1), ('#AI!', 1), ('#DataScience', 1), ('#BigData', 1), ('#DataEngineering.', 1), ('#AI', 1), ('#PySpark', 1), ('#DataScience.', 1), ('#BigData', 1), ('#DeepLearning', 1), ('#NeuralNetworks.', 1), ('#AI', 1), ('#PySpark', 1), ('#Hadoop.', 1), ('#BigData', 1), ('#NaturalLanguageProcessing', 1), ('#AI.', 1), ('#DataScience', 1), ('#DataVisualization.', 1), ('#DataScience', 1), ('#AI', 1), ('#MachineLearning!', 1), ('#BigData', 1), ('#DataEngineering', 1), ('#PySpark.', 1), ('#DataScience', 1), ('#CloudComputing', 1), ('#BigData.', 1), ('#AI', 1)]\n"
     ]
    }
   ],
   "source": [
    "hast_tuples = hastags_rdd.map(lambda tag : (tag , 1))\n",
    "print(hast_tuples.collect())"
   ]
  },
  {
   "cell_type": "markdown",
   "metadata": {},
   "source": [
    "### Count up the hashtags with the same key"
   ]
  },
  {
   "cell_type": "code",
   "execution_count": 51,
   "metadata": {},
   "outputs": [
    {
     "name": "stderr",
     "output_type": "stream",
     "text": [
      "[Stage 12:>                                                         (0 + 2) / 2]\r"
     ]
    },
    {
     "name": "stdout",
     "output_type": "stream",
     "text": [
      "[('#DataScience', 4), ('#AI', 4), ('#BigData', 4), ('#DataEngineering', 1), ('#CloudComputing', 1), ('#BigData.', 1), ('#AI!', 1), ('#Hadoop.', 1), ('#MachineLearning', 1), ('#DataEngineering.', 1), ('#PySpark', 2), ('#DataScience.', 1), ('#DeepLearning', 1), ('#NeuralNetworks.', 1), ('#NaturalLanguageProcessing', 1), ('#AI.', 1), ('#DataVisualization.', 1), ('#MachineLearning!', 1), ('#PySpark.', 1)]\n"
     ]
    },
    {
     "name": "stderr",
     "output_type": "stream",
     "text": [
      "                                                                                \r"
     ]
    }
   ],
   "source": [
    "hash_counts = hast_tuples.reduceByKey(lambda a, b: a + b)\n",
    "print(hash_counts.collect())"
   ]
  },
  {
   "cell_type": "markdown",
   "metadata": {},
   "source": [
    "### Create tuples with length as key"
   ]
  },
  {
   "cell_type": "code",
   "execution_count": 55,
   "metadata": {},
   "outputs": [
    {
     "name": "stdout",
     "output_type": "stream",
     "text": [
      "[(16, '#MachineLearning'), (4, '#AI!'), (12, '#DataScience'), (8, '#BigData'), (17, '#DataEngineering.'), (3, '#AI'), (8, '#PySpark'), (13, '#DataScience.'), (8, '#BigData'), (13, '#DeepLearning'), (16, '#NeuralNetworks.'), (3, '#AI'), (8, '#PySpark'), (8, '#Hadoop.'), (8, '#BigData'), (26, '#NaturalLanguageProcessing'), (4, '#AI.'), (12, '#DataScience'), (19, '#DataVisualization.'), (12, '#DataScience'), (3, '#AI'), (17, '#MachineLearning!'), (8, '#BigData'), (16, '#DataEngineering'), (9, '#PySpark.'), (12, '#DataScience'), (15, '#CloudComputing'), (9, '#BigData.'), (3, '#AI')]\n"
     ]
    },
    {
     "name": "stderr",
     "output_type": "stream",
     "text": [
      "                                                                                \r"
     ]
    }
   ],
   "source": [
    "hash_lenghts = hastags_rdd.map(lambda x: (len(x), x))    \n",
    "print(hash_lenghts.collect())    "
   ]
  },
  {
   "cell_type": "markdown",
   "metadata": {},
   "source": [
    "### Group the hashtags by their length key"
   ]
  },
  {
   "cell_type": "code",
   "execution_count": 58,
   "metadata": {},
   "outputs": [
    {
     "name": "stdout",
     "output_type": "stream",
     "text": [
      "length = 26  --> \t tags: ['#NaturalLanguageProcessing']\n",
      "length = 4  --> \t tags: ['#AI.', '#AI!']\n",
      "length = 12  --> \t tags: ['#DataScience', '#DataScience', '#DataScience', '#DataScience']\n",
      "length = 8  --> \t tags: ['#BigData', '#BigData', '#PySpark', '#BigData', '#PySpark', '#Hadoop.', '#BigData']\n",
      "length = 16  --> \t tags: ['#DataEngineering', '#MachineLearning', '#NeuralNetworks.']\n",
      "length = 17  --> \t tags: ['#DataEngineering.', '#MachineLearning!']\n",
      "length = 3  --> \t tags: ['#AI', '#AI', '#AI', '#AI']\n",
      "length = 13  --> \t tags: ['#DataScience.', '#DeepLearning']\n",
      "length = 19  --> \t tags: ['#DataVisualization.']\n",
      "length = 9  --> \t tags: ['#PySpark.', '#BigData.']\n",
      "length = 15  --> \t tags: ['#CloudComputing']\n"
     ]
    }
   ],
   "source": [
    "grouped_rdd = hash_lenghts.groupByKey()\n",
    "result = grouped_rdd.collect()\n",
    "for key, values in result:\n",
    "    print(f\"length = {key}  --> \\t tags: {list(values)}\")"
   ]
  },
  {
   "cell_type": "code",
   "execution_count": null,
   "metadata": {},
   "outputs": [],
   "source": [
    "# Stop the SparkContext\n",
    "sc.stop()"
   ]
  }
 ],
 "metadata": {
  "kernelspec": {
   "display_name": "Python 3 (ipykernel)",
   "language": "python",
   "name": "python3"
  },
  "language_info": {
   "codemirror_mode": {
    "name": "ipython",
    "version": 3
   },
   "file_extension": ".py",
   "mimetype": "text/x-python",
   "name": "python",
   "nbconvert_exporter": "python",
   "pygments_lexer": "ipython3",
   "version": "3.11.6"
  }
 },
 "nbformat": 4,
 "nbformat_minor": 2
}
