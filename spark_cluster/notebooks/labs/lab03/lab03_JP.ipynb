{
 "cells": [
  {
   "cell_type": "code",
   "execution_count": 1,
   "metadata": {},
   "outputs": [],
   "source": [
    "import findspark\n",
    "findspark.init()"
   ]
  },
  {
   "cell_type": "code",
   "execution_count": 3,
   "metadata": {},
   "outputs": [],
   "source": [
    "from pyspark.sql import SparkSession\n",
    "\n",
    "spark = SparkSession.builder \\\n",
    "    .appName(\"Map-Reduce-Examples\") \\\n",
    "    .master(\"spark://3945b932edc5:7077\") \\\n",
    "    .config(\"spark.ui.port\",\"4040\") \\\n",
    "    .getOrCreate()\n",
    "\n",
    "spark.conf.set(\"spark.sql.shuffle.partitions\", \"1\")\n",
    "\n",
    "# Create SparkContext\n",
    "sc = spark.sparkContext\n",
    "sc.setLogLevel(\"ERROR\")"
   ]
  },
  {
   "cell_type": "code",
   "execution_count": 5,
   "metadata": {},
   "outputs": [],
   "source": [
    "post = [\n",
    "    \"Excited to start learning #MachineLearning and #AI! #DataScience\",\n",
    "    \"Just finished a great book on #BigData and #DataEngineering. #AI\",\n",
    "    \"Attending a workshop on #PySpark and #DataScience. #BigData\",\n",
    "    \"Exploring the world of #DeepLearning and #NeuralNetworks. #AI\",\n",
    "    \"Working on a project using #PySpark and #Hadoop. #BigData\",\n",
    "    \"Reading about #NaturalLanguageProcessing and #AI. #DataScience\",\n",
    "    \"Just completed a course on #DataVisualization. #DataScience\",\n",
    "    \"Excited about the future of #AI and #MachineLearning! #BigData\",\n",
    "    \"Learning #DataEngineering with #PySpark. #DataScience\",\n",
    "    \"Exploring #CloudComputing and #BigData. #AI\"\n",
    "]\n",
    "posts_rdd = sc.parallelize(post)"
   ]
  },
  {
   "cell_type": "code",
   "execution_count": 6,
   "metadata": {},
   "outputs": [
    {
     "name": "stderr",
     "output_type": "stream",
     "text": [
      "                                                                                \r"
     ]
    },
    {
     "data": {
      "text/plain": [
       "['#MachineLearning',\n",
       " '#AI!',\n",
       " '#DataScience',\n",
       " '#BigData',\n",
       " '#DataEngineering.',\n",
       " '#AI',\n",
       " '#PySpark',\n",
       " '#DataScience.',\n",
       " '#BigData',\n",
       " '#DeepLearning',\n",
       " '#NeuralNetworks.',\n",
       " '#AI',\n",
       " '#PySpark',\n",
       " '#Hadoop.',\n",
       " '#BigData',\n",
       " '#NaturalLanguageProcessing',\n",
       " '#AI.',\n",
       " '#DataScience',\n",
       " '#DataVisualization.',\n",
       " '#DataScience',\n",
       " '#AI',\n",
       " '#MachineLearning!',\n",
       " '#BigData',\n",
       " '#DataEngineering',\n",
       " '#PySpark.',\n",
       " '#DataScience',\n",
       " '#CloudComputing',\n",
       " '#BigData.',\n",
       " '#AI']"
      ]
     },
     "execution_count": 6,
     "metadata": {},
     "output_type": "execute_result"
    }
   ],
   "source": [
    "def extract_hashtags(post):\n",
    "    return [htag for htag in post.split() if htag.startswith('#')]\n",
    "\n",
    "hashtags_rdd = posts_rdd.flatMap(extract_hashtags)\n",
    "hashtags_rdd.collect()"
   ]
  },
  {
   "cell_type": "code",
   "execution_count": 7,
   "metadata": {},
   "outputs": [
    {
     "data": {
      "text/plain": [
       "[('#MachineLearning', 1),\n",
       " ('#AI!', 1),\n",
       " ('#DataScience', 1),\n",
       " ('#BigData', 1),\n",
       " ('#DataEngineering.', 1),\n",
       " ('#AI', 1),\n",
       " ('#PySpark', 1),\n",
       " ('#DataScience.', 1),\n",
       " ('#BigData', 1),\n",
       " ('#DeepLearning', 1),\n",
       " ('#NeuralNetworks.', 1),\n",
       " ('#AI', 1),\n",
       " ('#PySpark', 1),\n",
       " ('#Hadoop.', 1),\n",
       " ('#BigData', 1),\n",
       " ('#NaturalLanguageProcessing', 1),\n",
       " ('#AI.', 1),\n",
       " ('#DataScience', 1),\n",
       " ('#DataVisualization.', 1),\n",
       " ('#DataScience', 1),\n",
       " ('#AI', 1),\n",
       " ('#MachineLearning!', 1),\n",
       " ('#BigData', 1),\n",
       " ('#DataEngineering', 1),\n",
       " ('#PySpark.', 1),\n",
       " ('#DataScience', 1),\n",
       " ('#CloudComputing', 1),\n",
       " ('#BigData.', 1),\n",
       " ('#AI', 1)]"
      ]
     },
     "execution_count": 7,
     "metadata": {},
     "output_type": "execute_result"
    }
   ],
   "source": [
    "mapped_hashtags_rdd = hashtags_rdd.map(lambda x: (x, 1))\n",
    "mapped_hashtags_rdd.collect()"
   ]
  },
  {
   "cell_type": "code",
   "execution_count": 9,
   "metadata": {},
   "outputs": [
    {
     "data": {
      "text/plain": [
       "[('#AI!', 1),\n",
       " ('#DataScience', 4),\n",
       " ('#BigData', 4),\n",
       " ('#AI', 4),\n",
       " ('#Hadoop.', 1),\n",
       " ('#DataEngineering', 1),\n",
       " ('#CloudComputing', 1),\n",
       " ('#BigData.', 1),\n",
       " ('#MachineLearning', 1),\n",
       " ('#DataEngineering.', 1),\n",
       " ('#PySpark', 2),\n",
       " ('#DataScience.', 1),\n",
       " ('#DeepLearning', 1),\n",
       " ('#NeuralNetworks.', 1),\n",
       " ('#NaturalLanguageProcessing', 1),\n",
       " ('#AI.', 1),\n",
       " ('#DataVisualization.', 1),\n",
       " ('#MachineLearning!', 1),\n",
       " ('#PySpark.', 1)]"
      ]
     },
     "execution_count": 9,
     "metadata": {},
     "output_type": "execute_result"
    }
   ],
   "source": [
    "mapped_hashtags_rdd = mapped_hashtags_rdd.reduceByKey(lambda x, y: x + y)\n",
    "mapped_hashtags_rdd.collect()"
   ]
  }
 ],
 "metadata": {
  "kernelspec": {
   "display_name": "Python 3 (ipykernel)",
   "language": "python",
   "name": "python3"
  },
  "language_info": {
   "codemirror_mode": {
    "name": "ipython",
    "version": 3
   },
   "file_extension": ".py",
   "mimetype": "text/x-python",
   "name": "python",
   "nbconvert_exporter": "python",
   "pygments_lexer": "ipython3",
   "version": "3.11.6"
  }
 },
 "nbformat": 4,
 "nbformat_minor": 2
}
