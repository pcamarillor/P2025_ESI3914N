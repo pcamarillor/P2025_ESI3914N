{
 "cells": [
  {
   "cell_type": "markdown",
   "metadata": {},
   "source": [
    "# <center> <img src=\"img/ITESOLogo.png\" alt=\"ITESO\" width=\"480\" height=\"130\"> </center>\n",
    "# <center> **Departamento de Electrónica, Sistemas e Informática** </center>\n",
    "---\n",
    "## <center> Program: P2025_ESI3914N  </center>\n",
    "---\n",
    "### <center> **Spring 2025** </center>\n",
    "---\n",
    "\n",
    "**Lab 03**:\n",
    "\n",
    "**Date**: 12/02/2025\n",
    "\n",
    "**Student Name**: Ferdinand Josef Bierbaum Aguilar\n",
    "\n",
    "**Professor**: Pablo Camarillo Ramirez"
   ]
  },
  {
   "cell_type": "code",
   "execution_count": 62,
   "metadata": {},
   "outputs": [],
   "source": [
    "import findspark\n",
    "findspark.init()"
   ]
  },
  {
   "cell_type": "code",
   "execution_count": 63,
   "metadata": {},
   "outputs": [],
   "source": [
    "from pyspark.sql import SparkSession\n",
    "\n",
    "spark = SparkSession.builder \\\n",
    "    .appName(\"Map-Reduce-Examples\") \\\n",
    "    .master(\"spark://2e9c357ab096:7077\") \\\n",
    "    .config(\"spark.ui.port\",\"4040\") \\\n",
    "    .getOrCreate()\n",
    "\n",
    "# Create SparkContext\n",
    "sc = spark.sparkContext\n",
    "sc.setLogLevel(\"ERROR\")"
   ]
  },
  {
   "cell_type": "code",
   "execution_count": 64,
   "metadata": {},
   "outputs": [],
   "source": [
    "posts = [\n",
    "    \"Excited to start learning #MachineLearning and #AI! #DataScience\",\n",
    "    \"Just finished a great book on #BigData and #DataEngineering. #AI\",\n",
    "    \"Attending a workshop on #PySpark and #DataScience. #BigData\",\n",
    "    \"Exploring the world of #DeepLearning and #NeuralNetworks. #AI\",\n",
    "    \"Working on a project using #PySpark and #Hadoop. #BigData\",\n",
    "    \"Reading about #NaturalLanguageProcessing and #AI. #DataScience\",\n",
    "    \"Just completed a course on #DataVisualization. #DataScience\",\n",
    "    \"Excited about the future of #AI and #MachineLearning! #BigData\",\n",
    "    \"Learning #DataEngineering with #PySpark. #DataScience\",\n",
    "    \"Exploring #CloudComputing and #BigData. #AI\"\n",
    "]\n",
    "\n",
    "rdd = sc.parallelize(posts)"
   ]
  },
  {
   "cell_type": "code",
   "execution_count": 65,
   "metadata": {},
   "outputs": [
    {
     "name": "stderr",
     "output_type": "stream",
     "text": [
      "[Stage 0:>                                                          (0 + 1) / 2]\r"
     ]
    },
    {
     "name": "stdout",
     "output_type": "stream",
     "text": [
      "Flat Map Hash Tag:  ['#MachineLearning', '#AI!', '#DataScience', '#BigData', '#DataEngineering.', '#AI', '#PySpark', '#DataScience.', '#BigData', '#DeepLearning', '#NeuralNetworks.', '#AI', '#PySpark', '#Hadoop.', '#BigData', '#NaturalLanguageProcessing', '#AI.', '#DataScience', '#DataVisualization.', '#DataScience', '#AI', '#MachineLearning!', '#BigData', '#DataEngineering', '#PySpark.', '#DataScience', '#CloudComputing', '#BigData.', '#AI']\n"
     ]
    },
    {
     "name": "stderr",
     "output_type": "stream",
     "text": [
      "                                                                                \r"
     ]
    }
   ],
   "source": [
    "def extract_hashtag(post):\n",
    "    return [word for word in post.split() if word.startswith('#')]\n",
    "\n",
    "# Flat Map\n",
    "flat_map_hashtag = rdd.flatMap(extract_hashtag)\n",
    "print(\"Flat Map Hash Tag: \", flat_map_hashtag.collect())"
   ]
  },
  {
   "cell_type": "code",
   "execution_count": 66,
   "metadata": {},
   "outputs": [
    {
     "name": "stdout",
     "output_type": "stream",
     "text": [
      "Pairs Hashtag:  [('#MachineLearning', 1), ('#AI!', 1), ('#DataScience', 1), ('#BigData', 1), ('#DataEngineering.', 1), ('#AI', 1), ('#PySpark', 1), ('#DataScience.', 1), ('#BigData', 1), ('#DeepLearning', 1), ('#NeuralNetworks.', 1), ('#AI', 1), ('#PySpark', 1), ('#Hadoop.', 1), ('#BigData', 1), ('#NaturalLanguageProcessing', 1), ('#AI.', 1), ('#DataScience', 1), ('#DataVisualization.', 1), ('#DataScience', 1), ('#AI', 1), ('#MachineLearning!', 1), ('#BigData', 1), ('#DataEngineering', 1), ('#PySpark.', 1), ('#DataScience', 1), ('#CloudComputing', 1), ('#BigData.', 1), ('#AI', 1)]\n"
     ]
    }
   ],
   "source": [
    "# Pairs\n",
    "\n",
    "pairs_map = flat_map_hashtag.map(lambda x: (x, 1))\n",
    "print(\"Pairs Hashtag: \", pairs_map.collect())"
   ]
  },
  {
   "cell_type": "code",
   "execution_count": 67,
   "metadata": {},
   "outputs": [
    {
     "name": "stdout",
     "output_type": "stream",
     "text": [
      "#MachineLearning: 1\n",
      "#AI!: 1\n",
      "#DataScience: 4\n",
      "#BigData: 4\n",
      "#DataEngineering.: 1\n",
      "#AI: 4\n",
      "#PySpark: 2\n",
      "#DataScience.: 1\n",
      "#DeepLearning: 1\n",
      "#NeuralNetworks.: 1\n",
      "#Hadoop.: 1\n",
      "#NaturalLanguageProcessing: 1\n",
      "#AI.: 1\n",
      "#DataVisualization.: 1\n",
      "#MachineLearning!: 1\n",
      "#DataEngineering: 1\n",
      "#PySpark.: 1\n",
      "#CloudComputing: 1\n",
      "#BigData.: 1\n"
     ]
    }
   ],
   "source": [
    "# Ocurrences\n",
    "\n",
    "occurrences_map = flat_map_hashtag.countByValue()\n",
    "for word, count in occurrences_map.items():\n",
    "    print(f\"{word}: {count}\")"
   ]
  },
  {
   "cell_type": "code",
   "execution_count": 68,
   "metadata": {},
   "outputs": [
    {
     "name": "stdout",
     "output_type": "stream",
     "text": [
      "Length Hashtag:  [('#MachineLearning', 15), ('#AI!', 3), ('#DataScience', 11), ('#BigData', 7), ('#DataEngineering.', 16), ('#AI', 2), ('#PySpark', 7), ('#DataScience.', 12), ('#BigData', 7), ('#DeepLearning', 12), ('#NeuralNetworks.', 15), ('#AI', 2), ('#PySpark', 7), ('#Hadoop.', 7), ('#BigData', 7), ('#NaturalLanguageProcessing', 25), ('#AI.', 3), ('#DataScience', 11), ('#DataVisualization.', 18), ('#DataScience', 11), ('#AI', 2), ('#MachineLearning!', 16), ('#BigData', 7), ('#DataEngineering', 15), ('#PySpark.', 8), ('#DataScience', 11), ('#CloudComputing', 14), ('#BigData.', 8), ('#AI', 2)]\n"
     ]
    }
   ],
   "source": [
    "# Length\n",
    "\n",
    "length_map = flat_map_hashtag.map(lambda x: (x, len(x) - 1))\n",
    "length_map_occurences = length_map.groupByKey()\n",
    "\n",
    "print(\"Length Hashtag: \", length_map.collect())"
   ]
  },
  {
   "cell_type": "code",
   "execution_count": 69,
   "metadata": {},
   "outputs": [],
   "source": [
    "sc.stop()"
   ]
  }
 ],
 "metadata": {
  "kernelspec": {
   "display_name": "Python 3 (ipykernel)",
   "language": "python",
   "name": "python3"
  },
  "language_info": {
   "codemirror_mode": {
    "name": "ipython",
    "version": 3
   },
   "file_extension": ".py",
   "mimetype": "text/x-python",
   "name": "python",
   "nbconvert_exporter": "python",
   "pygments_lexer": "ipython3",
   "version": "3.11.6"
  }
 },
 "nbformat": 4,
 "nbformat_minor": 2
}
