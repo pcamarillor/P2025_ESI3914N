{
 "cells": [
  {
   "cell_type": "markdown",
   "metadata": {},
   "source": [
    "# <center> <img src=\"../img/ITESOLogo.png\" alt=\"ITESO\" width=\"480\" height=\"130\"> </center>\n",
    "# <center> **Departamento de Electrónica, Sistemas e Informática** </center>\n",
    "---\n",
    "## <center> Program: _Computer Systems Engineering_  </center>\n",
    "---\n",
    "### <center> **Spring 2025** </center>\n",
    "---\n",
    "\n",
    "**Lab XX**: Lab 03\n",
    "\n",
    "**Date**: 12/02/2025\n",
    "\n",
    "**Student**: Diego Orozco\n",
    "\n",
    "**Professor**: Pablo Camarillo Ramirez"
   ]
  },
  {
   "cell_type": "code",
   "execution_count": 1,
   "metadata": {},
   "outputs": [],
   "source": [
    "import findspark\n",
    "findspark.init()"
   ]
  },
  {
   "cell_type": "code",
   "execution_count": 2,
   "metadata": {},
   "outputs": [
    {
     "name": "stderr",
     "output_type": "stream",
     "text": [
      "Setting default log level to \"WARN\".\n",
      "To adjust logging level use sc.setLogLevel(newLevel). For SparkR, use setLogLevel(newLevel).\n",
      "25/02/16 17:12:32 WARN NativeCodeLoader: Unable to load native-hadoop library for your platform... using builtin-java classes where applicable\n"
     ]
    }
   ],
   "source": [
    "from pyspark.sql import SparkSession\n",
    "\n",
    "spark = SparkSession.builder \\\n",
    "    .appName(\"Lab-03\") \\\n",
    "    .master(\"spark://368ad5a83fd7:7077\") \\\n",
    "    .config(\"spark.ui.port\",\"4040\") \\\n",
    "    .getOrCreate()\n",
    "\n",
    "# Create SparkContext\n",
    "sc = spark.sparkContext\n",
    "sc.setLogLevel(\"ERROR\")"
   ]
  },
  {
   "cell_type": "code",
   "execution_count": 3,
   "metadata": {},
   "outputs": [],
   "source": [
    "posts = [\n",
    "    \"Excited to start learning #MachineLearning and #AI! #DataScience\",\n",
    "    \"Just finished a great book on #BigData and #DataEngineering. #AI\",\n",
    "    \"Attending a workshop on #PySpark and #DataScience. #BigData\",\n",
    "    \"Exploring the world of #DeepLearning and #NeuralNetworks. #AI\",\n",
    "    \"Working on a project using #PySpark and #Hadoop. #BigData\",\n",
    "    \"Reading about #NaturalLanguageProcessing and #AI. #DataScience\",\n",
    "    \"Just completed a course on #DataVisualization. #DataScience\",\n",
    "    \"Excited about the future of #AI and #MachineLearning! #BigData\",\n",
    "    \"Learning #DataEngineering with #PySpark. #DataScience\",\n",
    "    \"Exploring #CloudComputing and #BigData. #AI\"\n",
    "]\n",
    "\n",
    "posts_rdd = sc.parallelize(posts)"
   ]
  },
  {
   "cell_type": "markdown",
   "metadata": {},
   "source": [
    "# Extract hashtags"
   ]
  },
  {
   "cell_type": "code",
   "execution_count": 4,
   "metadata": {},
   "outputs": [
    {
     "name": "stderr",
     "output_type": "stream",
     "text": [
      "                                                                                \r"
     ]
    },
    {
     "data": {
      "text/plain": [
       "['#MachineLearning',\n",
       " '#AI',\n",
       " '#DataScience',\n",
       " '#BigData',\n",
       " '#DataEngineering',\n",
       " '#AI',\n",
       " '#PySpark',\n",
       " '#DataScience',\n",
       " '#BigData',\n",
       " '#DeepLearning',\n",
       " '#NeuralNetworks',\n",
       " '#AI',\n",
       " '#PySpark',\n",
       " '#Hadoop',\n",
       " '#BigData',\n",
       " '#NaturalLanguageProcessing',\n",
       " '#AI',\n",
       " '#DataScience',\n",
       " '#DataVisualization',\n",
       " '#DataScience',\n",
       " '#AI',\n",
       " '#MachineLearning',\n",
       " '#BigData',\n",
       " '#DataEngineering',\n",
       " '#PySpark',\n",
       " '#DataScience',\n",
       " '#CloudComputing',\n",
       " '#BigData',\n",
       " '#AI']"
      ]
     },
     "execution_count": 4,
     "metadata": {},
     "output_type": "execute_result"
    }
   ],
   "source": [
    "def extract_hashtags(posts):\n",
    "    return [htag.rstrip('.!') for htag in posts.split() if htag.startswith('#')]\n",
    "\n",
    "hashtags_rdd = posts_rdd.flatMap(extract_hashtags)\n",
    "hashtags_rdd.collect()"
   ]
  },
  {
   "cell_type": "markdown",
   "metadata": {},
   "source": [
    "# Map hashtags to pairs"
   ]
  },
  {
   "cell_type": "code",
   "execution_count": 13,
   "metadata": {},
   "outputs": [
    {
     "data": {
      "text/plain": [
       "[('#MachineLearning', 1),\n",
       " ('#AI', 1),\n",
       " ('#DataScience', 1),\n",
       " ('#BigData', 1),\n",
       " ('#DataEngineering', 1),\n",
       " ('#AI', 1),\n",
       " ('#PySpark', 1),\n",
       " ('#DataScience', 1),\n",
       " ('#BigData', 1),\n",
       " ('#DeepLearning', 1),\n",
       " ('#NeuralNetworks', 1),\n",
       " ('#AI', 1),\n",
       " ('#PySpark', 1),\n",
       " ('#Hadoop', 1),\n",
       " ('#BigData', 1),\n",
       " ('#NaturalLanguageProcessing', 1),\n",
       " ('#AI', 1),\n",
       " ('#DataScience', 1),\n",
       " ('#DataVisualization', 1),\n",
       " ('#DataScience', 1),\n",
       " ('#AI', 1),\n",
       " ('#MachineLearning', 1),\n",
       " ('#BigData', 1),\n",
       " ('#DataEngineering', 1),\n",
       " ('#PySpark', 1),\n",
       " ('#DataScience', 1),\n",
       " ('#CloudComputing', 1),\n",
       " ('#BigData', 1),\n",
       " ('#AI', 1)]"
      ]
     },
     "execution_count": 13,
     "metadata": {},
     "output_type": "execute_result"
    }
   ],
   "source": [
    "mapped_htags_rdd = hashtags_rdd.map(lambda x: (x, 1))\n",
    "mapped_htags_rdd.collect()"
   ]
  },
  {
   "cell_type": "markdown",
   "metadata": {},
   "source": [
    "# Count hashtags occurrences"
   ]
  },
  {
   "cell_type": "code",
   "execution_count": 10,
   "metadata": {},
   "outputs": [
    {
     "name": "stdout",
     "output_type": "stream",
     "text": [
      "#MachineLearning: 2\n",
      "#AI: 6\n",
      "#DataScience: 5\n",
      "#BigData: 5\n",
      "#DataEngineering: 2\n",
      "#PySpark: 3\n",
      "#DeepLearning: 1\n",
      "#NeuralNetworks: 1\n",
      "#Hadoop: 1\n",
      "#NaturalLanguageProcessing: 1\n",
      "#DataVisualization: 1\n",
      "#CloudComputing: 1\n"
     ]
    }
   ],
   "source": [
    "hashtags_count_rdd = hashtags_rdd.countByValue()\n",
    "for htag, occ in hashtags_count_rdd.items():\n",
    "    print(f\"{htag}: {occ}\")"
   ]
  },
  {
   "cell_type": "markdown",
   "metadata": {},
   "source": [
    "# Group hashtags by length"
   ]
  },
  {
   "cell_type": "code",
   "execution_count": 9,
   "metadata": {},
   "outputs": [
    {
     "name": "stdout",
     "output_type": "stream",
     "text": [
      "Length 16: ['#MachineLearning', '#DataEngineering', '#MachineLearning', '#DataEngineering']\n",
      "Length 12: ['#DataScience', '#DataScience', '#DataScience', '#DataScience', '#DataScience']\n",
      "Length 8: ['#BigData', '#PySpark', '#BigData', '#PySpark', '#BigData', '#BigData', '#PySpark', '#BigData']\n",
      "Length 26: ['#NaturalLanguageProcessing']\n",
      "Length 18: ['#DataVisualization']\n",
      "Length 3: ['#AI', '#AI', '#AI', '#AI', '#AI', '#AI']\n",
      "Length 13: ['#DeepLearning']\n",
      "Length 15: ['#NeuralNetworks', '#CloudComputing']\n",
      "Length 7: ['#Hadoop']\n"
     ]
    }
   ],
   "source": [
    "hashtags_length_rdd = hashtags_rdd.map(lambda x: (len(x), x)).groupByKey()\n",
    "\n",
    "for length, hashtags in hashtags_length_rdd.collect():\n",
    "    print(f\"Length {length}: {list(hashtags)}\")"
   ]
  },
  {
   "cell_type": "code",
   "execution_count": 6,
   "metadata": {},
   "outputs": [],
   "source": [
    "sc.stop()"
   ]
  }
 ],
 "metadata": {
  "kernelspec": {
   "display_name": "Python 3 (ipykernel)",
   "language": "python",
   "name": "python3"
  },
  "language_info": {
   "codemirror_mode": {
    "name": "ipython",
    "version": 3
   },
   "file_extension": ".py",
   "mimetype": "text/x-python",
   "name": "python",
   "nbconvert_exporter": "python",
   "pygments_lexer": "ipython3",
   "version": "3.11.6"
  }
 },
 "nbformat": 4,
 "nbformat_minor": 2
}
