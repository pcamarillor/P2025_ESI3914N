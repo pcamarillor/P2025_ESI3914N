{
 "cells": [
  {
   "cell_type": "markdown",
   "metadata": {},
   "source": [
    "# <center> <img src=\"../img/ITESOLogo.png\" alt=\"ITESO\" width=\"480\" height=\"130\"> </center>\n",
    "# <center> **Departamento de Electrónica, Sistemas e Informática** </center>\n",
    "---\n",
    "## <center> **Procesamiento de Datos Masivos (Big Data)** </center>\n",
    "---\n",
    "### <center> **Spring 2025** </center>\n",
    "---\n",
    "### <center> **Laboratorio 02** </center>\n",
    "---\n",
    "**Professor**: Pablo Camarillo Ramirez<br>\n",
    "**Alumno**: Francisco Aarón Ortega Anguiano"
   ]
  },
  {
   "cell_type": "code",
   "execution_count": 65,
   "metadata": {},
   "outputs": [],
   "source": [
    "# Initialize findspark to get acces to de PySpark installation\n",
    "import findspark\n",
    "findspark.init()"
   ]
  },
  {
   "cell_type": "code",
   "execution_count": 66,
   "metadata": {},
   "outputs": [],
   "source": [
    "from pyspark.sql import SparkSession\n",
    "\n",
    "# Create connection to the spark cluster\n",
    "spark = SparkSession.builder \\\n",
    "    .appName(\"Lab 03 - Aaron\") \\\n",
    "    .master(\"spark://4956a989a50c:7077\") \\\n",
    "    .config(\"spark.ui.port\",\"4040\") \\\n",
    "    .getOrCreate()\n",
    "\n",
    "# Create SparkContext\n",
    "sc = spark.sparkContext\n",
    "sc.setLogLevel(\"ERROR\")"
   ]
  },
  {
   "cell_type": "code",
   "execution_count": 67,
   "metadata": {},
   "outputs": [],
   "source": [
    "# Create a RDD with the input\n",
    "posts = [\n",
    "\t\"Excited to start learning #MachineLearning and #AI! #DataScience\",\n",
    "\t\"Just finished a great book on #BigData and #DataEngineering. #AI\",\n",
    "\t\"Attending a workshop on #PySpark and #DataScience. #BigData\",\n",
    "\t\"Exploring the world of #DeepLearning and #NeuralNetworks. #AI\",\n",
    "\t\"Working on a project using #PySpark and #Hadoop. #BigData\",\n",
    "\t\"Reading about #NaturalLanguageProcessing and #AI. #DataScience\",\n",
    "\t\"Just completed a course on #DataVisualization. #DataScience\",\n",
    "\t\"Excited about the future of #AI and #MachineLearning! #BigData\",\n",
    "\t\"Learning #DataEngineering with #PySpark. #DataScience\",\n",
    "\t\"Exploring #CloudComputing and #BigData. #AI\"\n",
    "]\n",
    "posts_rdd = sc.parallelize(posts)"
   ]
  },
  {
   "cell_type": "code",
   "execution_count": 68,
   "metadata": {},
   "outputs": [
    {
     "name": "stderr",
     "output_type": "stream",
     "text": [
      "                                                                                \r"
     ]
    },
    {
     "data": {
      "text/plain": [
       "['#MachineLearning',\n",
       " '#AI!',\n",
       " '#DataScience',\n",
       " '#BigData',\n",
       " '#DataEngineering.',\n",
       " '#AI',\n",
       " '#PySpark',\n",
       " '#DataScience.',\n",
       " '#BigData',\n",
       " '#DeepLearning',\n",
       " '#NeuralNetworks.',\n",
       " '#AI',\n",
       " '#PySpark',\n",
       " '#Hadoop.',\n",
       " '#BigData',\n",
       " '#NaturalLanguageProcessing',\n",
       " '#AI.',\n",
       " '#DataScience',\n",
       " '#DataVisualization.',\n",
       " '#DataScience',\n",
       " '#AI',\n",
       " '#MachineLearning!',\n",
       " '#BigData',\n",
       " '#DataEngineering',\n",
       " '#PySpark.',\n",
       " '#DataScience',\n",
       " '#CloudComputing',\n",
       " '#BigData.',\n",
       " '#AI']"
      ]
     },
     "execution_count": 68,
     "metadata": {},
     "output_type": "execute_result"
    }
   ],
   "source": [
    "def extract_hashtags(post):\n",
    "\t# Use a list comprehension to split the post and return the ones that start with a '#'\n",
    "\treturn [htag for htag in post.split() if htag.startswith('#')]\n",
    "\n",
    "# Use flatMap to send the post one by one and to flatten the result.\n",
    "hashtags_rdd = posts_rdd.flatMap(extract_hashtags)\n",
    "hashtags_rdd.collect()"
   ]
  },
  {
   "cell_type": "code",
   "execution_count": 69,
   "metadata": {},
   "outputs": [
    {
     "name": "stdout",
     "output_type": "stream",
     "text": [
      "#MachineLearning: 1\n",
      "#AI!: 1\n",
      "#DataScience: 4\n",
      "#BigData: 4\n",
      "#DataEngineering.: 1\n",
      "#AI: 4\n",
      "#PySpark: 2\n",
      "#DataScience.: 1\n",
      "#DeepLearning: 1\n",
      "#NeuralNetworks.: 1\n",
      "#Hadoop.: 1\n",
      "#NaturalLanguageProcessing: 1\n",
      "#AI.: 1\n",
      "#DataVisualization.: 1\n",
      "#MachineLearning!: 1\n",
      "#DataEngineering: 1\n",
      "#PySpark.: 1\n",
      "#CloudComputing: 1\n",
      "#BigData.: 1\n"
     ]
    }
   ],
   "source": [
    "# With the list of htags that we got we can count each by the value we retrieved in the previous part\n",
    "count_htags_rdd = hashtags_rdd.countByValue()\n",
    "for htag, occ in count_htags_rdd.items():\n",
    "\tprint(f\"{htag}: {occ}\")"
   ]
  },
  {
   "cell_type": "code",
   "execution_count": 70,
   "metadata": {},
   "outputs": [
    {
     "data": {
      "text/plain": [
       "[('#MachineLearning', 1),\n",
       " ('#AI!', 1),\n",
       " ('#DataScience', 1),\n",
       " ('#BigData', 1),\n",
       " ('#DataEngineering.', 1),\n",
       " ('#AI', 1),\n",
       " ('#PySpark', 1),\n",
       " ('#DataScience.', 1),\n",
       " ('#BigData', 1),\n",
       " ('#DeepLearning', 1),\n",
       " ('#NeuralNetworks.', 1),\n",
       " ('#AI', 1),\n",
       " ('#PySpark', 1),\n",
       " ('#Hadoop.', 1),\n",
       " ('#BigData', 1),\n",
       " ('#NaturalLanguageProcessing', 1),\n",
       " ('#AI.', 1),\n",
       " ('#DataScience', 1),\n",
       " ('#DataVisualization.', 1),\n",
       " ('#DataScience', 1),\n",
       " ('#AI', 1),\n",
       " ('#MachineLearning!', 1),\n",
       " ('#BigData', 1),\n",
       " ('#DataEngineering', 1),\n",
       " ('#PySpark.', 1),\n",
       " ('#DataScience', 1),\n",
       " ('#CloudComputing', 1),\n",
       " ('#BigData.', 1),\n",
       " ('#AI', 1)]"
      ]
     },
     "execution_count": 70,
     "metadata": {},
     "output_type": "execute_result"
    }
   ],
   "source": [
    "# Map the htags_rdd so it becomes a list of tuples\n",
    "mapped_htags_rdd = hashtags_rdd.map(lambda x : (x, 1))\n",
    "mapped_htags_rdd.collect()"
   ]
  },
  {
   "cell_type": "code",
   "execution_count": 71,
   "metadata": {},
   "outputs": [
    {
     "data": {
      "text/plain": [
       "[('#AI!', 1),\n",
       " ('#DataScience', 4),\n",
       " ('#BigData', 4),\n",
       " ('#AI', 4),\n",
       " ('#Hadoop.', 1),\n",
       " ('#DataEngineering', 1),\n",
       " ('#CloudComputing', 1),\n",
       " ('#BigData.', 1),\n",
       " ('#MachineLearning', 1),\n",
       " ('#DataEngineering.', 1),\n",
       " ('#PySpark', 2),\n",
       " ('#DataScience.', 1),\n",
       " ('#DeepLearning', 1),\n",
       " ('#NeuralNetworks.', 1),\n",
       " ('#NaturalLanguageProcessing', 1),\n",
       " ('#AI.', 1),\n",
       " ('#DataVisualization.', 1),\n",
       " ('#MachineLearning!', 1),\n",
       " ('#PySpark.', 1)]"
      ]
     },
     "execution_count": 71,
     "metadata": {},
     "output_type": "execute_result"
    }
   ],
   "source": [
    "# Use the list of tuples to reduce the list by each \"key\" and add the occurence\n",
    "reduced_htag_rdd = mapped_htags_rdd.reduceByKey(lambda x, y: x + y)\n",
    "reduced_htag_rdd.collect()"
   ]
  },
  {
   "cell_type": "code",
   "execution_count": 72,
   "metadata": {},
   "outputs": [
    {
     "name": "stdout",
     "output_type": "stream",
     "text": [
      "[(4, [('#AI!', 1), ('#AI.', 1)]), (12, [('#DataScience', 4)]), (8, [('#BigData', 4), ('#Hadoop.', 1), ('#PySpark', 2)]), (16, [('#DataEngineering', 1), ('#MachineLearning', 1), ('#NeuralNetworks.', 1)]), (26, [('#NaturalLanguageProcessing', 1)]), (3, [('#AI', 4)]), (15, [('#CloudComputing', 1)]), (9, [('#BigData.', 1), ('#PySpark.', 1)]), (17, [('#DataEngineering.', 1), ('#MachineLearning!', 1)]), (13, [('#DataScience.', 1), ('#DeepLearning', 1)]), (19, [('#DataVisualization.', 1)])]\n"
     ]
    }
   ],
   "source": [
    "# Use map to transform the tuples into (len(key), tuple), then us groupByKey to group all the ones that have the same len\n",
    "same_len_rdd = reduced_htag_rdd.map(lambda x: (len(x[0]), x)).groupByKey()\n",
    "\n",
    "# Transform into list to see it better\n",
    "# list(v) turn the iterator of values into a list for a better output\n",
    "result = [(k, list(v)) for k, v in same_len_rdd.collect()]\n",
    "print(result)"
   ]
  },
  {
   "cell_type": "code",
   "execution_count": 73,
   "metadata": {},
   "outputs": [],
   "source": [
    "# Stop the SparkContext\n",
    "sc.stop()"
   ]
  }
 ],
 "metadata": {
  "kernelspec": {
   "display_name": "Python 3 (ipykernel)",
   "language": "python",
   "name": "python3"
  },
  "language_info": {
   "codemirror_mode": {
    "name": "ipython",
    "version": 3
   },
   "file_extension": ".py",
   "mimetype": "text/x-python",
   "name": "python",
   "nbconvert_exporter": "python",
   "pygments_lexer": "ipython3",
   "version": "3.11.6"
  }
 },
 "nbformat": 4,
 "nbformat_minor": 2
}
