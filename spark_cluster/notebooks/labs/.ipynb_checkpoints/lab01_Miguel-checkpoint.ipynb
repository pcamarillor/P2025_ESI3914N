{
 "cells": [
  {
   "cell_type": "code",
   "execution_count": 1,
   "id": "60f5a69f",
   "metadata": {},
   "outputs": [
    {
     "name": "stdout",
     "output_type": "stream",
     "text": [
      "The missing number is  6\n"
     ]
    }
   ],
   "source": [
    "array = [0, 1, 2, 3, 4 ,5, 7]\n",
    "count = 0\n",
    "\n",
    "for i in array:\n",
    "    if (count != i):\n",
    "        print(\"The missing number is \", count)\n",
    "        count = count+1\n",
    "    count = count + 1\n"
   ]
  },
  {
   "cell_type": "code",
   "execution_count": null,
   "id": "843d9321-2450-411a-bada-8223ac9164c3",
   "metadata": {},
   "outputs": [],
   "source": []
  }
 ],
 "metadata": {
  "kernelspec": {
   "display_name": "Python 3 (ipykernel)",
   "language": "python",
   "name": "python3"
  },
  "language_info": {
   "codemirror_mode": {
    "name": "ipython",
    "version": 3
   },
   "file_extension": ".py",
   "mimetype": "text/x-python",
   "name": "python",
   "nbconvert_exporter": "python",
   "pygments_lexer": "ipython3",
   "version": "3.11.6"
  }
 },
 "nbformat": 4,
 "nbformat_minor": 5
}
