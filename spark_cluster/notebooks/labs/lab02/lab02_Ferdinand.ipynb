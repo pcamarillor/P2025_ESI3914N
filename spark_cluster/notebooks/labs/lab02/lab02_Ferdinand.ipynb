{
 "cells": [
  {
   "cell_type": "code",
   "execution_count": 7,
   "metadata": {},
   "outputs": [],
   "source": [
    "class Calculator():\n",
    "    def __init__(self):\n",
    "        self.operations = {\n",
    "            'add': self.add,\n",
    "            'subtract': self.subtract,\n",
    "            'multiply': self.multiply,\n",
    "            'divide': self.divide\n",
    "        }\n",
    "    \n",
    "    def add(self, a, b):\n",
    "        return a + b\n",
    "    \n",
    "    def subtract(self, a, b):\n",
    "        return a - b\n",
    "    \n",
    "    def multiply(self, a, b):\n",
    "        return a * b\n",
    "    \n",
    "    def divide(self, a, b):\n",
    "        if b != 0:\n",
    "            return a / b\n",
    "        else:\n",
    "            raise ValueError(\"Cannot divide by zero\")\n",
    "        \n",
    "    def exectute_operation(self, operation, a, b):\n",
    "        if operation in self.operations:\n",
    "            result = self.operations[operation](a, b)\n",
    "            return result\n",
    "        else:\n",
    "            raise ValueError(f\"Invalid operation: {operation}\")"
   ]
  },
  {
   "cell_type": "code",
   "execution_count": 8,
   "metadata": {},
   "outputs": [
    {
     "name": "stdout",
     "output_type": "stream",
     "text": [
      "8\n"
     ]
    }
   ],
   "source": [
    "calc = Calculator()        \n",
    "print(calc.exectute_operation(\"add\", 5, 3))"
   ]
  }
 ],
 "metadata": {
  "kernelspec": {
   "display_name": "Python 3 (ipykernel)",
   "language": "python",
   "name": "python3"
  },
  "language_info": {
   "codemirror_mode": {
    "name": "ipython",
    "version": 3
   },
   "file_extension": ".py",
   "mimetype": "text/x-python",
   "name": "python",
   "nbconvert_exporter": "python",
   "pygments_lexer": "ipython3",
   "version": "3.11.6"
  }
 },
 "nbformat": 4,
 "nbformat_minor": 2
}
