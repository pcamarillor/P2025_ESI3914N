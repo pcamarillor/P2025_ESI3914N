{
 "cells": [
  {
   "cell_type": "code",
   "execution_count": 12,
   "metadata": {},
   "outputs": [
    {
     "name": "stdout",
     "output_type": "stream",
     "text": [
      "8\n",
      "2\n",
      "8\n",
      "2\n"
     ]
    }
   ],
   "source": [
    "class Calculator:\n",
    "    def execute_operation(self, operation, n1, n2):\n",
    "    \n",
    "        def add(x, y):\n",
    "            return x + y\n",
    "\n",
    "        def subtract(x, y):\n",
    "            return x - y\n",
    "\n",
    "        def multiply(x, y):\n",
    "            return x * y\n",
    "\n",
    "        def divide(x, y):\n",
    "            return x // y\n",
    "\n",
    "        operations = {\n",
    "            'add': add,\n",
    "            'subtract': subtract,\n",
    "            'multiply': multiply,\n",
    "            'divide': divide\n",
    "        }\n",
    "\n",
    "        return operations[operation](n1,n2)\n",
    "\n",
    "calc = Calculator()\n",
    "print(calc.execute_operation(\"add\", 5, 3))\n",
    "print(calc.execute_operation(\"subtract\", 5, 3))\n",
    "print(calc.execute_operation(\"multiply\", 4, 2))\n",
    "print(calc.execute_operation(\"divide\", 4, 2))"
   ]
  }
 ],
 "metadata": {
  "kernelspec": {
   "display_name": "Python 3 (ipykernel)",
   "language": "python",
   "name": "python3"
  },
  "language_info": {
   "codemirror_mode": {
    "name": "ipython",
    "version": 3
   },
   "file_extension": ".py",
   "mimetype": "text/x-python",
   "name": "python",
   "nbconvert_exporter": "python",
   "pygments_lexer": "ipython3",
   "version": "3.11.6"
  }
 },
 "nbformat": 4,
 "nbformat_minor": 2
}
