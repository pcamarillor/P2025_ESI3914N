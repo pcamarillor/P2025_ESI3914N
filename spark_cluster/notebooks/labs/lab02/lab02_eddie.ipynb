{
 "cells": [
  {
   "cell_type": "markdown",
   "metadata": {},
   "source": [
    "# Lab 02\n",
    "\n",
    "### Eddie Aguilar"
   ]
  },
  {
   "cell_type": "markdown",
   "metadata": {},
   "source": [
    "#### Instructions\n",
    "\n",
    "Create a calculator class that uses a dictionary to store operations (functions) as values and their names (e.g. \"add\", \"substract\", \"multiply\", \"divide\") as keys. Dynamically select and execute operations based on user input."
   ]
  },
  {
   "cell_type": "markdown",
   "metadata": {},
   "source": [
    "#### Example usage: \n",
    "\n",
    "calc = Calculator() <br>\n",
    "print(calc.execute_operation(\"add\", 5, 3)) <br>\n",
    "print(calc.execute_operation(\"multiply\", 4, 2))"
   ]
  },
  {
   "cell_type": "markdown",
   "metadata": {},
   "source": [
    "#### Import library "
   ]
  },
  {
   "cell_type": "code",
   "execution_count": 1,
   "metadata": {},
   "outputs": [],
   "source": [
    "from calculator import Calculator"
   ]
  },
  {
   "cell_type": "markdown",
   "metadata": {},
   "source": [
    "#### Use case "
   ]
  },
  {
   "cell_type": "code",
   "execution_count": 3,
   "metadata": {},
   "outputs": [
    {
     "name": "stdout",
     "output_type": "stream",
     "text": [
      "8\n",
      "2\n",
      "27\n",
      "4.5\n"
     ]
    }
   ],
   "source": [
    "calc = Calculator()\n",
    "print(calc.execute_operation(\"add\", 5, 3))\n",
    "print(calc.execute_operation(\"substract\", 4, 2))\n",
    "print(calc.execute_operation(\"multiply\", 9, 3))\n",
    "print(calc.execute_operation(\"divide\", 18, 4))"
   ]
  }
 ],
 "metadata": {
  "kernelspec": {
   "display_name": "base",
   "language": "python",
   "name": "python3"
  },
  "language_info": {
   "codemirror_mode": {
    "name": "ipython",
    "version": 3
   },
   "file_extension": ".py",
   "mimetype": "text/x-python",
   "name": "python",
   "nbconvert_exporter": "python",
   "pygments_lexer": "ipython3",
   "version": "3.11.4"
  }
 },
 "nbformat": 4,
 "nbformat_minor": 2
}
