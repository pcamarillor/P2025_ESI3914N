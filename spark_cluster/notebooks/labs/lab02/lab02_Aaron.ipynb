{
 "cells": [
  {
   "cell_type": "markdown",
   "metadata": {},
   "source": [
    "# <center> <img src=\"../img/ITESOLogo.png\" alt=\"ITESO\" width=\"480\" height=\"130\"> </center>\n",
    "# <center> **Departamento de Electrónica, Sistemas e Informática** </center>\n",
    "---\n",
    "## <center> **Procesamiento de Datos Masivos (Big Data)** </center>\n",
    "---\n",
    "### <center> **Spring 2025** </center>\n",
    "---\n",
    "### <center> **Laboratorio 02** </center>\n",
    "---\n",
    "**Professor**: Pablo Camarillo Ramirez<br>\n",
    "**Alumno**: Francisco Aarón Ortega Anguiano"
   ]
  },
  {
   "cell_type": "markdown",
   "metadata": {},
   "source": [
    "### Problem Statement:\n",
    "Create a `Calculator` class that uses a dictionary to store operations (functions) as *values* an their names (e.g. \"add\", \"subtract\", \"multiply\", \"divide\") ask *keys*. Dynamically select and execute operatiosn based on user input."
   ]
  },
  {
   "cell_type": "code",
   "execution_count": null,
   "metadata": {},
   "outputs": [
    {
     "name": "stdout",
     "output_type": "stream",
     "text": [
      "20\n",
      "0\n",
      "100\n",
      "1\n"
     ]
    },
    {
     "ename": "ValueError",
     "evalue": "No se puede divir entre 0",
     "output_type": "error",
     "traceback": [
      "\u001b[0;31m---------------------------------------------------------------------------\u001b[0m",
      "\u001b[0;31mValueError\u001b[0m                                Traceback (most recent call last)",
      "Cell \u001b[0;32mIn[3], line 16\u001b[0m\n\u001b[1;32m     14\u001b[0m \u001b[38;5;28mprint\u001b[39m(operations[\u001b[38;5;124m'\u001b[39m\u001b[38;5;124mmultiply\u001b[39m\u001b[38;5;124m'\u001b[39m](\u001b[38;5;241m10\u001b[39m,\u001b[38;5;241m10\u001b[39m));\n\u001b[1;32m     15\u001b[0m \u001b[38;5;28mprint\u001b[39m(operations[\u001b[38;5;124m'\u001b[39m\u001b[38;5;124mdivide\u001b[39m\u001b[38;5;124m'\u001b[39m](\u001b[38;5;241m10\u001b[39m,\u001b[38;5;241m10\u001b[39m));\n\u001b[0;32m---> 16\u001b[0m \u001b[38;5;28mprint\u001b[39m(\u001b[43moperations\u001b[49m\u001b[43m[\u001b[49m\u001b[38;5;124;43m'\u001b[39;49m\u001b[38;5;124;43mdivide\u001b[39;49m\u001b[38;5;124;43m'\u001b[39;49m\u001b[43m]\u001b[49m\u001b[43m(\u001b[49m\u001b[38;5;241;43m10\u001b[39;49m\u001b[43m,\u001b[49m\u001b[38;5;241;43m0\u001b[39;49m\u001b[43m)\u001b[49m);\n",
      "File \u001b[0;32m~/notebooks/lib/calculator_aaron_lec_05.py:13\u001b[0m, in \u001b[0;36mCalculator.divide\u001b[0;34m(self, dividend, divider)\u001b[0m\n\u001b[1;32m     11\u001b[0m \u001b[38;5;28;01mdef\u001b[39;00m \u001b[38;5;21mdivide\u001b[39m(\u001b[38;5;28mself\u001b[39m, dividend, divider):\n\u001b[1;32m     12\u001b[0m     \u001b[38;5;28;01mif\u001b[39;00m divider \u001b[38;5;241m==\u001b[39m \u001b[38;5;241m0\u001b[39m:\n\u001b[0;32m---> 13\u001b[0m         \u001b[38;5;28;01mraise\u001b[39;00m \u001b[38;5;167;01mValueError\u001b[39;00m(\u001b[38;5;124m\"\u001b[39m\u001b[38;5;124mNo se puede divir entre 0\u001b[39m\u001b[38;5;124m\"\u001b[39m)\n\u001b[1;32m     14\u001b[0m     \u001b[38;5;28;01mreturn\u001b[39;00m dividend \u001b[38;5;241m/\u001b[39m\u001b[38;5;241m/\u001b[39m divider\n",
      "\u001b[0;31mValueError\u001b[0m: No se puede divir entre 0"
     ]
    }
   ],
   "source": [
    "# Import Calculator class from module\n",
    "from calculator_aaron_lec_05 import Calculator\n",
    "# Initialize class\n",
    "calc = Calculator()\n",
    "\n",
    "# Asign Calculator functions as values in dictionary\n",
    "operations = {\n",
    "\t\"add\" : calc.add,\n",
    "\t\"substract\" : calc.substract,\n",
    "\t\"multiply\" : calc.multiply,\n",
    "\t\"divide\" : calc.divide,\n",
    "}\n",
    "\n",
    "# Use the functions\n",
    "print(operations['add'](10,10));\n",
    "print(operations['substract'](10,10));\n",
    "print(operations['multiply'](10,10));\n",
    "print(operations['divide'](10,10));\n",
    "print(operations['divide'](10,0));"
   ]
  }
 ],
 "metadata": {
  "kernelspec": {
   "display_name": "Python 3 (ipykernel)",
   "language": "python",
   "name": "python3"
  }
 },
 "nbformat": 4,
 "nbformat_minor": 2
}
