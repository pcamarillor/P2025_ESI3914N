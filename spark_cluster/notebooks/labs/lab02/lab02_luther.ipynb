{
 "cells": [
  {
   "cell_type": "code",
   "execution_count": 7,
   "metadata": {},
   "outputs": [],
   "source": [
    "class Calculator:\n",
    "    def __init__(self):\n",
    "        self.operations = {\n",
    "            \"add\": self.add,\n",
    "            \"subtract\": self.subtract,\n",
    "            \"multiply\": self.multiply,\n",
    "            \"divide\": self.divide\n",
    "        }\n",
    "    \n",
    "    def add(self, a, b):\n",
    "        return a + b\n",
    "    \n",
    "    def subtract(self, a, b):\n",
    "        return a - b\n",
    "    \n",
    "    def multiply(self, a, b):\n",
    "        return a * b\n",
    "    \n",
    "    def divide(self, a, b):\n",
    "        if b == 0:\n",
    "            return \"Error: Division by zero\"\n",
    "        return a / b\n",
    "    \n",
    "    def execute_operation(self, operation, a, b):\n",
    "        if operation in self.operations:\n",
    "            return self.operations[operation](a, b)\n",
    "        else:\n",
    "            return \"Error: Operation not supported\""
   ]
  },
  {
   "cell_type": "code",
   "execution_count": 10,
   "metadata": {},
   "outputs": [
    {
     "name": "stdout",
     "output_type": "stream",
     "text": [
      "8\n",
      "8\n"
     ]
    }
   ],
   "source": [
    "calc = Calculator()\n",
    "print(calc.execute_operation(\"add\", 5, 3)) # Output: 8\n",
    "print(calc.execute_operation(\"multiply\", 4, 2)) # Output: 8"
   ]
  }
 ],
 "metadata": {
  "kernelspec": {
   "display_name": ".venv",
   "language": "python",
   "name": "python3"
  },
  "language_info": {
   "codemirror_mode": {
    "name": "ipython",
    "version": 3
   },
   "file_extension": ".py",
   "mimetype": "text/x-python",
   "name": "python",
   "nbconvert_exporter": "python",
   "pygments_lexer": "ipython3",
   "version": "3.11.2"
  }
 },
 "nbformat": 4,
 "nbformat_minor": 2
}
