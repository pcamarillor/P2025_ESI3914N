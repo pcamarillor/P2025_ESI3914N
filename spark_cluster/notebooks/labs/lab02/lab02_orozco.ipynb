{
 "cells": [
  {
   "cell_type": "markdown",
   "metadata": {},
   "source": [
    "# <center> **Departamento de Electrónica, Sistemas e Informática** </center>\n",
    "---\n",
    "## <center> **Procesamiento de Datos Masivos (Big Data)** </center>\n",
    "---\n",
    "### <center> **Spring 2025** </center>\n",
    "---\n",
    "### <center> **Lab 2: OOP and Function Pointers in a Calculator** </center>\n",
    "---\n",
    "**Student**: Diego Arturo Orozco Sánchez"
   ]
  },
  {
   "cell_type": "code",
   "execution_count": 3,
   "metadata": {},
   "outputs": [
    {
     "name": "stdout",
     "output_type": "stream",
     "text": [
      "8\n",
      "2\n",
      "15\n",
      "1.6666666666666667\n"
     ]
    }
   ],
   "source": [
    "from calculator_orozco import Calculator\n",
    "\n",
    "calc = Calculator()\n",
    "\n",
    "print(calc.execute_operation(\"add\", 5, 3))\n",
    "print(calc.execute_operation(\"subtract\", 5, 3))\n",
    "print(calc.execute_operation(\"multiply\", 5, 3))\n",
    "print(calc.execute_operation(\"divide\", 5, 3))"
   ]
  }
 ],
 "metadata": {
  "kernelspec": {
   "display_name": "Python 3 (ipykernel)",
   "language": "python",
   "name": "python3"
  },
  "language_info": {
   "codemirror_mode": {
    "name": "ipython",
    "version": 3
   },
   "file_extension": ".py",
   "mimetype": "text/x-python",
   "name": "python",
   "nbconvert_exporter": "python",
   "pygments_lexer": "ipython3",
   "version": "3.11.6"
  }
 },
 "nbformat": 4,
 "nbformat_minor": 2
}
