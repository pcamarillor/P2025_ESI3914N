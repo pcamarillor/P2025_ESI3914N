{
 "cells": [
  {
   "cell_type": "markdown",
   "metadata": {},
   "source": [
    "# Lab02\n",
    "\n",
    "These are the results for the lab02 task"
   ]
  },
  {
   "cell_type": "code",
   "execution_count": 2,
   "metadata": {},
   "outputs": [],
   "source": [
    "from lecture_05_classes import Calculator           "
   ]
  },
  {
   "cell_type": "markdown",
   "metadata": {},
   "source": [
    "The Calculator class implements 4 private functions. In the class init a dict is defined to access the functions using a link.\n",
    "Finally the functions can be publically accessed using the execute function, that links the inpout values and the functions using the dict."
   ]
  },
  {
   "cell_type": "code",
   "execution_count": 3,
   "metadata": {},
   "outputs": [
    {
     "name": "stdout",
     "output_type": "stream",
     "text": [
      "ERROR: can't divide by 0.\n",
      "3.0\n",
      "10\n",
      "-4\n",
      "21\n"
     ]
    }
   ],
   "source": [
    "calc= Calculator()\n",
    "\n",
    "print(calc.exec_operations(\"divide\",3,0))\n",
    "print(calc.exec_operations(\"divide\",3,1))\n",
    "print(calc.exec_operations(\"add\",3,7))\n",
    "print(calc.exec_operations(\"substract\",3,7))\n",
    "print(calc.exec_operations(\"multiply\",3,7))"
   ]
  }
 ],
 "metadata": {
  "kernelspec": {
   "display_name": "Python 3",
   "language": "python",
   "name": "python3"
  },
  "language_info": {
   "codemirror_mode": {
    "name": "ipython",
    "version": 3
   },
   "file_extension": ".py",
   "mimetype": "text/x-python",
   "name": "python",
   "nbconvert_exporter": "python",
   "pygments_lexer": "ipython3",
   "version": "3.12.8"
  }
 },
 "nbformat": 4,
 "nbformat_minor": 2
}
