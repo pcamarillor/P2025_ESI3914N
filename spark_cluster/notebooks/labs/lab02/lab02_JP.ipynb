{
 "cells": [
  {
   "cell_type": "code",
   "execution_count": 15,
   "metadata": {},
   "outputs": [],
   "source": [
    "class Calculator:\n",
    "\n",
    "    def execute_operation(self, string, n1, n2):\n",
    "\n",
    "        def add(n1, n2):\n",
    "            return n1 + n2\n",
    "\n",
    "        def substract(n1, n2):\n",
    "            return n1 - n2\n",
    "\n",
    "        def multiply(n1, n2):\n",
    "            return n1 * n2\n",
    "\n",
    "        def divide(n1, n2):\n",
    "            return n1 / n2\n",
    "\n",
    "        operations = {\n",
    "            'add': add,\n",
    "            'substract': substract,\n",
    "            'multiply': multiply,\n",
    "            'divide': divide\n",
    "        }\n",
    "\n",
    "        return operations[string](n1, n2)"
   ]
  },
  {
   "cell_type": "code",
   "execution_count": 17,
   "metadata": {},
   "outputs": [
    {
     "name": "stdout",
     "output_type": "stream",
     "text": [
      "add:  8\n",
      "substract:  2\n",
      "multiply:  15\n",
      "divide:  1.6666666666666667\n"
     ]
    }
   ],
   "source": [
    "calc = Calculator()\n",
    "print(\"add: \", calc.execute_operation('add', 5, 3))\n",
    "print(\"substract: \", calc.execute_operation('substract', 5, 3))\n",
    "print(\"multiply: \", calc.execute_operation('multiply', 5, 3))\n",
    "print(\"divide: \", calc.execute_operation('divide', 5, 3))"
   ]
  }
 ],
 "metadata": {
  "kernelspec": {
   "display_name": "Python 3 (ipykernel)",
   "language": "python",
   "name": "python3"
  },
  "language_info": {
   "codemirror_mode": {
    "name": "ipython",
    "version": 3
   },
   "file_extension": ".py",
   "mimetype": "text/x-python",
   "name": "python",
   "nbconvert_exporter": "python",
   "pygments_lexer": "ipython3",
   "version": "3.11.6"
  }
 },
 "nbformat": 4,
 "nbformat_minor": 2
}
