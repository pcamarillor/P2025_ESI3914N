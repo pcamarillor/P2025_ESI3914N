{
 "cells": [
  {
   "cell_type": "markdown",
   "metadata": {},
   "source": [
    "\n",
    "# Generate schemas dynamically\n",
    "\n",
    "|                |   |\n",
    ":----------------|---|\n",
    "| **Team**     | Foraneos  |\n",
    "| **Date**      | 02/19/2025  |\n",
    "| **Lab** | 04  |"
   ]
  },
  {
   "cell_type": "markdown",
   "metadata": {},
   "source": [
    "## Problem statement\n",
    "\n",
    "- You need to write a method called generate schema() that generates a StructType from a list of tuples. Each tuple contains the column name as the first item and the data type as a string (e.g., ”StringType”, ”IntegerType”) as the second item. The method will dynamically create the corresponding StructField objects. <br><br>\n",
    "- This method should be part of a class SparkUtils located at spark_cluster/notebooks/lib/<team name>/spark_utils.py module. <br><br>\n",
    "- Store all the supported types in a dictionary (e.g types_dict = { \"StringType\": StringType(), ... })\n",
    "\n",
    "\n",
    "## Deliverable\n",
    "Submit the PR link including:\n",
    "\n",
    "- The implementation of the generate schema() method. Following the naming convention for python.<br><br>\n",
    "- A Jupyter Notebook to test the generate schema()"
   ]
  },
  {
   "cell_type": "code",
   "execution_count": 7,
   "metadata": {},
   "outputs": [],
   "source": [
    "\n",
    "import findspark\n",
    "findspark.init()\n"
   ]
  },
  {
   "cell_type": "code",
   "execution_count": null,
   "metadata": {},
   "outputs": [],
   "source": [
    "from pyspark.sql import SparkSession\n",
    "\n",
    "#init sparksession on local containers\n",
    "spark = SparkSession.builder \\\n",
    "    .appName(\"SparkSQL-PeopleExample\") \\\n",
    "    .master(\"spark://0638c7435d1d:7077\") \\\n",
    "    .config(\"spark.ui.port\",\"4040\") \\\n",
    "    .getOrCreate()\n",
    "sc = spark.sparkContext"
   ]
  },
  {
   "cell_type": "code",
   "execution_count": null,
   "metadata": {},
   "outputs": [],
   "source": [
    "#import class method \n",
    "# IMPORTANT : need to import this after statring the sparksesion. \n",
    "# Otherwise it wont be able to import yspark.sql.types\n",
    "\n",
    "from foraneos.spark_utils import SparkUtils"
   ]
  },
  {
   "cell_type": "code",
   "execution_count": null,
   "metadata": {},
   "outputs": [
    {
     "name": "stderr",
     "output_type": "stream",
     "text": [
      "[Stage 0:>                                                          (0 + 1) / 1]\r"
     ]
    },
    {
     "name": "stdout",
     "output_type": "stream",
     "text": [
      "+-------+---+------------+\n",
      "|   name|age|        city|\n",
      "+-------+---+------------+\n",
      "|  Alice| 25|    New York|\n",
      "|    Bob| 30| Los Angeles|\n",
      "|Charlie| 35|     Chicago|\n",
      "|  David| 40|     Houston|\n",
      "|    Eve| 22|     Phoenix|\n",
      "|  Frank| 28|Philadelphia|\n",
      "|  Grace| 32| San Antonio|\n",
      "|   Hank| 45|   San Diego|\n",
      "|    Ivy| 29|      Dallas|\n",
      "+-------+---+------------+\n",
      "\n"
     ]
    },
    {
     "name": "stderr",
     "output_type": "stream",
     "text": [
      "                                                                                \r"
     ]
    }
   ],
   "source": [
    "#generate simple schema through new class method\n",
    "schema = SparkUtils.generate_schema( [(\"name\", \"string\"), (\"age\", \"string\"), (\"city\", \"string\")])\n",
    "\n",
    "\n",
    "sample_data = [\n",
    "    (\"Alice\", \"25\", \"New York\"),\n",
    "    (\"Bob\", \"30\", \"Los Angeles\"),\n",
    "    (\"Charlie\", \"35\", \"Chicago\"),\n",
    "    (\"David\", \"40\", \"Houston\"),\n",
    "    (\"Eve\", \"22\", \"Phoenix\"),\n",
    "    (\"Frank\", \"28\", \"Philadelphia\"),\n",
    "    (\"Grace\", \"32\", \"San Antonio\"),\n",
    "    (\"Hank\", \"45\", \"San Diego\"),\n",
    "    (\"Ivy\", \"29\", \"Dallas\")\n",
    "]\n",
    "\n",
    "#create dataframe using the generated schema y sample data\n",
    "people_df = spark.createDataFrame(sample_data, schema)\n",
    "people_df.show()"
   ]
  },
  {
   "cell_type": "code",
   "execution_count": 11,
   "metadata": {},
   "outputs": [],
   "source": [
    "# Stop the SparkContext\n",
    "sc.stop()"
   ]
  }
 ],
 "metadata": {
  "kernelspec": {
   "display_name": "Python 3 (ipykernel)",
   "language": "python",
   "name": "python3"
  },
  "language_info": {
   "codemirror_mode": {
    "name": "ipython",
    "version": 3
   },
   "file_extension": ".py",
   "mimetype": "text/x-python",
   "name": "python",
   "nbconvert_exporter": "python",
   "pygments_lexer": "ipython3",
   "version": "3.11.6"
  }
 },
 "nbformat": 4,
 "nbformat_minor": 2
}
