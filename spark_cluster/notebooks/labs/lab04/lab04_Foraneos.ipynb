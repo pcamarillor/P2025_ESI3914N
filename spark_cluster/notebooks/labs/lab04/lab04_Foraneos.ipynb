{
 "cells": [
  {
   "cell_type": "markdown",
   "metadata": {},
   "source": [
    "\n",
    "# Generate schemas dynamically\n",
    "\n",
    "|                |   |\n",
    ":----------------|---|\n",
    "| **Team**     | Foraneos  |\n",
    "| **Date**      | 02/19/2025  |\n",
    "| **Lab** | 04  |"
   ]
  },
  {
   "cell_type": "markdown",
   "metadata": {},
   "source": [
    "## Problem statement\n",
    "\n",
    "- You need to write a method called generate schema() that generates a StructType from a list of tuples. Each tuple contains the column name as the first item and the data type as a string (e.g., ”StringType”, ”IntegerType”) as the second item. The method will dynamically create the corresponding StructField objects. <br><br>\n",
    "- This method should be part of a class SparkUtils located at spark_cluster/notebooks/lib/<team name>/spark_utils.py module. <br><br>\n",
    "- Store all the supported types in a dictionary (e.g types_dict = { \"StringType\": StringType(), ... })\n",
    "\n",
    "\n",
    "## Deliverable\n",
    "Submit the PR link including:\n",
    "\n",
    "- The implementation of the generate schema() method. Following the naming convention for python.<br><br>\n",
    "- A Jupyter Notebook to test the generate schema()"
   ]
  },
  {
   "cell_type": "code",
   "execution_count": null,
   "metadata": {},
   "outputs": [],
   "source": [
    "from foraneos.spark_utils import spark_utils"
   ]
  },
  {
   "cell_type": "code",
   "execution_count": null,
   "metadata": {},
   "outputs": [],
   "source": [
    "schema = SparkUtils.generate_schema([(\"name\", \"StringType\"), \n",
    "                                    (\"age\", \"IntegerType\"), \n",
    "                                    (\"city\", \"StringType\")])"
   ]
  },
  {
   "cell_type": "code",
   "execution_count": null,
   "metadata": {},
   "outputs": [],
   "source": []
  }
 ],
 "metadata": {
  "language_info": {
   "name": "python"
  }
 },
 "nbformat": 4,
 "nbformat_minor": 2
}
