{
 "cells": [
  {
   "cell_type": "markdown",
   "metadata": {},
   "source": [
    "\n",
    "# Generate schemas dynamically\n",
    "\n",
    "|                |   |\n",
    ":----------------|---|\n",
    "| **Team**     | Foraneos  |\n",
    "| **Date**      | 02/19/2025  |\n",
    "| **Lab** | 04  |"
   ]
  },
  {
   "cell_type": "markdown",
   "metadata": {},
   "source": [
    "## Problem statement\n",
    "\n",
    "- You need to write a method called generate schema() that generates a StructType from a list of tuples. Each tuple contains the column name as the first item and the data type as a string (e.g., ”StringType”, ”IntegerType”) as the second item. The method will dynamically create the corresponding StructField objects. <br><br>\n",
    "- This method should be part of a class SparkUtils located at spark_cluster/notebooks/lib/<team name>/spark_utils.py module. <br><br>\n",
    "- Store all the supported types in a dictionary (e.g types_dict = { \"StringType\": StringType(), ... })\n",
    "\n",
    "\n",
    "## Deliverable\n",
    "Submit the PR link including:\n",
    "\n",
    "- The implementation of the generate schema() method. Following the naming convention for python.<br><br>\n",
    "- A Jupyter Notebook to test the generate schema()"
   ]
  },
  {
   "cell_type": "code",
   "execution_count": null,
   "metadata": {},
   "outputs": [],
   "source": [
    "from foraneos.spark_utils import spark_utils\n",
    "import findspark\n",
    "findspark.init()"
   ]
  },
  {
   "cell_type": "code",
   "execution_count": null,
   "metadata": {},
   "outputs": [],
   "source": [
    "from pyspark.sql import SparkSession\n",
    "\n",
    "spark = SparkSession.builder \\\n",
    "    .appName(\"SparkSQL-PeopleExample\") \\\n",
    "    .master(\"spark://078b2e28e517:7077\") \\\n",
    "    .config(\"spark.ui.port\",\"4040\") \\\n",
    "    .getOrCreate()\n",
    "sc = spark.sparkContext"
   ]
  },
  {
   "cell_type": "code",
   "execution_count": null,
   "metadata": {},
   "outputs": [],
   "source": [
    "schema = SparkUtils.generate_schema( [(\"name\", \"string\"), (\"age\", \"string\"), (\"city\", \"string\")])\n",
    "\n",
    "\n",
    "sample_data = [\n",
    "    (\"Alice\", \"25\", \"New York\"),\n",
    "    (\"Bob\", \"30\", \"Los Angeles\"),\n",
    "    (\"Charlie\", \"35\", \"Chicago\"),\n",
    "    (\"David\", \"40\", \"Houston\"),\n",
    "    (\"Eve\", \"22\", \"Phoenix\"),\n",
    "    (\"Frank\", \"28\", \"Philadelphia\"),\n",
    "    (\"Grace\", \"32\", \"San Antonio\"),\n",
    "    (\"Hank\", \"45\", \"San Diego\"),\n",
    "    (\"Ivy\", \"29\", \"Dallas\")\n",
    "]\n",
    "\n",
    "people_df = spark.createDataFrame(sample_data, schema)\n",
    "people_df.show()"
   ]
  }
 ],
 "metadata": {
  "language_info": {
   "name": "python"
  }
 },
 "nbformat": 4,
 "nbformat_minor": 2
}
