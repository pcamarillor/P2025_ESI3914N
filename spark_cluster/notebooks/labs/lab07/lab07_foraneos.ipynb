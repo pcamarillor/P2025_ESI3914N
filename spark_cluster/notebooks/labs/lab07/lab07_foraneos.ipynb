{
 "cells": [
  {
   "cell_type": "markdown",
   "metadata": {},
   "source": [
    "# <center> <img src=\"../img/ITESOLogo.png\" alt=\"ITESO\" width=\"480\" height=\"130\"> </center>\n",
    "# <center> **Lab 07 - Real-time log analyzer** </center>\n",
    "---\n",
    "## <center> **Big Data** </center>\n",
    "---\n",
    "### <center> **Spring 2025** </center>\n",
    "---\n",
    "### <center> **03/31/2025** </center>\n",
    "\n",
    "---\n",
    "**Profesor**: Dr. Pablo Camarillo Ramirez\n",
    "\n",
    "**Team**: Foraneos\n",
    "\n",
    "**Students**: Eddie, Konrad "
   ]
  },
  {
   "cell_type": "code",
   "execution_count": 1,
   "metadata": {},
   "outputs": [],
   "source": [
    "import findspark\n",
    "findspark.init()"
   ]
  },
  {
   "cell_type": "markdown",
   "metadata": {},
   "source": [
    "#### Spark Session creation\n"
   ]
  },
  {
   "cell_type": "code",
   "execution_count": 2,
   "metadata": {},
   "outputs": [
    {
     "name": "stderr",
     "output_type": "stream",
     "text": [
      "Setting default log level to \"WARN\".\n",
      "To adjust logging level use sc.setLogLevel(newLevel). For SparkR, use setLogLevel(newLevel).\n",
      "25/04/03 02:41:02 WARN NativeCodeLoader: Unable to load native-hadoop library for your platform... using builtin-java classes where applicable\n"
     ]
    }
   ],
   "source": [
    "from pyspark.sql import SparkSession\n",
    "\n",
    "konrad_port = \"0638c7435d1d\"\n",
    "eddie_port = \"8776010e8f6a\"\n",
    "\n",
    "spark = SparkSession.builder \\\n",
    "    .appName(\"SparkSQLStructuredStreaming-Files\") \\\n",
    "    .master(\"spark://{}:7077\".format(konrad_port)) \\\n",
    "    .config(\"spark.ui.port\",\"4040\") \\\n",
    "    .getOrCreate()\n",
    "sc = spark.sparkContext"
   ]
  },
  {
   "cell_type": "markdown",
   "metadata": {},
   "source": [
    "### File stream initialization"
   ]
  },
  {
   "cell_type": "code",
   "execution_count": 3,
   "metadata": {},
   "outputs": [],
   "source": [
    "entries = spark \\\n",
    "                .readStream \\\n",
    "                .format(\"text\") \\\n",
    "                .option(\"cleanSource\", \"archive\") \\\n",
    "                .option(\"sourceArchiveDir\", \"/home/jovyan/archive\") \\\n",
    "                .load(\"/home/jovyan/notebooks/data/strucutred_streaming_files/\")"
   ]
  },
  {
   "cell_type": "markdown",
   "metadata": {},
   "source": [
    "### Start Log Creation\n"
   ]
  },
  {
   "cell_type": "code",
   "execution_count": 4,
   "metadata": {},
   "outputs": [],
   "source": [
    "from foraneos.spark_utils import SparkUtils, Logging\n",
    "import threading"
   ]
  },
  {
   "cell_type": "code",
   "execution_count": 5,
   "metadata": {},
   "outputs": [],
   "source": [
    "logger = Logging(log_time = 1)\n",
    "process = threading.Thread(target=logger.start_logging,args=(\"/home/jovyan/notebooks/data/strucutred_streaming_files/\",), daemon=True)\n",
    "process.start()"
   ]
  },
  {
   "cell_type": "markdown",
   "metadata": {},
   "source": [
    "### Set the output sink of the stream"
   ]
  },
  {
   "cell_type": "code",
   "execution_count": null,
   "metadata": {},
   "outputs": [
    {
     "name": "stderr",
     "output_type": "stream",
     "text": [
      "25/04/03 02:41:27 WARN ResolveWriteToStream: spark.sql.adaptive.enabled is not supported in streaming DataFrames/Datasets and will be disabled.\n",
      "                                                                                \r"
     ]
    },
    {
     "name": "stdout",
     "output_type": "stream",
     "text": [
      "-------------------------------------------\n",
      "Batch: 10\n",
      "-------------------------------------------\n",
      "+-------------------+-----+--------------------+-------------+\n",
      "|          timestamp| type|             message|         node|\n",
      "+-------------------+-----+--------------------+-------------+\n",
      "|2025-04-03 02:40:38|ERROR|Service deploymen...|server-node-3|\n",
      "|2025-04-03 02:40:39|ERROR|500 Internal Serv...|server-node-4|\n",
      "|2025-04-03 02:40:33|ERROR|Firewall rule mis...|server-node-8|\n",
      "|2025-04-03 02:40:36|ERROR|Too many authenti...|server-node-2|\n",
      "|2025-04-03 02:41:21|ERROR|Database corrupti...|server-node-1|\n",
      "|2025-04-03 02:41:24|ERROR|   Disk read failure|server-node-1|\n",
      "|2025-04-03 02:41:26|ERROR|Unexpected shutdo...|server-node-8|\n",
      "+-------------------+-----+--------------------+-------------+\n",
      "\n",
      "-------------------------------------------\n",
      "Batch: 11\n",
      "-------------------------------------------\n",
      "+-------------------+-----+--------------------+-------------+\n",
      "|          timestamp| type|             message|         node|\n",
      "+-------------------+-----+--------------------+-------------+\n",
      "|2025-04-03 02:41:27|ERROR|System clock sync...|server-node-7|\n",
      "|2025-04-03 02:41:28|ERROR|Process out of me...|server-node-8|\n",
      "+-------------------+-----+--------------------+-------------+\n",
      "\n",
      "-------------------------------------------\n",
      "Batch: 12\n",
      "-------------------------------------------\n",
      "+-------------------+-----+--------------------+-------------+\n",
      "|          timestamp| type|             message|         node|\n",
      "+-------------------+-----+--------------------+-------------+\n",
      "|2025-04-03 02:41:37|ERROR|Log file write fa...|server-node-6|\n",
      "|2025-04-03 02:41:40|ERROR|Data corruption d...|server-node-6|\n",
      "|2025-04-03 02:41:46|ERROR| API service failure|server-node-8|\n",
      "+-------------------+-----+--------------------+-------------+\n",
      "\n"
     ]
    },
    {
     "data": {
      "text/plain": [
       "False"
      ]
     },
     "execution_count": 6,
     "metadata": {},
     "output_type": "execute_result"
    },
    {
     "name": "stdout",
     "output_type": "stream",
     "text": [
      "-------------------------------------------\n",
      "Batch: 13\n",
      "-------------------------------------------\n",
      "+-------------------+-----+--------------------+-------------+\n",
      "|          timestamp| type|             message|         node|\n",
      "+-------------------+-----+--------------------+-------------+\n",
      "|2025-04-03 02:41:49|ERROR|Network interface...|server-node-1|\n",
      "|2025-04-03 02:41:51|ERROR|    File system full|server-node-2|\n",
      "|2025-04-03 02:41:54|ERROR|    File system full|server-node-8|\n",
      "+-------------------+-----+--------------------+-------------+\n",
      "\n",
      "-------------------------------------------\n",
      "Batch: 14\n",
      "-------------------------------------------\n",
      "+-------------------+-----+--------------------+-------------+\n",
      "|          timestamp| type|             message|         node|\n",
      "+-------------------+-----+--------------------+-------------+\n",
      "|2025-04-03 02:42:04|ERROR| API service failure|server-node-8|\n",
      "|2025-04-03 02:42:07|ERROR|   Disk read failure|server-node-4|\n",
      "|2025-04-03 02:42:08|ERROR|Unrecoverable sys...|server-node-4|\n",
      "|2025-04-03 02:42:09|ERROR|Unexpected shutdo...|server-node-8|\n",
      "|2025-04-03 02:42:11|ERROR|Service deploymen...|server-node-8|\n",
      "|2025-04-03 02:42:16|ERROR|Kernel panic dete...|server-node-4|\n",
      "+-------------------+-----+--------------------+-------------+\n",
      "\n",
      "-------------------------------------------\n",
      "Batch: 15\n",
      "-------------------------------------------\n",
      "+-------------------+-----+--------------------+-------------+\n",
      "|          timestamp| type|             message|         node|\n",
      "+-------------------+-----+--------------------+-------------+\n",
      "|2025-04-03 02:42:17|ERROR|Database corrupti...|server-node-3|\n",
      "|2025-04-03 02:42:18|ERROR|Critical security...|server-node-1|\n",
      "+-------------------+-----+--------------------+-------------+\n",
      "\n",
      "-------------------------------------------\n",
      "Batch: 16\n",
      "-------------------------------------------\n",
      "+-------------------+-----+--------------------+-------------+\n",
      "|          timestamp| type|             message|         node|\n",
      "+-------------------+-----+--------------------+-------------+\n",
      "|2025-04-03 02:42:21|ERROR|   Broken pipe error|server-node-4|\n",
      "|2025-04-03 02:42:28|ERROR|Unexpected servic...|server-node-7|\n",
      "|2025-04-03 02:42:30|ERROR|Service startup f...|server-node-1|\n",
      "+-------------------+-----+--------------------+-------------+\n",
      "\n"
     ]
    }
   ],
   "source": [
    "from pyspark.sql.functions import split, col, count\n",
    "\n",
    "# Parse the log data into separate columns\n",
    "entries = entries.withColumn(\"data\", split(col(\"value\"), \" \\\\| \")) \\\n",
    "                 .withColumn(\"timestamp\", col(\"data\").getItem(0)) \\\n",
    "                 .withColumn(\"type\", col(\"data\").getItem(1)) \\\n",
    "                 .withColumn(\"message\", col(\"data\").getItem(2)) \\\n",
    "                 .withColumn(\"node\", col(\"data\").getItem(3)) \\\n",
    "                 .drop(\"value\", \"data\") \\\n",
    "                 .filter(col(\"type\") == \"ERROR\")\n",
    "\n",
    "# Count the total number of ERROR entries\n",
    "len_entries = entries.groupBy().agg(count(\"*\").alias(\"total_error_entries\"))\n",
    "\n",
    "# Stream the error log entries to the console\n",
    "query_entries = entries \\\n",
    "                .writeStream \\\n",
    "                .outputMode(\"append\") \\\n",
    "                .option(\"checkpointLocation\", \"/home/jovyan/checkpoint/\") \\\n",
    "                .trigger(processingTime='10 seconds') \\\n",
    "                .format(\"console\") \\\n",
    "                .start()\n",
    "\n",
    "query_entries.awaitTermination(40)\n",
    "\n",
    "# Uncomment below to stream the count of error entries\n",
    "# query_len_entries = len_entries \\\n",
    "#                 .writeStream \\\n",
    "#                 .outputMode(\"complete\") \\\n",
    "#                 .trigger(processingTime='2 seconds') \\\n",
    "#                 .format(\"console\") \\\n",
    "#                 .start()\n",
    "\n",
    "# query_len_entries.awaitTermination()"
   ]
  },
  {
   "cell_type": "code",
   "execution_count": 7,
   "metadata": {},
   "outputs": [],
   "source": [
    "query_entries.stop()\n",
    "# query_len_entries.stop()"
   ]
  },
  {
   "cell_type": "code",
   "execution_count": 8,
   "metadata": {},
   "outputs": [],
   "source": [
    "logger.stop_logging()\n"
   ]
  },
  {
   "cell_type": "code",
   "execution_count": 9,
   "metadata": {},
   "outputs": [],
   "source": [
    "sc.stop()"
   ]
  }
 ],
 "metadata": {
  "kernelspec": {
   "display_name": "Python 3 (ipykernel)",
   "language": "python",
   "name": "python3"
  },
  "language_info": {
   "codemirror_mode": {
    "name": "ipython",
    "version": 3
   },
   "file_extension": ".py",
   "mimetype": "text/x-python",
   "name": "python",
   "nbconvert_exporter": "python",
   "pygments_lexer": "ipython3",
   "version": "3.11.6"
  }
 },
 "nbformat": 4,
 "nbformat_minor": 2
}
