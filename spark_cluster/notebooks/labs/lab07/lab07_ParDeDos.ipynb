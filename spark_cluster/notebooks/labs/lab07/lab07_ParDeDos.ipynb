{
 "cells": [
  {
   "cell_type": "markdown",
   "metadata": {},
   "source": [
    "# <center> <img src=\"../img/ITESOLogo.png\" alt=\"ITESO\" width=\"480\" height=\"130\"> </center>\n",
    "# <center> **Departamento de Electrónica, Sistemas e Informática** </center>\n",
    "---\n",
    "## <center> Program: Computer Systems Engineering  </center>\n",
    "---\n",
    "### <center> **Spring 2025** </center>\n",
    "---\n",
    "\n",
    "**Lab 07**: Structured Streaming with Files\n",
    "\n",
    "**Date**: 31/03/2025\n",
    "\n",
    "**Team Name**: Par De Dos\n",
    "\n",
    "**Professor**: Pablo Camarillo Ramirez"
   ]
  },
  {
   "cell_type": "code",
   "execution_count": 2,
   "metadata": {},
   "outputs": [],
   "source": [
    "import findspark\n",
    "findspark.init()"
   ]
  },
  {
   "cell_type": "code",
   "execution_count": 3,
   "metadata": {},
   "outputs": [
    {
     "name": "stderr",
     "output_type": "stream",
     "text": [
      "Setting default log level to \"WARN\".\n",
      "To adjust logging level use sc.setLogLevel(newLevel). For SparkR, use setLogLevel(newLevel).\n",
      "25/04/03 04:36:41 WARN NativeCodeLoader: Unable to load native-hadoop library for your platform... using builtin-java classes where applicable\n"
     ]
    }
   ],
   "source": [
    "from pyspark.sql import SparkSession\n",
    "\n",
    "spark = SparkSession.builder \\\n",
    "    .appName(\"ParDeDosLogsStreaming\") \\\n",
    "    .master(\"spark://b8beb2188649:7077\") \\\n",
    "    .config(\"spark.ui.port\",\"4040\") \\\n",
    "    .getOrCreate()\n",
    "sc = spark.sparkContext"
   ]
  },
  {
   "cell_type": "code",
   "execution_count": 4,
   "metadata": {},
   "outputs": [],
   "source": [
    "log_dir=\"/home/jovyan/notebooks/data/structured_streaming_log_files/\"\n",
    "\n",
    "logs_lines = spark \\\n",
    "                .readStream \\\n",
    "                .format(\"text\") \\\n",
    "                .option(\"cleanSource\", \"delete\") \\\n",
    "                .load(log_dir)"
   ]
  },
  {
   "cell_type": "code",
   "execution_count": 5,
   "metadata": {},
   "outputs": [
    {
     "name": "stdout",
     "output_type": "stream",
     "text": [
      "root\n",
      " |-- log_array: array (nullable = true)\n",
      " |    |-- element: string (containsNull = false)\n",
      " |-- date_time: string (nullable = true)\n",
      " |-- date: date (nullable = true)\n",
      " |-- time: timestamp (nullable = true)\n",
      " |-- log_level: string (nullable = true)\n",
      " |-- message: string (nullable = true)\n",
      " |-- node: string (nullable = true)\n",
      "\n"
     ]
    }
   ],
   "source": [
    "from pyspark.sql.functions import split\n",
    "\n",
    "logs_df = logs_lines.select(split(logs_lines.value, \" | \").alias(\"log_array\"))\n",
    "logs_df = logs_df.withColumn(\"date_time\", logs_df[\"log_array\"].getItem(0).cast(\"string\"))\n",
    "logs_df = logs_df.withColumn(\"date\", split(logs_df[\"date_time\"], \" \").getItem(0).cast(\"date\"))\n",
    "logs_df = logs_df.withColumn(\"time\", split(logs_df[\"date_time\"], \" \").getItem(1).cast(\"timestamp\"))\n",
    "logs_df = logs_df.withColumn(\"log_level\", logs_df[\"log_array\"].getItem(1).cast(\"string\"))\n",
    "logs_df = logs_df.withColumn(\"message\", logs_df[\"log_array\"].getItem(2).cast(\"string\"))\n",
    "logs_df = logs_df.withColumn(\"node\", logs_df[\"log_array\"].getItem(3).cast(\"string\"))\n",
    "\n",
    "logs_df.printSchema()"
   ]
  },
  {
   "cell_type": "code",
   "execution_count": 6,
   "metadata": {},
   "outputs": [],
   "source": [
    "logs_df = logs_df.filter(logs_df.log_level == \"ERROR\")"
   ]
  },
  {
   "cell_type": "code",
   "execution_count": 7,
   "metadata": {},
   "outputs": [
    {
     "name": "stderr",
     "output_type": "stream",
     "text": [
      "25/04/03 04:37:32 WARN ResolveWriteToStream: Temporary checkpoint location created which is deleted normally when the query didn't fail: /tmp/temporary-a21b3009-0f32-4aca-9cbf-ef995d273d7b. If it's required to delete it under any circumstances, please set spark.sql.streaming.forceDeleteTempCheckpointLocation to true. Important to know deleting temp checkpoint folder is best effort.\n",
      "25/04/03 04:37:32 WARN ResolveWriteToStream: spark.sql.adaptive.enabled is not supported in streaming DataFrames/Datasets and will be disabled.\n",
      "                                                                                \r"
     ]
    },
    {
     "name": "stdout",
     "output_type": "stream",
     "text": [
      "-------------------------------------------\n",
      "Batch: 0\n",
      "-------------------------------------------\n",
      "+---------+---------+----+----+---------+-------+----+\n",
      "|log_array|date_time|date|time|log_level|message|node|\n",
      "+---------+---------+----+----+---------+-------+----+\n",
      "+---------+---------+----+----+---------+-------+----+\n",
      "\n",
      "-------------------------------------------\n",
      "Batch: 1\n",
      "-------------------------------------------\n",
      "+---------+---------+----+----+---------+-------+----+\n",
      "|log_array|date_time|date|time|log_level|message|node|\n",
      "+---------+---------+----+----+---------+-------+----+\n",
      "+---------+---------+----+----+---------+-------+----+\n",
      "\n",
      "-------------------------------------------\n",
      "Batch: 2\n",
      "-------------------------------------------\n",
      "+---------+---------+----+----+---------+-------+----+\n",
      "|log_array|date_time|date|time|log_level|message|node|\n",
      "+---------+---------+----+----+---------+-------+----+\n",
      "+---------+---------+----+----+---------+-------+----+\n",
      "\n",
      "-------------------------------------------\n",
      "Batch: 3\n",
      "-------------------------------------------\n",
      "+---------+---------+----+----+---------+-------+----+\n",
      "|log_array|date_time|date|time|log_level|message|node|\n",
      "+---------+---------+----+----+---------+-------+----+\n",
      "+---------+---------+----+----+---------+-------+----+\n",
      "\n",
      "-------------------------------------------\n",
      "Batch: 4\n",
      "-------------------------------------------\n",
      "+---------+---------+----+----+---------+-------+----+\n",
      "|log_array|date_time|date|time|log_level|message|node|\n",
      "+---------+---------+----+----+---------+-------+----+\n",
      "+---------+---------+----+----+---------+-------+----+\n",
      "\n",
      "-------------------------------------------\n",
      "Batch: 5\n",
      "-------------------------------------------\n",
      "+---------+---------+----+----+---------+-------+----+\n",
      "|log_array|date_time|date|time|log_level|message|node|\n",
      "+---------+---------+----+----+---------+-------+----+\n",
      "+---------+---------+----+----+---------+-------+----+\n",
      "\n",
      "-------------------------------------------\n",
      "Batch: 6\n",
      "-------------------------------------------\n",
      "+---------+---------+----+----+---------+-------+----+\n",
      "|log_array|date_time|date|time|log_level|message|node|\n",
      "+---------+---------+----+----+---------+-------+----+\n",
      "+---------+---------+----+----+---------+-------+----+\n",
      "\n"
     ]
    },
    {
     "data": {
      "text/plain": [
       "False"
      ]
     },
     "execution_count": 7,
     "metadata": {},
     "output_type": "execute_result"
    }
   ],
   "source": [
    "query = logs_df \\\n",
    "                .writeStream \\\n",
    "                .outputMode(\"append\") \\\n",
    "                .trigger(processingTime='10 seconds') \\\n",
    "                .format(\"console\") \\\n",
    "                .option(\"truncate\", \"false\") \\\n",
    "                .start()\n",
    "\n",
    "query.awaitTermination(60)"
   ]
  },
  {
   "cell_type": "code",
   "execution_count": 8,
   "metadata": {},
   "outputs": [],
   "source": [
    "query.stop()"
   ]
  },
  {
   "cell_type": "code",
   "execution_count": 9,
   "metadata": {},
   "outputs": [],
   "source": [
    "sc.stop()"
   ]
  }
 ],
 "metadata": {
  "kernelspec": {
   "display_name": "Python 3 (ipykernel)",
   "language": "python",
   "name": "python3"
  },
  "language_info": {
   "codemirror_mode": {
    "name": "ipython",
    "version": 3
   },
   "file_extension": ".py",
   "mimetype": "text/x-python",
   "name": "python",
   "nbconvert_exporter": "python",
   "pygments_lexer": "ipython3",
   "version": "3.11.6"
  }
 },
 "nbformat": 4,
 "nbformat_minor": 2
}
