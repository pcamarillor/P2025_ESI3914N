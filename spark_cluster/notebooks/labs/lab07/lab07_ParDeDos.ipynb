{
 "cells": [
  {
   "cell_type": "markdown",
   "metadata": {},
   "source": [
    "# <center> <img src=\"../img/ITESOLogo.png\" alt=\"ITESO\" width=\"480\" height=\"130\"> </center>\n",
    "# <center> **Departamento de Electrónica, Sistemas e Informática** </center>\n",
    "---\n",
    "## <center> Program: Computer Systems Engineering  </center>\n",
    "---\n",
    "### <center> **Spring 2025** </center>\n",
    "---\n",
    "\n",
    "**Lab 07**: Structured Streaming with Files\n",
    "\n",
    "**Date**: 31/03/2025\n",
    "\n",
    "**Team Name**: Par De Dos\n",
    "\n",
    "**Professor**: Pablo Camarillo Ramirez"
   ]
  },
  {
   "cell_type": "code",
   "execution_count": 1,
   "metadata": {},
   "outputs": [],
   "source": [
    "import findspark\n",
    "findspark.init()"
   ]
  },
  {
   "cell_type": "code",
   "execution_count": 2,
   "metadata": {},
   "outputs": [
    {
     "name": "stderr",
     "output_type": "stream",
     "text": [
      "Setting default log level to \"WARN\".\n",
      "To adjust logging level use sc.setLogLevel(newLevel). For SparkR, use setLogLevel(newLevel).\n",
      "25/04/08 01:01:55 WARN NativeCodeLoader: Unable to load native-hadoop library for your platform... using builtin-java classes where applicable\n"
     ]
    }
   ],
   "source": [
    "from pyspark.sql import SparkSession\n",
    "\n",
    "spark = SparkSession.builder \\\n",
    "    .appName(\"ParDeDosLogsStreaming\") \\\n",
    "    .master(\"spark://a61219ce2752:7077\") \\\n",
    "    .config(\"spark.ui.port\",\"4040\") \\\n",
    "    .getOrCreate()\n",
    "sc = spark.sparkContext"
   ]
  },
  {
   "cell_type": "code",
   "execution_count": 3,
   "metadata": {},
   "outputs": [],
   "source": [
    "log_dir=\"/home/jovyan/notebooks/data/structured_streaming_log_files/\"\n",
    "\n",
    "logs_lines = spark \\\n",
    "                .readStream \\\n",
    "                .format(\"text\") \\\n",
    "                .option(\"maxFilesPerTrigger\", 5) \\\n",
    "                .load(log_dir)"
   ]
  },
  {
   "cell_type": "code",
   "execution_count": 4,
   "metadata": {},
   "outputs": [
    {
     "name": "stdout",
     "output_type": "stream",
     "text": [
      "root\n",
      " |-- log_array: array (nullable = true)\n",
      " |    |-- element: string (containsNull = false)\n",
      " |-- date_time: string (nullable = true)\n",
      " |-- log_level: string (nullable = true)\n",
      " |-- message: string (nullable = true)\n",
      " |-- node: string (nullable = true)\n",
      "\n"
     ]
    }
   ],
   "source": [
    "from pyspark.sql.functions import split, col\n",
    "\n",
    "logs_df = logs_lines.select(split(col(\"value\"), r\"\\s*\\|\\s*\").alias(\"log_array\"))\n",
    "\n",
    "logs_df = logs_df.withColumn(\"date_time\", col(\"log_array\")[0])\n",
    "logs_df = logs_df.withColumn(\"log_level\", col(\"log_array\")[1])\n",
    "logs_df = logs_df.withColumn(\"message\", col(\"log_array\")[2])\n",
    "logs_df = logs_df.withColumn(\"node\", col(\"log_array\")[3])\n",
    "\n",
    "\n",
    "logs_df.printSchema()"
   ]
  },
  {
   "cell_type": "code",
   "execution_count": 5,
   "metadata": {},
   "outputs": [],
   "source": [
    "logs_df = logs_df.filter(logs_df.log_level == \"ERROR\")"
   ]
  },
  {
   "cell_type": "code",
   "execution_count": null,
   "metadata": {},
   "outputs": [
    {
     "name": "stderr",
     "output_type": "stream",
     "text": [
      "25/04/08 01:03:17 WARN ResolveWriteToStream: Temporary checkpoint location created which is deleted normally when the query didn't fail: /tmp/temporary-ebccec16-b111-4f8a-b5d3-f84c4e8c6a15. If it's required to delete it under any circumstances, please set spark.sql.streaming.forceDeleteTempCheckpointLocation to true. Important to know deleting temp checkpoint folder is best effort.\n",
      "25/04/08 01:03:17 WARN ResolveWriteToStream: spark.sql.adaptive.enabled is not supported in streaming DataFrames/Datasets and will be disabled.\n"
     ]
    },
    {
     "name": "stdout",
     "output_type": "stream",
     "text": [
      "Query started: a39a5958-8f3f-4f23-a4b8-1081a63d9366\n"
     ]
    },
    {
     "name": "stderr",
     "output_type": "stream",
     "text": [
      "                                                                                \r"
     ]
    },
    {
     "name": "stdout",
     "output_type": "stream",
     "text": [
      "-------------------------------------------\n",
      "Batch: 0\n",
      "-------------------------------------------\n",
      "+---------------------------------------------------------------------+-------------------+---------+------------------------+-------------+\n",
      "|log_array                                                            |date_time          |log_level|message                 |node         |\n",
      "+---------------------------------------------------------------------+-------------------+---------+------------------------+-------------+\n",
      "|[2025-04-08 01:03:12, ERROR, Database connection lost, server-node-2]|2025-04-08 01:03:12|ERROR    |Database connection lost|server-node-2|\n",
      "|[2025-04-08 01:03:12, ERROR, Imminent Explosion, server-node-3]      |2025-04-08 01:03:12|ERROR    |Imminent Explosion      |server-node-3|\n",
      "+---------------------------------------------------------------------+-------------------+---------+------------------------+-------------+\n",
      "\n"
     ]
    },
    {
     "name": "stderr",
     "output_type": "stream",
     "text": [
      "25/04/08 01:03:24 WARN ProcessingTimeExecutor: Current batch is falling behind. The trigger interval is 5000 milliseconds, but spent 6645 milliseconds\n"
     ]
    },
    {
     "name": "stdout",
     "output_type": "stream",
     "text": [
      "Query made progress: {\n",
      "  \"id\" : \"a39a5958-8f3f-4f23-a4b8-1081a63d9366\",\n",
      "  \"runId\" : \"2aab5cef-1a55-4918-bb07-8f8a35a29072\",\n",
      "  \"name\" : null,\n",
      "  \"timestamp\" : \"2025-04-08T01:03:17.477Z\",\n",
      "  \"batchId\" : 0,\n",
      "  \"numInputRows\" : 10,\n",
      "  \"inputRowsPerSecond\" : 0.0,\n",
      "  \"processedRowsPerSecond\" : 1.5167602002123464,\n",
      "  \"durationMs\" : {\n",
      "    \"addBatch\" : 5373,\n",
      "    \"commitOffsets\" : 91,\n",
      "    \"getBatch\" : 125,\n",
      "    \"latestOffset\" : 93,\n",
      "    \"queryPlanning\" : 760,\n",
      "    \"triggerExecution\" : 6592,\n",
      "    \"walCommit\" : 113\n",
      "  },\n",
      "  \"stateOperators\" : [ ],\n",
      "  \"sources\" : [ {\n",
      "    \"description\" : \"FileStreamSource[file:/home/jovyan/notebooks/data/structured_streaming_log_files]\",\n",
      "    \"startOffset\" : null,\n",
      "    \"endOffset\" : {\n",
      "      \"logOffset\" : 0\n",
      "    },\n",
      "    \"latestOffset\" : null,\n",
      "    \"numInputRows\" : 10,\n",
      "    \"inputRowsPerSecond\" : 0.0,\n",
      "    \"processedRowsPerSecond\" : 1.5167602002123464\n",
      "  } ],\n",
      "  \"sink\" : {\n",
      "    \"description\" : \"org.apache.spark.sql.execution.streaming.ConsoleTable$@3c20d872\",\n",
      "    \"numOutputRows\" : 2\n",
      "  }\n",
      "}\n",
      "-------------------------------------------\n",
      "Batch: 1\n",
      "-------------------------------------------\n",
      "+--------------------------------------------------------------------------------+-------------------+---------+-----------------------------------+-------------+\n",
      "|log_array                                                                       |date_time          |log_level|message                            |node         |\n",
      "+--------------------------------------------------------------------------------+-------------------+---------+-----------------------------------+-------------+\n",
      "|[2025-04-08 01:03:17, ERROR, Database connection lost, server-node-1]           |2025-04-08 01:03:17|ERROR    |Database connection lost           |server-node-1|\n",
      "|[2025-04-08 01:03:22, ERROR, Database connection lost, server-node-3]           |2025-04-08 01:03:22|ERROR    |Database connection lost           |server-node-3|\n",
      "|[2025-04-08 01:03:22, ERROR, Unauthorized login attempt detected, server-node-1]|2025-04-08 01:03:22|ERROR    |Unauthorized login attempt detected|server-node-1|\n",
      "|[2025-04-08 01:03:22, ERROR, Imminent Explosion, server-node-3]                 |2025-04-08 01:03:22|ERROR    |Imminent Explosion                 |server-node-3|\n",
      "|[2025-04-08 01:03:22, ERROR, Database connection lost, server-node-2]           |2025-04-08 01:03:22|ERROR    |Database connection lost           |server-node-2|\n",
      "|[2025-04-08 01:03:22, ERROR, Imminent Explosion, server-node-3]                 |2025-04-08 01:03:22|ERROR    |Imminent Explosion                 |server-node-3|\n",
      "+--------------------------------------------------------------------------------+-------------------+---------+-----------------------------------+-------------+\n",
      "\n",
      "Query made progress: {\n",
      "  \"id\" : \"a39a5958-8f3f-4f23-a4b8-1081a63d9366\",\n",
      "  \"runId\" : \"2aab5cef-1a55-4918-bb07-8f8a35a29072\",\n",
      "  \"name\" : null,\n",
      "  \"timestamp\" : \"2025-04-08T01:03:24.123Z\",\n",
      "  \"batchId\" : 1,\n",
      "  \"numInputRows\" : 20,\n",
      "  \"inputRowsPerSecond\" : 3.009328919650918,\n",
      "  \"processedRowsPerSecond\" : 20.61855670103093,\n",
      "  \"durationMs\" : {\n",
      "    \"addBatch\" : 511,\n",
      "    \"commitOffsets\" : 53,\n",
      "    \"getBatch\" : 27,\n",
      "    \"latestOffset\" : 114,\n",
      "    \"queryPlanning\" : 63,\n",
      "    \"triggerExecution\" : 970,\n",
      "    \"walCommit\" : 181\n",
      "  },\n",
      "  \"stateOperators\" : [ ],\n",
      "  \"sources\" : [ {\n",
      "    \"description\" : \"FileStreamSource[file:/home/jovyan/notebooks/data/structured_streaming_log_files]\",\n",
      "    \"startOffset\" : {\n",
      "      \"logOffset\" : 0\n",
      "    },\n",
      "    \"endOffset\" : {\n",
      "      \"logOffset\" : 1\n",
      "    },\n",
      "    \"latestOffset\" : null,\n",
      "    \"numInputRows\" : 20,\n",
      "    \"inputRowsPerSecond\" : 3.009328919650918,\n",
      "    \"processedRowsPerSecond\" : 20.61855670103093\n",
      "  } ],\n",
      "  \"sink\" : {\n",
      "    \"description\" : \"org.apache.spark.sql.execution.streaming.ConsoleTable$@3c20d872\",\n",
      "    \"numOutputRows\" : 6\n",
      "  }\n",
      "}\n"
     ]
    },
    {
     "name": "stderr",
     "output_type": "stream",
     "text": [
      "ERROR:root:KeyboardInterrupt while sending command.\n",
      "Traceback (most recent call last):\n",
      "  File \"/opt/conda/spark-3.5.4-bin-hadoop3-scala2.13/python/lib/py4j-0.10.9.7-src.zip/py4j/java_gateway.py\", line 1038, in send_command\n",
      "    response = connection.send_command(command)\n",
      "               ^^^^^^^^^^^^^^^^^^^^^^^^^^^^^^^^\n",
      "  File \"/opt/conda/spark-3.5.4-bin-hadoop3-scala2.13/python/lib/py4j-0.10.9.7-src.zip/py4j/clientserver.py\", line 511, in send_command\n",
      "    answer = smart_decode(self.stream.readline()[:-1])\n",
      "                          ^^^^^^^^^^^^^^^^^^^^^^\n",
      "  File \"/opt/conda/lib/python3.11/socket.py\", line 706, in readinto\n",
      "    return self._sock.recv_into(b)\n",
      "           ^^^^^^^^^^^^^^^^^^^^^^^\n",
      "KeyboardInterrupt\n"
     ]
    },
    {
     "ename": "KeyboardInterrupt",
     "evalue": "",
     "output_type": "error",
     "traceback": [
      "\u001b[0;31m---------------------------------------------------------------------------\u001b[0m",
      "\u001b[0;31mKeyboardInterrupt\u001b[0m                         Traceback (most recent call last)",
      "Cell \u001b[0;32mIn[6], line 13\u001b[0m\n\u001b[1;32m      3\u001b[0m spark\u001b[38;5;241m.\u001b[39mstreams\u001b[38;5;241m.\u001b[39maddListener(QL())\n\u001b[1;32m      5\u001b[0m query \u001b[38;5;241m=\u001b[39m logs_df \\\n\u001b[1;32m      6\u001b[0m                 \u001b[38;5;241m.\u001b[39mwriteStream \\\n\u001b[1;32m      7\u001b[0m                 \u001b[38;5;241m.\u001b[39moutputMode(\u001b[38;5;124m\"\u001b[39m\u001b[38;5;124mappend\u001b[39m\u001b[38;5;124m\"\u001b[39m) \\\n\u001b[0;32m   (...)\u001b[0m\n\u001b[1;32m     10\u001b[0m                 \u001b[38;5;241m.\u001b[39moption(\u001b[38;5;124m\"\u001b[39m\u001b[38;5;124mtruncate\u001b[39m\u001b[38;5;124m\"\u001b[39m, \u001b[38;5;124m\"\u001b[39m\u001b[38;5;124mfalse\u001b[39m\u001b[38;5;124m\"\u001b[39m) \\\n\u001b[1;32m     11\u001b[0m                 \u001b[38;5;241m.\u001b[39mstart()\n\u001b[0;32m---> 13\u001b[0m \u001b[43mquery\u001b[49m\u001b[38;5;241;43m.\u001b[39;49m\u001b[43mawaitTermination\u001b[49m\u001b[43m(\u001b[49m\u001b[38;5;241;43m30\u001b[39;49m\u001b[43m)\u001b[49m\n",
      "File \u001b[0;32m/opt/conda/spark-3.5.4-bin-hadoop3-scala2.13/python/pyspark/sql/streaming/query.py:219\u001b[0m, in \u001b[0;36mStreamingQuery.awaitTermination\u001b[0;34m(self, timeout)\u001b[0m\n\u001b[1;32m    214\u001b[0m     \u001b[38;5;28;01mif\u001b[39;00m \u001b[38;5;129;01mnot\u001b[39;00m \u001b[38;5;28misinstance\u001b[39m(timeout, (\u001b[38;5;28mint\u001b[39m, \u001b[38;5;28mfloat\u001b[39m)) \u001b[38;5;129;01mor\u001b[39;00m timeout \u001b[38;5;241m<\u001b[39m\u001b[38;5;241m=\u001b[39m \u001b[38;5;241m0\u001b[39m:\n\u001b[1;32m    215\u001b[0m         \u001b[38;5;28;01mraise\u001b[39;00m PySparkValueError(\n\u001b[1;32m    216\u001b[0m             error_class\u001b[38;5;241m=\u001b[39m\u001b[38;5;124m\"\u001b[39m\u001b[38;5;124mVALUE_NOT_POSITIVE\u001b[39m\u001b[38;5;124m\"\u001b[39m,\n\u001b[1;32m    217\u001b[0m             message_parameters\u001b[38;5;241m=\u001b[39m{\u001b[38;5;124m\"\u001b[39m\u001b[38;5;124marg_name\u001b[39m\u001b[38;5;124m\"\u001b[39m: \u001b[38;5;124m\"\u001b[39m\u001b[38;5;124mtimeout\u001b[39m\u001b[38;5;124m\"\u001b[39m, \u001b[38;5;124m\"\u001b[39m\u001b[38;5;124marg_value\u001b[39m\u001b[38;5;124m\"\u001b[39m: \u001b[38;5;28mtype\u001b[39m(timeout)\u001b[38;5;241m.\u001b[39m\u001b[38;5;18m__name__\u001b[39m},\n\u001b[1;32m    218\u001b[0m         )\n\u001b[0;32m--> 219\u001b[0m     \u001b[38;5;28;01mreturn\u001b[39;00m \u001b[38;5;28;43mself\u001b[39;49m\u001b[38;5;241;43m.\u001b[39;49m\u001b[43m_jsq\u001b[49m\u001b[38;5;241;43m.\u001b[39;49m\u001b[43mawaitTermination\u001b[49m\u001b[43m(\u001b[49m\u001b[38;5;28;43mint\u001b[39;49m\u001b[43m(\u001b[49m\u001b[43mtimeout\u001b[49m\u001b[43m \u001b[49m\u001b[38;5;241;43m*\u001b[39;49m\u001b[43m \u001b[49m\u001b[38;5;241;43m1000\u001b[39;49m\u001b[43m)\u001b[49m\u001b[43m)\u001b[49m\n\u001b[1;32m    220\u001b[0m \u001b[38;5;28;01melse\u001b[39;00m:\n\u001b[1;32m    221\u001b[0m     \u001b[38;5;28;01mreturn\u001b[39;00m \u001b[38;5;28mself\u001b[39m\u001b[38;5;241m.\u001b[39m_jsq\u001b[38;5;241m.\u001b[39mawaitTermination()\n",
      "File \u001b[0;32m/opt/conda/spark-3.5.4-bin-hadoop3-scala2.13/python/lib/py4j-0.10.9.7-src.zip/py4j/java_gateway.py:1321\u001b[0m, in \u001b[0;36mJavaMember.__call__\u001b[0;34m(self, *args)\u001b[0m\n\u001b[1;32m   1314\u001b[0m args_command, temp_args \u001b[38;5;241m=\u001b[39m \u001b[38;5;28mself\u001b[39m\u001b[38;5;241m.\u001b[39m_build_args(\u001b[38;5;241m*\u001b[39margs)\n\u001b[1;32m   1316\u001b[0m command \u001b[38;5;241m=\u001b[39m proto\u001b[38;5;241m.\u001b[39mCALL_COMMAND_NAME \u001b[38;5;241m+\u001b[39m\\\n\u001b[1;32m   1317\u001b[0m     \u001b[38;5;28mself\u001b[39m\u001b[38;5;241m.\u001b[39mcommand_header \u001b[38;5;241m+\u001b[39m\\\n\u001b[1;32m   1318\u001b[0m     args_command \u001b[38;5;241m+\u001b[39m\\\n\u001b[1;32m   1319\u001b[0m     proto\u001b[38;5;241m.\u001b[39mEND_COMMAND_PART\n\u001b[0;32m-> 1321\u001b[0m answer \u001b[38;5;241m=\u001b[39m \u001b[38;5;28;43mself\u001b[39;49m\u001b[38;5;241;43m.\u001b[39;49m\u001b[43mgateway_client\u001b[49m\u001b[38;5;241;43m.\u001b[39;49m\u001b[43msend_command\u001b[49m\u001b[43m(\u001b[49m\u001b[43mcommand\u001b[49m\u001b[43m)\u001b[49m\n\u001b[1;32m   1322\u001b[0m return_value \u001b[38;5;241m=\u001b[39m get_return_value(\n\u001b[1;32m   1323\u001b[0m     answer, \u001b[38;5;28mself\u001b[39m\u001b[38;5;241m.\u001b[39mgateway_client, \u001b[38;5;28mself\u001b[39m\u001b[38;5;241m.\u001b[39mtarget_id, \u001b[38;5;28mself\u001b[39m\u001b[38;5;241m.\u001b[39mname)\n\u001b[1;32m   1325\u001b[0m \u001b[38;5;28;01mfor\u001b[39;00m temp_arg \u001b[38;5;129;01min\u001b[39;00m temp_args:\n",
      "File \u001b[0;32m/opt/conda/spark-3.5.4-bin-hadoop3-scala2.13/python/lib/py4j-0.10.9.7-src.zip/py4j/java_gateway.py:1038\u001b[0m, in \u001b[0;36mGatewayClient.send_command\u001b[0;34m(self, command, retry, binary)\u001b[0m\n\u001b[1;32m   1036\u001b[0m connection \u001b[38;5;241m=\u001b[39m \u001b[38;5;28mself\u001b[39m\u001b[38;5;241m.\u001b[39m_get_connection()\n\u001b[1;32m   1037\u001b[0m \u001b[38;5;28;01mtry\u001b[39;00m:\n\u001b[0;32m-> 1038\u001b[0m     response \u001b[38;5;241m=\u001b[39m \u001b[43mconnection\u001b[49m\u001b[38;5;241;43m.\u001b[39;49m\u001b[43msend_command\u001b[49m\u001b[43m(\u001b[49m\u001b[43mcommand\u001b[49m\u001b[43m)\u001b[49m\n\u001b[1;32m   1039\u001b[0m     \u001b[38;5;28;01mif\u001b[39;00m binary:\n\u001b[1;32m   1040\u001b[0m         \u001b[38;5;28;01mreturn\u001b[39;00m response, \u001b[38;5;28mself\u001b[39m\u001b[38;5;241m.\u001b[39m_create_connection_guard(connection)\n",
      "File \u001b[0;32m/opt/conda/spark-3.5.4-bin-hadoop3-scala2.13/python/lib/py4j-0.10.9.7-src.zip/py4j/clientserver.py:511\u001b[0m, in \u001b[0;36mClientServerConnection.send_command\u001b[0;34m(self, command)\u001b[0m\n\u001b[1;32m    509\u001b[0m \u001b[38;5;28;01mtry\u001b[39;00m:\n\u001b[1;32m    510\u001b[0m     \u001b[38;5;28;01mwhile\u001b[39;00m \u001b[38;5;28;01mTrue\u001b[39;00m:\n\u001b[0;32m--> 511\u001b[0m         answer \u001b[38;5;241m=\u001b[39m smart_decode(\u001b[38;5;28mself\u001b[39m\u001b[38;5;241m.\u001b[39mstream\u001b[38;5;241m.\u001b[39mreadline()[:\u001b[38;5;241m-\u001b[39m\u001b[38;5;241m1\u001b[39m])\n\u001b[1;32m    512\u001b[0m         logger\u001b[38;5;241m.\u001b[39mdebug(\u001b[38;5;124m\"\u001b[39m\u001b[38;5;124mAnswer received: \u001b[39m\u001b[38;5;132;01m{0}\u001b[39;00m\u001b[38;5;124m\"\u001b[39m\u001b[38;5;241m.\u001b[39mformat(answer))\n\u001b[1;32m    513\u001b[0m         \u001b[38;5;66;03m# Happens when a the other end is dead. There might be an empty\u001b[39;00m\n\u001b[1;32m    514\u001b[0m         \u001b[38;5;66;03m# answer before the socket raises an error.\u001b[39;00m\n",
      "File \u001b[0;32m/opt/conda/lib/python3.11/socket.py:706\u001b[0m, in \u001b[0;36mSocketIO.readinto\u001b[0;34m(self, b)\u001b[0m\n\u001b[1;32m    704\u001b[0m \u001b[38;5;28;01mwhile\u001b[39;00m \u001b[38;5;28;01mTrue\u001b[39;00m:\n\u001b[1;32m    705\u001b[0m     \u001b[38;5;28;01mtry\u001b[39;00m:\n\u001b[0;32m--> 706\u001b[0m         \u001b[38;5;28;01mreturn\u001b[39;00m \u001b[38;5;28;43mself\u001b[39;49m\u001b[38;5;241;43m.\u001b[39;49m\u001b[43m_sock\u001b[49m\u001b[38;5;241;43m.\u001b[39;49m\u001b[43mrecv_into\u001b[49m\u001b[43m(\u001b[49m\u001b[43mb\u001b[49m\u001b[43m)\u001b[49m\n\u001b[1;32m    707\u001b[0m     \u001b[38;5;28;01mexcept\u001b[39;00m timeout:\n\u001b[1;32m    708\u001b[0m         \u001b[38;5;28mself\u001b[39m\u001b[38;5;241m.\u001b[39m_timeout_occurred \u001b[38;5;241m=\u001b[39m \u001b[38;5;28;01mTrue\u001b[39;00m\n",
      "\u001b[0;31mKeyboardInterrupt\u001b[0m: "
     ]
    },
    {
     "name": "stdout",
     "output_type": "stream",
     "text": [
      "-------------------------------------------\n",
      "Batch: 2\n",
      "-------------------------------------------\n",
      "+--------------------------------------------------------------------------------+-------------------+---------+-----------------------------------+-------------+\n",
      "|log_array                                                                       |date_time          |log_level|message                            |node         |\n",
      "+--------------------------------------------------------------------------------+-------------------+---------+-----------------------------------+-------------+\n",
      "|[2025-04-08 01:03:27, ERROR, Unauthorized login attempt detected, server-node-3]|2025-04-08 01:03:27|ERROR    |Unauthorized login attempt detected|server-node-3|\n",
      "+--------------------------------------------------------------------------------+-------------------+---------+-----------------------------------+-------------+\n",
      "\n",
      "Query made progress: {\n",
      "  \"id\" : \"a39a5958-8f3f-4f23-a4b8-1081a63d9366\",\n",
      "  \"runId\" : \"2aab5cef-1a55-4918-bb07-8f8a35a29072\",\n",
      "  \"name\" : null,\n",
      "  \"timestamp\" : \"2025-04-08T01:03:30.000Z\",\n",
      "  \"batchId\" : 2,\n",
      "  \"numInputRows\" : 10,\n",
      "  \"inputRowsPerSecond\" : 2.039151712887439,\n",
      "  \"processedRowsPerSecond\" : 17.825311942959,\n",
      "  \"durationMs\" : {\n",
      "    \"addBatch\" : 317,\n",
      "    \"commitOffsets\" : 54,\n",
      "    \"getBatch\" : 18,\n",
      "    \"latestOffset\" : 72,\n",
      "    \"queryPlanning\" : 39,\n",
      "    \"triggerExecution\" : 561,\n",
      "    \"walCommit\" : 56\n",
      "  },\n",
      "  \"stateOperators\" : [ ],\n",
      "  \"sources\" : [ {\n",
      "    \"description\" : \"FileStreamSource[file:/home/jovyan/notebooks/data/structured_streaming_log_files]\",\n",
      "    \"startOffset\" : {\n",
      "      \"logOffset\" : 1\n",
      "    },\n",
      "    \"endOffset\" : {\n",
      "      \"logOffset\" : 2\n",
      "    },\n",
      "    \"latestOffset\" : null,\n",
      "    \"numInputRows\" : 10,\n",
      "    \"inputRowsPerSecond\" : 2.039151712887439,\n",
      "    \"processedRowsPerSecond\" : 17.825311942959\n",
      "  } ],\n",
      "  \"sink\" : {\n",
      "    \"description\" : \"org.apache.spark.sql.execution.streaming.ConsoleTable$@3c20d872\",\n",
      "    \"numOutputRows\" : 1\n",
      "  }\n",
      "}\n"
     ]
    }
   ],
   "source": [
    "from team_ParDeDos.query_listeners import QueryListener as QL\n",
    "\n",
    "spark.streams.addListener(QL())\n",
    "\n",
    "query = logs_df \\\n",
    "                .writeStream \\\n",
    "                .outputMode(\"append\") \\\n",
    "                .trigger(processingTime='5 seconds') \\\n",
    "                .format(\"console\") \\\n",
    "                .option(\"truncate\", \"false\") \\\n",
    "                .start()\n",
    "\n",
    "query.awaitTermination(30)"
   ]
  },
  {
   "cell_type": "code",
   "execution_count": 8,
   "metadata": {},
   "outputs": [],
   "source": [
    "query.stop()"
   ]
  },
  {
   "cell_type": "code",
   "execution_count": 7,
   "metadata": {},
   "outputs": [],
   "source": [
    "sc.stop()"
   ]
  }
 ],
 "metadata": {
  "kernelspec": {
   "display_name": "Python 3 (ipykernel)",
   "language": "python",
   "name": "python3"
  },
  "language_info": {
   "codemirror_mode": {
    "name": "ipython",
    "version": 3
   },
   "file_extension": ".py",
   "mimetype": "text/x-python",
   "name": "python",
   "nbconvert_exporter": "python",
   "pygments_lexer": "ipython3",
   "version": "3.11.6"
  }
 },
 "nbformat": 4,
 "nbformat_minor": 2
}
