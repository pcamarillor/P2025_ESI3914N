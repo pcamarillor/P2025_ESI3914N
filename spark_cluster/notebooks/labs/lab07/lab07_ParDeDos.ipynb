{
 "cells": [
  {
   "cell_type": "markdown",
   "metadata": {},
   "source": [
    "# <center> <img src=\"../img/ITESOLogo.png\" alt=\"ITESO\" width=\"480\" height=\"130\"> </center>\n",
    "# <center> **Departamento de Electrónica, Sistemas e Informática** </center>\n",
    "---\n",
    "## <center> Program: Computer Systems Engineering  </center>\n",
    "---\n",
    "### <center> **Spring 2025** </center>\n",
    "---\n",
    "\n",
    "**Lab 07**: Structured Streaming with Files\n",
    "\n",
    "**Date**: 31/03/2025\n",
    "\n",
    "**Team Name**: Par De Dos\n",
    "\n",
    "**Professor**: Pablo Camarillo Ramirez"
   ]
  },
  {
   "cell_type": "code",
   "execution_count": null,
   "metadata": {},
   "outputs": [],
   "source": [
    "import findspark\n",
    "findspark.init()"
   ]
  },
  {
   "cell_type": "code",
   "execution_count": 2,
   "metadata": {},
   "outputs": [
    {
     "name": "stderr",
     "output_type": "stream",
     "text": [
      "Setting default log level to \"WARN\".\n",
      "To adjust logging level use sc.setLogLevel(newLevel). For SparkR, use setLogLevel(newLevel).\n",
      "25/04/03 19:57:04 WARN NativeCodeLoader: Unable to load native-hadoop library for your platform... using builtin-java classes where applicable\n"
     ]
    }
   ],
   "source": [
    "from pyspark.sql import SparkSession\n",
    "\n",
    "spark = SparkSession.builder \\\n",
    "    .appName(\"ParDeDosLogsStreaming\") \\\n",
    "    .master(\"spark://368ad5a83fd7:7077\") \\\n",
    "    .config(\"spark.ui.port\",\"4040\") \\\n",
    "    .getOrCreate()\n",
    "sc = spark.sparkContext"
   ]
  },
  {
   "cell_type": "code",
   "execution_count": 3,
   "metadata": {},
   "outputs": [],
   "source": [
    "log_dir=\"/home/jovyan/notebooks/data/structured_streaming_log_files/\"\n",
    "\n",
    "logs_lines = spark \\\n",
    "                .readStream \\\n",
    "                .format(\"text\") \\\n",
    "                .option(\"maxFilesPerTrigger\", 5) \\\n",
    "                .load(log_dir)"
   ]
  },
  {
   "cell_type": "code",
   "execution_count": 4,
   "metadata": {},
   "outputs": [
    {
     "name": "stdout",
     "output_type": "stream",
     "text": [
      "root\n",
      " |-- log_array: array (nullable = true)\n",
      " |    |-- element: string (containsNull = false)\n",
      " |-- date_time: string (nullable = true)\n",
      " |-- log_level: string (nullable = true)\n",
      " |-- message: string (nullable = true)\n",
      " |-- node: string (nullable = true)\n",
      "\n"
     ]
    }
   ],
   "source": [
    "from pyspark.sql.functions import split, col\n",
    "\n",
    "logs_df = logs_lines.select(split(col(\"value\"), r\"\\s*\\|\\s*\").alias(\"log_array\"))\n",
    "\n",
    "logs_df = logs_df.withColumn(\"date_time\", col(\"log_array\")[0])\n",
    "logs_df = logs_df.withColumn(\"log_level\", col(\"log_array\")[1])\n",
    "logs_df = logs_df.withColumn(\"message\", col(\"log_array\")[2])\n",
    "logs_df = logs_df.withColumn(\"node\", col(\"log_array\")[3])\n",
    "\n",
    "\n",
    "logs_df.printSchema()"
   ]
  },
  {
   "cell_type": "code",
   "execution_count": 5,
   "metadata": {},
   "outputs": [],
   "source": [
    "logs_df = logs_df.filter(logs_df.log_level == \"ERROR\")"
   ]
  },
  {
   "cell_type": "code",
   "execution_count": 6,
   "metadata": {},
   "outputs": [
    {
     "name": "stderr",
     "output_type": "stream",
     "text": [
      "25/04/03 19:58:00 WARN ResolveWriteToStream: Temporary checkpoint location created which is deleted normally when the query didn't fail: /tmp/temporary-5611a9dc-388e-41d2-9169-463df7014612. If it's required to delete it under any circumstances, please set spark.sql.streaming.forceDeleteTempCheckpointLocation to true. Important to know deleting temp checkpoint folder is best effort.\n",
      "25/04/03 19:58:00 WARN ResolveWriteToStream: spark.sql.adaptive.enabled is not supported in streaming DataFrames/Datasets and will be disabled.\n",
      "                                                                                \r"
     ]
    },
    {
     "name": "stdout",
     "output_type": "stream",
     "text": [
      "-------------------------------------------\n",
      "Batch: 0\n",
      "-------------------------------------------\n",
      "+--------------------------------------------------------------------------------+-------------------+---------+-----------------------------------+-------------+\n",
      "|log_array                                                                       |date_time          |log_level|message                            |node         |\n",
      "+--------------------------------------------------------------------------------+-------------------+---------+-----------------------------------+-------------+\n",
      "|[2025-04-03 19:55:10, ERROR, Unauthorized login attempt detected, server-node-1]|2025-04-03 19:55:10|ERROR    |Unauthorized login attempt detected|server-node-1|\n",
      "|[2025-04-03 19:55:10, ERROR, Imminent Explosion, server-node-2]                 |2025-04-03 19:55:10|ERROR    |Imminent Explosion                 |server-node-2|\n",
      "|[2025-04-03 19:55:10, ERROR, Unauthorized login attempt detected, server-node-2]|2025-04-03 19:55:10|ERROR    |Unauthorized login attempt detected|server-node-2|\n",
      "|[2025-04-03 19:55:10, ERROR, Database connection lost, server-node-3]           |2025-04-03 19:55:10|ERROR    |Database connection lost           |server-node-3|\n",
      "|[2025-04-03 19:55:10, ERROR, Unauthorized login attempt detected, server-node-1]|2025-04-03 19:55:10|ERROR    |Unauthorized login attempt detected|server-node-1|\n",
      "|[2025-04-03 19:55:15, ERROR, Imminent Explosion, server-node-1]                 |2025-04-03 19:55:15|ERROR    |Imminent Explosion                 |server-node-1|\n",
      "|[2025-04-03 19:55:15, ERROR, Database connection lost, server-node-3]           |2025-04-03 19:55:15|ERROR    |Database connection lost           |server-node-3|\n",
      "|[2025-04-03 19:55:15, ERROR, Imminent Explosion, server-node-3]                 |2025-04-03 19:55:15|ERROR    |Imminent Explosion                 |server-node-3|\n",
      "|[2025-04-03 19:55:15, ERROR, Unauthorized login attempt detected, server-node-1]|2025-04-03 19:55:15|ERROR    |Unauthorized login attempt detected|server-node-1|\n",
      "+--------------------------------------------------------------------------------+-------------------+---------+-----------------------------------+-------------+\n",
      "\n"
     ]
    },
    {
     "name": "stderr",
     "output_type": "stream",
     "text": [
      "25/04/03 19:58:07 WARN ProcessingTimeExecutor: Current batch is falling behind. The trigger interval is 5000 milliseconds, but spent 5778 milliseconds\n"
     ]
    },
    {
     "name": "stdout",
     "output_type": "stream",
     "text": [
      "-------------------------------------------\n",
      "Batch: 1\n",
      "-------------------------------------------\n",
      "+--------------------------------------------------------------------------------+-------------------+---------+-----------------------------------+-------------+\n",
      "|log_array                                                                       |date_time          |log_level|message                            |node         |\n",
      "+--------------------------------------------------------------------------------+-------------------+---------+-----------------------------------+-------------+\n",
      "|[2025-04-03 19:58:04, ERROR, Unauthorized login attempt detected, server-node-1]|2025-04-03 19:58:04|ERROR    |Unauthorized login attempt detected|server-node-1|\n",
      "|[2025-04-03 19:58:04, ERROR, Imminent Explosion, server-node-1]                 |2025-04-03 19:58:04|ERROR    |Imminent Explosion                 |server-node-1|\n",
      "|[2025-04-03 19:58:04, ERROR, Database connection lost, server-node-1]           |2025-04-03 19:58:04|ERROR    |Database connection lost           |server-node-1|\n",
      "+--------------------------------------------------------------------------------+-------------------+---------+-----------------------------------+-------------+\n",
      "\n",
      "-------------------------------------------\n",
      "Batch: 2\n",
      "-------------------------------------------\n",
      "+--------------------------------------------------------------------------------+-------------------+---------+-----------------------------------+-------------+\n",
      "|log_array                                                                       |date_time          |log_level|message                            |node         |\n",
      "+--------------------------------------------------------------------------------+-------------------+---------+-----------------------------------+-------------+\n",
      "|[2025-04-03 19:58:09, ERROR, Unauthorized login attempt detected, server-node-1]|2025-04-03 19:58:09|ERROR    |Unauthorized login attempt detected|server-node-1|\n",
      "|[2025-04-03 19:58:09, ERROR, Imminent Explosion, server-node-1]                 |2025-04-03 19:58:09|ERROR    |Imminent Explosion                 |server-node-1|\n",
      "|[2025-04-03 19:58:09, ERROR, Unauthorized login attempt detected, server-node-1]|2025-04-03 19:58:09|ERROR    |Unauthorized login attempt detected|server-node-1|\n",
      "|[2025-04-03 19:58:09, ERROR, Database connection lost, server-node-3]           |2025-04-03 19:58:09|ERROR    |Database connection lost           |server-node-3|\n",
      "+--------------------------------------------------------------------------------+-------------------+---------+-----------------------------------+-------------+\n",
      "\n",
      "-------------------------------------------\n",
      "Batch: 3\n",
      "-------------------------------------------\n",
      "+--------------------------------------------------------------------------------+-------------------+---------+-----------------------------------+-------------+\n",
      "|log_array                                                                       |date_time          |log_level|message                            |node         |\n",
      "+--------------------------------------------------------------------------------+-------------------+---------+-----------------------------------+-------------+\n",
      "|[2025-04-03 19:58:14, ERROR, Database connection lost, server-node-2]           |2025-04-03 19:58:14|ERROR    |Database connection lost           |server-node-2|\n",
      "|[2025-04-03 19:58:14, ERROR, Unauthorized login attempt detected, server-node-3]|2025-04-03 19:58:14|ERROR    |Unauthorized login attempt detected|server-node-3|\n",
      "+--------------------------------------------------------------------------------+-------------------+---------+-----------------------------------+-------------+\n",
      "\n",
      "-------------------------------------------\n",
      "Batch: 4\n",
      "-------------------------------------------\n",
      "+--------------------------------------------------------------------------------+-------------------+---------+-----------------------------------+-------------+\n",
      "|log_array                                                                       |date_time          |log_level|message                            |node         |\n",
      "+--------------------------------------------------------------------------------+-------------------+---------+-----------------------------------+-------------+\n",
      "|[2025-04-03 19:58:19, ERROR, Unauthorized login attempt detected, server-node-1]|2025-04-03 19:58:19|ERROR    |Unauthorized login attempt detected|server-node-1|\n",
      "|[2025-04-03 19:58:19, ERROR, Database connection lost, server-node-2]           |2025-04-03 19:58:19|ERROR    |Database connection lost           |server-node-2|\n",
      "|[2025-04-03 19:58:19, ERROR, Imminent Explosion, server-node-3]                 |2025-04-03 19:58:19|ERROR    |Imminent Explosion                 |server-node-3|\n",
      "|[2025-04-03 19:58:19, ERROR, Database connection lost, server-node-1]           |2025-04-03 19:58:19|ERROR    |Database connection lost           |server-node-1|\n",
      "|[2025-04-03 19:58:19, ERROR, Unauthorized login attempt detected, server-node-3]|2025-04-03 19:58:19|ERROR    |Unauthorized login attempt detected|server-node-3|\n",
      "|[2025-04-03 19:58:19, ERROR, Database connection lost, server-node-1]           |2025-04-03 19:58:19|ERROR    |Database connection lost           |server-node-1|\n",
      "|[2025-04-03 19:58:19, ERROR, Database connection lost, server-node-1]           |2025-04-03 19:58:19|ERROR    |Database connection lost           |server-node-1|\n",
      "+--------------------------------------------------------------------------------+-------------------+---------+-----------------------------------+-------------+\n",
      "\n",
      "-------------------------------------------\n",
      "Batch: 5\n",
      "-------------------------------------------\n",
      "+--------------------------------------------------------------------------------+-------------------+---------+-----------------------------------+-------------+\n",
      "|log_array                                                                       |date_time          |log_level|message                            |node         |\n",
      "+--------------------------------------------------------------------------------+-------------------+---------+-----------------------------------+-------------+\n",
      "|[2025-04-03 19:58:24, ERROR, Imminent Explosion, server-node-1]                 |2025-04-03 19:58:24|ERROR    |Imminent Explosion                 |server-node-1|\n",
      "|[2025-04-03 19:58:24, ERROR, Unauthorized login attempt detected, server-node-3]|2025-04-03 19:58:24|ERROR    |Unauthorized login attempt detected|server-node-3|\n",
      "+--------------------------------------------------------------------------------+-------------------+---------+-----------------------------------+-------------+\n",
      "\n",
      "-------------------------------------------\n",
      "Batch: 6\n",
      "-------------------------------------------\n",
      "+---------------------------------------------------------------------+-------------------+---------+------------------------+-------------+\n",
      "|log_array                                                            |date_time          |log_level|message                 |node         |\n",
      "+---------------------------------------------------------------------+-------------------+---------+------------------------+-------------+\n",
      "|[2025-04-03 19:58:29, ERROR, Database connection lost, server-node-1]|2025-04-03 19:58:29|ERROR    |Database connection lost|server-node-1|\n",
      "|[2025-04-03 19:58:29, ERROR, Database connection lost, server-node-1]|2025-04-03 19:58:29|ERROR    |Database connection lost|server-node-1|\n",
      "|[2025-04-03 19:58:29, ERROR, Database connection lost, server-node-1]|2025-04-03 19:58:29|ERROR    |Database connection lost|server-node-1|\n",
      "+---------------------------------------------------------------------+-------------------+---------+------------------------+-------------+\n",
      "\n"
     ]
    },
    {
     "data": {
      "text/plain": [
       "False"
      ]
     },
     "execution_count": 6,
     "metadata": {},
     "output_type": "execute_result"
    },
    {
     "name": "stdout",
     "output_type": "stream",
     "text": [
      "-------------------------------------------\n",
      "Batch: 7\n",
      "-------------------------------------------\n",
      "+--------------------------------------------------------------------------------+-------------------+---------+-----------------------------------+-------------+\n",
      "|log_array                                                                       |date_time          |log_level|message                            |node         |\n",
      "+--------------------------------------------------------------------------------+-------------------+---------+-----------------------------------+-------------+\n",
      "|[2025-04-03 19:58:36, ERROR, Unauthorized login attempt detected, server-node-3]|2025-04-03 19:58:36|ERROR    |Unauthorized login attempt detected|server-node-3|\n",
      "|[2025-04-03 19:58:36, ERROR, Imminent Explosion, server-node-2]                 |2025-04-03 19:58:36|ERROR    |Imminent Explosion                 |server-node-2|\n",
      "|[2025-04-03 19:58:36, ERROR, Imminent Explosion, server-node-1]                 |2025-04-03 19:58:36|ERROR    |Imminent Explosion                 |server-node-1|\n",
      "|[2025-04-03 19:58:36, ERROR, Imminent Explosion, server-node-3]                 |2025-04-03 19:58:36|ERROR    |Imminent Explosion                 |server-node-3|\n",
      "|[2025-04-03 19:58:36, ERROR, Imminent Explosion, server-node-2]                 |2025-04-03 19:58:36|ERROR    |Imminent Explosion                 |server-node-2|\n",
      "|[2025-04-03 19:58:36, ERROR, Database connection lost, server-node-3]           |2025-04-03 19:58:36|ERROR    |Database connection lost           |server-node-3|\n",
      "+--------------------------------------------------------------------------------+-------------------+---------+-----------------------------------+-------------+\n",
      "\n"
     ]
    }
   ],
   "source": [
    "query = logs_df \\\n",
    "                .writeStream \\\n",
    "                .outputMode(\"append\") \\\n",
    "                .trigger(processingTime='5 seconds') \\\n",
    "                .format(\"console\") \\\n",
    "                .option(\"truncate\", \"false\") \\\n",
    "                .start()\n",
    "\n",
    "query.awaitTermination(30)"
   ]
  },
  {
   "cell_type": "code",
   "execution_count": 8,
   "metadata": {},
   "outputs": [],
   "source": [
    "query.stop()"
   ]
  },
  {
   "cell_type": "code",
   "execution_count": 7,
   "metadata": {},
   "outputs": [],
   "source": [
    "sc.stop()"
   ]
  }
 ],
 "metadata": {
  "kernelspec": {
   "display_name": "Python 3 (ipykernel)",
   "language": "python",
   "name": "python3"
  },
  "language_info": {
   "codemirror_mode": {
    "name": "ipython",
    "version": 3
   },
   "file_extension": ".py",
   "mimetype": "text/x-python",
   "name": "python",
   "nbconvert_exporter": "python",
   "pygments_lexer": "ipython3",
   "version": "3.11.6"
  }
 },
 "nbformat": 4,
 "nbformat_minor": 2
}
