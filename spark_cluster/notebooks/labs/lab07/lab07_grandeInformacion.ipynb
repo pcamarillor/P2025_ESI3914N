{
 "cells": [
  {
   "cell_type": "code",
   "execution_count": null,
   "metadata": {},
   "outputs": [],
   "source": [
    "import findspark\n",
    "findspark.init()\n",
    "\n",
    "#1a01e0e77d803e8e292dbb639aa77646d41947892fe6f227"
   ]
  },
  {
   "cell_type": "code",
   "execution_count": 2,
   "metadata": {},
   "outputs": [
    {
     "name": "stderr",
     "output_type": "stream",
     "text": [
      "Setting default log level to \"WARN\".\n",
      "To adjust logging level use sc.setLogLevel(newLevel). For SparkR, use setLogLevel(newLevel).\n",
      "25/04/11 11:41:29 WARN NativeCodeLoader: Unable to load native-hadoop library for your platform... using builtin-java classes where applicable\n"
     ]
    }
   ],
   "source": [
    "from pyspark.sql import SparkSession\n",
    "\n",
    "spark = SparkSession.builder \\\n",
    "    .appName(\"SparkSQLStructuredStreaming-Files\") \\\n",
    "    .master(\"spark://a92682f5ddcc:7077\") \\\n",
    "    .config(\"spark.ui.port\",\"4040\") \\\n",
    "    .getOrCreate()\n",
    "sc = spark.sparkContext"
   ]
  },
  {
   "cell_type": "code",
   "execution_count": 3,
   "metadata": {},
   "outputs": [],
   "source": [
    "from grandeInformacion.spark_utils import SparkUtils\n",
    "\n",
    "logs = spark \\\n",
    "                .readStream \\\n",
    "                .format(\"text\") \\\n",
    "                .option(\"cleanSource\", \"archive\") \\\n",
    "                .option(\"sourceArchiveDir\", \"/home/jovyan/archive\") \\\n",
    "                .load(\"/home/jovyan/notebooks/data/logs_output/\")"
   ]
  },
  {
   "cell_type": "code",
   "execution_count": 4,
   "metadata": {},
   "outputs": [
    {
     "name": "stdout",
     "output_type": "stream",
     "text": [
      "root\n",
      " |-- log_array: array (nullable = true)\n",
      " |    |-- element: string (containsNull = false)\n",
      " |-- date: string (nullable = true)\n",
      " |-- type: string (nullable = true)\n",
      " |-- message: string (nullable = true)\n",
      " |-- node: string (nullable = true)\n",
      "\n"
     ]
    }
   ],
   "source": [
    "from pyspark.sql.functions import split, trim\n",
    "\n",
    "\n",
    "logs = logs.withColumn(\"value\", trim(logs[\"value\"]))\n",
    "\n",
    "logs_df = logs.select(split(logs.value, \"\\\\|\").alias(\"log_array\"))\n",
    "\n",
    "\n",
    "logs_df = logs_df.withColumn(\"date\", logs_df[\"log_array\"].getItem(0).cast(\"string\"))\n",
    "logs_df = logs_df.withColumn(\"type\", logs_df[\"log_array\"].getItem(1).cast(\"string\"))\n",
    "logs_df = logs_df.withColumn(\"message\", logs_df[\"log_array\"].getItem(2).cast(\"string\"))\n",
    "logs_df = logs_df.withColumn(\"node\", logs_df[\"log_array\"].getItem(3).cast(\"string\"))\n",
    "\n",
    "logs_df.printSchema()\n"
   ]
  },
  {
   "cell_type": "code",
   "execution_count": 5,
   "metadata": {},
   "outputs": [],
   "source": [
    "logs_df = logs_df.filter(logs_df[\"type\"] == \"ERROR\")"
   ]
  },
  {
   "cell_type": "code",
   "execution_count": 6,
   "metadata": {},
   "outputs": [
    {
     "name": "stderr",
     "output_type": "stream",
     "text": [
      "25/04/11 11:41:47 WARN ResolveWriteToStream: Temporary checkpoint location created which is deleted normally when the query didn't fail: /tmp/temporary-44659530-1e13-4a9d-b96d-7e2bf4922b12. If it's required to delete it under any circumstances, please set spark.sql.streaming.forceDeleteTempCheckpointLocation to true. Important to know deleting temp checkpoint folder is best effort.\n",
      "25/04/11 11:41:47 WARN ResolveWriteToStream: spark.sql.adaptive.enabled is not supported in streaming DataFrames/Datasets and will be disabled.\n",
      "                                                                                \r"
     ]
    },
    {
     "name": "stdout",
     "output_type": "stream",
     "text": [
      "-------------------------------------------\n",
      "Batch: 0\n",
      "-------------------------------------------\n",
      "+----------------------------------------------------------------------+-------------------+-----+-------------------------+-------------+\n",
      "|log_array                                                             |date               |type |message                  |node         |\n",
      "+----------------------------------------------------------------------+-------------------+-----+-------------------------+-------------+\n",
      "|[06/04/2025 06:36:57, ERROR, 500 Internal Server Error, server-node-2]|06/04/2025 06:36:57|ERROR|500 Internal Server Error|server-node-2|\n",
      "|[06/04/2025 06:36:59, ERROR, 500 Internal Server Error, server-node-2]|06/04/2025 06:36:59|ERROR|500 Internal Server Error|server-node-2|\n",
      "|[06/04/2025 06:37:01, ERROR, 500 Internal Server Error, server-node-2]|06/04/2025 06:37:01|ERROR|500 Internal Server Error|server-node-2|\n",
      "|[06/04/2025 06:37:03, ERROR, 500 Internal Server Error, server-node-2]|06/04/2025 06:37:03|ERROR|500 Internal Server Error|server-node-2|\n",
      "|[11/04/2025 11:41:23, ERROR, 500 Internal Server Error, server-node-2]|11/04/2025 11:41:23|ERROR|500 Internal Server Error|server-node-2|\n",
      "|[11/04/2025 11:41:24, ERROR, 500 Internal Server Error, server-node-2]|11/04/2025 11:41:24|ERROR|500 Internal Server Error|server-node-2|\n",
      "|[11/04/2025 11:41:35, ERROR, 500 Internal Server Error, server-node-2]|11/04/2025 11:41:35|ERROR|500 Internal Server Error|server-node-2|\n",
      "|[11/04/2025 11:41:12, ERROR, 500 Internal Server Error, server-node-2]|11/04/2025 11:41:12|ERROR|500 Internal Server Error|server-node-2|\n",
      "|[11/04/2025 11:41:13, ERROR, 500 Internal Server Error, server-node-2]|11/04/2025 11:41:13|ERROR|500 Internal Server Error|server-node-2|\n",
      "|[11/04/2025 11:41:15, ERROR, 500 Internal Server Error, server-node-2]|11/04/2025 11:41:15|ERROR|500 Internal Server Error|server-node-2|\n",
      "|[11/04/2025 11:41:08, ERROR, 500 Internal Server Error, server-node-2]|11/04/2025 11:41:08|ERROR|500 Internal Server Error|server-node-2|\n",
      "|[11/04/2025 11:40:57, ERROR, 500 Internal Server Error, server-node-2]|11/04/2025 11:40:57|ERROR|500 Internal Server Error|server-node-2|\n",
      "+----------------------------------------------------------------------+-------------------+-----+-------------------------+-------------+\n",
      "\n",
      "-------------------------------------------\n",
      "Batch: 1\n",
      "-------------------------------------------\n",
      "+----------------------------------------------------------------------+-------------------+-----+-------------------------+-------------+\n",
      "|log_array                                                             |date               |type |message                  |node         |\n",
      "+----------------------------------------------------------------------+-------------------+-----+-------------------------+-------------+\n",
      "|[11/04/2025 11:41:48, ERROR, 500 Internal Server Error, server-node-2]|11/04/2025 11:41:48|ERROR|500 Internal Server Error|server-node-2|\n",
      "|[11/04/2025 11:41:50, ERROR, 500 Internal Server Error, server-node-2]|11/04/2025 11:41:50|ERROR|500 Internal Server Error|server-node-2|\n",
      "+----------------------------------------------------------------------+-------------------+-----+-------------------------+-------------+\n",
      "\n",
      "-------------------------------------------\n",
      "Batch: 2\n",
      "-------------------------------------------\n",
      "+----------------------------------------------------------------------+-------------------+-----+-------------------------+-------------+\n",
      "|log_array                                                             |date               |type |message                  |node         |\n",
      "+----------------------------------------------------------------------+-------------------+-----+-------------------------+-------------+\n",
      "|[11/04/2025 11:42:17, ERROR, 500 Internal Server Error, server-node-2]|11/04/2025 11:42:17|ERROR|500 Internal Server Error|server-node-2|\n",
      "|[11/04/2025 11:42:18, ERROR, 500 Internal Server Error, server-node-2]|11/04/2025 11:42:18|ERROR|500 Internal Server Error|server-node-2|\n",
      "|[11/04/2025 11:42:22, ERROR, 500 Internal Server Error, server-node-2]|11/04/2025 11:42:22|ERROR|500 Internal Server Error|server-node-2|\n",
      "|[11/04/2025 11:42:13, ERROR, 500 Internal Server Error, server-node-2]|11/04/2025 11:42:13|ERROR|500 Internal Server Error|server-node-2|\n",
      "|[11/04/2025 11:42:15, ERROR, 500 Internal Server Error, server-node-2]|11/04/2025 11:42:15|ERROR|500 Internal Server Error|server-node-2|\n",
      "+----------------------------------------------------------------------+-------------------+-----+-------------------------+-------------+\n",
      "\n",
      "-------------------------------------------\n",
      "Batch: 3\n",
      "-------------------------------------------\n",
      "+----------------------------------------------------------------------+-------------------+-----+-------------------------+-------------+\n",
      "|log_array                                                             |date               |type |message                  |node         |\n",
      "+----------------------------------------------------------------------+-------------------+-----+-------------------------+-------------+\n",
      "|[11/04/2025 11:42:44, ERROR, 500 Internal Server Error, server-node-2]|11/04/2025 11:42:44|ERROR|500 Internal Server Error|server-node-2|\n",
      "|[11/04/2025 11:42:50, ERROR, 500 Internal Server Error, server-node-2]|11/04/2025 11:42:50|ERROR|500 Internal Server Error|server-node-2|\n",
      "|[11/04/2025 11:42:37, ERROR, 500 Internal Server Error, server-node-2]|11/04/2025 11:42:37|ERROR|500 Internal Server Error|server-node-2|\n",
      "+----------------------------------------------------------------------+-------------------+-----+-------------------------+-------------+\n",
      "\n",
      "-------------------------------------------\n",
      "Batch: 4\n",
      "-------------------------------------------\n",
      "+---------+----+----+-------+----+\n",
      "|log_array|date|type|message|node|\n",
      "+---------+----+----+-------+----+\n",
      "+---------+----+----+-------+----+\n",
      "\n",
      "-------------------------------------------\n",
      "Batch: 5\n",
      "-------------------------------------------\n",
      "+----------------------------------------------------------------------+-------------------+-----+-------------------------+-------------+\n",
      "|log_array                                                             |date               |type |message                  |node         |\n",
      "+----------------------------------------------------------------------+-------------------+-----+-------------------------+-------------+\n",
      "|[11/04/2025 11:43:31, ERROR, 500 Internal Server Error, server-node-2]|11/04/2025 11:43:31|ERROR|500 Internal Server Error|server-node-2|\n",
      "|[11/04/2025 11:43:33, ERROR, 500 Internal Server Error, server-node-2]|11/04/2025 11:43:33|ERROR|500 Internal Server Error|server-node-2|\n",
      "+----------------------------------------------------------------------+-------------------+-----+-------------------------+-------------+\n",
      "\n",
      "-------------------------------------------\n",
      "Batch: 6\n",
      "-------------------------------------------\n",
      "+----------------------------------------------------------------------+-------------------+-----+-------------------------+-------------+\n",
      "|log_array                                                             |date               |type |message                  |node         |\n",
      "+----------------------------------------------------------------------+-------------------+-----+-------------------------+-------------+\n",
      "|[11/04/2025 11:43:49, ERROR, 500 Internal Server Error, server-node-2]|11/04/2025 11:43:49|ERROR|500 Internal Server Error|server-node-2|\n",
      "|[11/04/2025 11:43:51, ERROR, 500 Internal Server Error, server-node-2]|11/04/2025 11:43:51|ERROR|500 Internal Server Error|server-node-2|\n",
      "|[11/04/2025 11:43:53, ERROR, 500 Internal Server Error, server-node-2]|11/04/2025 11:43:53|ERROR|500 Internal Server Error|server-node-2|\n",
      "|[11/04/2025 11:43:58, ERROR, 500 Internal Server Error, server-node-2]|11/04/2025 11:43:58|ERROR|500 Internal Server Error|server-node-2|\n",
      "|[11/04/2025 11:44:06, ERROR, 500 Internal Server Error, server-node-2]|11/04/2025 11:44:06|ERROR|500 Internal Server Error|server-node-2|\n",
      "+----------------------------------------------------------------------+-------------------+-----+-------------------------+-------------+\n",
      "\n",
      "-------------------------------------------\n",
      "Batch: 7\n",
      "-------------------------------------------\n",
      "+----------------------------------------------------------------------+-------------------+-----+-------------------------+-------------+\n",
      "|log_array                                                             |date               |type |message                  |node         |\n",
      "+----------------------------------------------------------------------+-------------------+-----+-------------------------+-------------+\n",
      "|[11/04/2025 11:44:23, ERROR, 500 Internal Server Error, server-node-2]|11/04/2025 11:44:23|ERROR|500 Internal Server Error|server-node-2|\n",
      "|[11/04/2025 11:44:24, ERROR, 500 Internal Server Error, server-node-2]|11/04/2025 11:44:24|ERROR|500 Internal Server Error|server-node-2|\n",
      "+----------------------------------------------------------------------+-------------------+-----+-------------------------+-------------+\n",
      "\n"
     ]
    },
    {
     "data": {
      "text/plain": [
       "False"
      ]
     },
     "execution_count": 6,
     "metadata": {},
     "output_type": "execute_result"
    }
   ],
   "source": [
    "query = logs_df \\\n",
    "    .writeStream \\\n",
    "    .outputMode(\"append\") \\\n",
    "    .trigger(processingTime='25 seconds') \\\n",
    "    .option(\"truncate\", \"false\") \\\n",
    "    .format(\"console\") \\\n",
    "    .start()\n",
    "\n",
    "query.awaitTermination(200)"
   ]
  },
  {
   "cell_type": "code",
   "execution_count": 7,
   "metadata": {},
   "outputs": [],
   "source": [
    "query.stop()"
   ]
  },
  {
   "cell_type": "code",
   "execution_count": 8,
   "metadata": {},
   "outputs": [],
   "source": [
    "sc.stop()"
   ]
  }
 ],
 "metadata": {
  "kernelspec": {
   "display_name": "Python 3 (ipykernel)",
   "language": "python",
   "name": "python3"
  },
  "language_info": {
   "codemirror_mode": {
    "name": "ipython",
    "version": 3
   },
   "file_extension": ".py",
   "mimetype": "text/x-python",
   "name": "python",
   "nbconvert_exporter": "python",
   "pygments_lexer": "ipython3",
   "version": "3.11.6"
  }
 },
 "nbformat": 4,
 "nbformat_minor": 2
}
