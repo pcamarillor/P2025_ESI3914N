{
 "cells": [
  {
   "cell_type": "markdown",
   "metadata": {},
   "source": [
    "# Big Data Pipeline for Netflix Data\n",
    "\n",
    "|                |   |\n",
    ":----------------|---|\n",
    "| **Team**     | Foraneos  |\n",
    "| **Date**      | 03/10/2025  |\n",
    "| **Lab** | 06  |"
   ]
  },
  {
   "cell_type": "markdown",
   "metadata": {},
   "source": [
    "## Problem Statement\n",
    "\n",
    "In teams, write a Jupyter Notebook (within the directory\n",
    "spark_cluster/notebooks/labs/lab06) to cleanup a the Netflix dataset and persist it.\n",
    "To do so you need:<br>\n",
    "- Data Ingestion. Download and uncompress the dataset and move it to\n",
    "spark_cluster/data directory. <br><br>\n",
    "- Compute. Add the needed code remove all null values from the Netflix dataset. You\n",
    "need to create two methods (clean_df and write_df) methods as part of your\n",
    "spark_utils module.<br><br>\n",
    "- Store. Persist the dataframe using the release_year as criteria to partition data.\n"
   ]
  },
  {
   "cell_type": "code",
   "execution_count": 25,
   "metadata": {},
   "outputs": [],
   "source": [
    "import findspark\n",
    "findspark.init()"
   ]
  },
  {
   "cell_type": "code",
   "execution_count": 26,
   "metadata": {},
   "outputs": [],
   "source": [
    "from pyspark.sql import SparkSession\n",
    "\n",
    "spark = SparkSession.builder \\\n",
    "    .appName(\"SparkSQL-Transformations-Actions\") \\\n",
    "    .master(\"spark://0638c7435d1d:7077\") \\\n",
    "    .config(\"spark.ui.port\",\"4040\") \\\n",
    "    .getOrCreate()\n",
    "sc = spark.sparkContext"
   ]
  },
  {
   "cell_type": "markdown",
   "metadata": {},
   "source": [
    "### Loading the netflix dataset"
   ]
  },
  {
   "cell_type": "code",
   "execution_count": 27,
   "metadata": {},
   "outputs": [
    {
     "name": "stdout",
     "output_type": "stream",
     "text": [
      "root\n",
      " |-- show_id: string (nullable = true)\n",
      " |-- type: string (nullable = true)\n",
      " |-- title: string (nullable = true)\n",
      " |-- director: string (nullable = true)\n",
      " |-- country: string (nullable = true)\n",
      " |-- date_added: date (nullable = true)\n",
      " |-- release_year: integer (nullable = true)\n",
      " |-- rating: string (nullable = true)\n",
      " |-- duration: string (nullable = true)\n",
      " |-- listed_in: string (nullable = true)\n",
      "\n"
     ]
    },
    {
     "name": "stderr",
     "output_type": "stream",
     "text": [
      "[Stage 0:>                                                          (0 + 1) / 1]\r"
     ]
    },
    {
     "name": "stdout",
     "output_type": "stream",
     "text": [
      "+-------+-------+--------------------------------+-------------------+--------------+----------+------------+------+---------+-------------------------------------------------------------+\n",
      "|show_id|type   |title                           |director           |country       |date_added|release_year|rating|duration |listed_in                                                    |\n",
      "+-------+-------+--------------------------------+-------------------+--------------+----------+------------+------+---------+-------------------------------------------------------------+\n",
      "|s1     |Movie  |Dick Johnson Is Dead            |Kirsten Johnson    |United States |NULL      |2020        |PG-13 |90 min   |Documentaries                                                |\n",
      "|s3     |TV Show|Ganglands                       |Julien Leclercq    |France        |NULL      |2021        |TV-MA |1 Season |Crime TV Shows, International TV Shows, TV Action & Adventure|\n",
      "|s6     |TV Show|Midnight Mass                   |Mike Flanagan      |United States |NULL      |2021        |TV-MA |1 Season |TV Dramas, TV Horror, TV Mysteries                           |\n",
      "|s14    |Movie  |Confessions of an Invisible Girl|Bruno Garotti      |Brazil        |NULL      |2021        |TV-PG |91 min   |Children & Family Movies, Comedies                           |\n",
      "|s8     |Movie  |Sankofa                         |Haile Gerima       |United States |NULL      |1993        |TV-MA |125 min  |Dramas, Independent Movies, International Movies             |\n",
      "|s9     |TV Show|The Great British Baking Show   |Andy Devonshire    |United Kingdom|NULL      |2021        |TV-14 |9 Seasons|British TV Shows, Reality TV                                 |\n",
      "|s10    |Movie  |The Starling                    |Theodore Melfi     |United States |NULL      |2021        |PG-13 |104 min  |Comedies, Dramas                                             |\n",
      "|s939   |Movie  |Motu Patlu in the Game of Zones |Suhas Kadav        |India         |NULL      |2019        |TV-Y7 |87 min   |Children & Family Movies, Comedies, Music & Musicals         |\n",
      "|s13    |Movie  |Je Suis Karl                    |Christian Schwochow|Germany       |NULL      |2021        |TV-MA |127 min  |Dramas, International Movies                                 |\n",
      "|s940   |Movie  |Motu Patlu in Wonderland        |Suhas Kadav        |India         |NULL      |2013        |TV-Y7 |76 min   |Children & Family Movies, Music & Musicals                   |\n",
      "+-------+-------+--------------------------------+-------------------+--------------+----------+------------+------+---------+-------------------------------------------------------------+\n",
      "only showing top 10 rows\n",
      "\n"
     ]
    },
    {
     "name": "stderr",
     "output_type": "stream",
     "text": [
      "                                                                                \r"
     ]
    }
   ],
   "source": [
    "#import importlib\n",
    "from foraneos.spark_utils import SparkUtils as SpU\n",
    "\n",
    "#importlib.reload(SpU)\n",
    "\n",
    "\n",
    "netflix_schema = SpU.generate_schema([(\"show_id\", \"string\", True), \n",
    "                                              (\"type\", \"string\", True),\n",
    "                                              (\"title\", \"string\", True), \n",
    "                                              (\"director\", \"string\", False), \n",
    "                                              (\"country\", \"string\",False),\n",
    "                                              (\"date_added\", \"date\", True) ,\n",
    "                                              (\"release_year\", \"int\", False),  \n",
    "                                              (\"rating\", \"string\",False), \n",
    "                                              (\"duration\", \"string\", False), \n",
    "                                              (\"listed_in\", \"string\", False), \n",
    "                                                                                                                                               \n",
    "                                              ])\n",
    "\n",
    "netflix_df = spark.read \\\n",
    "                .schema(netflix_schema) \\\n",
    "                .option(\"header\", \"true\") \\\n",
    "                .csv(\"/home/jovyan/notebooks/data/netflix_dataset/netflix1.csv\")\n",
    "\n",
    "netflix_df.printSchema()\n",
    "\n",
    "netflix_df.show(10, truncate=False)"
   ]
  },
  {
   "cell_type": "markdown",
   "metadata": {},
   "source": [
    "### Cleaning Null values in df"
   ]
  },
  {
   "cell_type": "code",
   "execution_count": 28,
   "metadata": {},
   "outputs": [
    {
     "name": "stdout",
     "output_type": "stream",
     "text": [
      "+-------+-------+--------------------------------+-------------------+--------------+----------+------------+------+---------+-------------------------------------------------------------+\n",
      "|show_id|type   |title                           |director           |country       |date_added|release_year|rating|duration |listed_in                                                    |\n",
      "+-------+-------+--------------------------------+-------------------+--------------+----------+------------+------+---------+-------------------------------------------------------------+\n",
      "|s1     |Movie  |Dick Johnson Is Dead            |Kirsten Johnson    |United States |1800-01-01|2020        |PG-13 |90 min   |Documentaries                                                |\n",
      "|s3     |TV Show|Ganglands                       |Julien Leclercq    |France        |1800-01-01|2021        |TV-MA |1 Season |Crime TV Shows, International TV Shows, TV Action & Adventure|\n",
      "|s6     |TV Show|Midnight Mass                   |Mike Flanagan      |United States |1800-01-01|2021        |TV-MA |1 Season |TV Dramas, TV Horror, TV Mysteries                           |\n",
      "|s14    |Movie  |Confessions of an Invisible Girl|Bruno Garotti      |Brazil        |1800-01-01|2021        |TV-PG |91 min   |Children & Family Movies, Comedies                           |\n",
      "|s8     |Movie  |Sankofa                         |Haile Gerima       |United States |1800-01-01|1993        |TV-MA |125 min  |Dramas, Independent Movies, International Movies             |\n",
      "|s9     |TV Show|The Great British Baking Show   |Andy Devonshire    |United Kingdom|1800-01-01|2021        |TV-14 |9 Seasons|British TV Shows, Reality TV                                 |\n",
      "|s10    |Movie  |The Starling                    |Theodore Melfi     |United States |1800-01-01|2021        |PG-13 |104 min  |Comedies, Dramas                                             |\n",
      "|s939   |Movie  |Motu Patlu in the Game of Zones |Suhas Kadav        |India         |1800-01-01|2019        |TV-Y7 |87 min   |Children & Family Movies, Comedies, Music & Musicals         |\n",
      "|s13    |Movie  |Je Suis Karl                    |Christian Schwochow|Germany       |1800-01-01|2021        |TV-MA |127 min  |Dramas, International Movies                                 |\n",
      "|s940   |Movie  |Motu Patlu in Wonderland        |Suhas Kadav        |India         |1800-01-01|2013        |TV-Y7 |76 min   |Children & Family Movies, Music & Musicals                   |\n",
      "+-------+-------+--------------------------------+-------------------+--------------+----------+------------+------+---------+-------------------------------------------------------------+\n",
      "only showing top 10 rows\n",
      "\n"
     ]
    }
   ],
   "source": [
    "correction_dict={\"director\": \"unknown\", \n",
    "                 \"country\": \"unknown\", \n",
    "                 \"date_added\": \"1800-01-01\", \n",
    "                 \"release_year\": 1800, \n",
    "                 \"rating\": \"unknown\", \n",
    "                 \"duration\": \"unknown\", \n",
    "                 \"listed_in\": \"unknown\"\n",
    "                }\n",
    "\n",
    "netflix_nn = SpU.clean_df(netflix_df, correction_dict)\n",
    "netflix_nn.show(n=10, truncate=False)"
   ]
  },
  {
   "cell_type": "markdown",
   "metadata": {},
   "source": [
    "### Saving the modified netflix dataset"
   ]
  },
  {
   "cell_type": "code",
   "execution_count": 29,
   "metadata": {},
   "outputs": [
    {
     "name": "stderr",
     "output_type": "stream",
     "text": [
      "                                                                                \r"
     ]
    }
   ],
   "source": [
    "params = {\"mode\": \"overwrite\", \"dataframe\": netflix_df, \"path\": \"/home/jovyan/notebooks/data/netflix_output/\", \"criteria\": [\"release_year\"]}\n",
    "netflix_df = SpU.write_df(params)"
   ]
  },
  {
   "cell_type": "markdown",
   "metadata": {},
   "source": [
    "### Checking the number of output files"
   ]
  },
  {
   "cell_type": "code",
   "execution_count": 30,
   "metadata": {},
   "outputs": [
    {
     "name": "stdout",
     "output_type": "stream",
     "text": [
      "76\n"
     ]
    }
   ],
   "source": [
    "!ls notebooks/data/netflix_output/ | wc -l"
   ]
  },
  {
   "cell_type": "code",
   "execution_count": 31,
   "metadata": {},
   "outputs": [],
   "source": [
    "# Stop the SparkContext\n",
    "sc.stop()"
   ]
  }
 ],
 "metadata": {
  "kernelspec": {
   "display_name": "Python 3 (ipykernel)",
   "language": "python",
   "name": "python3"
  },
  "language_info": {
   "codemirror_mode": {
    "name": "ipython",
    "version": 3
   },
   "file_extension": ".py",
   "mimetype": "text/x-python",
   "name": "python",
   "nbconvert_exporter": "python",
   "pygments_lexer": "ipython3",
   "version": "3.11.6"
  }
 },
 "nbformat": 4,
 "nbformat_minor": 2
}
