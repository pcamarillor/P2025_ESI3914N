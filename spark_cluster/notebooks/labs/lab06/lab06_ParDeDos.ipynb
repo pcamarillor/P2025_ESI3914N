{
  "cells": [
    {
      "cell_type": "markdown",
      "metadata": {},
      "source": [
        "# <center> <img src=\"../img/ITESOLogo.png\" alt=\"ITESO\" width=\"480\" height=\"130\"> </center>\n",
        "# <center> **Departamento de Electrónica, Sistemas e Informática** </center>\n",
        "---\n",
        "## <center> Program: _Computer Systems Engineering_  </center>\n",
        "---\n",
        "### <center> **Spring 2025** </center>\n",
        "---\n",
        "\n",
        "**Lab 06**: Big Data Pipeline for Netflix data.\n",
        "\n",
        "**Date**: 10/03/2025\n",
        "\n",
        "**Team Name**: Par De Dos\n",
        "\n",
        "**Professor**: Pablo Camarillo Ramirez"
      ]
    },
    {
      "cell_type": "code",
      "execution_count": 16,
      "metadata": {},
      "outputs": [],
      "source": [
        "# Initialize findspark to get acces to de PySpark installation\n",
        "import findspark\n",
        "findspark.init()"
      ]
    },
    {
      "cell_type": "code",
      "execution_count": 17,
      "metadata": {},
      "outputs": [],
      "source": [
        "from pyspark.sql import SparkSession\n",
        "\n",
        "# Create connection to the spark cluster\n",
        "spark = SparkSession.builder \\\n",
        "    .appName(\"Lab 06 - Par de Dos\") \\\n",
        "    .master(\"spark://4231cbc2c134:7077\") \\\n",
        "    .config(\"spark.ui.port\",\"4040\") \\\n",
        "    .getOrCreate()\n",
        "\n",
        "# Create SparkContext\n",
        "sc = spark.sparkContext\n",
        "sc.setLogLevel(\"ERROR\")"
      ]
    },
    {
      "cell_type": "code",
      "execution_count": 18,
      "metadata": {},
      "outputs": [],
      "source": [
        "from team_ParDeDos.spark_utils import SparkUtils\n",
        "netflix_schema = SparkUtils.generate_schema([\n",
        "\t(\"show_id\", \"string\"),\n",
        "\t(\"type\", \"string\"),\n",
        "\t(\"title\", \"string\"),\n",
        "\t(\"director\", \"string\"),\n",
        "\t(\"country\", \"string\"),\n",
        "\t(\"date_added\", \"string\"),\n",
        "\t(\"release_year\", \"integer\"),\n",
        "\t(\"rating\", \"string\"),\n",
        "\t(\"duration\", \"string\"),\n",
        "\t(\"listed_in\", \"string\")\n",
        "])\n",
        "\n",
        "netflix_df = spark.read.schema(netflix_schema).option(\"header\", \"true\").csv(\"/home/jovyan/notebooks/data/netflix1.csv\")"
      ]
    },
    {
      "cell_type": "code",
      "execution_count": 19,
      "metadata": {},
      "outputs": [
        {
          "name": "stdout",
          "output_type": "stream",
          "text": [
            "root\n",
            " |-- show_id: string (nullable = true)\n",
            " |-- type: string (nullable = true)\n",
            " |-- title: string (nullable = true)\n",
            " |-- director: string (nullable = true)\n",
            " |-- country: string (nullable = true)\n",
            " |-- date_added: string (nullable = true)\n",
            " |-- release_year: integer (nullable = true)\n",
            " |-- rating: string (nullable = true)\n",
            " |-- duration: string (nullable = true)\n",
            " |-- listed_in: string (nullable = true)\n",
            "\n"
          ]
        },
        {
          "name": "stderr",
          "output_type": "stream",
          "text": [
            "                                                                                \r"
          ]
        },
        {
          "name": "stdout",
          "output_type": "stream",
          "text": [
            "+-------+-------+--------------------------------+---------------+-------------+----------+------------+------+--------+-------------------------------------------------------------+\n",
            "|show_id|type   |title                           |director       |country      |date_added|release_year|rating|duration|listed_in                                                    |\n",
            "+-------+-------+--------------------------------+---------------+-------------+----------+------------+------+--------+-------------------------------------------------------------+\n",
            "|s1     |Movie  |Dick Johnson Is Dead            |Kirsten Johnson|United States|9/25/2021 |2020        |PG-13 |90 min  |Documentaries                                                |\n",
            "|s3     |TV Show|Ganglands                       |Julien Leclercq|France       |9/24/2021 |2021        |TV-MA |1 Season|Crime TV Shows, International TV Shows, TV Action & Adventure|\n",
            "|s6     |TV Show|Midnight Mass                   |Mike Flanagan  |United States|9/24/2021 |2021        |TV-MA |1 Season|TV Dramas, TV Horror, TV Mysteries                           |\n",
            "|s14    |Movie  |Confessions of an Invisible Girl|Bruno Garotti  |Brazil       |9/22/2021 |2021        |TV-PG |91 min  |Children & Family Movies, Comedies                           |\n",
            "|s8     |Movie  |Sankofa                         |Haile Gerima   |United States|9/24/2021 |1993        |TV-MA |125 min |Dramas, Independent Movies, International Movies             |\n",
            "+-------+-------+--------------------------------+---------------+-------------+----------+------------+------+--------+-------------------------------------------------------------+\n",
            "only showing top 5 rows\n",
            "\n"
          ]
        },
        {
          "name": "stderr",
          "output_type": "stream",
          "text": [
            "[Stage 1:>                                                          (0 + 1) / 1]\r"
          ]
        },
        {
          "name": "stdout",
          "output_type": "stream",
          "text": [
            "+-------+----+-----+--------+-------+----------+------------+------+--------+---------+\n",
            "|show_id|type|title|director|country|date_added|release_year|rating|duration|listed_in|\n",
            "+-------+----+-----+--------+-------+----------+------------+------+--------+---------+\n",
            "|      0|   0|    0|       1|      1|         1|           2|     1|       2|        2|\n",
            "+-------+----+-----+--------+-------+----------+------------+------+--------+---------+\n",
            "\n"
          ]
        },
        {
          "name": "stderr",
          "output_type": "stream",
          "text": [
            "                                                                                \r"
          ]
        }
      ],
      "source": [
        "from pyspark.sql.functions import when, count, col\n",
        "netflix_df.printSchema()\n",
        "netflix_df.show(5, truncate=False)\n",
        "netflix_df.select([count(when(col(c).isNull(), c)).alias(c) for c in netflix_df.columns]).show()"
      ]
    },
    {
      "cell_type": "code",
      "execution_count": 20,
      "metadata": {},
      "outputs": [
        {
          "name": "stdout",
          "output_type": "stream",
          "text": [
            "root\n",
            " |-- show_id: string (nullable = false)\n",
            " |-- type: string (nullable = false)\n",
            " |-- title: string (nullable = false)\n",
            " |-- director: string (nullable = false)\n",
            " |-- country: string (nullable = false)\n",
            " |-- date_added: string (nullable = false)\n",
            " |-- release_year: integer (nullable = false)\n",
            " |-- rating: string (nullable = false)\n",
            " |-- duration: string (nullable = false)\n",
            " |-- listed_in: string (nullable = false)\n",
            "\n",
            "+-------+-------+--------------------------------+---------------+-------------+----------+------------+------+--------+-------------------------------------------------------------+\n",
            "|show_id|type   |title                           |director       |country      |date_added|release_year|rating|duration|listed_in                                                    |\n",
            "+-------+-------+--------------------------------+---------------+-------------+----------+------------+------+--------+-------------------------------------------------------------+\n",
            "|s1     |Movie  |Dick Johnson Is Dead            |Kirsten Johnson|United States|9/25/2021 |2020        |PG-13 |90 min  |Documentaries                                                |\n",
            "|s3     |TV Show|Ganglands                       |Julien Leclercq|France       |9/24/2021 |2021        |TV-MA |1 Season|Crime TV Shows, International TV Shows, TV Action & Adventure|\n",
            "|s6     |TV Show|Midnight Mass                   |Mike Flanagan  |United States|9/24/2021 |2021        |TV-MA |1 Season|TV Dramas, TV Horror, TV Mysteries                           |\n",
            "|s14    |Movie  |Confessions of an Invisible Girl|Bruno Garotti  |Brazil       |9/22/2021 |2021        |TV-PG |91 min  |Children & Family Movies, Comedies                           |\n",
            "|s8     |Movie  |Sankofa                         |Haile Gerima   |United States|9/24/2021 |1993        |TV-MA |125 min |Dramas, Independent Movies, International Movies             |\n",
            "+-------+-------+--------------------------------+---------------+-------------+----------+------------+------+--------+-------------------------------------------------------------+\n",
            "only showing top 5 rows\n",
            "\n",
            "+-------+----+-----+--------+-------+----------+------------+------+--------+---------+\n",
            "|show_id|type|title|director|country|date_added|release_year|rating|duration|listed_in|\n",
            "+-------+----+-----+--------+-------+----------+------------+------+--------+---------+\n",
            "|      0|   0|    0|       0|      0|         0|           0|     0|       0|        0|\n",
            "+-------+----+-----+--------+-------+----------+------------+------+--------+---------+\n",
            "\n"
          ]
        }
      ],
      "source": [
        "netflix_cleaned = SparkUtils.clean_df(netflix_df, netflix_schema)\n",
        "\n",
        "netflix_cleaned.printSchema()\n",
        "netflix_cleaned.show(5, truncate=False)\n",
        "netflix_cleaned.select([count(when(col(c).isNull(), c)).alias(c) for c in netflix_cleaned.columns]).show()\n"
      ]
    },
    {
      "cell_type": "code",
      "execution_count": 21,
      "metadata": {},
      "outputs": [
        {
          "name": "stderr",
          "output_type": "stream",
          "text": [
            "                                                                                \r"
          ]
        }
      ],
      "source": [
        "\n",
        "params = {\n",
        "\t\"mode\": \"overwrite\",\n",
        "\t\"dataframe\": netflix_cleaned,\n",
        "\t\"path\": \"/home/jovyan/notebooks/data/lab_06_ParDeDos/\",\n",
        "\t\"criteria\": [\"release_year\"]\n",
        "}\n",
        "\n",
        "SparkUtils.write_df(params)"
      ]
    },
    {
      "cell_type": "code",
      "execution_count": 23,
      "metadata": {},
      "outputs": [
        {
          "name": "stdout",
          "output_type": "stream",
          "text": [
            "76\n"
          ]
        }
      ],
      "source": [
        "!ls notebooks/data/lab_06_ParDeDos/ | wc -l"
      ]
    },
    {
      "cell_type": "code",
      "execution_count": 15,
      "metadata": {},
      "outputs": [],
      "source": [
        "# Stop the SparkContext\n",
        "sc.stop()"
      ]
    }
  ],
  "metadata": {
    "kernelspec": {
      "display_name": "Python 3 (ipykernel)",
      "language": "python",
      "name": "python3"
    },
    "language_info": {
      "codemirror_mode": {
        "name": "ipython",
        "version": 3
      },
      "file_extension": ".py",
      "mimetype": "text/x-python",
      "name": "python",
      "nbconvert_exporter": "python",
      "pygments_lexer": "ipython3",
      "version": "3.11.6"
    }
  },
  "nbformat": 4,
  "nbformat_minor": 2
}
