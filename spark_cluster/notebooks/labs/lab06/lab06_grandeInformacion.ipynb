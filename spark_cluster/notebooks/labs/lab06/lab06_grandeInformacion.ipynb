{
 "cells": [
  {
   "cell_type": "code",
   "execution_count": 1,
   "metadata": {},
   "outputs": [],
   "source": [
    "import findspark\n",
    "findspark.init()"
   ]
  },
  {
   "cell_type": "code",
   "execution_count": null,
   "metadata": {},
   "outputs": [],
   "source": []
  },
  {
   "cell_type": "code",
   "execution_count": 2,
   "metadata": {},
   "outputs": [
    {
     "name": "stderr",
     "output_type": "stream",
     "text": [
      "Setting default log level to \"WARN\".\n",
      "To adjust logging level use sc.setLogLevel(newLevel). For SparkR, use setLogLevel(newLevel).\n",
      "25/03/11 01:58:53 WARN NativeCodeLoader: Unable to load native-hadoop library for your platform... using builtin-java classes where applicable\n"
     ]
    }
   ],
   "source": [
    "from pyspark.sql import SparkSession\n",
    "\n",
    "spark = SparkSession.builder \\\n",
    "    .appName(\"SparkSQL-Storage-Solutions\") \\\n",
    "    .master(\"spark://1c173c8c3406:7077\") \\\n",
    "    .config(\"spark.ui.port\",\"4040\") \\\n",
    "    .getOrCreate()\n",
    "sc = spark.sparkContext"
   ]
  },
  {
   "cell_type": "code",
   "execution_count": 3,
   "metadata": {},
   "outputs": [
    {
     "name": "stdout",
     "output_type": "stream",
     "text": [
      "root\n",
      " |-- show_id: string (nullable = true)\n",
      " |-- type: string (nullable = true)\n",
      " |-- title: string (nullable = true)\n",
      " |-- director: string (nullable = true)\n",
      " |-- country: string (nullable = true)\n",
      " |-- date_added: string (nullable = true)\n",
      " |-- release_year: string (nullable = true)\n",
      " |-- rating: string (nullable = true)\n",
      " |-- duration: string (nullable = true)\n",
      " |-- listed_in: string (nullable = true)\n",
      "\n",
      "+-------+-------+--------------------------------+---------------+-------------+----------+------------+------+--------+-------------------------------------------------------------+\n",
      "|show_id|type   |title                           |director       |country      |date_added|release_year|rating|duration|listed_in                                                    |\n",
      "+-------+-------+--------------------------------+---------------+-------------+----------+------------+------+--------+-------------------------------------------------------------+\n",
      "|s1     |Movie  |Dick Johnson Is Dead            |Kirsten Johnson|United States|9/25/2021 |2020        |PG-13 |90 min  |Documentaries                                                |\n",
      "|s3     |TV Show|Ganglands                       |Julien Leclercq|France       |9/24/2021 |2021        |TV-MA |1 Season|Crime TV Shows, International TV Shows, TV Action & Adventure|\n",
      "|s6     |TV Show|Midnight Mass                   |Mike Flanagan  |United States|9/24/2021 |2021        |TV-MA |1 Season|TV Dramas, TV Horror, TV Mysteries                           |\n",
      "|s14    |Movie  |Confessions of an Invisible Girl|Bruno Garotti  |Brazil       |9/22/2021 |2021        |TV-PG |91 min  |Children & Family Movies, Comedies                           |\n",
      "|s8     |Movie  |Sankofa                         |Haile Gerima   |United States|9/24/2021 |1993        |TV-MA |125 min |Dramas, Independent Movies, International Movies             |\n",
      "+-------+-------+--------------------------------+---------------+-------------+----------+------------+------+--------+-------------------------------------------------------------+\n",
      "only showing top 5 rows\n",
      "\n"
     ]
    }
   ],
   "source": [
    "from grandeInformacion.spark_utils import SparkUtils\n",
    "from pyspark.sql.functions import col, when, count, isnull\n",
    "netflix_schema = SparkUtils.generate_schema([(\"show_id\", \"string\"), (\"type\", \"string\"), (\"title\", \"string\"), (\"director\", \"string\"), (\"country\", \"string\"), (\"date_added\", \"string\"), (\"release_year\", \"string\"), \\\n",
    "                                            (\"rating\", \"string\"), (\"duration\", \"string\"), (\"listed_in\", \"string\")])\n",
    "\n",
    "netflix_df = spark.read \\\n",
    "                .schema(netflix_schema) \\\n",
    "                .option(\"header\", \"true\") \\\n",
    "                .csv(\"/home/jovyan/notebooks/data/netflix1.csv\")\n",
    "\n",
    "netflix_df.printSchema()\n",
    "\n",
    "netflix_df.show(5, truncate=False)"
   ]
  },
  {
   "cell_type": "code",
   "execution_count": 4,
   "metadata": {},
   "outputs": [
    {
     "name": "stdout",
     "output_type": "stream",
     "text": [
      "+-------+----+-----+--------+-------+----------+------------+------+--------+---------+\n",
      "|show_id|type|title|director|country|date_added|release_year|rating|duration|listed_in|\n",
      "+-------+----+-----+--------+-------+----------+------------+------+--------+---------+\n",
      "|      0|   0|    0|       1|      1|         1|           1|     1|       2|        2|\n",
      "+-------+----+-----+--------+-------+----------+------------+------+--------+---------+\n",
      "\n",
      "+-------+----+-----+--------+-------+----------+------------+------+--------+---------+\n",
      "|show_id|type|title|director|country|date_added|release_year|rating|duration|listed_in|\n",
      "+-------+----+-----+--------+-------+----------+------------+------+--------+---------+\n",
      "|      0|   0|    0|       0|      0|         0|           0|     0|       0|        0|\n",
      "+-------+----+-----+--------+-------+----------+------------+------+--------+---------+\n",
      "\n"
     ]
    },
    {
     "name": "stderr",
     "output_type": "stream",
     "text": [
      "                                                                                \r"
     ]
    }
   ],
   "source": [
    "\n",
    "netflix_df.createOrReplaceTempView('netflix')\n",
    "\n",
    "netflix_columns = [\"show_id\",\"type\",\"title\",\"director\",\"country\",\"date_added\",\"release_year\",\"rating\",\"duration\",\"listed_in\"]\n",
    "netflix_df.select([count(when(isnull(c) | col(c).isNull(), c)).alias(c) for c in netflix_columns]).show()\n",
    "\n",
    "try_df = SparkUtils.clean_df(netflix_df)\n",
    "try_df.createOrReplaceTempView('try')\n",
    "\n",
    "netflix_columns = [\"show_id\",\"type\",\"title\",\"director\",\"country\",\"date_added\",\"release_year\",\"rating\",\"duration\",\"listed_in\"]\n",
    "try_df.select([count(when(isnull(c) | col(c).isNull(), c)).alias(c) for c in netflix_columns]).show()\n",
    "\n",
    "SparkUtils.write_df(try_df)"
   ]
  },
  {
   "cell_type": "code",
   "execution_count": 5,
   "metadata": {},
   "outputs": [
    {
     "name": "stdout",
     "output_type": "stream",
     "text": [
      "75\n"
     ]
    }
   ],
   "source": [
    "!ls notebooks/data/netflix_output/ | wc -l"
   ]
  }
 ],
 "metadata": {
  "kernelspec": {
   "display_name": "Python 3 (ipykernel)",
   "language": "python",
   "name": "python3"
  },
  "language_info": {
   "codemirror_mode": {
    "name": "ipython",
    "version": 3
   },
   "file_extension": ".py",
   "mimetype": "text/x-python",
   "name": "python",
   "nbconvert_exporter": "python",
   "pygments_lexer": "ipython3",
   "version": "3.11.6"
  }
 },
 "nbformat": 4,
 "nbformat_minor": 2
}
