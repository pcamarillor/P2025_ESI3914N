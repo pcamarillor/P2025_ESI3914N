{
 "cells": [
  {
   "cell_type": "markdown",
   "id": "eb508405",
   "metadata": {},
   "source": [
    "# <center> <img src=\"../img/ITESOLogo.png\" alt=\"ITESO\" width=\"480\" height=\"130\"> </center>\n",
    "# <center> **Departamento de Electrónica, Sistemas e Informática** </center>\n",
    "---\n",
    "## <center> **Procesamiento de Datos Masivos** </center>\n",
    "---\n",
    "### <center> **Primavera 2025** </center>\n",
    "---\n",
    "### <center> **Lab 11** </center>\n",
    "\n",
    "---\n",
    "**Profesor**: Dr. Pablo Camarillo Ramirez </br>\n",
    "**Team**: Par de Dos  \n",
    "**Members**: Diego Orozco and Aarón Ortega"
   ]
  },
  {
   "cell_type": "markdown",
   "id": "00447659",
   "metadata": {},
   "source": [
    "### FindSpark"
   ]
  },
  {
   "cell_type": "code",
   "execution_count": 1,
   "id": "5c085103",
   "metadata": {},
   "outputs": [],
   "source": [
    "import findspark\n",
    "findspark.init()"
   ]
  },
  {
   "cell_type": "markdown",
   "id": "46f79102",
   "metadata": {},
   "source": [
    "### Connection with SparkCluster"
   ]
  },
  {
   "cell_type": "code",
   "execution_count": 2,
   "id": "f9b5f0fa",
   "metadata": {},
   "outputs": [
    {
     "name": "stderr",
     "output_type": "stream",
     "text": [
      "Setting default log level to \"WARN\".\n",
      "To adjust logging level use sc.setLogLevel(newLevel). For SparkR, use setLogLevel(newLevel).\n",
      "25/05/04 19:51:56 WARN NativeCodeLoader: Unable to load native-hadoop library for your platform... using builtin-java classes where applicable\n"
     ]
    }
   ],
   "source": [
    "from pyspark.sql import SparkSession\n",
    "\n",
    "spark = SparkSession.builder \\\n",
    "    .appName(\"Lab11_ParDeDos\") \\\n",
    "    .master(\"spark://368ad5a83fd7:7077\") \\\n",
    "    .config(\"spark.ui.port\",\"4040\") \\\n",
    "    .getOrCreate()\n",
    "sc = spark.sparkContext\n",
    "spark.conf.set(\"spark.sql.shuffle.partitions\", \"5\")"
   ]
  },
  {
   "cell_type": "markdown",
   "id": "c661c0b1",
   "metadata": {},
   "source": [
    "### Schema and dataframe creation"
   ]
  },
  {
   "cell_type": "code",
   "execution_count": 6,
   "id": "855250dc",
   "metadata": {},
   "outputs": [],
   "source": [
    "from team_ParDeDos.spark_utils import SparkUtils as SpU\n",
    "\n",
    "# Schema definition\n",
    "schema = SpU.generate_schema([\n",
    "  (\"Id\", \"integer\"),\n",
    "  (\"SepalLengthCm\", \"float\"),\n",
    "  (\"SepalWidthCm\", \"float\"),\n",
    "  (\"PetalLengthCm\", \"float\"),\n",
    "  (\"PetalWidthCm\", \"float\"),\n",
    "  (\"Species\", \"string\")\n",
    "])\n",
    "\n",
    "# Dataframe creation\n",
    "iris_df = spark \\\n",
    "          .read \\\n",
    "          .schema(schema) \\\n",
    "          .option(\"header\", \"true\") \\\n",
    "          .option(\"mode\", \"dropMalformed\") \\\n",
    "          .csv(\"/home/jovyan/notebooks/data/iris.csv\")"
   ]
  },
  {
   "cell_type": "markdown",
   "id": "759c9782",
   "metadata": {},
   "source": [
    "### Label column to numeric values"
   ]
  },
  {
   "cell_type": "code",
   "execution_count": 8,
   "id": "9bb11d9a",
   "metadata": {},
   "outputs": [],
   "source": [
    "from pyspark.ml.feature import StringIndexer\n",
    "\n",
    "label_indexer = StringIndexer(inputCol=\"Species\", outputCol=\"label\")\n",
    "data = label_indexer.fit(iris_df).transform(iris_df)"
   ]
  },
  {
   "cell_type": "code",
   "execution_count": 9,
   "id": "49d3c9ef",
   "metadata": {},
   "outputs": [
    {
     "name": "stdout",
     "output_type": "stream",
     "text": [
      "+---+-------------+------------+-------------+------------+-----------+-----+\n",
      "| Id|SepalLengthCm|SepalWidthCm|PetalLengthCm|PetalWidthCm|    Species|label|\n",
      "+---+-------------+------------+-------------+------------+-----------+-----+\n",
      "|  1|          5.1|         3.5|          1.4|         0.2|Iris-setosa|  0.0|\n",
      "|  2|          4.9|         3.0|          1.4|         0.2|Iris-setosa|  0.0|\n",
      "|  3|          4.7|         3.2|          1.3|         0.2|Iris-setosa|  0.0|\n",
      "|  4|          4.6|         3.1|          1.5|         0.2|Iris-setosa|  0.0|\n",
      "|  5|          5.0|         3.6|          1.4|         0.2|Iris-setosa|  0.0|\n",
      "|  6|          5.4|         3.9|          1.7|         0.4|Iris-setosa|  0.0|\n",
      "|  7|          4.6|         3.4|          1.4|         0.3|Iris-setosa|  0.0|\n",
      "|  8|          5.0|         3.4|          1.5|         0.2|Iris-setosa|  0.0|\n",
      "|  9|          4.4|         2.9|          1.4|         0.2|Iris-setosa|  0.0|\n",
      "| 10|          4.9|         3.1|          1.5|         0.1|Iris-setosa|  0.0|\n",
      "| 11|          5.4|         3.7|          1.5|         0.2|Iris-setosa|  0.0|\n",
      "| 12|          4.8|         3.4|          1.6|         0.2|Iris-setosa|  0.0|\n",
      "| 13|          4.8|         3.0|          1.4|         0.1|Iris-setosa|  0.0|\n",
      "| 14|          4.3|         3.0|          1.1|         0.1|Iris-setosa|  0.0|\n",
      "| 15|          5.8|         4.0|          1.2|         0.2|Iris-setosa|  0.0|\n",
      "| 16|          5.7|         4.4|          1.5|         0.4|Iris-setosa|  0.0|\n",
      "| 17|          5.4|         3.9|          1.3|         0.4|Iris-setosa|  0.0|\n",
      "| 18|          5.1|         3.5|          1.4|         0.3|Iris-setosa|  0.0|\n",
      "| 19|          5.7|         3.8|          1.7|         0.3|Iris-setosa|  0.0|\n",
      "| 20|          5.1|         3.8|          1.5|         0.3|Iris-setosa|  0.0|\n",
      "+---+-------------+------------+-------------+------------+-----------+-----+\n",
      "only showing top 20 rows\n",
      "\n"
     ]
    }
   ],
   "source": [
    "data.show()"
   ]
  },
  {
   "cell_type": "markdown",
   "id": "f857b3b4",
   "metadata": {},
   "source": [
    "### Assemble the features into a single vector column"
   ]
  },
  {
   "cell_type": "code",
   "execution_count": 10,
   "id": "febb30a0",
   "metadata": {},
   "outputs": [],
   "source": [
    "from pyspark.ml.feature import VectorAssembler\n",
    "\n",
    "assembler = VectorAssembler(inputCols=[\"Id\", \"SepalLengthCm\", \"SepalWidthCm\", \"PetalLengthCm\", \"PetalWidthCm\"], outputCol=\"features\")\n",
    "data_with_features = assembler.transform(data).select(\"label\", \"features\")"
   ]
  },
  {
   "cell_type": "markdown",
   "id": "c85b83e9",
   "metadata": {},
   "source": [
    "### Split the data into training and test sets"
   ]
  },
  {
   "cell_type": "code",
   "execution_count": 11,
   "id": "282381d1",
   "metadata": {},
   "outputs": [],
   "source": [
    "trained_df, test_df = data_with_features.randomSplit([0.8, 0.2], seed=57)"
   ]
  },
  {
   "cell_type": "markdown",
   "id": "06b7f278",
   "metadata": {},
   "source": [
    "### Show the whole dataset"
   ]
  },
  {
   "cell_type": "code",
   "execution_count": 12,
   "id": "f10030d1",
   "metadata": {},
   "outputs": [
    {
     "name": "stdout",
     "output_type": "stream",
     "text": [
      "Original Dataset\n",
      "+-----+--------------------------------------------------------------------------------+\n",
      "|label|features                                                                        |\n",
      "+-----+--------------------------------------------------------------------------------+\n",
      "|0.0  |[1.0,5.099999904632568,3.5,1.399999976158142,0.20000000298023224]               |\n",
      "|0.0  |[2.0,4.900000095367432,3.0,1.399999976158142,0.20000000298023224]               |\n",
      "|0.0  |[3.0,4.699999809265137,3.200000047683716,1.2999999523162842,0.20000000298023224]|\n",
      "|0.0  |[4.0,4.599999904632568,3.0999999046325684,1.5,0.20000000298023224]              |\n",
      "|0.0  |[5.0,5.0,3.5999999046325684,1.399999976158142,0.20000000298023224]              |\n",
      "+-----+--------------------------------------------------------------------------------+\n",
      "only showing top 5 rows\n",
      "\n",
      "Trained Dataset\n",
      "+-----+--------------------------------------------------------------------------------+\n",
      "|label|features                                                                        |\n",
      "+-----+--------------------------------------------------------------------------------+\n",
      "|0.0  |[1.0,5.099999904632568,3.5,1.399999976158142,0.20000000298023224]               |\n",
      "|0.0  |[2.0,4.900000095367432,3.0,1.399999976158142,0.20000000298023224]               |\n",
      "|0.0  |[3.0,4.699999809265137,3.200000047683716,1.2999999523162842,0.20000000298023224]|\n",
      "|0.0  |[4.0,4.599999904632568,3.0999999046325684,1.5,0.20000000298023224]              |\n",
      "|0.0  |[5.0,5.0,3.5999999046325684,1.399999976158142,0.20000000298023224]              |\n",
      "+-----+--------------------------------------------------------------------------------+\n",
      "only showing top 5 rows\n",
      "\n"
     ]
    },
    {
     "name": "stderr",
     "output_type": "stream",
     "text": [
      "                                                                                \r"
     ]
    }
   ],
   "source": [
    "print(\"Original Dataset\")\n",
    "data_with_features.show(5, truncate=False)\n",
    "\n",
    "print(\"Trained Dataset\")\n",
    "trained_df.show(5, truncate=False)"
   ]
  },
  {
   "cell_type": "markdown",
   "id": "81a316d2",
   "metadata": {},
   "source": [
    "### Create a decision tree model"
   ]
  },
  {
   "cell_type": "code",
   "execution_count": 13,
   "id": "cf4e6ec3",
   "metadata": {},
   "outputs": [],
   "source": [
    "from pyspark.ml.classification import DecisionTreeClassifier\n",
    "\n",
    "decision_tree = DecisionTreeClassifier(labelCol=\"label\", featuresCol=\"features\")"
   ]
  },
  {
   "cell_type": "markdown",
   "id": "1f33444e",
   "metadata": {},
   "source": [
    "### Training"
   ]
  },
  {
   "cell_type": "code",
   "execution_count": 14,
   "id": "edd3d56c",
   "metadata": {},
   "outputs": [
    {
     "name": "stdout",
     "output_type": "stream",
     "text": [
      "Decision Tree model summary:DecisionTreeClassificationModel: uid=DecisionTreeClassifier_3869034f651c, depth=3, numNodes=7, numClasses=3, numFeatures=5\n",
      "  If (feature 3 <= 2.350000023841858)\n",
      "   Predict: 0.0\n",
      "  Else (feature 3 > 2.350000023841858)\n",
      "   If (feature 0 <= 102.5)\n",
      "    If (feature 4 <= 1.8499999642372131)\n",
      "     Predict: 1.0\n",
      "    Else (feature 4 > 1.8499999642372131)\n",
      "     Predict: 2.0\n",
      "   Else (feature 0 > 102.5)\n",
      "    Predict: 2.0\n",
      "\n"
     ]
    }
   ],
   "source": [
    "decision_tree_model = decision_tree.fit(trained_df)\n",
    "\n",
    "print(\"Decision Tree model summary:{0}\".format(decision_tree_model.toDebugString))"
   ]
  },
  {
   "cell_type": "markdown",
   "id": "db9256be",
   "metadata": {},
   "source": [
    "### Predictions"
   ]
  },
  {
   "cell_type": "code",
   "execution_count": 16,
   "id": "b39b3f46",
   "metadata": {},
   "outputs": [
    {
     "name": "stdout",
     "output_type": "stream",
     "text": [
      "+---------------------------------------------------------------------------------+----------+\n",
      "|features                                                                         |prediction|\n",
      "+---------------------------------------------------------------------------------+----------+\n",
      "|[25.0,4.800000190734863,3.4000000953674316,1.899999976158142,0.20000000298023224]|0.0       |\n",
      "|[26.0,5.0,3.0,1.600000023841858,0.20000000298023224]                             |0.0       |\n",
      "|[33.0,5.199999809265137,4.099999904632568,1.5,0.10000000149011612]               |0.0       |\n",
      "|[38.0,4.900000095367432,3.0999999046325684,1.5,0.10000000149011612]              |0.0       |\n",
      "|[45.0,5.099999904632568,3.799999952316284,1.899999976158142,0.4000000059604645]  |0.0       |\n",
      "+---------------------------------------------------------------------------------+----------+\n",
      "only showing top 5 rows\n",
      "\n"
     ]
    }
   ],
   "source": [
    "predictions_dt = decision_tree_model.transform(test_df)\n",
    "\n",
    "predictions_dt.select(\"features\", \"prediction\").show(5, truncate=False)"
   ]
  },
  {
   "cell_type": "markdown",
   "id": "f809502f",
   "metadata": {},
   "source": [
    "### SVM Examples"
   ]
  },
  {
   "cell_type": "code",
   "execution_count": 18,
   "id": "e4c1d7e7",
   "metadata": {},
   "outputs": [],
   "source": [
    "from pyspark.ml.classification import LinearSVC, OneVsRest\n",
    "\n",
    "lsvc = LinearSVC(maxIter=10, regParam=0.01)\n",
    "ovr = OneVsRest(classifier=lsvc)"
   ]
  },
  {
   "cell_type": "markdown",
   "id": "9b4d2fd7",
   "metadata": {},
   "source": [
    "### Training"
   ]
  },
  {
   "cell_type": "code",
   "execution_count": 19,
   "id": "669dfc49",
   "metadata": {},
   "outputs": [
    {
     "name": "stderr",
     "output_type": "stream",
     "text": [
      "25/05/04 20:12:33 WARN InstanceBuilder: Failed to load implementation from:dev.ludovic.netlib.blas.JNIBLAS\n",
      "25/05/04 20:12:33 WARN InstanceBuilder: Failed to load implementation from:dev.ludovic.netlib.blas.VectorBLAS\n"
     ]
    }
   ],
   "source": [
    "ovr_model = ovr.fit(trained_df)"
   ]
  },
  {
   "cell_type": "markdown",
   "id": "531ee7b3",
   "metadata": {},
   "source": [
    "### Predictions"
   ]
  },
  {
   "cell_type": "code",
   "execution_count": 20,
   "id": "2468c7d1",
   "metadata": {},
   "outputs": [
    {
     "name": "stdout",
     "output_type": "stream",
     "text": [
      "+---------------------------------------------------------------------------------+----------+\n",
      "|features                                                                         |prediction|\n",
      "+---------------------------------------------------------------------------------+----------+\n",
      "|[25.0,4.800000190734863,3.4000000953674316,1.899999976158142,0.20000000298023224]|0.0       |\n",
      "|[26.0,5.0,3.0,1.600000023841858,0.20000000298023224]                             |0.0       |\n",
      "|[33.0,5.199999809265137,4.099999904632568,1.5,0.10000000149011612]               |0.0       |\n",
      "|[38.0,4.900000095367432,3.0999999046325684,1.5,0.10000000149011612]              |0.0       |\n",
      "|[45.0,5.099999904632568,3.799999952316284,1.899999976158142,0.4000000059604645]  |0.0       |\n",
      "+---------------------------------------------------------------------------------+----------+\n",
      "only showing top 5 rows\n",
      "\n"
     ]
    }
   ],
   "source": [
    "predictions_svm = decision_tree_model.transform(test_df)\n",
    "\n",
    "predictions_svm.select(\"features\", \"prediction\").show(5, truncate=False)"
   ]
  },
  {
   "cell_type": "markdown",
   "id": "d06f21f2",
   "metadata": {},
   "source": [
    "### Model Testing"
   ]
  },
  {
   "cell_type": "code",
   "execution_count": 24,
   "id": "00348062",
   "metadata": {},
   "outputs": [],
   "source": [
    "from pyspark.ml.evaluation import MulticlassClassificationEvaluator\n",
    "\n",
    "evaluator_dt = MulticlassClassificationEvaluator(labelCol=\"label\", predictionCol=\"prediction\")\n",
    "accuracy_dt = evaluator_dt.evaluate(predictions_dt, {evaluator_dt.metricName: \"accuracy\"})\n",
    "precision_dt = evaluator_dt.evaluate(predictions_dt,{evaluator_dt.metricName: \"weightedPrecision\"})\n",
    "recall_dt = evaluator_dt.evaluate(predictions_dt,{evaluator_dt.metricName: \"weightedRecall\"})\n",
    "f1_dt = evaluator_dt.evaluate(predictions_dt,{evaluator_dt.metricName: \"f1\"})\n",
    "\n",
    "evaluator_svm = MulticlassClassificationEvaluator(labelCol=\"label\", predictionCol=\"prediction\")\n",
    "accuracy_svm = evaluator_svm.evaluate(predictions_svm, {evaluator_dt.metricName: \"accuracy\"})\n",
    "precision_svm = evaluator_svm.evaluate(predictions_svm,{evaluator_dt.metricName: \"weightedPrecision\"})\n",
    "recall_svm = evaluator_svm.evaluate(predictions_svm,{evaluator_dt.metricName: \"weightedRecall\"})\n",
    "f1_svm = evaluator_svm.evaluate(predictions_svm,{evaluator_dt.metricName: \"f1\"})"
   ]
  },
  {
   "cell_type": "code",
   "execution_count": 26,
   "id": "d35b51a9",
   "metadata": {},
   "outputs": [
    {
     "name": "stdout",
     "output_type": "stream",
     "text": [
      "Evaluation of Decision Tree\n",
      "Accuracy: 1.0000\n",
      "Precision: 1.0000\n",
      "Recall: 1.0000\n",
      "F1 Score: 1.0000\n",
      "Evaluation of Single Vector Machine\n",
      "Accuracy: 1.0000\n",
      "Precision: 1.0000\n",
      "Recall: 1.0000\n",
      "F1 Score: 1.0000\n"
     ]
    }
   ],
   "source": [
    "print(\"Evaluation of Decision Tree\")\n",
    "print(f\"Accuracy: {accuracy_dt:.4f}\")\n",
    "print(f\"Precision: {precision_dt:.4f}\")\n",
    "print(f\"Recall: {recall_dt:.4f}\")\n",
    "print(f\"F1 Score: {f1_dt:.4f}\")\n",
    "print(\"Evaluation of Single Vector Machine\")\n",
    "print(f\"Accuracy: {accuracy_svm:.4f}\")\n",
    "print(f\"Precision: {precision_svm:.4f}\")\n",
    "print(f\"Recall: {recall_svm:.4f}\")\n",
    "print(f\"F1 Score: {f1_svm:.4f}\")"
   ]
  },
  {
   "cell_type": "code",
   "execution_count": 27,
   "id": "5e96a246",
   "metadata": {},
   "outputs": [],
   "source": [
    "sc.stop()"
   ]
  }
 ],
 "metadata": {
  "kernelspec": {
   "display_name": "Python 3 (ipykernel)",
   "language": "python",
   "name": "python3"
  },
  "language_info": {
   "codemirror_mode": {
    "name": "ipython",
    "version": 3
   },
   "file_extension": ".py",
   "mimetype": "text/x-python",
   "name": "python",
   "nbconvert_exporter": "python",
   "pygments_lexer": "ipython3",
   "version": "3.11.6"
  }
 },
 "nbformat": 4,
 "nbformat_minor": 5
}
