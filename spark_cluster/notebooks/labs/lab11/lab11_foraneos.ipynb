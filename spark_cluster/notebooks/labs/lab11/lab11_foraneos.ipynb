{
 "cells": [
  {
   "cell_type": "markdown",
   "metadata": {},
   "source": [
    "# <center> <img src=\"../labs/img/ITESOLogo.png\" alt=\"ITESO\" width=\"480\" height=\"130\"> </center>\n",
    "# <center> **Departamento de Electrónica, Sistemas e Informática** </center>\n",
    "---\n",
    "## <center> **Procesamiento de Datos Masivos** </center>\n",
    "---\n",
    "### <center> **Primavera 2025** </center>\n",
    "---\n",
    "### <center> **Lab11 Grupo Foraneos - Ejemplo de Machine Learning with Desicion trees and Support Vector Mchines** </center>\n",
    "\n",
    "---\n",
    "**Profesor**: Dr. Pablo Camarillo Ramirez"
   ]
  },
  {
   "cell_type": "code",
   "execution_count": 18,
   "metadata": {},
   "outputs": [],
   "source": [
    "import findspark\n",
    "findspark.init()"
   ]
  },
  {
   "cell_type": "markdown",
   "metadata": {},
   "source": [
    "#### Creacion de la conexión con el cluster de spark\n"
   ]
  },
  {
   "cell_type": "code",
   "execution_count": 19,
   "metadata": {},
   "outputs": [],
   "source": [
    "from pyspark.sql import SparkSession\n",
    "\n",
    "spark = SparkSession.builder \\\n",
    "    .appName(\"MLSpark-DT_SVM\") \\\n",
    "    .master(\"spark://e9718f8694cf:7077\") \\\n",
    "    .config(\"spark.ui.port\",\"4040\") \\\n",
    "    .getOrCreate()\n",
    "sc = spark.sparkContext\n",
    "spark.conf.set(\"spark.sql.shuffle.partitions\", \"5\")"
   ]
  },
  {
   "cell_type": "markdown",
   "metadata": {},
   "source": [
    "### Creating the schema"
   ]
  },
  {
   "cell_type": "code",
   "execution_count": 20,
   "metadata": {},
   "outputs": [],
   "source": [
    "from foraneos.spark_utils import SparkUtils\n",
    "# Create a small dataset as a list of tuples\n",
    "# Format: (label, feature_x1, feature_x2)\n",
    "\n",
    "# Define schema for the DataFrame\n",
    "\n",
    "schema = SparkUtils.generate_schema([(\"Id\", \"float\"),(\"SepalLengthCm\", \"float\"),(\"SepalWidthCm\", \"float\"),(\"PetalLengthCm\", \"float\"),(\"PetalWidthCm\", \"float\"),\\\n",
    "                                    (\"Species\", \"string\")])\n"
   ]
  },
  {
   "cell_type": "markdown",
   "metadata": {},
   "source": [
    "### Loading the Dataset"
   ]
  },
  {
   "cell_type": "code",
   "execution_count": 21,
   "metadata": {},
   "outputs": [],
   "source": [
    "# Create DataFrame\n",
    "df = spark \\\n",
    "                .read \\\n",
    "                .schema(schema) \\\n",
    "                .option(\"header\", \"true\") \\\n",
    "                .option(\"mode\", \"dropMalformed\")\\\n",
    "                .csv(\"/home/jovyan/notebooks/data/iris_dataset/iris_ds.csv\")\n",
    "                "
   ]
  },
  {
   "cell_type": "markdown",
   "metadata": {},
   "source": [
    "### Correcting the label column to numeric values"
   ]
  },
  {
   "cell_type": "code",
   "execution_count": null,
   "metadata": {},
   "outputs": [],
   "source": []
  },
  {
   "cell_type": "code",
   "execution_count": 22,
   "metadata": {},
   "outputs": [
    {
     "name": "stderr",
     "output_type": "stream",
     "text": [
      "                                                                                \r"
     ]
    }
   ],
   "source": [
    "from pyspark.ml.feature import StringIndexer\n",
    "label_indexer = StringIndexer(inputCol=\"Species\", outputCol=\"label\") \n",
    "data = label_indexer.fit(df).transform(df)"
   ]
  },
  {
   "cell_type": "code",
   "execution_count": 23,
   "metadata": {},
   "outputs": [
    {
     "name": "stderr",
     "output_type": "stream",
     "text": [
      "[Stage 3:>                                                          (0 + 1) / 1]\r"
     ]
    },
    {
     "name": "stdout",
     "output_type": "stream",
     "text": [
      "+----+-------------+------------+-------------+------------+-----------+-----+\n",
      "|  Id|SepalLengthCm|SepalWidthCm|PetalLengthCm|PetalWidthCm|    Species|label|\n",
      "+----+-------------+------------+-------------+------------+-----------+-----+\n",
      "| 1.0|          5.1|         3.5|          1.4|         0.2|Iris-setosa|  0.0|\n",
      "| 2.0|          4.9|         3.0|          1.4|         0.2|Iris-setosa|  0.0|\n",
      "| 3.0|          4.7|         3.2|          1.3|         0.2|Iris-setosa|  0.0|\n",
      "| 4.0|          4.6|         3.1|          1.5|         0.2|Iris-setosa|  0.0|\n",
      "| 5.0|          5.0|         3.6|          1.4|         0.2|Iris-setosa|  0.0|\n",
      "| 6.0|          5.4|         3.9|          1.7|         0.4|Iris-setosa|  0.0|\n",
      "| 7.0|          4.6|         3.4|          1.4|         0.3|Iris-setosa|  0.0|\n",
      "| 8.0|          5.0|         3.4|          1.5|         0.2|Iris-setosa|  0.0|\n",
      "| 9.0|          4.4|         2.9|          1.4|         0.2|Iris-setosa|  0.0|\n",
      "|10.0|          4.9|         3.1|          1.5|         0.1|Iris-setosa|  0.0|\n",
      "|11.0|          5.4|         3.7|          1.5|         0.2|Iris-setosa|  0.0|\n",
      "|12.0|          4.8|         3.4|          1.6|         0.2|Iris-setosa|  0.0|\n",
      "|13.0|          4.8|         3.0|          1.4|         0.1|Iris-setosa|  0.0|\n",
      "|14.0|          4.3|         3.0|          1.1|         0.1|Iris-setosa|  0.0|\n",
      "|15.0|          5.8|         4.0|          1.2|         0.2|Iris-setosa|  0.0|\n",
      "|16.0|          5.7|         4.4|          1.5|         0.4|Iris-setosa|  0.0|\n",
      "|17.0|          5.4|         3.9|          1.3|         0.4|Iris-setosa|  0.0|\n",
      "|18.0|          5.1|         3.5|          1.4|         0.3|Iris-setosa|  0.0|\n",
      "|19.0|          5.7|         3.8|          1.7|         0.3|Iris-setosa|  0.0|\n",
      "|20.0|          5.1|         3.8|          1.5|         0.3|Iris-setosa|  0.0|\n",
      "+----+-------------+------------+-------------+------------+-----------+-----+\n",
      "only showing top 20 rows\n",
      "\n"
     ]
    },
    {
     "name": "stderr",
     "output_type": "stream",
     "text": [
      "                                                                                \r"
     ]
    }
   ],
   "source": [
    "data.show()"
   ]
  },
  {
   "cell_type": "markdown",
   "metadata": {},
   "source": [
    "### Assemble the features into a single vector column"
   ]
  },
  {
   "cell_type": "code",
   "execution_count": 24,
   "metadata": {},
   "outputs": [],
   "source": [
    "from pyspark.ml.feature import VectorAssembler\n",
    "\n",
    "assembler = VectorAssembler(inputCols=[\"SepalLengthCm\",\"SepalWidthCm\",\"PetalLengthCm\",\"PetalWidthCm\"], outputCol=\"features\")\n",
    "data_with_features = assembler.transform(data).select(\"label\", \"features\")"
   ]
  },
  {
   "cell_type": "markdown",
   "metadata": {},
   "source": [
    "### Split the data into training and test sets 80% training data and 20% testing data"
   ]
  },
  {
   "cell_type": "code",
   "execution_count": 25,
   "metadata": {},
   "outputs": [],
   "source": [
    "train_df, test_df = data_with_features.randomSplit([0.8, 0.2], seed=57)"
   ]
  },
  {
   "cell_type": "markdown",
   "metadata": {},
   "source": [
    "### Show the whole dataset"
   ]
  },
  {
   "cell_type": "code",
   "execution_count": 26,
   "metadata": {},
   "outputs": [
    {
     "name": "stdout",
     "output_type": "stream",
     "text": [
      "Original Dataset\n",
      "+-----+--------------------+\n",
      "|label|            features|\n",
      "+-----+--------------------+\n",
      "|  0.0|[5.09999990463256...|\n",
      "|  0.0|[4.90000009536743...|\n",
      "|  0.0|[4.69999980926513...|\n",
      "|  0.0|[4.59999990463256...|\n",
      "|  0.0|[5.0,3.5999999046...|\n",
      "+-----+--------------------+\n",
      "only showing top 5 rows\n",
      "\n",
      "train set\n",
      "+-----+--------------------+\n",
      "|label|            features|\n",
      "+-----+--------------------+\n",
      "|  0.0|[4.30000019073486...|\n",
      "|  0.0|[4.40000009536743...|\n",
      "|  0.0|[4.40000009536743...|\n",
      "|  0.0|[4.40000009536743...|\n",
      "|  0.0|[4.5,2.2999999523...|\n",
      "+-----+--------------------+\n",
      "only showing top 5 rows\n",
      "\n"
     ]
    }
   ],
   "source": [
    "print(\"Original Dataset\")\n",
    "data_with_features.show(5)\n",
    "\n",
    "# Print train dataset\n",
    "print(\"train set\")\n",
    "train_df.show(5)"
   ]
  },
  {
   "cell_type": "markdown",
   "metadata": {},
   "source": [
    "### Create a Decision Tree model"
   ]
  },
  {
   "cell_type": "code",
   "execution_count": 27,
   "metadata": {},
   "outputs": [],
   "source": [
    "from pyspark.ml.classification import DecisionTreeClassifier\n",
    "\n",
    "# Initialize and train the Decision Tree model\n",
    "dt = DecisionTreeClassifier(labelCol=\"label\", featuresCol=\"features\")"
   ]
  },
  {
   "cell_type": "markdown",
   "metadata": {},
   "source": [
    "## TRAINNING"
   ]
  },
  {
   "cell_type": "code",
   "execution_count": 28,
   "metadata": {},
   "outputs": [
    {
     "name": "stderr",
     "output_type": "stream",
     "text": [
      "                                                                                \r"
     ]
    },
    {
     "name": "stdout",
     "output_type": "stream",
     "text": [
      "Decision Tree model summary:DecisionTreeClassificationModel: uid=DecisionTreeClassifier_78e0e2c249b6, depth=5, numNodes=15, numClasses=3, numFeatures=4\n",
      "  If (feature 2 <= 2.449999988079071)\n",
      "   Predict: 0.0\n",
      "  Else (feature 2 > 2.449999988079071)\n",
      "   If (feature 2 <= 4.8500001430511475)\n",
      "    If (feature 3 <= 1.6500000357627869)\n",
      "     Predict: 1.0\n",
      "    Else (feature 3 > 1.6500000357627869)\n",
      "     If (feature 0 <= 5.950000047683716)\n",
      "      Predict: 1.0\n",
      "     Else (feature 0 > 5.950000047683716)\n",
      "      Predict: 2.0\n",
      "   Else (feature 2 > 4.8500001430511475)\n",
      "    If (feature 3 <= 1.75)\n",
      "     If (feature 2 <= 4.950000047683716)\n",
      "      Predict: 1.0\n",
      "     Else (feature 2 > 4.950000047683716)\n",
      "      If (feature 3 <= 1.550000011920929)\n",
      "       Predict: 2.0\n",
      "      Else (feature 3 > 1.550000011920929)\n",
      "       Predict: 1.0\n",
      "    Else (feature 3 > 1.75)\n",
      "     Predict: 2.0\n",
      "\n"
     ]
    }
   ],
   "source": [
    "dt_model = dt.fit(train_df)\n",
    "\n",
    "# Display model summary\n",
    "print(\"Decision Tree model summary:{0}\".format(dt_model.toDebugString))"
   ]
  },
  {
   "cell_type": "markdown",
   "metadata": {},
   "source": [
    "## PREDICTIONS"
   ]
  },
  {
   "cell_type": "code",
   "execution_count": 29,
   "metadata": {},
   "outputs": [
    {
     "name": "stdout",
     "output_type": "stream",
     "text": [
      "+--------------------+----------+\n",
      "|            features|prediction|\n",
      "+--------------------+----------+\n",
      "|[5.0,3.4000000953...|       0.0|\n",
      "|[5.0,3.5,1.299999...|       0.0|\n",
      "|[5.09999990463256...|       0.0|\n",
      "|[5.19999980926513...|       0.0|\n",
      "|[5.40000009536743...|       0.0|\n",
      "|[5.69999980926513...|       1.0|\n",
      "|[5.80000019073486...|       1.0|\n",
      "|[5.80000019073486...|       1.0|\n",
      "|[6.09999990463256...|       1.0|\n",
      "|[6.09999990463256...|       1.0|\n",
      "|[6.19999980926513...|       1.0|\n",
      "|[6.30000019073486...|       1.0|\n",
      "|[6.69999980926513...|       1.0|\n",
      "|[4.90000009536743...|       1.0|\n",
      "|[6.0,3.0,4.800000...|       2.0|\n",
      "|[6.09999990463256...|       2.0|\n",
      "|[6.19999980926513...|       2.0|\n",
      "|[6.30000019073486...|       2.0|\n",
      "|[6.30000019073486...|       2.0|\n",
      "|[6.40000009536743...|       2.0|\n",
      "+--------------------+----------+\n",
      "only showing top 20 rows\n",
      "\n"
     ]
    }
   ],
   "source": [
    "# Use the trained model to make predictions on the test data\n",
    "predictions_DT = dt_model.transform(test_df)\n",
    "\n",
    "# Show predictions\n",
    "predictions_DT.select(\"features\", \"prediction\").show()"
   ]
  },
  {
   "cell_type": "markdown",
   "metadata": {},
   "source": [
    "# Support Vector machine Example"
   ]
  },
  {
   "cell_type": "code",
   "execution_count": 30,
   "metadata": {},
   "outputs": [],
   "source": [
    "from pyspark.ml.classification import LinearSVC \n",
    "from pyspark.ml.classification import OneVsRest\n",
    "\n",
    "\n",
    "\n",
    "# Initialize the LinearSVC classifier for binary \n",
    "# classification\n",
    "lsvc = LinearSVC(maxIter=10, regParam=0.01)\n",
    "\n",
    "# Set up OneVsRest classifier for multi-class \n",
    "# classification\n",
    "ovr = OneVsRest(classifier=lsvc)"
   ]
  },
  {
   "cell_type": "markdown",
   "metadata": {},
   "source": [
    "## Training"
   ]
  },
  {
   "cell_type": "code",
   "execution_count": 31,
   "metadata": {},
   "outputs": [],
   "source": [
    "# Train the model\n",
    "ovr_model = ovr.fit(train_df)"
   ]
  },
  {
   "cell_type": "markdown",
   "metadata": {},
   "source": [
    "## PREDICTIONS"
   ]
  },
  {
   "cell_type": "code",
   "execution_count": 32,
   "metadata": {},
   "outputs": [],
   "source": [
    "\n",
    "# Use the trained model to make predictions on the test data\n",
    "predictions_SVM = ovr_model.transform(test_df)\n",
    "\n",
    "# Show predictions\n",
    "#predictions_SVM.select(\"features\", \"prediction\").show()"
   ]
  },
  {
   "cell_type": "markdown",
   "metadata": {},
   "source": [
    "# MODEL TESTING"
   ]
  },
  {
   "cell_type": "code",
   "execution_count": 33,
   "metadata": {},
   "outputs": [
    {
     "name": "stdout",
     "output_type": "stream",
     "text": [
      "Evaluation of DT: \n",
      "Accuracy: 0.9545454545454546\n",
      "Precision: 0.9595959595959596\n",
      "Recall: 0.9545454545454546\n",
      "F1 Score: 0.9545454545454545\n",
      "\n",
      " Evaluation of SVM:\n"
     ]
    },
    {
     "name": "stderr",
     "output_type": "stream",
     "text": [
      "                                                                                \r"
     ]
    },
    {
     "name": "stdout",
     "output_type": "stream",
     "text": [
      "Accuracy: 0.8636363636363636\n"
     ]
    },
    {
     "name": "stderr",
     "output_type": "stream",
     "text": [
      "                                                                                \r"
     ]
    },
    {
     "name": "stdout",
     "output_type": "stream",
     "text": [
      "Precision: 0.8662337662337662\n",
      "Recall: 0.8636363636363636\n",
      "F1 Score: 0.8626794258373206\n"
     ]
    }
   ],
   "source": [
    "from pyspark.ml.evaluation import MulticlassClassificationEvaluator\n",
    "\n",
    "\n",
    "\n",
    "\n",
    "print(\"Evaluation of DT: \")\n",
    "evaluator = MulticlassClassificationEvaluator(labelCol=\"label\",\n",
    "                            predictionCol=\"prediction\")\n",
    "\n",
    "accuracy = evaluator.evaluate(predictions_DT, \n",
    "                  {evaluator.metricName: \"accuracy\"})\n",
    "print(f\"Accuracy: {accuracy}\")\n",
    "precision = evaluator.evaluate(predictions_DT,\n",
    "                  {evaluator.metricName: \"weightedPrecision\"})\n",
    "print(f\"Precision: {precision}\")\n",
    "recall = evaluator.evaluate(predictions_DT,\n",
    "                  {evaluator.metricName: \"weightedRecall\"})\n",
    "print(f\"Recall: {recall}\")\n",
    "f1 = evaluator.evaluate(predictions_DT,\n",
    "                {evaluator.metricName: \"f1\"})\n",
    "print(f\"F1 Score: {f1}\") \n",
    "\n",
    "\n",
    "print(\"\\n Evaluation of SVM:\")\n",
    "\n",
    "evaluator = MulticlassClassificationEvaluator(labelCol=\"label\",\n",
    "                            predictionCol=\"prediction\")\n",
    "\n",
    "accuracy = evaluator.evaluate(predictions_SVM, \n",
    "                  {evaluator.metricName: \"accuracy\"})\n",
    "print(f\"Accuracy: {accuracy}\")\n",
    "precision = evaluator.evaluate(predictions_SVM,\n",
    "                  {evaluator.metricName: \"weightedPrecision\"})\n",
    "print(f\"Precision: {precision}\")\n",
    "recall = evaluator.evaluate(predictions_SVM,\n",
    "                  {evaluator.metricName: \"weightedRecall\"})\n",
    "print(f\"Recall: {recall}\")\n",
    "f1 = evaluator.evaluate(predictions_SVM,\n",
    "                {evaluator.metricName: \"f1\"})\n",
    "print(f\"F1 Score: {f1}\") "
   ]
  },
  {
   "cell_type": "code",
   "execution_count": 34,
   "metadata": {},
   "outputs": [],
   "source": [
    "sc.stop()"
   ]
  }
 ],
 "metadata": {
  "kernelspec": {
   "display_name": "Python 3 (ipykernel)",
   "language": "python",
   "name": "python3"
  },
  "language_info": {
   "codemirror_mode": {
    "name": "ipython",
    "version": 3
   },
   "file_extension": ".py",
   "mimetype": "text/x-python",
   "name": "python",
   "nbconvert_exporter": "python",
   "pygments_lexer": "ipython3",
   "version": "3.11.6"
  }
 },
 "nbformat": 4,
 "nbformat_minor": 2
}
