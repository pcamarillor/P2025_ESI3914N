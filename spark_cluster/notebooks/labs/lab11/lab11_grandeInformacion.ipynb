{
 "cells": [
  {
   "cell_type": "markdown",
   "id": "b3ff1bb5",
   "metadata": {},
   "source": [
    "# <center> <img src=\"../labs/img/ITESOLogo.png\" alt=\"ITESO\" width=\"480\" height=\"130\"> </center>\n",
    "# <center> **Departamento de Electrónica, Sistemas e Informática** </center>\n",
    "---\n",
    "## <center> **Big Data** </center>\n",
    "---\n",
    "### <center> **Spring 2025** </center>\n",
    "---\n",
    "### <center> **Examples on Structured Streaming (Kafka with Watermarking)** </center>\n",
    "\n",
    "---\n",
    "**Profesor**: Dr. Pablo Camarillo Ramirez"
   ]
  },
  {
   "cell_type": "markdown",
   "id": "53e668ce",
   "metadata": {},
   "source": [
    "##### Team grandeInformacion members:\n",
    "- Miguel Alberto Torres Dueñas\n",
    "- Juan Pablo Cortez Navarro\n",
    "- Luther Williams Sandria \n",
    "- Ferdinand Bierbaum"
   ]
  },
  {
   "cell_type": "code",
   "execution_count": 1,
   "id": "ddab3b02",
   "metadata": {},
   "outputs": [],
   "source": [
    "import findspark\n",
    "findspark.init()\n",
    "#3a90032bf97eb37c91147f7283c2cec742594ffabf9d3cd7"
   ]
  },
  {
   "cell_type": "code",
   "execution_count": 2,
   "id": "dcaa419a",
   "metadata": {},
   "outputs": [
    {
     "name": "stderr",
     "output_type": "stream",
     "text": [
      "Setting default log level to \"WARN\".\n",
      "To adjust logging level use sc.setLogLevel(newLevel). For SparkR, use setLogLevel(newLevel).\n",
      "25/05/05 20:07:42 WARN NativeCodeLoader: Unable to load native-hadoop library for your platform... using builtin-java classes where applicable\n"
     ]
    }
   ],
   "source": [
    "from pyspark.sql import SparkSession\n",
    "\n",
    "spark = SparkSession.builder \\\n",
    "    .appName(\"MLSpark-Decision-Trees\") \\\n",
    "    .master(\"spark://2e9c357ab096:7077\") \\\n",
    "    .config(\"spark.ui.port\",\"4040\") \\\n",
    "    .getOrCreate()\n",
    "sc = spark.sparkContext\n",
    "spark.conf.set(\"spark.sql.shuffle.partitions\", \"5\")"
   ]
  },
  {
   "cell_type": "code",
   "execution_count": 3,
   "id": "aa49f28a",
   "metadata": {},
   "outputs": [
    {
     "name": "stdout",
     "output_type": "stream",
     "text": [
      "root\n",
      " |-- Id: integer (nullable = true)\n",
      " |-- SepalLengthCm: float (nullable = true)\n",
      " |-- SepalWidthCm: float (nullable = true)\n",
      " |-- PetalLengthCm: float (nullable = true)\n",
      " |-- PetalWidthCm: float (nullable = true)\n",
      " |-- Species: string (nullable = true)\n",
      "\n"
     ]
    },
    {
     "name": "stderr",
     "output_type": "stream",
     "text": [
      "                                                                                \r"
     ]
    },
    {
     "name": "stdout",
     "output_type": "stream",
     "text": [
      "+---+-------------+------------+-------------+------------+-----------+\n",
      "|Id |SepalLengthCm|SepalWidthCm|PetalLengthCm|PetalWidthCm|Species    |\n",
      "+---+-------------+------------+-------------+------------+-----------+\n",
      "|1  |5.1          |3.5         |1.4          |0.2         |Iris-setosa|\n",
      "|2  |4.9          |3.0         |1.4          |0.2         |Iris-setosa|\n",
      "|3  |4.7          |3.2         |1.3          |0.2         |Iris-setosa|\n",
      "|4  |4.6          |3.1         |1.5          |0.2         |Iris-setosa|\n",
      "|5  |5.0          |3.6         |1.4          |0.2         |Iris-setosa|\n",
      "+---+-------------+------------+-------------+------------+-----------+\n",
      "only showing top 5 rows\n",
      "\n"
     ]
    }
   ],
   "source": [
    "from team_name.spark_utils import SparkUtils\n",
    "iris_schema = SparkUtils.generate_schema([(\"Id\", \"integer\"), (\"SepalLengthCm\", \"float\"), (\"SepalWidthCm\",\"float\"), (\"PetalLengthCm\",\"float\"), (\"PetalWidthCm\", \"float\"), (\"Species\", \"string\")])\n",
    "\n",
    "iris_df = spark.read \\\n",
    "                .schema(iris_schema) \\\n",
    "                .option(\"header\", \"true\") \\\n",
    "                .csv(\"/home/jovyan/notebooks/data/Iris.csv\")\n",
    "\n",
    "iris_df.printSchema()\n",
    "\n",
    "iris_df.show(5, truncate=False)"
   ]
  },
  {
   "cell_type": "code",
   "execution_count": 4,
   "id": "1d81bb9d",
   "metadata": {},
   "outputs": [
    {
     "name": "stderr",
     "output_type": "stream",
     "text": [
      "                                                                                \r"
     ]
    }
   ],
   "source": [
    "from pyspark.ml.feature import VectorAssembler, StringIndexer\n",
    "\n",
    "assembler = VectorAssembler(inputCols=[\"SepalLengthCm\", \"SepalWidthCm\", \"PetalLengthCm\", \"PetalWidthCm\"], outputCol=\"features\")\n",
    "label_indexer = StringIndexer(inputCol=\"Species\", outputCol=\"label\")\n",
    "data_label = label_indexer.fit(iris_df).transform(iris_df)\n",
    "data_with_features = assembler.transform(data_label).select(\"label\", \"features\")"
   ]
  },
  {
   "cell_type": "code",
   "execution_count": 5,
   "id": "0e29ec36",
   "metadata": {},
   "outputs": [],
   "source": [
    "train_df, test_df = data_with_features.randomSplit([0.8, 0.2], seed=57)"
   ]
  },
  {
   "cell_type": "code",
   "execution_count": 6,
   "id": "a6d0e28e",
   "metadata": {},
   "outputs": [
    {
     "name": "stdout",
     "output_type": "stream",
     "text": [
      "Original Dataset\n",
      "+-----+--------------------+\n",
      "|label|            features|\n",
      "+-----+--------------------+\n",
      "|  0.0|[5.09999990463256...|\n",
      "|  0.0|[4.90000009536743...|\n",
      "|  0.0|[4.69999980926513...|\n",
      "|  0.0|[4.59999990463256...|\n",
      "|  0.0|[5.0,3.5999999046...|\n",
      "|  0.0|[5.40000009536743...|\n",
      "|  0.0|[4.59999990463256...|\n",
      "|  0.0|[5.0,3.4000000953...|\n",
      "|  0.0|[4.40000009536743...|\n",
      "|  0.0|[4.90000009536743...|\n",
      "|  0.0|[5.40000009536743...|\n",
      "|  0.0|[4.80000019073486...|\n",
      "|  0.0|[4.80000019073486...|\n",
      "|  0.0|[4.30000019073486...|\n",
      "|  0.0|[5.80000019073486...|\n",
      "|  0.0|[5.69999980926513...|\n",
      "|  0.0|[5.40000009536743...|\n",
      "|  0.0|[5.09999990463256...|\n",
      "|  0.0|[5.69999980926513...|\n",
      "|  0.0|[5.09999990463256...|\n",
      "+-----+--------------------+\n",
      "only showing top 20 rows\n",
      "\n",
      "train set\n",
      "+-----+--------------------+\n",
      "|label|            features|\n",
      "+-----+--------------------+\n",
      "|  0.0|[4.30000019073486...|\n",
      "|  0.0|[4.40000009536743...|\n",
      "|  0.0|[4.40000009536743...|\n",
      "|  0.0|[4.40000009536743...|\n",
      "|  0.0|[4.5,2.2999999523...|\n",
      "|  0.0|[4.59999990463256...|\n",
      "|  0.0|[4.59999990463256...|\n",
      "|  0.0|[4.59999990463256...|\n",
      "|  0.0|[4.59999990463256...|\n",
      "|  0.0|[4.69999980926513...|\n",
      "|  0.0|[4.69999980926513...|\n",
      "|  0.0|[4.80000019073486...|\n",
      "|  0.0|[4.80000019073486...|\n",
      "|  0.0|[4.80000019073486...|\n",
      "|  0.0|[4.80000019073486...|\n",
      "|  0.0|[4.80000019073486...|\n",
      "|  0.0|[4.90000009536743...|\n",
      "|  0.0|[4.90000009536743...|\n",
      "|  0.0|[4.90000009536743...|\n",
      "|  0.0|[4.90000009536743...|\n",
      "+-----+--------------------+\n",
      "only showing top 20 rows\n",
      "\n"
     ]
    }
   ],
   "source": [
    "print(\"Original Dataset\")\n",
    "data_with_features.show()\n",
    "\n",
    "# Print train dataset\n",
    "print(\"train set\")\n",
    "train_df.show()"
   ]
  },
  {
   "cell_type": "code",
   "execution_count": 7,
   "id": "b56b7290",
   "metadata": {},
   "outputs": [],
   "source": [
    "from pyspark.ml.classification import DecisionTreeClassifier\n",
    "\n",
    "# Initialize and train the Decision Tree model\n",
    "dt = DecisionTreeClassifier(labelCol=\"label\", featuresCol=\"features\")"
   ]
  },
  {
   "cell_type": "code",
   "execution_count": 8,
   "id": "bbc28eeb",
   "metadata": {},
   "outputs": [
    {
     "name": "stdout",
     "output_type": "stream",
     "text": [
      "Decision Tree model summary:DecisionTreeClassificationModel: uid=DecisionTreeClassifier_058257234ad5, depth=5, numNodes=15, numClasses=3, numFeatures=4\n",
      "  If (feature 2 <= 2.449999988079071)\n",
      "   Predict: 0.0\n",
      "  Else (feature 2 > 2.449999988079071)\n",
      "   If (feature 2 <= 4.8500001430511475)\n",
      "    If (feature 3 <= 1.6500000357627869)\n",
      "     Predict: 1.0\n",
      "    Else (feature 3 > 1.6500000357627869)\n",
      "     If (feature 0 <= 5.950000047683716)\n",
      "      Predict: 1.0\n",
      "     Else (feature 0 > 5.950000047683716)\n",
      "      Predict: 2.0\n",
      "   Else (feature 2 > 4.8500001430511475)\n",
      "    If (feature 3 <= 1.75)\n",
      "     If (feature 2 <= 4.950000047683716)\n",
      "      Predict: 1.0\n",
      "     Else (feature 2 > 4.950000047683716)\n",
      "      If (feature 3 <= 1.550000011920929)\n",
      "       Predict: 2.0\n",
      "      Else (feature 3 > 1.550000011920929)\n",
      "       Predict: 1.0\n",
      "    Else (feature 3 > 1.75)\n",
      "     Predict: 2.0\n",
      "\n"
     ]
    }
   ],
   "source": [
    "dt_model = dt.fit(train_df)\n",
    "\n",
    "# Display model summary\n",
    "print(\"Decision Tree model summary:{0}\".format(dt_model.toDebugString))"
   ]
  },
  {
   "cell_type": "code",
   "execution_count": 9,
   "id": "fc4061fd",
   "metadata": {},
   "outputs": [
    {
     "name": "stdout",
     "output_type": "stream",
     "text": [
      "+--------------------+----------+\n",
      "|            features|prediction|\n",
      "+--------------------+----------+\n",
      "|[5.0,3.4000000953...|       0.0|\n",
      "|[5.0,3.5,1.299999...|       0.0|\n",
      "|[5.09999990463256...|       0.0|\n",
      "|[5.19999980926513...|       0.0|\n",
      "|[5.40000009536743...|       0.0|\n",
      "|[5.69999980926513...|       1.0|\n",
      "|[5.80000019073486...|       1.0|\n",
      "|[5.80000019073486...|       1.0|\n",
      "|[6.09999990463256...|       1.0|\n",
      "|[6.09999990463256...|       1.0|\n",
      "|[6.19999980926513...|       1.0|\n",
      "|[6.30000019073486...|       1.0|\n",
      "|[6.69999980926513...|       1.0|\n",
      "|[4.90000009536743...|       1.0|\n",
      "|[6.0,3.0,4.800000...|       2.0|\n",
      "|[6.09999990463256...|       2.0|\n",
      "|[6.19999980926513...|       2.0|\n",
      "|[6.30000019073486...|       2.0|\n",
      "|[6.30000019073486...|       2.0|\n",
      "|[6.40000009536743...|       2.0|\n",
      "+--------------------+----------+\n",
      "only showing top 20 rows\n",
      "\n"
     ]
    }
   ],
   "source": [
    "# Use the trained model to make predictions on the test data\n",
    "predictions = dt_model.transform(test_df)\n",
    "\n",
    "# Show predictions\n",
    "predictions.select(\"features\", \"prediction\").show()"
   ]
  },
  {
   "cell_type": "code",
   "execution_count": 10,
   "id": "79fef8cc",
   "metadata": {},
   "outputs": [
    {
     "name": "stdout",
     "output_type": "stream",
     "text": [
      "Accuracy: 0.9545454545454546\n",
      "Precision: 0.9595959595959596\n",
      "Recall: 0.9545454545454546\n",
      "F1 Score: 0.9545454545454545\n"
     ]
    }
   ],
   "source": [
    "from pyspark.ml.evaluation import MulticlassClassificationEvaluator\n",
    "\n",
    "evaluator = MulticlassClassificationEvaluator(labelCol=\"label\",\n",
    "                            predictionCol=\"prediction\")\n",
    "\n",
    "accuracy = evaluator.evaluate(predictions, \n",
    "                  {evaluator.metricName: \"accuracy\"})\n",
    "print(f\"Accuracy: {accuracy}\")\n",
    "precision = evaluator.evaluate(predictions,\n",
    "                  {evaluator.metricName: \"weightedPrecision\"})\n",
    "print(f\"Precision: {precision}\")\n",
    "recall = evaluator.evaluate(predictions,\n",
    "                  {evaluator.metricName: \"weightedRecall\"})\n",
    "print(f\"Recall: {recall}\")\n",
    "f1 = evaluator.evaluate(predictions,\n",
    "                {evaluator.metricName: \"f1\"})\n",
    "print(f\"F1 Score: {f1}\")    "
   ]
  },
  {
   "cell_type": "code",
   "execution_count": 11,
   "id": "e746aa65",
   "metadata": {},
   "outputs": [],
   "source": [
    "from pyspark.ml.classification import LinearSVC, OneVsRest\n",
    "\n",
    "# LinearSVC\n",
    "lsvc = LinearSVC(maxIter=10, regParam=0.1, labelCol=\"label\", featuresCol=\"features\")\n",
    "\n",
    "# OneVsRest\n",
    "ovr = OneVsRest(classifier=lsvc, labelCol=\"label\", featuresCol=\"features\")"
   ]
  },
  {
   "cell_type": "code",
   "execution_count": null,
   "id": "ce5b970f",
   "metadata": {},
   "outputs": [
    {
     "name": "stdout",
     "output_type": "stream",
     "text": [
      "F1 Score (OneVsRest + LinearSVC): 0.8142857142857143\n",
      "Accuracy Score (OneVsRest + LinearSVC): 0.8181818181818182\n",
      "Precision Score (OneVsRest + LinearSVC): 0.8278236914600551\n",
      "Recall Score (OneVsRest + LinearSVC): 0.8181818181818181\n"
     ]
    }
   ],
   "source": [
    "from pyspark.ml.evaluation import MulticlassClassificationEvaluator\n",
    "\n",
    "evaluator = MulticlassClassificationEvaluator(labelCol=\"label\",\n",
    "                            predictionCol=\"prediction\")\n",
    "\n",
    "# Train model\n",
    "ovr_model = ovr.fit(train_df)\n",
    "\n",
    "ovr_predictions = ovr_model.transform(test_df)\n",
    "\n",
    "accuracy_ovr = evaluator.evaluate(ovr_predictions, {evaluator.metricName: \"accuracy\"})\n",
    "print(f\"Accuracy Score (OneVsRest + LinearSVC): {accuracy_ovr}\")\n",
    "\n",
    "precision_ovr = evaluator.evaluate(ovr_predictions, {evaluator.metricName: \"weightedPrecision\"})\n",
    "print(f\"Precision Score (OneVsRest + LinearSVC): {precision_ovr}\")\n",
    "\n",
    "recall_ovr = evaluator.evaluate(ovr_predictions, {evaluator.metricName: \"weightedRecall\"})\n",
    "print(f\"Recall Score (OneVsRest + LinearSVC): {recall_ovr}\")\n",
    "\n",
    "f1_ovr = evaluator.evaluate(ovr_predictions, {evaluator.metricName: \"f1\"})\n",
    "print(f\"F1 Score (OneVsRest + LinearSVC): {f1_ovr}\")"
   ]
  },
  {
   "cell_type": "code",
   "execution_count": 16,
   "id": "a00805d2",
   "metadata": {},
   "outputs": [
    {
     "name": "stdout",
     "output_type": "stream",
     "text": [
      "Decision Tree performed better based on F1 Score.\n",
      " Decision Tree F1 Score: 0.9545454545454545\n",
      " OneVsRest + LinearSVC F1 Score: 0.8142857142857143\n"
     ]
    }
   ],
   "source": [
    "if f1 > f1_ovr:\n",
    "    print(f\"Decision Tree performed better based on F1 Score.\\n Decision Tree F1 Score: {f1}\\n OneVsRest + LinearSVC F1 Score: {f1_ovr}\")\n",
    "else:\n",
    "    print(f\"OneVsRest + LinearSVC performed better based on F1 Score.\\n OneVsRest + LinearSVC F1 Score: {f1_ovr}\\n Decision Tree F1 Score: {f1}\")"
   ]
  }
 ],
 "metadata": {
  "kernelspec": {
   "display_name": "Python 3 (ipykernel)",
   "language": "python",
   "name": "python3"
  },
  "language_info": {
   "codemirror_mode": {
    "name": "ipython",
    "version": 3
   },
   "file_extension": ".py",
   "mimetype": "text/x-python",
   "name": "python",
   "nbconvert_exporter": "python",
   "pygments_lexer": "ipython3",
   "version": "3.11.6"
  }
 },
 "nbformat": 4,
 "nbformat_minor": 5
}
