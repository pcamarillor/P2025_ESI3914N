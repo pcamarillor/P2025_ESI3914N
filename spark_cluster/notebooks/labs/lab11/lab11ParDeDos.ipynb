{
 "cells": [
  {
   "cell_type": "markdown",
   "id": "eb508405",
   "metadata": {},
   "source": [
    "# <center> <img src=\"../img/ITESOLogo.png\" alt=\"ITESO\" width=\"480\" height=\"130\"> </center>\n",
    "# <center> **Departamento de Electrónica, Sistemas e Informática** </center>\n",
    "---\n",
    "## <center> **Procesamiento de Datos Masivos** </center>\n",
    "---\n",
    "### <center> **Primavera 2025** </center>\n",
    "---\n",
    "### <center> **Lab 11** </center>\n",
    "\n",
    "---\n",
    "**Profesor**: Dr. Pablo Camarillo Ramirez </br>\n",
    "**Team**: Par de Dos  \n",
    "**Members**: Diego Orozco and Aarón Ortega"
   ]
  },
  {
   "cell_type": "markdown",
   "id": "00447659",
   "metadata": {},
   "source": [
    "### FindSpark"
   ]
  },
  {
   "cell_type": "code",
   "execution_count": null,
   "id": "5c085103",
   "metadata": {},
   "outputs": [],
   "source": [
    "import findspark\n",
    "findspark.init()"
   ]
  },
  {
   "cell_type": "markdown",
   "id": "46f79102",
   "metadata": {},
   "source": [
    "### Connection with SparkCluster"
   ]
  },
  {
   "cell_type": "code",
   "execution_count": null,
   "id": "f9b5f0fa",
   "metadata": {},
   "outputs": [],
   "source": [
    "from pyspark.sql import SparkSession\n",
    "\n",
    "spark = SparkSession.builder \\\n",
    "    .appName(\"MLSpark-Decision-Trees\") \\\n",
    "    .master(\"spark://078b2e28e517:7077\") \\\n",
    "    .config(\"spark.ui.port\",\"4040\") \\\n",
    "    .getOrCreate()\n",
    "sc = spark.sparkContext\n",
    "spark.conf.set(\"spark.sql.shuffle.partitions\", \"5\")"
   ]
  },
  {
   "cell_type": "markdown",
   "id": "c661c0b1",
   "metadata": {},
   "source": [
    "### Schema and dataframe creation"
   ]
  },
  {
   "cell_type": "code",
   "execution_count": null,
   "id": "855250dc",
   "metadata": {},
   "outputs": [],
   "source": [
    "from team_ParDeDos.spark_utils import SparkUtils as SpU\n",
    "\n",
    "# Schema definition\n",
    "schema = SpU.generate_schema([\n",
    "  (\"Id\", \"integer\"),\n",
    "  (\"SepalLengthCm\", \"float\"),\n",
    "  (\"SepalWidthCm\", \"float\"),\n",
    "  (\"PetalLengthCm\", \"float\"),\n",
    "  (\"PetalWidthCm\", \"float\"),\n",
    "  (\"Species\"), (\"string\")\n",
    "])\n",
    "\n",
    "# Dataframe creation\n",
    "iris_df = spark \\\n",
    "          .read(schema) \\\n",
    "          .option(\"header\", \"true\") \\\n",
    "          .option(\"mode\", \"dropMalformed\") \\\n",
    "          .csv(\"/home/jovyan/notebooks/data/iris.csv\")"
   ]
  }
 ],
 "metadata": {
  "kernelspec": {
   "display_name": "Python 3 (ipykernel)",
   "language": "python",
   "name": "python3"
  }
 },
 "nbformat": 4,
 "nbformat_minor": 5
}
