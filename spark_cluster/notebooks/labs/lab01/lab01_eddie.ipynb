{
 "cells": [
  {
   "cell_type": "markdown",
   "metadata": {},
   "source": [
    "# Lab 01\n",
    "## Collections in Python\n",
    "\n",
    "### Eddie Aguilar\n",
    "\n",
    "Given an array nums containing n distinct numbers within the range [0, n], return the single number in the range that is missing from the array."
   ]
  },
  {
   "cell_type": "markdown",
   "metadata": {},
   "source": [
    "## Function "
   ]
  },
  {
   "cell_type": "code",
   "execution_count": 1,
   "metadata": {},
   "outputs": [],
   "source": [
    "def find_missing(x: list[int]) -> int:\n",
    "    for i in range(1, max(x)+1):\n",
    "        if i not in x:\n",
    "            return i"
   ]
  },
  {
   "cell_type": "code",
   "execution_count": 5,
   "metadata": {},
   "outputs": [
    {
     "name": "stdout",
     "output_type": "stream",
     "text": [
      "List: [0, 1, 2, 3, 4, 5, 6, 7, 9, 10]\n",
      "Missing value from the function: 8\n"
     ]
    }
   ],
   "source": [
    "import random \n",
    "\n",
    "num = random.randint(1, 10)\n",
    "listm = [i for i in range(0, 11)]\n",
    "listm.remove(num)\n",
    "\n",
    "print(\"List: {}\".format(listm))\n",
    "print(\"Missing value from the function: {}\".format(find_missing(listm)))\n"
   ]
  }
 ],
 "metadata": {
  "kernelspec": {
   "display_name": "base",
   "language": "python",
   "name": "python3"
  },
  "language_info": {
   "codemirror_mode": {
    "name": "ipython",
    "version": 3
   },
   "file_extension": ".py",
   "mimetype": "text/x-python",
   "name": "python",
   "nbconvert_exporter": "python",
   "pygments_lexer": "ipython3",
   "version": "3.11.4"
  }
 },
 "nbformat": 4,
 "nbformat_minor": 2
}
