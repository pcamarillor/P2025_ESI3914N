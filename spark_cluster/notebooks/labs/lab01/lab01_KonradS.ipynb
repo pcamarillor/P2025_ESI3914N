{
 "cells": [
  {
   "cell_type": "markdown",
   "metadata": {},
   "source": [
    "# Lab01\n",
    "\n",
    "These are the results for the lab01 task"
   ]
  },
  {
   "cell_type": "code",
   "execution_count": 24,
   "metadata": {},
   "outputs": [],
   "source": [
    "import random"
   ]
  },
  {
   "cell_type": "markdown",
   "metadata": {},
   "source": [
    "First i create a list from 0 to n. Second, i create a random number which is then removed from the list. "
   ]
  },
  {
   "cell_type": "code",
   "execution_count": 25,
   "metadata": {},
   "outputs": [
    {
     "name": "stdout",
     "output_type": "stream",
     "text": [
      "My reference array contains the number: 170\n",
      "My reference array does not anymore contain the number: 170\n"
     ]
    }
   ],
   "source": [
    "n = 1024\n",
    "\n",
    "reference_array = [i for i in range(n)]\n",
    "rand_missing_int = random.randint(1, n-1) \n",
    "if rand_missing_int in reference_array:\n",
    "    print(\"My reference array contains the number: {}\".format(rand_missing_int))\n",
    "reference_array.remove(rand_missing_int)\n",
    "if rand_missing_int not in reference_array:\n",
    "    print(\"My reference array does not anymore contain the number: {}\".format(rand_missing_int))\n",
    "else:\n",
    "    print(\"ERROR: array still contains the value: {}\".format(rand_missing_int))\n",
    "\n"
   ]
  },
  {
   "cell_type": "markdown",
   "metadata": {},
   "source": [
    "Since i know the range of my array, i can go through this range and check if the current number is in my list.\n",
    "I do this in a list comprehension and not in a loop since list comprehensions feature hardware vectorization and are thus often faster for simple operaitons. Then the one single missing value is stored in a variable. \n",
    "Lastly, this value is tested against the previously randomly created value."
   ]
  },
  {
   "cell_type": "code",
   "execution_count": 26,
   "metadata": {},
   "outputs": [
    {
     "name": "stdout",
     "output_type": "stream",
     "text": [
      "Successfully found the missing value: 170\n"
     ]
    }
   ],
   "source": [
    "missing = [i for i in range(n) if i not in reference_array][0]\n",
    "if missing == rand_missing_int:\n",
    "    print(\"Successfully found the missing value: {}\".format(missing))\n",
    "else:\n",
    "    print(\"ERROR: Did no find the correct value\")"
   ]
  }
 ],
 "metadata": {
  "kernelspec": {
   "display_name": "Python 3",
   "language": "python",
   "name": "python3"
  },
  "language_info": {
   "codemirror_mode": {
    "name": "ipython",
    "version": 3
   },
   "file_extension": ".py",
   "mimetype": "text/x-python",
   "name": "python",
   "nbconvert_exporter": "python",
   "pygments_lexer": "ipython3",
   "version": "3.12.8"
  }
 },
 "nbformat": 4,
 "nbformat_minor": 2
}
