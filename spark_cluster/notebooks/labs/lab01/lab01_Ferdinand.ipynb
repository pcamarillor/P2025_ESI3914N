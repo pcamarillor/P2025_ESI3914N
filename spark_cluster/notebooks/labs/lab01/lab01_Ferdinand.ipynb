{
 "cells": [
  {
   "cell_type": "code",
   "execution_count": 4,
   "id": "61d52920-b869-4199-be91-0e0eb14a4cc4",
   "metadata": {},
   "outputs": [],
   "source": [
    "# Ferdinand Bierbaum\n",
    "\n",
    "# Given an array nums containing n distinct numbers within the range [0, n], return the single number in the range that is missing from the\n",
    "# array"
   ]
  },
  {
   "cell_type": "code",
   "execution_count": 10,
   "id": "8e0a8f14-bbb5-4f7e-b1fe-4fbe20f458fc",
   "metadata": {},
   "outputs": [
    {
     "name": "stdout",
     "output_type": "stream",
     "text": [
      "Array of numbers:  [0, 2, 3, 4, 5, 6]\n"
     ]
    }
   ],
   "source": [
    "import random\n",
    "\n",
    "n = 7\n",
    "nums = [i for i in range(0,n)]\n",
    "nums_random = random.randint(0, n)\n",
    "nums.remove(nums_random)\n",
    "\n",
    "print(\"Array of numbers: \", nums)"
   ]
  },
  {
   "cell_type": "code",
   "execution_count": 11,
   "id": "218bb936-2cce-40a2-b174-8684bd5ab71b",
   "metadata": {},
   "outputs": [
    {
     "name": "stdout",
     "output_type": "stream",
     "text": [
      "The number that is missing from the array is:  1\n"
     ]
    }
   ],
   "source": [
    "for i in range(len(nums)):\n",
    "    if i not in nums:\n",
    "        print(\"The number that is missing from the array is: \", i)"
   ]
  },
  {
   "cell_type": "code",
   "execution_count": null,
   "id": "74c333c3-1824-4d73-be86-2c915941c73a",
   "metadata": {},
   "outputs": [],
   "source": []
  }
 ],
 "metadata": {
  "kernelspec": {
   "display_name": "Python 3 (ipykernel)",
   "language": "python",
   "name": "python3"
  },
  "language_info": {
   "codemirror_mode": {
    "name": "ipython",
    "version": 3
   },
   "file_extension": ".py",
   "mimetype": "text/x-python",
   "name": "python",
   "nbconvert_exporter": "python",
   "pygments_lexer": "ipython3",
   "version": "3.11.6"
  }
 },
 "nbformat": 4,
 "nbformat_minor": 5
}
