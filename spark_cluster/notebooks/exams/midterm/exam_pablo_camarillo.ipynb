{
 "cells": [
  {
   "cell_type": "markdown",
   "metadata": {},
   "source": [
    "# <center> <img src=\"img/ITESOLogo.png\" alt=\"ITESO\" width=\"480\" height=\"130\"> </center>\n",
    "# <center> **Departamento de Electrónica, Sistemas e Informática** </center>\n",
    "---\n",
    "### <center> **Spring 2025** </center>\n",
    "---\n",
    "\n",
    "**Mid-term exam**\n",
    "\n",
    "**Date**: 3/12/2025\n",
    "\n",
    "**Student Name**:\n",
    "\n",
    "**Professor**: Pablo Camarillo Ramirez"
   ]
  },
  {
   "cell_type": "code",
   "execution_count": 1,
   "metadata": {},
   "outputs": [],
   "source": [
    "import findspark\n",
    "findspark.init()"
   ]
  },
  {
   "cell_type": "code",
   "execution_count": null,
   "metadata": {},
   "outputs": [
    {
     "name": "stderr",
     "output_type": "stream",
     "text": [
      "Setting default log level to \"WARN\".\n",
      "To adjust logging level use sc.setLogLevel(newLevel). For SparkR, use setLogLevel(newLevel).\n",
      "25/03/12 03:19:50 WARN NativeCodeLoader: Unable to load native-hadoop library for your platform... using builtin-java classes where applicable\n"
     ]
    }
   ],
   "source": [
    "from pyspark.sql import SparkSession\n",
    "\n",
    "spark = SparkSession.builder \\\n",
    "    .appName(\"SparkSQL-Exam-1-ADD-HERE-YOUR-NAME\") \\\n",
    "    .master(\"spark://078b2e28e517:7077\") \\\n",
    "    .config(\"spark.ui.port\",\"4040\") \\\n",
    "    .getOrCreate()\n",
    "sc = spark.sparkContext"
   ]
  },
  {
   "cell_type": "markdown",
   "metadata": {},
   "source": [
    "# Load datasets"
   ]
  },
  {
   "cell_type": "code",
   "execution_count": 4,
   "metadata": {},
   "outputs": [
    {
     "name": "stdout",
     "output_type": "stream",
     "text": [
      "root\n",
      " |-- transaction_id: integer (nullable = true)\n",
      " |-- product_id: string (nullable = true)\n",
      " |-- customer_id: integer (nullable = true)\n",
      " |-- sale_ammount: double (nullable = true)\n",
      " |-- sale_date: date (nullable = true)\n",
      "\n"
     ]
    }
   ],
   "source": [
    "from team_name.spark_utils import SparkUtils\n",
    "\n",
    "column_info_sales = [(\"transaction_id\", \"integer\"), (\"product_id\", \"string\"), (\"customer_id\", \"integer\"), (\"sale_ammount\", \"double\"), (\"sale_date\", \"date\")]\n",
    "sales_schema = SparkUtils.generate_schema(column_info_sales)\n",
    "\n",
    "sales_df = spark.read \\\n",
    "                .schema(sales_schema) \\\n",
    "                .option(\"header\", \"true\") \\\n",
    "                .csv(\"/home/jovyan/notebooks/data/exam_P2025_ESI3914N/sales.csv\")\n",
    "\n",
    "sales_df.printSchema()"
   ]
  },
  {
   "cell_type": "code",
   "execution_count": 5,
   "metadata": {},
   "outputs": [
    {
     "name": "stdout",
     "output_type": "stream",
     "text": [
      "root\n",
      " |-- product_id: integer (nullable = true)\n",
      " |-- product_name: string (nullable = true)\n",
      " |-- category: string (nullable = true)\n",
      " |-- price: double (nullable = true)\n",
      "\n"
     ]
    }
   ],
   "source": [
    "\n",
    "column_info_product = [(\"product_id\", \"integer\"), (\"product_name\", \"string\"), (\"category\", \"string\"), (\"price\", \"double\")]\n",
    "product_schema = SparkUtils.generate_schema(column_info_product)\n",
    "\n",
    "product_df = spark.read \\\n",
    "                .schema(product_schema) \\\n",
    "                .option(\"header\", \"true\") \\\n",
    "                .csv(\"/home/jovyan/notebooks/data/exam_P2025_ESI3914N/products.csv\")\n",
    "\n",
    "product_df.printSchema()"
   ]
  },
  {
   "cell_type": "code",
   "execution_count": 14,
   "metadata": {},
   "outputs": [
    {
     "data": {
      "text/plain": [
       "612"
      ]
     },
     "execution_count": 14,
     "metadata": {},
     "output_type": "execute_result"
    }
   ],
   "source": [
    "from pyspark.sql.functions import col, sum, when\n",
    "# 2. Join the DataFrames\n",
    "enriched_sales_df = sales_df.join(product_df, on=\"product_id\", how=\"inner\")\n",
    "\n",
    "# 3. Group and Aggregate\n",
    "category_sales_df = enriched_sales_df.groupBy(\"category\").agg(sum(\"sale_ammount\").alias(\"total_sales\"))\n",
    "\n",
    "# 5. Transformations (Using `when()`)\n",
    "enriched_sales_df = enriched_sales_df.withColumn(\n",
    "    \"sale_type\",\n",
    "    when(col(\"sale_ammount\") >= 50, \"High\").otherwise(\"Low\")\n",
    ")\n",
    "\n",
    "# 6. Filter\n",
    "electronics_sales_df = enriched_sales_df.filter(col(\"category\") == \"Electronics\")\n",
    "\n",
    "# 7. Select\n",
    "final_df = electronics_sales_df.select(\"product_name\", \"sale_ammount\", \"sale_type\")\n",
    "\n",
    "# 8. Action (Collect and Display)\n",
    "final_df.count()"
   ]
  },
  {
   "cell_type": "code",
   "execution_count": null,
   "metadata": {},
   "outputs": [],
   "source": []
  }
 ],
 "metadata": {
  "kernelspec": {
   "display_name": "Python 3 (ipykernel)",
   "language": "python",
   "name": "python3"
  },
  "language_info": {
   "codemirror_mode": {
    "name": "ipython",
    "version": 3
   },
   "file_extension": ".py",
   "mimetype": "text/x-python",
   "name": "python",
   "nbconvert_exporter": "python",
   "pygments_lexer": "ipython3",
   "version": "3.11.6"
  }
 },
 "nbformat": 4,
 "nbformat_minor": 2
}
