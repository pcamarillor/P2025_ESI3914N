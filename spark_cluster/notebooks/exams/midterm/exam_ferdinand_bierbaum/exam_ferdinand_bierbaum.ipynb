{
 "cells": [
  {
   "cell_type": "markdown",
   "metadata": {},
   "source": [
    "# <center> <img src=\"../../labs/img/ITESOLogo.png\" alt=\"ITESO\" width=\"480\" height=\"130\"> </center>\n",
    "# <center> **Departamento de Electrónica, Sistemas e Informática** </center>\n",
    "---\n",
    "### <center> **Big Data** </center>\n",
    "---\n",
    "### <center> **Spring 2025** </center>\n",
    "---\n",
    "**Mid-term exam**\n",
    "\n",
    "**Date**: 3/12/2025\n",
    "\n",
    "**Student Name**: Ferdinand Josef Bierbaum Aguilar\n",
    "\n",
    "**Professor**: Pablo Camarillo Ramirez"
   ]
  },
  {
   "cell_type": "code",
   "execution_count": 52,
   "metadata": {},
   "outputs": [],
   "source": [
    "import findspark\n",
    "findspark.init()"
   ]
  },
  {
   "cell_type": "code",
   "execution_count": 53,
   "metadata": {},
   "outputs": [],
   "source": [
    "from pyspark.sql import SparkSession\n",
    "\n",
    "spark = SparkSession.builder \\\n",
    "    .appName(\"SparkSQL-Exam-1-FERDINAND-BIERBAUM\") \\\n",
    "    .master(\"spark://2e9c357ab096:7077\") \\\n",
    "    .config(\"spark.ui.port\",\"4040\") \\\n",
    "    .getOrCreate()\n",
    "sc = spark.sparkContext"
   ]
  },
  {
   "cell_type": "code",
   "execution_count": 54,
   "metadata": {},
   "outputs": [
    {
     "name": "stdout",
     "output_type": "stream",
     "text": [
      "root\n",
      " |-- product_id: integer (nullable = true)\n",
      " |-- product_name: string (nullable = true)\n",
      " |-- category: string (nullable = true)\n",
      " |-- price: double (nullable = true)\n",
      "\n"
     ]
    }
   ],
   "source": [
    "# products\n",
    "\n",
    "from grandeInformacion.spark_utils import SparkUtils\n",
    "products_schema = SparkUtils.generate_schema([(\"product_id\", \"integer\"), (\"product_name\", \"string\"), (\"category\", \"string\"), (\"price\", \"double\")])\n",
    "\n",
    "products_df = spark.read \\\n",
    "                .schema(products_schema) \\\n",
    "                .option(\"header\", \"true\") \\\n",
    "                .csv(\"/home/jovyan/notebooks/data/exam_P2025_ESI3914N/products.csv\")\n",
    "\n",
    "products_df.printSchema()\n",
    "\n",
    "# products_df.show(5, truncate=False)"
   ]
  },
  {
   "cell_type": "code",
   "execution_count": 55,
   "metadata": {},
   "outputs": [
    {
     "name": "stdout",
     "output_type": "stream",
     "text": [
      "root\n",
      " |-- transaction_id: integer (nullable = true)\n",
      " |-- product_id: integer (nullable = true)\n",
      " |-- customer_id: integer (nullable = true)\n",
      " |-- sale_amount: double (nullable = true)\n",
      " |-- sale_date: date (nullable = true)\n",
      "\n"
     ]
    }
   ],
   "source": [
    "# sales\n",
    "\n",
    "from grandeInformacion.spark_utils import SparkUtils\n",
    "sales_schema = SparkUtils.generate_schema([(\"transaction_id\", \"integer\"), (\"product_id\", \"integer\"), (\"customer_id\", \"integer\"), (\"sale_amount\", \"double\"), (\"sale_date\", \"date\")])\n",
    "\n",
    "sales_df = spark.read \\\n",
    "                .schema(sales_schema) \\\n",
    "                .option(\"header\", \"true\") \\\n",
    "                .csv(\"/home/jovyan/notebooks/data/exam_P2025_ESI3914N/sales.csv\")\n",
    "\n",
    "sales_df.printSchema()\n",
    "\n",
    "# sales_df.show(5, truncate=False)"
   ]
  },
  {
   "cell_type": "code",
   "execution_count": 56,
   "metadata": {},
   "outputs": [],
   "source": [
    "# join\n",
    "\n",
    "join_productId_df = products_df.join(sales_df, products_df[\"product_id\"] == sales_df[\"product_id\"], \"inner\")\n",
    "\n",
    "# join_productId_df.show(5)"
   ]
  },
  {
   "cell_type": "code",
   "execution_count": 57,
   "metadata": {},
   "outputs": [],
   "source": [
    "# group and aggregate\n",
    "from pyspark.sql.functions import sum, when\n",
    "\n",
    "grouped_df = join_productId_df.groupBy(\"category\").agg(sum(\"sale_amount\").alias(\"Total Amount of Category\"))\n",
    "\n",
    "# grouped_df.show(5)"
   ]
  },
  {
   "cell_type": "code",
   "execution_count": 58,
   "metadata": {},
   "outputs": [],
   "source": [
    "# transformation\n",
    "\n",
    "join_productId_df = join_productId_df.withColumn('sale_type', when(join_productId_df['sale_amount'] >= 50, 'High').otherwise(\"Low\"))\n",
    "\n",
    "# join_productId_df.show(5)\n"
   ]
  },
  {
   "cell_type": "code",
   "execution_count": 59,
   "metadata": {},
   "outputs": [],
   "source": [
    "# filter\n",
    "filtered_joined_df = join_productId_df.filter(join_productId_df[\"category\"] == \"Electronics\")\n",
    "# filtered_joined_df.show(5)"
   ]
  },
  {
   "cell_type": "code",
   "execution_count": 60,
   "metadata": {},
   "outputs": [],
   "source": [
    "# select \n",
    "\n",
    "selected_columns_df = filtered_joined_df.select(\"product_name\", \"sale_amount\", \"sale_type\")\n",
    "\n",
    "# selected_columns_df.show(5)"
   ]
  },
  {
   "cell_type": "code",
   "execution_count": 61,
   "metadata": {},
   "outputs": [],
   "source": [
    "# screenshot in the folder \n"
   ]
  },
  {
   "cell_type": "code",
   "execution_count": 62,
   "metadata": {},
   "outputs": [
    {
     "name": "stdout",
     "output_type": "stream",
     "text": [
      "+------------+-----------+---------+\n",
      "|product_name|sale_amount|sale_type|\n",
      "+------------+-----------+---------+\n",
      "| Product 175|     232.46|     High|\n",
      "| Product 177|      460.4|     High|\n",
      "| Product 139|     575.25|     High|\n",
      "| Product 100|     513.06|     High|\n",
      "| Product 115|      60.44|     High|\n",
      "+------------+-----------+---------+\n",
      "only showing top 5 rows\n",
      "\n",
      "Total rows:  612\n"
     ]
    }
   ],
   "source": [
    "# actions\n",
    "selected_columns_df.show(5)\n",
    "count_total_rows = selected_columns_df.count()\n",
    "print(\"Total rows: \", count_total_rows)"
   ]
  },
  {
   "cell_type": "code",
   "execution_count": 63,
   "metadata": {},
   "outputs": [],
   "source": [
    "# sc.stop()"
   ]
  }
 ],
 "metadata": {
  "kernelspec": {
   "display_name": "Python 3 (ipykernel)",
   "language": "python",
   "name": "python3"
  },
  "language_info": {
   "codemirror_mode": {
    "name": "ipython",
    "version": 3
   },
   "file_extension": ".py",
   "mimetype": "text/x-python",
   "name": "python",
   "nbconvert_exporter": "python",
   "pygments_lexer": "ipython3",
   "version": "3.11.6"
  }
 },
 "nbformat": 4,
 "nbformat_minor": 2
}
