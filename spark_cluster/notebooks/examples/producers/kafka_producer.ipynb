{
 "cells": [
  {
   "cell_type": "markdown",
   "metadata": {},
   "source": [
    "# <center> <img src=\"../../labs/img/ITESOLogo.png\" alt=\"ITESO\" width=\"480\" height=\"130\"> </center>\n",
    "# <center> **Departamento de Electrónica, Sistemas e Informática** </center>\n",
    "---\n",
    "## <center> **Big Data** </center>\n",
    "---\n",
    "### <center> **Spring 2025** </center>\n",
    "---\n",
    "### <center> **Kafka Producer: Financial Transaction Generator** </center>\n",
    "\n",
    "---\n",
    "**Profesor**: Dr. Pablo Camarillo Ramirez"
   ]
  },
  {
   "cell_type": "markdown",
   "metadata": {},
   "source": [
    "### Invoke the transaction data generator"
   ]
  },
  {
   "cell_type": "code",
   "execution_count": null,
   "metadata": {},
   "outputs": [
    {
     "name": "stdout",
     "output_type": "stream",
     "text": [
      "Producing messages to Kafka topic: kafka-spark-example\n",
      "Sent: {'origin_id': 'origin1', 'event_time': '2025-04-21 23:17:19', 'amount': 3427.4466839435304}\n",
      "Sent: {'origin_id': 'origin1', 'event_time': '2025-04-21 23:17:21', 'amount': 98.66004422325221}\n",
      "Sent: {'origin_id': 'origin2', 'event_time': '2025-04-21 23:17:23', 'amount': 1816.5887527853918}\n",
      "Sent: {'origin_id': 'origin1', 'event_time': '2025-04-21 23:17:25', 'amount': 3885.6164694117697}\n",
      "Sent: {'origin_id': 'origin3', 'event_time': '2025-04-21 23:17:27', 'amount': 3368.280819156851}\n",
      "Sent: {'origin_id': 'origin2', 'event_time': '2025-04-21 23:17:29', 'amount': 2190.1181639785236}\n",
      "Sent: {'origin_id': 'origin2', 'event_time': '2025-04-21 23:17:31', 'amount': 3279.0522680147}\n",
      "Sent: {'origin_id': 'origin1', 'event_time': '2025-04-21 23:17:33', 'amount': 3897.3982700725473}\n",
      "Sent: {'origin_id': 'origin3', 'event_time': '2025-04-21 23:17:35', 'amount': 4610.748941620225}\n",
      "Sent: {'origin_id': 'origin1', 'event_time': '2025-04-21 23:17:37', 'amount': 3108.91677072324}\n",
      "Sent: {'origin_id': 'origin1', 'event_time': '2025-04-21 23:17:39', 'amount': 1476.816343224034}\n",
      "Sent: {'origin_id': 'origin1', 'event_time': '2025-04-21 23:17:41', 'amount': 2981.141241242256}\n",
      "Sent: {'origin_id': 'origin3', 'event_time': '2025-04-21 23:17:43', 'amount': 1891.2427060505793}\n",
      "Sent: {'origin_id': 'origin3', 'event_time': '2025-04-21 23:17:45', 'amount': 5500.013759917048}\n",
      "Sent: {'origin_id': 'origin3', 'event_time': '2025-04-21 23:17:47', 'amount': 2488.4805714516124}\n",
      "Sent: {'origin_id': 'origin2', 'event_time': '2025-04-21 23:17:49', 'amount': 5435.30957744774}\n",
      "Sent: {'origin_id': 'origin1', 'event_time': '2025-04-21 23:17:51', 'amount': 836.3033747155184}\n",
      "Sent: {'origin_id': 'origin2', 'event_time': '2025-04-21 23:17:53', 'amount': 4532.668559418276}\n",
      "Sent: {'origin_id': 'origin2', 'event_time': '2025-04-21 23:17:55', 'amount': 5348.376282934364}\n",
      "Sent: {'origin_id': 'origin2', 'event_time': '2025-04-21 23:17:57', 'amount': 3633.9870289823907}\n",
      "Sent: {'origin_id': 'origin2', 'event_time': '2025-04-21 23:17:59', 'amount': 2117.8387476543676}\n",
      "Sent: {'origin_id': 'origin2', 'event_time': '2025-04-21 23:18:01', 'amount': 2893.4656815329763}\n",
      "Sent: {'origin_id': 'origin1', 'event_time': '2025-04-21 23:18:03', 'amount': 828.5963151965207}\n",
      "Sent: {'origin_id': 'origin2', 'event_time': '2025-04-21 23:18:05', 'amount': 3459.080080053472}\n",
      "Sent: {'origin_id': 'origin2', 'event_time': '2025-04-21 23:18:07', 'amount': 4078.172809860253}\n",
      "Sent: {'origin_id': 'origin1', 'event_time': '2025-04-21 23:18:09', 'amount': 2113.350968590844}\n",
      "Sent: {'origin_id': 'origin2', 'event_time': '2025-04-21 23:18:11', 'amount': 5063.602361016811}\n",
      "Sent: {'origin_id': 'origin2', 'event_time': '2025-04-21 23:18:13', 'amount': 1311.196441089917}\n",
      "Sent: {'origin_id': 'origin3', 'event_time': '2025-04-21 23:18:15', 'amount': 1640.6815258148454}\n",
      "Sent: {'origin_id': 'origin1', 'event_time': '2025-04-21 23:18:17', 'amount': 2920.8949556372027}\n",
      "Sent: {'origin_id': 'origin2', 'event_time': '2025-04-21 23:18:19', 'amount': 3540.3101446186474}\n",
      "Sent: {'origin_id': 'origin3', 'event_time': '2025-04-21 23:18:21', 'amount': 3408.248985408354}\n",
      "Sent: {'origin_id': 'origin1', 'event_time': '2025-04-21 23:18:23', 'amount': 5022.933589416979}\n",
      "Sent: {'origin_id': 'origin1', 'event_time': '2025-04-21 23:18:25', 'amount': 1978.12776029634}\n",
      "Sent: {'origin_id': 'origin1', 'event_time': '2025-04-21 23:18:27', 'amount': 5286.377514383571}\n"
     ]
    }
   ],
   "source": [
    "from team_name.transaction_generator import generate_transaction_data\n",
    "from kafka import KafkaProducer\n",
    "import time\n",
    "import json\n",
    "import random\n",
    "\n",
    "\n",
    "# Define Kafka server and topic\n",
    "KAFKA_SERVER = 'cfb7d55576f2:9093'\n",
    "KAFKA_TOPIC = 'kafka-spark-example'\n",
    "NUMBER_MESSAGES_TO_SEND = random.randint(30, 50)\n",
    "\n",
    "# Initialize the Kafka producer\n",
    "producer = KafkaProducer(\n",
    "     bootstrap_servers=KAFKA_SERVER,\n",
    "     value_serializer=lambda v: json.dumps(v).encode('utf-8')  # serialize data as JSON\n",
    ")\n",
    "\n",
    "# Produce data to Kafka topic\n",
    "try:\n",
    "    print(f\"Producing {NUMBER_MESSAGES_TO_SEND} messages to Kafka topic: {KAFKA_TOPIC}\")\n",
    "    for i in range(0, NUMBER_MESSAGES_TO_SEND):\n",
    "        # Generate random transaction data\n",
    "        transaction_data = generate_transaction_data()\n",
    "        \n",
    "        # Send data to Kafka\n",
    "        producer.send(KAFKA_TOPIC, transaction_data)\n",
    "        print(f\"Sent: {transaction_data}\")\n",
    "            \n",
    "        # Sleep for a few seconds before sending the next message\n",
    "        time.sleep(2)\n",
    "\n",
    "except KeyboardInterrupt:\n",
    "    print(\"Stopped producing messages.\")\n",
    "finally:\n",
    "    # Close the Kafka producer\n",
    "    producer.close()"
   ]
  }
 ],
 "metadata": {
  "kernelspec": {
   "display_name": "Python 3 (ipykernel)",
   "language": "python",
   "name": "python3"
  },
  "language_info": {
   "codemirror_mode": {
    "name": "ipython",
    "version": 3
   },
   "file_extension": ".py",
   "mimetype": "text/x-python",
   "name": "python",
   "nbconvert_exporter": "python",
   "pygments_lexer": "ipython3",
   "version": "3.11.6"
  }
 },
 "nbformat": 4,
 "nbformat_minor": 2
}
