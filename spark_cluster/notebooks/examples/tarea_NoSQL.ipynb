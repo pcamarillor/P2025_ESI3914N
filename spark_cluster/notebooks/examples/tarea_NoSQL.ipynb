{
 "cells": [
  {
   "cell_type": "markdown",
   "metadata": {},
   "source": [
    "# <center> <img src=\"../labs/img/ITESOLogo.png\" alt=\"ITESO\" width=\"480\" height=\"130\"> </center>\n",
    "# <center> **Departamento de Electrónica, Sistemas e Informática** </center>\n",
    "---\n",
    "## <center> **Big Data** </center>\n",
    "---\n",
    "### <center> **Spring 2025** </center>\n",
    "---\n",
    "### <center> **Storage solutions for Big Data using Neo4j** </center>\n",
    "---\n",
    "**Profesor**: Dr. Pablo Camarillo Ramirez"
   ]
  },
  {
   "cell_type": "code",
   "execution_count": 1,
   "metadata": {},
   "outputs": [],
   "source": [
    "import findspark\n",
    "findspark.init()"
   ]
  },
  {
   "cell_type": "markdown",
   "metadata": {},
   "source": [
    "#### Create SparkSession \n"
   ]
  },
  {
   "cell_type": "code",
   "execution_count": 2,
   "metadata": {},
   "outputs": [
    {
     "name": "stderr",
     "output_type": "stream",
     "text": [
      "25/03/26 21:18:43 WARN NativeCodeLoader: Unable to load native-hadoop library for your platform... using builtin-java classes where applicable\n",
      "Setting default log level to \"WARN\".\n",
      "To adjust logging level use sc.setLogLevel(newLevel). For SparkR, use setLogLevel(newLevel).\n"
     ]
    }
   ],
   "source": [
    "from pyspark.sql import SparkSession\n",
    "\n",
    "# Hint for homework: .config(\"spark.jars.packages\", \"groupId:artifactId:version\") \\\n",
    "\n",
    "spark = SparkSession.builder \\\n",
    "    .appName(\"Spark-Nero4j-Integration\") \\\n",
    "    .master(\"spark://8776010e8f6a:7077\") \\\n",
    "    .config(\"spark.jars\", \"/home/jovyan/notebooks/jars/neo4j-connector-apache-spark_2.13-5.3.5_for_spark_3.jar\") \\\n",
    "    .config(\"spark.ui.port\",\"4040\") \\\n",
    "    .getOrCreate()\n",
    "sc = spark.sparkContext"
   ]
  },
  {
   "cell_type": "markdown",
   "metadata": {},
   "source": [
    "#### Load ecommerce Dataset"
   ]
  },
  {
   "cell_type": "code",
   "execution_count": 3,
   "metadata": {},
   "outputs": [
    {
     "name": "stdout",
     "output_type": "stream",
     "text": [
      "root\n",
      " |-- product: string (nullable = true)\n",
      " |-- price: double (nullable = true)\n",
      " |-- quantity: integer (nullable = true)\n",
      " |-- discount: float (nullable = true)\n",
      " |-- customer_first_name: string (nullable = true)\n",
      " |-- order_date: date (nullable = true)\n",
      "\n"
     ]
    }
   ],
   "source": [
    "\n",
    "from team_name.spark_utils import SparkUtils\n",
    "\n",
    "columns_info = [(\"product\", \"string\"),\n",
    "                (\"price\", \"double\"),\n",
    "                (\"quantity\", \"integer\"),\n",
    "                (\"discount\", \"float\"),\n",
    "                (\"customer_first_name\", \"string\"),\n",
    "                (\"order_date\", \"date\")]\n",
    "\n",
    "schema = SparkUtils.generate_schema(columns_info)\n",
    "\n",
    "# Create DataFrame\n",
    "ecommerce_df = spark \\\n",
    "                .read \\\n",
    "                .schema(schema) \\\n",
    "                .option(\"header\", \"true\") \\\n",
    "                .csv(\"/home/jovyan/notebooks/data/e_commerce_dataset/\")\n",
    "\n",
    "ecommerce_df.printSchema()"
   ]
  },
  {
   "cell_type": "markdown",
   "metadata": {},
   "source": [
    "#### Write DF in Neo4j"
   ]
  },
  {
   "cell_type": "code",
   "execution_count": 5,
   "metadata": {},
   "outputs": [
    {
     "name": "stderr",
     "output_type": "stream",
     "text": [
      "[Stage 0:=============================>                             (1 + 1) / 2]\r"
     ]
    },
    {
     "name": "stdout",
     "output_type": "stream",
     "text": [
      "Done\n"
     ]
    },
    {
     "name": "stderr",
     "output_type": "stream",
     "text": [
      "                                                                                \r"
     ]
    }
   ],
   "source": [
    "neo4j_url = \"bolt://neo4j-iteso:7687\"\n",
    "neo4j_user = \"neo4j\"\n",
    "neo4j_password = \"123456789\"\n",
    "\n",
    "ecommerce_df.write \\\n",
    "    .format(\"org.neo4j.spark.DataSource\") \\\n",
    "    .mode(\"Overwrite\") \\\n",
    "    .option(\"url\", neo4j_url) \\\n",
    "    .option(\"authentication.type\", \"basic\") \\\n",
    "    .option(\"authentication.basic.username\", neo4j_user) \\\n",
    "    .option(\"authentication.basic.password\", neo4j_password) \\\n",
    "    .option(\"labels\", \":Product\") \\\n",
    "    .option(\"node.keys\", \"product\") \\\n",
    "    .save()\n",
    "\n",
    "print(\"Done\")"
   ]
  },
  {
   "cell_type": "code",
   "execution_count": 6,
   "metadata": {},
   "outputs": [],
   "source": [
    "# Stop the SparkContext\n",
    "sc.stop()"
   ]
  },
  {
   "cell_type": "markdown",
   "metadata": {},
   "source": [
    "#### Create a DF from Neo4j"
   ]
  },
  {
   "cell_type": "code",
   "execution_count": 7,
   "metadata": {},
   "outputs": [],
   "source": [
    "spark = SparkSession.builder \\\n",
    "    .appName(\"Spark-Nero4j-Integration\") \\\n",
    "    .master(\"spark://8776010e8f6a:7077\") \\\n",
    "    .config(\"spark.jars\", \"/home/jovyan/notebooks/jars/neo4j-connector-apache-spark_2.13-5.3.5_for_spark_3.jar\") \\\n",
    "    .config(\"spark.ui.port\",\"4040\") \\\n",
    "    .getOrCreate()\n",
    "sc = spark.sparkContext"
   ]
  },
  {
   "cell_type": "markdown",
   "metadata": {},
   "source": [
    "##### Set Database connection properties "
   ]
  },
  {
   "cell_type": "code",
   "execution_count": 8,
   "metadata": {},
   "outputs": [
    {
     "name": "stderr",
     "output_type": "stream",
     "text": [
      "25/03/26 21:30:29 WARN SchemaService: Switching to query schema resolution\n"
     ]
    },
    {
     "name": "stdout",
     "output_type": "stream",
     "text": [
      "root\n",
      " |-- <id>: long (nullable = false)\n",
      " |-- <labels>: array (nullable = true)\n",
      " |    |-- element: string (containsNull = true)\n",
      " |-- quantity: long (nullable = true)\n",
      " |-- product: string (nullable = true)\n",
      " |-- price: double (nullable = true)\n",
      " |-- order_date: date (nullable = true)\n",
      " |-- discount: double (nullable = true)\n",
      " |-- customer_first_name: string (nullable = true)\n",
      "\n"
     ]
    },
    {
     "name": "stderr",
     "output_type": "stream",
     "text": [
      "                                                                                \r"
     ]
    },
    {
     "name": "stdout",
     "output_type": "stream",
     "text": [
      "+----+---------+--------+-------------------------------------+-----+----------+--------+-------------------+\n",
      "|<id>|<labels> |quantity|product                              |price|order_date|discount|customer_first_name|\n",
      "+----+---------+--------+-------------------------------------+-----+----------+--------+-------------------+\n",
      "|0   |[Product]|10      |Wireless Presenter Remote            |82.29|2024-11-04|44.0    |Sarah              |\n",
      "|1   |[Product]|15      |Electric Standing Desk               |7.65 |2024-04-19|44.0    |Jasmine            |\n",
      "|2   |[Product]|166     |Smart Thermostat                     |87.94|2022-07-02|20.0    |Cheryl             |\n",
      "|3   |[Product]|220     |Electric Toothbrush with UV Sanitizer|22.78|2024-07-04|4.0     |Jorge              |\n",
      "|4   |[Product]|7       |Smart Fitness Tracker Watch          |25.74|2024-05-03|1.0     |Renee              |\n",
      "+----+---------+--------+-------------------------------------+-----+----------+--------+-------------------+\n",
      "only showing top 5 rows\n",
      "\n"
     ]
    }
   ],
   "source": [
    "df = spark.read \\\n",
    "    .format(\"org.neo4j.spark.DataSource\") \\\n",
    "    .option(\"url\", neo4j_url) \\\n",
    "    .option(\"authentication.type\", \"basic\") \\\n",
    "    .option(\"authentication.basic.username\", neo4j_user) \\\n",
    "    .option(\"authentication.basic.password\", neo4j_password) \\\n",
    "    .option(\"labels\", \":Product\") \\\n",
    "    .load()\n",
    "\n",
    "df.printSchema()\n",
    "df.show(5, False)"
   ]
  },
  {
   "cell_type": "code",
   "execution_count": 9,
   "metadata": {},
   "outputs": [],
   "source": [
    "sc.stop()"
   ]
  }
 ],
 "metadata": {
  "kernelspec": {
   "display_name": "Python 3 (ipykernel)",
   "language": "python",
   "name": "python3"
  },
  "language_info": {
   "codemirror_mode": {
    "name": "ipython",
    "version": 3
   },
   "file_extension": ".py",
   "mimetype": "text/x-python",
   "name": "python",
   "nbconvert_exporter": "python",
   "pygments_lexer": "ipython3",
   "version": "3.11.6"
  }
 },
 "nbformat": 4,
 "nbformat_minor": 2
}
