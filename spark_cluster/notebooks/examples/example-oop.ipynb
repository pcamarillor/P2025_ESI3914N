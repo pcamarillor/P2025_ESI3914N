{
 "cells": [
  {
   "cell_type": "markdown",
   "metadata": {},
   "source": [
    "# <center> <img src=\"../labs/img/ITESOLogo.png\" alt=\"ITESO\" width=\"480\" height=\"130\"> </center>\n",
    "# <center> **Departamento de Electrónica, Sistemas e Informática** </center>\n",
    "---\n",
    "## <center> **Procesamiento de Datos Masivos (Big Data)** </center>\n",
    "---\n",
    "### <center> **Spring 2025** </center>\n",
    "---\n",
    "### <center> **Object Oriented Programming in Python** </center>\n",
    "---\n",
    "**Professor**: Pablo Camarillo Ramirez"
   ]
  },
  {
   "cell_type": "code",
   "execution_count": 1,
   "metadata": {},
   "outputs": [
    {
     "name": "stdout",
     "output_type": "stream",
     "text": [
      "Figure: Circle\n",
      "Area: 0.5026548245743669\n",
      "Perimeter: 2.5132741228718345\n"
     ]
    }
   ],
   "source": [
    "from lecture_05_classes import Circle\n",
    "circle = Circle(0.4)\n",
    "circle.display()"
   ]
  },
  {
   "cell_type": "code",
   "execution_count": 2,
   "metadata": {},
   "outputs": [
    {
     "name": "stdout",
     "output_type": "stream",
     "text": [
      "Hi, I'm Alice and I'm 30 years old.\n"
     ]
    }
   ],
   "source": [
    "from lecture_05_classes import Person\n",
    "\n",
    "person = Person(\"Alice\", 30)\n",
    "person.introduce()"
   ]
  },
  {
   "cell_type": "code",
   "execution_count": 3,
   "metadata": {},
   "outputs": [
    {
     "name": "stdout",
     "output_type": "stream",
     "text": [
      "Canis familiaris\n"
     ]
    }
   ],
   "source": [
    "from lecture_05_classes import Dog\n",
    "\n",
    "print(Dog.get_species())"
   ]
  },
  {
   "cell_type": "code",
   "execution_count": 4,
   "metadata": {},
   "outputs": [
    {
     "name": "stdout",
     "output_type": "stream",
     "text": [
      "20\n"
     ]
    }
   ],
   "source": [
    "from lecture_05_classes import MathUtils\n",
    "\n",
    "result = MathUtils.add(7, 13)\n",
    "print(result)"
   ]
  },
  {
   "cell_type": "code",
   "execution_count": 1,
   "metadata": {},
   "outputs": [
    {
     "name": "stdout",
     "output_type": "stream",
     "text": [
      "A Game of Thrones by George RR Martin\n",
      "Book('A Game of Thrones', 'George RR Martin')\n"
     ]
    },
    {
     "data": {
      "text/plain": [
       "Book('A Game of Thrones', 'George RR Martin')"
      ]
     },
     "execution_count": 1,
     "metadata": {},
     "output_type": "execute_result"
    }
   ],
   "source": [
    "from lecture_05_classes import Book\n",
    "book = Book(\"A Game of Thrones\", \"George RR Martin\")\n",
    "print(str(book))\n",
    "print(repr(book))\n",
    "book"
   ]
  },
  {
   "cell_type": "code",
   "execution_count": 6,
   "metadata": {},
   "outputs": [
    {
     "name": "stdout",
     "output_type": "stream",
     "text": [
      "5\n",
      "10\n"
     ]
    },
    {
     "data": {
      "text/plain": [
       "Circle(Radius:'14.9')"
      ]
     },
     "execution_count": 6,
     "metadata": {},
     "output_type": "execute_result"
    }
   ],
   "source": [
    "from lecture_05_classes import Circle\n",
    "\n",
    "circle = Circle(5)\n",
    "print(circle.radius)\n",
    "\n",
    "# Use the setter method\n",
    "circle.radius = 10\n",
    "print(circle.radius)\n",
    "\n",
    "circle._radius = 14.9\n",
    "circle"
   ]
  },
  {
   "cell_type": "code",
   "execution_count": null,
   "metadata": {},
   "outputs": [],
   "source": []
  }
 ],
 "metadata": {
  "kernelspec": {
   "display_name": "Python 3 (ipykernel)",
   "language": "python",
   "name": "python3"
  }
 },
 "nbformat": 4,
 "nbformat_minor": 2
}
