{
 "cells": [
  {
   "cell_type": "code",
   "execution_count": 10,
   "metadata": {},
   "outputs": [
    {
     "name": "stdout",
     "output_type": "stream",
     "text": [
      "[Errno 2] No such file or directory: 'notebooks/examples/'\n",
      "/home/jovyan/notebooks/examples\n",
      "/home/jovyan/notebooks/examples\n"
     ]
    }
   ],
   "source": [
    "%cd notebooks/examples/\n",
    "!pwd"
   ]
  },
  {
   "cell_type": "code",
   "execution_count": 11,
   "metadata": {},
   "outputs": [
    {
     "name": "stdout",
     "output_type": "stream",
     "text": [
      "Figure: Circle\n",
      "Area: 0.5026548245743669\n",
      "Perimeter: 2.5132741228718345\n"
     ]
    }
   ],
   "source": [
    "from lib.figures import Circle\n",
    "circle = Circle(0.4)\n",
    "circle.display()"
   ]
  }
 ],
 "metadata": {
  "kernelspec": {
   "display_name": "Python 3 (ipykernel)",
   "language": "python",
   "name": "python3"
  },
  "language_info": {
   "codemirror_mode": {
    "name": "ipython",
    "version": 3
   },
   "file_extension": ".py",
   "mimetype": "text/x-python",
   "name": "python",
   "nbconvert_exporter": "python",
   "pygments_lexer": "ipython3",
   "version": "3.11.6"
  }
 },
 "nbformat": 4,
 "nbformat_minor": 2
}
