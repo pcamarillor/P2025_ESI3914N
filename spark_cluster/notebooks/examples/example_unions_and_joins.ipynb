{
 "cells": [
  {
   "cell_type": "markdown",
   "metadata": {},
   "source": [
    "# <center> <img src=\"../labs/img/ITESOLogo.png\" alt=\"ITESO\" width=\"480\" height=\"130\"> </center>\n",
    "# <center> **Departamento de Electrónica, Sistemas e Informática** </center>\n",
    "---\n",
    "## <center> **Big Data** </center>\n",
    "---\n",
    "### <center> **Spring 2025** </center>\n",
    "---\n",
    "### <center> **Examples on unions and joins** </center>\n",
    "\n",
    "---\n",
    "**Professor**: Dr. Pablo Camarillo Ramirez"
   ]
  },
  {
   "cell_type": "code",
   "execution_count": 1,
   "metadata": {},
   "outputs": [],
   "source": [
    "import findspark\n",
    "findspark.init()"
   ]
  },
  {
   "cell_type": "markdown",
   "metadata": {},
   "source": [
    "#### Connetion with the spark cluster"
   ]
  },
  {
   "cell_type": "code",
   "execution_count": null,
   "metadata": {},
   "outputs": [],
   "source": [
    "from pyspark.sql import SparkSession\n",
    "\n",
    "spark = SparkSession.builder \\\n",
    "    .appName(\"SparkSQL-Unions-and-Joins\") \\\n",
    "    .master(\"spark://078b2e28e517:7077\") \\\n",
    "    .config(\"spark.ui.port\",\"4040\") \\\n",
    "    .getOrCreate()\n",
    "sc = spark.sparkContext"
   ]
  },
  {
   "cell_type": "markdown",
   "metadata": {},
   "source": [
    "### Data frame unions"
   ]
  },
  {
   "cell_type": "code",
   "execution_count": null,
   "metadata": {},
   "outputs": [],
   "source": [
    "df_a = spark.createDataFrame([(1, \"Alice\"), (2, \"Bob\")], [\"id\", \"name\"])\n",
    "df_b = spark.createDataFrame([(3, \"Charlie\"), (4, \"David\")], [\"id\", \"name\"])\n",
    "df_a.show()\n",
    "df_b.show()\n",
    "result = df_a.union(df_b)\n",
    "result.show()"
   ]
  },
  {
   "cell_type": "markdown",
   "metadata": {},
   "source": [
    "#### Union without duplicates"
   ]
  },
  {
   "cell_type": "code",
   "execution_count": null,
   "metadata": {},
   "outputs": [],
   "source": [
    "df_a = spark.createDataFrame([(1, \"Alice\"), (2, \"Bob\")], [\"id\", \"name\"])\n",
    "df_a.show()\n",
    "df_b = spark.createDataFrame([(1, \"Alice\"), (4, \"David\")], [\"id\", \"name\"])\n",
    "df_b.show()\n",
    "result = df_a.union(df_b).distinct()\n",
    "result.show()"
   ]
  },
  {
   "cell_type": "markdown",
   "metadata": {},
   "source": [
    "##### Union with Mismatched Schemas"
   ]
  },
  {
   "cell_type": "code",
   "execution_count": null,
   "metadata": {},
   "outputs": [],
   "source": [
    "df_a = spark.createDataFrame([(1, \"Alice\")], [\"id\", \"name\"])\n",
    "df_a.show()\n",
    "df_b = spark.createDataFrame([(\"Bob\", 2)], [\"name\", \"id\"])\n",
    "df_b.show()\n",
    "result = df_a.unionByName(df_b)\n",
    "result.show()"
   ]
  },
  {
   "cell_type": "markdown",
   "metadata": {},
   "source": [
    "You can also use `allowMissingColumns=True` to allow union of DataFrames with missing columns."
   ]
  },
  {
   "cell_type": "code",
   "execution_count": null,
   "metadata": {},
   "outputs": [],
   "source": [
    "df_a = spark.createDataFrame([(1, \"Alice\", \"NY\")], [\"id\", \"name\", \"city\"])\n",
    "df_a.show()\n",
    "df_b = spark.createDataFrame([(2, \"Bob\")], [\"id\", \"name\"])\n",
    "df_b.show()\n",
    "result = df_a.unionByName(df_b, allowMissingColumns=True)\n",
    "result.show()"
   ]
  },
  {
   "cell_type": "markdown",
   "metadata": {},
   "source": [
    "### Joins"
   ]
  },
  {
   "cell_type": "markdown",
   "metadata": {},
   "source": [
    "#### Left Join"
   ]
  },
  {
   "cell_type": "code",
   "execution_count": null,
   "metadata": {},
   "outputs": [],
   "source": [
    "book_data = [\n",
    "    (\"Scala\", 400, 1),\n",
    "    (\"Spark\", 500, 2),\n",
    "    (\"Kafka\", 300, 3),\n",
    "    (\"Java\", 350, 5)\n",
    "]\n",
    "df_books = spark.createDataFrame(book_data, [\"book_name\", \"cost\", \"writer_id\"])\n",
    "\n",
    "writer_data = [\n",
    "    (\"Martin\", 1),\n",
    "    (\"Zaharia\", 2),\n",
    "    (\"Neha\", 3),\n",
    "    (\"James\", 4)\n",
    "]\n",
    "df_writers = spark.createDataFrame(writer_data, [\"writer_name\", \"writer_id\"])\n",
    "\n",
    "result = df_books.join(df_writers, \n",
    "      df_books[\"writer_id\"] == df_writers[\"writer_id\"], \n",
    "      \"left\")\n",
    "result.show()"
   ]
  },
  {
   "cell_type": "markdown",
   "metadata": {},
   "source": [
    "#### Right join"
   ]
  },
  {
   "cell_type": "code",
   "execution_count": null,
   "metadata": {},
   "outputs": [],
   "source": [
    "result = df_books.join(df_writers, \n",
    "      df_books[\"writer_id\"] == df_writers[\"writer_id\"], \n",
    "      \"right\")\n",
    "result.show()"
   ]
  },
  {
   "cell_type": "markdown",
   "metadata": {},
   "source": [
    "#### Inner join"
   ]
  },
  {
   "cell_type": "code",
   "execution_count": null,
   "metadata": {},
   "outputs": [],
   "source": [
    "result = df_books.join(df_writers, \n",
    "      df_books[\"writer_id\"] == df_writers[\"writer_id\"], \n",
    "      \"inner\")\n",
    "result.show()"
   ]
  },
  {
   "cell_type": "markdown",
   "metadata": {},
   "source": [
    "#### Full outer"
   ]
  },
  {
   "cell_type": "code",
   "execution_count": null,
   "metadata": {},
   "outputs": [],
   "source": [
    "result = df_books.join(df_writers, \n",
    "      df_books[\"writer_id\"] == df_writers[\"writer_id\"], \n",
    "      \"fullouter\")\n",
    "result.show()"
   ]
  },
  {
   "cell_type": "markdown",
   "metadata": {},
   "source": [
    "#### Handle null values"
   ]
  },
  {
   "cell_type": "code",
   "execution_count": null,
   "metadata": {},
   "outputs": [],
   "source": [
    "result.fillna({\"writer_name\": \"Uknown\"})"
   ]
  },
  {
   "cell_type": "markdown",
   "metadata": {},
   "source": [
    "### Class acctivity: Car rental service (Big Data pipeline part I)"
   ]
  },
  {
   "cell_type": "code",
   "execution_count": null,
   "metadata": {},
   "outputs": [],
   "source": [
    "from team_name.spark_utils import SparkUtils\n",
    "agencies_schema = SparkUtils.generate_schema([(\"agency_id\", \"string\"), (\"agency_info\", \"string\")])\n",
    "\n",
    "agencies_df = spark.read \\\n",
    "                .schema(agencies_schema) \\\n",
    "                .option(\"header\", \"true\") \\\n",
    "                .csv(\"/home/jovyan/notebooks/data/rentals_dataset/agencies.csv\")\n",
    "\n",
    "agencies_df.printSchema()\n",
    "\n",
    "agencies_df.show(5, truncate=False)"
   ]
  },
  {
   "cell_type": "code",
   "execution_count": null,
   "metadata": {},
   "outputs": [],
   "source": [
    "brands_schema = SparkUtils.generate_schema([(\"brand_id\", \"integer\"), (\"brand_info\", \"string\")])\n",
    "brands_df = spark.read.option(\"header\", \"true\").schema(brands_schema).csv(\"/home/jovyan/notebooks/data/rentals_dataset/brands.csv\")\n",
    "brands_df.printSchema()"
   ]
  },
  {
   "cell_type": "code",
   "execution_count": null,
   "metadata": {},
   "outputs": [],
   "source": [
    "cars_schema = SparkUtils.generate_schema([(\"car_id\", \"integer\"), (\"car_info\", \"string\")])\n",
    "cars_df = spark.read.option(\"header\", \"true\").schema(cars_schema).csv(\"/home/jovyan/notebooks/data/rentals_dataset/cars.csv\")\n",
    "cars_df.printSchema()"
   ]
  },
  {
   "cell_type": "code",
   "execution_count": null,
   "metadata": {},
   "outputs": [],
   "source": [
    "customers_schema = SparkUtils.generate_schema([(\"customer_id\", \"integer\"), (\"customer_info\", \"string\")])\n",
    "customers_df = spark.read.option(\"header\", \"true\").schema(customers_schema).csv(\"/home/jovyan/notebooks/data/rentals_dataset/customers.csv\")\n",
    "customers_df.printSchema()"
   ]
  },
  {
   "cell_type": "code",
   "execution_count": null,
   "metadata": {},
   "outputs": [],
   "source": [
    "rentals_schema = SparkUtils.generate_schema([(\"rental_id\", \"integer\"), (\"rental_info\", \"string\")])\n",
    "rentals_df = spark.read.option(\"header\", \"true\").schema(rentals_schema).csv(\"/home/jovyan/notebooks/data/rentals_dataset/rentals/\")\n",
    "rentals_df.printSchema()"
   ]
  },
  {
   "cell_type": "code",
   "execution_count": 76,
   "metadata": {},
   "outputs": [],
   "source": [
    "# Stop the SparkContext\n",
    "sc.stop()"
   ]
  }
 ],
 "metadata": {
  "kernelspec": {
   "display_name": "Python 3 (ipykernel)",
   "language": "python",
   "name": "python3"
  },
  "language_info": {
   "codemirror_mode": {
    "name": "ipython",
    "version": 3
   },
   "file_extension": ".py",
   "mimetype": "text/x-python",
   "name": "python",
   "nbconvert_exporter": "python",
   "pygments_lexer": "ipython3",
   "version": "3.11.6"
  }
 },
 "nbformat": 4,
 "nbformat_minor": 2
}
