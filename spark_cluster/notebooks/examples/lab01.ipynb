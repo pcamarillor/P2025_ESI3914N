{
 "cells": [
  {
   "cell_type": "code",
   "execution_count": 1,
   "metadata": {},
   "outputs": [
    {
     "name": "stdout",
     "output_type": "stream",
     "text": [
      "este es el numero faltante: 7\n"
     ]
    }
   ],
   "source": [
    "array = [1, 2, 3, 4, 5, 6, 8]\n",
    "counter = 1\n",
    "missingNo = 0\n",
    "for i in array:\n",
    "    if counter != i:\n",
    "        missingNo = counter\n",
    "    counter = counter + 1\n",
    "print(\"este es el numero faltante:\", missingNo)"
   ]
  }
 ],
 "metadata": {
  "kernelspec": {
   "display_name": "Python 3",
   "language": "python",
   "name": "python3"
  },
  "language_info": {
   "codemirror_mode": {
    "name": "ipython",
    "version": 3
   },
   "file_extension": ".py",
   "mimetype": "text/x-python",
   "name": "python",
   "nbconvert_exporter": "python",
   "pygments_lexer": "ipython3",
   "version": "3.9.6"
  }
 },
 "nbformat": 4,
 "nbformat_minor": 2
}
